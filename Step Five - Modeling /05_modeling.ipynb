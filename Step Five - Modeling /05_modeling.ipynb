{
  "nbformat": 4,
  "nbformat_minor": 0,
  "metadata": {
    "kernelspec": {
      "display_name": "Python 3",
      "language": "python",
      "name": "python3"
    },
    "language_info": {
      "codemirror_mode": {
        "name": "ipython",
        "version": 3
      },
      "file_extension": ".py",
      "mimetype": "text/x-python",
      "name": "python",
      "nbconvert_exporter": "python",
      "pygments_lexer": "ipython3",
      "version": "3.7.4"
    },
    "colab": {
      "name": "05_modeling.ipynb",
      "provenance": [],
      "toc_visible": true,
      "include_colab_link": true
    }
  },
  "cells": [
    {
      "cell_type": "markdown",
      "metadata": {
        "id": "view-in-github",
        "colab_type": "text"
      },
      "source": [
        "<a href=\"https://colab.research.google.com/github/villafue/DataScienceGuidedCapstone/blob/master/Step%20Five%20-%20Modeling%20/05_modeling.ipynb\" target=\"_parent\"><img src=\"https://colab.research.google.com/assets/colab-badge.svg\" alt=\"Open In Colab\"/></a>"
      ]
    },
    {
      "cell_type": "markdown",
      "metadata": {
        "id": "JcH3dnC-jOlg",
        "colab_type": "text"
      },
      "source": [
        "# 5 Modeling<a id='5_Modeling'></a>"
      ]
    },
    {
      "cell_type": "markdown",
      "metadata": {
        "id": "OG8M8ZYSjOlh",
        "colab_type": "text"
      },
      "source": [
        "## 5.1 Contents<a id='5.1_Contents'></a>\n",
        "* [5 Modeling](#5_Modeling)\n",
        "  * [5.1 Contents](#5.1_Contents)\n",
        "  * [5.2 Introduction](#5.2_Introduction)\n",
        "  * [5.3 Imports](#5.3_Imports)\n",
        "  * [5.4 Load Model](#5.4_Load_Model)\n",
        "  * [5.5 Load Data](#5.5_Load_Data)\n",
        "  * [5.6 Refit Model On All Available Data (excluding Big Mountain)](#5.6_Refit_Model_On_All_Available_Data_(excluding_Big_Mountain))\n",
        "  * [5.7 Calculate Expected Big Mountain Ticket Price From The Model](#5.7_Calculate_Expected_Big_Mountain_Ticket_Price_From_The_Model)\n",
        "  * [5.8 Big Mountain Resort In Market Context](#5.8_Big_Mountain_Resort_In_Market_Context)\n",
        "    * [5.8.1 Ticket price](#5.8.1_Ticket_price)\n",
        "    * [5.8.2 Vertical drop](#5.8.2_Vertical_drop)\n",
        "    * [5.8.3 Snow making area](#5.8.3_Snow_making_area)\n",
        "    * [5.8.4 Total number of chairs](#5.8.4_Total_number_of_chairs)\n",
        "    * [5.8.5 Fast quads](#5.8.5_Fast_quads)\n",
        "    * [5.8.6 Runs](#5.8.6_Runs)\n",
        "    * [5.8.7 Longest run](#5.8.7_Longest_run)\n",
        "    * [5.8.8 Trams](#5.8.8_Trams)\n",
        "    * [5.8.9 Skiable terrain area](#5.8.9_Skiable_terrain_area)\n",
        "  * [5.9 Modeling scenarios](#5.9_Modeling_scenarios)\n",
        "    * [5.9.1 Scenario 1](#5.9.1_Scenario_1)\n",
        "    * [5.9.2 Scenario 2](#5.9.2_Scenario_2)\n",
        "    * [5.9.3 Scenario 3](#5.9.3_Scenario_3)\n",
        "    * [5.9.4 Scenario 4](#5.9.4_Scenario_4)\n",
        "  * [5.10 Summary](#5.10_Summary)\n",
        "  * [5.11 Further work](#5.11_Further_work)\n"
      ]
    },
    {
      "cell_type": "markdown",
      "metadata": {
        "id": "HeroJGgcjOli",
        "colab_type": "text"
      },
      "source": [
        "## 5.2 Introduction<a id='5.2_Introduction'></a>"
      ]
    },
    {
      "cell_type": "markdown",
      "metadata": {
        "id": "N2RhsoTOjOlj",
        "colab_type": "text"
      },
      "source": [
        "In this notebook, we now take our model for ski resort ticket price and leverage it to gain some insights into what price Big Mountain's facilities might actually support as well as explore the sensitivity of changes to various resort parameters. Note that this relies on the implicit assumption that all other resorts are largely setting prices based on how much people value certain facilities. Essentially this assumes prices are set by a free market.\n",
        "\n",
        "We can now use our model to gain insight into what Big Mountain's ideal ticket price could/should be, and how that might change under various scenarios."
      ]
    },
    {
      "cell_type": "markdown",
      "metadata": {
        "id": "sDxx7G-ejOlj",
        "colab_type": "text"
      },
      "source": [
        "## 5.3 Imports<a id='5.3_Imports'></a>"
      ]
    },
    {
      "cell_type": "code",
      "metadata": {
        "id": "zH2hhgJzjOlk",
        "colab_type": "code",
        "colab": {
          "base_uri": "https://localhost:8080/",
          "height": 70
        },
        "outputId": "48d78e31-4cb3-4507-ad4c-53363e2bfda8"
      },
      "source": [
        "import pandas as pd\n",
        "import numpy as np\n",
        "import os\n",
        "import pickle\n",
        "import matplotlib.pyplot as plt\n",
        "import seaborn as sns\n",
        "from sklearn import __version__ as sklearn_version\n",
        "from sklearn.model_selection import cross_validate\n",
        "from IPython.display import display\n",
        "pd.set_option('display.notebook_repr_html', True)"
      ],
      "execution_count": 1,
      "outputs": [
        {
          "output_type": "stream",
          "text": [
            "/usr/local/lib/python3.6/dist-packages/statsmodels/tools/_testing.py:19: FutureWarning: pandas.util.testing is deprecated. Use the functions in the public API at pandas.testing instead.\n",
            "  import pandas.util.testing as tm\n"
          ],
          "name": "stderr"
        }
      ]
    },
    {
      "cell_type": "code",
      "metadata": {
        "id": "uJoT9b63rm-k",
        "colab_type": "code",
        "colab": {}
      },
      "source": [
        "plt.rcParams.update(plt.rcParamsDefault)\n",
        "%matplotlib inline\n",
        "plt.style.use(['seaborn-whitegrid'])"
      ],
      "execution_count": 2,
      "outputs": []
    },
    {
      "cell_type": "code",
      "metadata": {
        "id": "LYZ9BvuOsUOZ",
        "colab_type": "code",
        "colab": {}
      },
      "source": [
        "os.chdir('sample_data')"
      ],
      "execution_count": null,
      "outputs": []
    },
    {
      "cell_type": "markdown",
      "metadata": {
        "id": "dwaF7HOfjOln",
        "colab_type": "text"
      },
      "source": [
        "## 5.4 Load Model<a id='5.4_Load_Model'></a>"
      ]
    },
    {
      "cell_type": "code",
      "metadata": {
        "id": "-4062w58jOlo",
        "colab_type": "code",
        "colab": {}
      },
      "source": [
        "# This isn't exactly production-grade, but a quick check for development\n",
        "# These checks can save some head-scratching in development when moving from\n",
        "# one python environment to another, for example\n",
        "expected_model_version = 1.0\n",
        "model_path = 'sample_data/ski_resort_pricing_model.pkl'\n",
        "if os.path.exists(model_path):\n",
        "    with open(model_path, 'rb') as f:\n",
        "        model = pickle.load(f)\n",
        "    if model.version != expected_model_version:\n",
        "        print(\"Expected model version doesn't match version loaded\")\n",
        "    if model.sklearn_version != sklearn_version:\n",
        "        print(\"Warning: model created under different sklearn version\")\n",
        "else:\n",
        "    print(\"Expected model not found\")"
      ],
      "execution_count": 6,
      "outputs": []
    },
    {
      "cell_type": "markdown",
      "metadata": {
        "id": "xWZ8gFjxjOlq",
        "colab_type": "text"
      },
      "source": [
        "## 5.5 Load Data<a id='5.5_Load_Data'></a>"
      ]
    },
    {
      "cell_type": "code",
      "metadata": {
        "id": "MQMqDKt1jOlr",
        "colab_type": "code",
        "colab": {
          "base_uri": "https://localhost:8080/",
          "height": 652
        },
        "outputId": "94469fa2-e1e5-478b-c32c-d4b6b49a869e"
      },
      "source": [
        "ski_data = pd.read_csv('https://raw.githubusercontent.com/villafue/DataScienceGuidedCapstone/master/raw_data/ski_data_step3_features.csv')\n",
        "print(ski_data.shape)\n",
        "print('\\n', '-' * 100)\n",
        "print(ski_data.info)\n",
        "print('\\n', '-' * 100)\n",
        "ski_data.head()"
      ],
      "execution_count": 13,
      "outputs": [
        {
          "output_type": "stream",
          "text": [
            "(277, 36)\n",
            "\n",
            " ----------------------------------------------------------------------------------------------------\n",
            "<bound method DataFrame.info of                                   Name  ... fastQuads_skiable_ratio\n",
            "0                       Alyeska Resort  ...                0.001242\n",
            "1                  Eaglecrest Ski Area  ...                0.000000\n",
            "2                     Hilltop Ski Area  ...                0.000000\n",
            "3                     Arizona Snowbowl  ...                0.000000\n",
            "4                  Sunrise Park Resort  ...                0.001250\n",
            "..                                 ...  ...                     ...\n",
            "272                      Hogadon Basin  ...                0.000000\n",
            "273          Sleeping Giant Ski Resort  ...                0.000000\n",
            "274                   Snow King Resort  ...                0.000000\n",
            "275  Snowy Range Ski & Recreation Area  ...                0.000000\n",
            "276                White Pine Ski Area  ...                0.000000\n",
            "\n",
            "[277 rows x 36 columns]>\n",
            "\n",
            " ----------------------------------------------------------------------------------------------------\n"
          ],
          "name": "stdout"
        },
        {
          "output_type": "execute_result",
          "data": {
            "text/html": [
              "<div>\n",
              "<style scoped>\n",
              "    .dataframe tbody tr th:only-of-type {\n",
              "        vertical-align: middle;\n",
              "    }\n",
              "\n",
              "    .dataframe tbody tr th {\n",
              "        vertical-align: top;\n",
              "    }\n",
              "\n",
              "    .dataframe thead th {\n",
              "        text-align: right;\n",
              "    }\n",
              "</style>\n",
              "<table border=\"1\" class=\"dataframe\">\n",
              "  <thead>\n",
              "    <tr style=\"text-align: right;\">\n",
              "      <th></th>\n",
              "      <th>Name</th>\n",
              "      <th>Region</th>\n",
              "      <th>state</th>\n",
              "      <th>summit_elev</th>\n",
              "      <th>vertical_drop</th>\n",
              "      <th>base_elev</th>\n",
              "      <th>trams</th>\n",
              "      <th>fastSixes</th>\n",
              "      <th>fastQuads</th>\n",
              "      <th>quad</th>\n",
              "      <th>triple</th>\n",
              "      <th>double</th>\n",
              "      <th>surface</th>\n",
              "      <th>total_chairs</th>\n",
              "      <th>Runs</th>\n",
              "      <th>TerrainParks</th>\n",
              "      <th>LongestRun_mi</th>\n",
              "      <th>SkiableTerrain_ac</th>\n",
              "      <th>Snow Making_ac</th>\n",
              "      <th>daysOpenLastYear</th>\n",
              "      <th>yearsOpen</th>\n",
              "      <th>averageSnowfall</th>\n",
              "      <th>AdultWeekend</th>\n",
              "      <th>projectedDaysOpen</th>\n",
              "      <th>NightSkiing_ac</th>\n",
              "      <th>resorts_per_state</th>\n",
              "      <th>resorts_per_100kcapita</th>\n",
              "      <th>resorts_per_100ksq_mile</th>\n",
              "      <th>resort_skiable_area_ac_state_ratio</th>\n",
              "      <th>resort_days_open_state_ratio</th>\n",
              "      <th>resort_terrain_park_state_ratio</th>\n",
              "      <th>resort_night_skiing_state_ratio</th>\n",
              "      <th>total_chairs_runs_ratio</th>\n",
              "      <th>total_chairs_skiable_ratio</th>\n",
              "      <th>fastQuads_runs_ratio</th>\n",
              "      <th>fastQuads_skiable_ratio</th>\n",
              "    </tr>\n",
              "  </thead>\n",
              "  <tbody>\n",
              "    <tr>\n",
              "      <th>0</th>\n",
              "      <td>Alyeska Resort</td>\n",
              "      <td>Alaska</td>\n",
              "      <td>Alaska</td>\n",
              "      <td>3939</td>\n",
              "      <td>2500</td>\n",
              "      <td>250</td>\n",
              "      <td>1</td>\n",
              "      <td>0</td>\n",
              "      <td>2</td>\n",
              "      <td>2</td>\n",
              "      <td>0</td>\n",
              "      <td>0</td>\n",
              "      <td>2</td>\n",
              "      <td>7</td>\n",
              "      <td>76.0</td>\n",
              "      <td>2.0</td>\n",
              "      <td>1.0</td>\n",
              "      <td>1610.0</td>\n",
              "      <td>113.0</td>\n",
              "      <td>150.0</td>\n",
              "      <td>60.0</td>\n",
              "      <td>669.0</td>\n",
              "      <td>85.0</td>\n",
              "      <td>150.0</td>\n",
              "      <td>550.0</td>\n",
              "      <td>3</td>\n",
              "      <td>0.410091</td>\n",
              "      <td>0.450867</td>\n",
              "      <td>0.706140</td>\n",
              "      <td>0.434783</td>\n",
              "      <td>0.500000</td>\n",
              "      <td>0.948276</td>\n",
              "      <td>0.092105</td>\n",
              "      <td>0.004348</td>\n",
              "      <td>0.026316</td>\n",
              "      <td>0.001242</td>\n",
              "    </tr>\n",
              "    <tr>\n",
              "      <th>1</th>\n",
              "      <td>Eaglecrest Ski Area</td>\n",
              "      <td>Alaska</td>\n",
              "      <td>Alaska</td>\n",
              "      <td>2600</td>\n",
              "      <td>1540</td>\n",
              "      <td>1200</td>\n",
              "      <td>0</td>\n",
              "      <td>0</td>\n",
              "      <td>0</td>\n",
              "      <td>0</td>\n",
              "      <td>0</td>\n",
              "      <td>4</td>\n",
              "      <td>0</td>\n",
              "      <td>4</td>\n",
              "      <td>36.0</td>\n",
              "      <td>1.0</td>\n",
              "      <td>2.0</td>\n",
              "      <td>640.0</td>\n",
              "      <td>60.0</td>\n",
              "      <td>45.0</td>\n",
              "      <td>44.0</td>\n",
              "      <td>350.0</td>\n",
              "      <td>53.0</td>\n",
              "      <td>90.0</td>\n",
              "      <td>NaN</td>\n",
              "      <td>3</td>\n",
              "      <td>0.410091</td>\n",
              "      <td>0.450867</td>\n",
              "      <td>0.280702</td>\n",
              "      <td>0.130435</td>\n",
              "      <td>0.250000</td>\n",
              "      <td>NaN</td>\n",
              "      <td>0.111111</td>\n",
              "      <td>0.006250</td>\n",
              "      <td>0.000000</td>\n",
              "      <td>0.000000</td>\n",
              "    </tr>\n",
              "    <tr>\n",
              "      <th>2</th>\n",
              "      <td>Hilltop Ski Area</td>\n",
              "      <td>Alaska</td>\n",
              "      <td>Alaska</td>\n",
              "      <td>2090</td>\n",
              "      <td>294</td>\n",
              "      <td>1796</td>\n",
              "      <td>0</td>\n",
              "      <td>0</td>\n",
              "      <td>0</td>\n",
              "      <td>0</td>\n",
              "      <td>1</td>\n",
              "      <td>0</td>\n",
              "      <td>2</td>\n",
              "      <td>3</td>\n",
              "      <td>13.0</td>\n",
              "      <td>1.0</td>\n",
              "      <td>1.0</td>\n",
              "      <td>30.0</td>\n",
              "      <td>30.0</td>\n",
              "      <td>150.0</td>\n",
              "      <td>36.0</td>\n",
              "      <td>69.0</td>\n",
              "      <td>34.0</td>\n",
              "      <td>152.0</td>\n",
              "      <td>30.0</td>\n",
              "      <td>3</td>\n",
              "      <td>0.410091</td>\n",
              "      <td>0.450867</td>\n",
              "      <td>0.013158</td>\n",
              "      <td>0.434783</td>\n",
              "      <td>0.250000</td>\n",
              "      <td>0.051724</td>\n",
              "      <td>0.230769</td>\n",
              "      <td>0.100000</td>\n",
              "      <td>0.000000</td>\n",
              "      <td>0.000000</td>\n",
              "    </tr>\n",
              "    <tr>\n",
              "      <th>3</th>\n",
              "      <td>Arizona Snowbowl</td>\n",
              "      <td>Arizona</td>\n",
              "      <td>Arizona</td>\n",
              "      <td>11500</td>\n",
              "      <td>2300</td>\n",
              "      <td>9200</td>\n",
              "      <td>0</td>\n",
              "      <td>1</td>\n",
              "      <td>0</td>\n",
              "      <td>2</td>\n",
              "      <td>2</td>\n",
              "      <td>1</td>\n",
              "      <td>2</td>\n",
              "      <td>8</td>\n",
              "      <td>55.0</td>\n",
              "      <td>4.0</td>\n",
              "      <td>2.0</td>\n",
              "      <td>777.0</td>\n",
              "      <td>104.0</td>\n",
              "      <td>122.0</td>\n",
              "      <td>81.0</td>\n",
              "      <td>260.0</td>\n",
              "      <td>89.0</td>\n",
              "      <td>122.0</td>\n",
              "      <td>NaN</td>\n",
              "      <td>2</td>\n",
              "      <td>0.027477</td>\n",
              "      <td>1.754540</td>\n",
              "      <td>0.492708</td>\n",
              "      <td>0.514768</td>\n",
              "      <td>0.666667</td>\n",
              "      <td>NaN</td>\n",
              "      <td>0.145455</td>\n",
              "      <td>0.010296</td>\n",
              "      <td>0.000000</td>\n",
              "      <td>0.000000</td>\n",
              "    </tr>\n",
              "    <tr>\n",
              "      <th>4</th>\n",
              "      <td>Sunrise Park Resort</td>\n",
              "      <td>Arizona</td>\n",
              "      <td>Arizona</td>\n",
              "      <td>11100</td>\n",
              "      <td>1800</td>\n",
              "      <td>9200</td>\n",
              "      <td>0</td>\n",
              "      <td>0</td>\n",
              "      <td>1</td>\n",
              "      <td>2</td>\n",
              "      <td>3</td>\n",
              "      <td>1</td>\n",
              "      <td>0</td>\n",
              "      <td>7</td>\n",
              "      <td>65.0</td>\n",
              "      <td>2.0</td>\n",
              "      <td>1.2</td>\n",
              "      <td>800.0</td>\n",
              "      <td>80.0</td>\n",
              "      <td>115.0</td>\n",
              "      <td>49.0</td>\n",
              "      <td>250.0</td>\n",
              "      <td>78.0</td>\n",
              "      <td>104.0</td>\n",
              "      <td>80.0</td>\n",
              "      <td>2</td>\n",
              "      <td>0.027477</td>\n",
              "      <td>1.754540</td>\n",
              "      <td>0.507292</td>\n",
              "      <td>0.485232</td>\n",
              "      <td>0.333333</td>\n",
              "      <td>1.000000</td>\n",
              "      <td>0.107692</td>\n",
              "      <td>0.008750</td>\n",
              "      <td>0.015385</td>\n",
              "      <td>0.001250</td>\n",
              "    </tr>\n",
              "  </tbody>\n",
              "</table>\n",
              "</div>"
            ],
            "text/plain": [
              "                  Name   Region  ... fastQuads_runs_ratio  fastQuads_skiable_ratio\n",
              "0       Alyeska Resort   Alaska  ...             0.026316                 0.001242\n",
              "1  Eaglecrest Ski Area   Alaska  ...             0.000000                 0.000000\n",
              "2     Hilltop Ski Area   Alaska  ...             0.000000                 0.000000\n",
              "3     Arizona Snowbowl  Arizona  ...             0.000000                 0.000000\n",
              "4  Sunrise Park Resort  Arizona  ...             0.015385                 0.001250\n",
              "\n",
              "[5 rows x 36 columns]"
            ]
          },
          "metadata": {
            "tags": []
          },
          "execution_count": 13
        }
      ]
    },
    {
      "cell_type": "code",
      "metadata": {
        "id": "ZUrmxTApjOlt",
        "colab_type": "code",
        "colab": {}
      },
      "source": [
        "big_mountain = ski_data[ski_data.Name == 'Big Mountain Resort']"
      ],
      "execution_count": 9,
      "outputs": []
    },
    {
      "cell_type": "code",
      "metadata": {
        "scrolled": true,
        "id": "NJ3-zIs2jOlv",
        "colab_type": "code",
        "colab": {
          "base_uri": "https://localhost:8080/",
          "height": 1000
        },
        "outputId": "27af7c92-d345-4a99-b383-e4ecac6611e2"
      },
      "source": [
        "big_mountain.T"
      ],
      "execution_count": 10,
      "outputs": [
        {
          "output_type": "execute_result",
          "data": {
            "text/html": [
              "<div>\n",
              "<style scoped>\n",
              "    .dataframe tbody tr th:only-of-type {\n",
              "        vertical-align: middle;\n",
              "    }\n",
              "\n",
              "    .dataframe tbody tr th {\n",
              "        vertical-align: top;\n",
              "    }\n",
              "\n",
              "    .dataframe thead th {\n",
              "        text-align: right;\n",
              "    }\n",
              "</style>\n",
              "<table border=\"1\" class=\"dataframe\">\n",
              "  <thead>\n",
              "    <tr style=\"text-align: right;\">\n",
              "      <th></th>\n",
              "      <th>124</th>\n",
              "    </tr>\n",
              "  </thead>\n",
              "  <tbody>\n",
              "    <tr>\n",
              "      <th>Name</th>\n",
              "      <td>Big Mountain Resort</td>\n",
              "    </tr>\n",
              "    <tr>\n",
              "      <th>Region</th>\n",
              "      <td>Montana</td>\n",
              "    </tr>\n",
              "    <tr>\n",
              "      <th>state</th>\n",
              "      <td>Montana</td>\n",
              "    </tr>\n",
              "    <tr>\n",
              "      <th>summit_elev</th>\n",
              "      <td>6817</td>\n",
              "    </tr>\n",
              "    <tr>\n",
              "      <th>vertical_drop</th>\n",
              "      <td>2353</td>\n",
              "    </tr>\n",
              "    <tr>\n",
              "      <th>base_elev</th>\n",
              "      <td>4464</td>\n",
              "    </tr>\n",
              "    <tr>\n",
              "      <th>trams</th>\n",
              "      <td>0</td>\n",
              "    </tr>\n",
              "    <tr>\n",
              "      <th>fastSixes</th>\n",
              "      <td>0</td>\n",
              "    </tr>\n",
              "    <tr>\n",
              "      <th>fastQuads</th>\n",
              "      <td>3</td>\n",
              "    </tr>\n",
              "    <tr>\n",
              "      <th>quad</th>\n",
              "      <td>2</td>\n",
              "    </tr>\n",
              "    <tr>\n",
              "      <th>triple</th>\n",
              "      <td>6</td>\n",
              "    </tr>\n",
              "    <tr>\n",
              "      <th>double</th>\n",
              "      <td>0</td>\n",
              "    </tr>\n",
              "    <tr>\n",
              "      <th>surface</th>\n",
              "      <td>3</td>\n",
              "    </tr>\n",
              "    <tr>\n",
              "      <th>total_chairs</th>\n",
              "      <td>14</td>\n",
              "    </tr>\n",
              "    <tr>\n",
              "      <th>Runs</th>\n",
              "      <td>105</td>\n",
              "    </tr>\n",
              "    <tr>\n",
              "      <th>TerrainParks</th>\n",
              "      <td>4</td>\n",
              "    </tr>\n",
              "    <tr>\n",
              "      <th>LongestRun_mi</th>\n",
              "      <td>3.3</td>\n",
              "    </tr>\n",
              "    <tr>\n",
              "      <th>SkiableTerrain_ac</th>\n",
              "      <td>3000</td>\n",
              "    </tr>\n",
              "    <tr>\n",
              "      <th>Snow Making_ac</th>\n",
              "      <td>600</td>\n",
              "    </tr>\n",
              "    <tr>\n",
              "      <th>daysOpenLastYear</th>\n",
              "      <td>123</td>\n",
              "    </tr>\n",
              "    <tr>\n",
              "      <th>yearsOpen</th>\n",
              "      <td>72</td>\n",
              "    </tr>\n",
              "    <tr>\n",
              "      <th>averageSnowfall</th>\n",
              "      <td>333</td>\n",
              "    </tr>\n",
              "    <tr>\n",
              "      <th>AdultWeekend</th>\n",
              "      <td>81</td>\n",
              "    </tr>\n",
              "    <tr>\n",
              "      <th>projectedDaysOpen</th>\n",
              "      <td>123</td>\n",
              "    </tr>\n",
              "    <tr>\n",
              "      <th>NightSkiing_ac</th>\n",
              "      <td>600</td>\n",
              "    </tr>\n",
              "    <tr>\n",
              "      <th>resorts_per_state</th>\n",
              "      <td>12</td>\n",
              "    </tr>\n",
              "    <tr>\n",
              "      <th>resorts_per_100kcapita</th>\n",
              "      <td>1.12278</td>\n",
              "    </tr>\n",
              "    <tr>\n",
              "      <th>resorts_per_100ksq_mile</th>\n",
              "      <td>8.16104</td>\n",
              "    </tr>\n",
              "    <tr>\n",
              "      <th>resort_skiable_area_ac_state_ratio</th>\n",
              "      <td>0.140121</td>\n",
              "    </tr>\n",
              "    <tr>\n",
              "      <th>resort_days_open_state_ratio</th>\n",
              "      <td>0.129338</td>\n",
              "    </tr>\n",
              "    <tr>\n",
              "      <th>resort_terrain_park_state_ratio</th>\n",
              "      <td>0.148148</td>\n",
              "    </tr>\n",
              "    <tr>\n",
              "      <th>resort_night_skiing_state_ratio</th>\n",
              "      <td>0.84507</td>\n",
              "    </tr>\n",
              "    <tr>\n",
              "      <th>total_chairs_runs_ratio</th>\n",
              "      <td>0.133333</td>\n",
              "    </tr>\n",
              "    <tr>\n",
              "      <th>total_chairs_skiable_ratio</th>\n",
              "      <td>0.00466667</td>\n",
              "    </tr>\n",
              "    <tr>\n",
              "      <th>fastQuads_runs_ratio</th>\n",
              "      <td>0.0285714</td>\n",
              "    </tr>\n",
              "    <tr>\n",
              "      <th>fastQuads_skiable_ratio</th>\n",
              "      <td>0.001</td>\n",
              "    </tr>\n",
              "  </tbody>\n",
              "</table>\n",
              "</div>"
            ],
            "text/plain": [
              "                                                    124\n",
              "Name                                Big Mountain Resort\n",
              "Region                                          Montana\n",
              "state                                           Montana\n",
              "summit_elev                                        6817\n",
              "vertical_drop                                      2353\n",
              "base_elev                                          4464\n",
              "trams                                                 0\n",
              "fastSixes                                             0\n",
              "fastQuads                                             3\n",
              "quad                                                  2\n",
              "triple                                                6\n",
              "double                                                0\n",
              "surface                                               3\n",
              "total_chairs                                         14\n",
              "Runs                                                105\n",
              "TerrainParks                                          4\n",
              "LongestRun_mi                                       3.3\n",
              "SkiableTerrain_ac                                  3000\n",
              "Snow Making_ac                                      600\n",
              "daysOpenLastYear                                    123\n",
              "yearsOpen                                            72\n",
              "averageSnowfall                                     333\n",
              "AdultWeekend                                         81\n",
              "projectedDaysOpen                                   123\n",
              "NightSkiing_ac                                      600\n",
              "resorts_per_state                                    12\n",
              "resorts_per_100kcapita                          1.12278\n",
              "resorts_per_100ksq_mile                         8.16104\n",
              "resort_skiable_area_ac_state_ratio             0.140121\n",
              "resort_days_open_state_ratio                   0.129338\n",
              "resort_terrain_park_state_ratio                0.148148\n",
              "resort_night_skiing_state_ratio                 0.84507\n",
              "total_chairs_runs_ratio                        0.133333\n",
              "total_chairs_skiable_ratio                   0.00466667\n",
              "fastQuads_runs_ratio                          0.0285714\n",
              "fastQuads_skiable_ratio                           0.001"
            ]
          },
          "metadata": {
            "tags": []
          },
          "execution_count": 10
        }
      ]
    },
    {
      "cell_type": "markdown",
      "metadata": {
        "id": "2C_6OYtkjOlz",
        "colab_type": "text"
      },
      "source": [
        "## 5.6 Refit Model On All Available Data (excluding Big Mountain)<a id='5.6_Refit_Model_On_All_Available_Data_(excluding_Big_Mountain)'></a>"
      ]
    },
    {
      "cell_type": "markdown",
      "metadata": {
        "id": "uW6A4dqpjOlz",
        "colab_type": "text"
      },
      "source": [
        "This next step requires some careful thought. We want to refit the model using all available data. But should we include Big Mountain data? On the one hand, we are _not_ trying to estimate model performance on a previously unseen data sample, so theoretically including Big Mountain data should be fine. One might first think that including Big Mountain in the model training would, if anything, improve model performance in predicting Big Mountain's ticket price. But here's where our business context comes in. The motivation for this entire project is based on the sense that Big Mountain needs to adjust its pricing. One way to phrase this problem: we want to train a model to predict Big Mountain's ticket price based on data from _all the other_ resorts! We don't want Big Mountain's current price to bias this. We want to calculate a price based only on its competitors."
      ]
    },
    {
      "cell_type": "code",
      "metadata": {
        "id": "0QOxo0HQjOl0",
        "colab_type": "code",
        "colab": {}
      },
      "source": [
        "X = ski_data.loc[ski_data.Name != \"Big Mountain Resort\", model.X_columns]\n",
        "y = ski_data.loc[ski_data.Name != \"Big Mountain Resort\", 'AdultWeekend']"
      ],
      "execution_count": 16,
      "outputs": []
    },
    {
      "cell_type": "code",
      "metadata": {
        "id": "U-9ejJHcvBTb",
        "colab_type": "code",
        "colab": {
          "base_uri": "https://localhost:8080/",
          "height": 218
        },
        "outputId": "a9432329-1889-4c25-eb04-9fe0dde9f731"
      },
      "source": [
        "y"
      ],
      "execution_count": 18,
      "outputs": [
        {
          "output_type": "execute_result",
          "data": {
            "text/plain": [
              "0      85.0\n",
              "1      53.0\n",
              "2      34.0\n",
              "3      89.0\n",
              "4      78.0\n",
              "       ... \n",
              "272    48.0\n",
              "273    42.0\n",
              "274    59.0\n",
              "275    49.0\n",
              "276    49.0\n",
              "Name: AdultWeekend, Length: 276, dtype: float64"
            ]
          },
          "metadata": {
            "tags": []
          },
          "execution_count": 18
        }
      ]
    },
    {
      "cell_type": "code",
      "metadata": {
        "id": "vEZ88VWZueuj",
        "colab_type": "code",
        "colab": {
          "base_uri": "https://localhost:8080/",
          "height": 489
        },
        "outputId": "a267aeb4-e06d-442d-8e36-186446dd4a70"
      },
      "source": [
        "print(model.X_columns)\n",
        "print('\\n', '-' * 100)\n",
        "X"
      ],
      "execution_count": 17,
      "outputs": [
        {
          "output_type": "stream",
          "text": [
            "['summit_elev', 'vertical_drop', 'base_elev', 'trams', 'fastSixes', 'fastQuads', 'quad', 'triple', 'double', 'surface', 'total_chairs', 'Runs', 'TerrainParks', 'LongestRun_mi', 'SkiableTerrain_ac', 'Snow Making_ac', 'daysOpenLastYear', 'yearsOpen', 'averageSnowfall', 'projectedDaysOpen', 'NightSkiing_ac', 'resorts_per_state', 'resorts_per_100kcapita', 'resorts_per_100ksq_mile', 'resort_skiable_area_ac_state_ratio', 'resort_days_open_state_ratio', 'resort_terrain_park_state_ratio', 'resort_night_skiing_state_ratio', 'total_chairs_runs_ratio', 'total_chairs_skiable_ratio', 'fastQuads_runs_ratio', 'fastQuads_skiable_ratio']\n",
            "\n",
            " ----------------------------------------------------------------------------------------------------\n"
          ],
          "name": "stdout"
        },
        {
          "output_type": "execute_result",
          "data": {
            "text/html": [
              "<div>\n",
              "<style scoped>\n",
              "    .dataframe tbody tr th:only-of-type {\n",
              "        vertical-align: middle;\n",
              "    }\n",
              "\n",
              "    .dataframe tbody tr th {\n",
              "        vertical-align: top;\n",
              "    }\n",
              "\n",
              "    .dataframe thead th {\n",
              "        text-align: right;\n",
              "    }\n",
              "</style>\n",
              "<table border=\"1\" class=\"dataframe\">\n",
              "  <thead>\n",
              "    <tr style=\"text-align: right;\">\n",
              "      <th></th>\n",
              "      <th>summit_elev</th>\n",
              "      <th>vertical_drop</th>\n",
              "      <th>base_elev</th>\n",
              "      <th>trams</th>\n",
              "      <th>fastSixes</th>\n",
              "      <th>fastQuads</th>\n",
              "      <th>quad</th>\n",
              "      <th>triple</th>\n",
              "      <th>double</th>\n",
              "      <th>surface</th>\n",
              "      <th>total_chairs</th>\n",
              "      <th>Runs</th>\n",
              "      <th>TerrainParks</th>\n",
              "      <th>LongestRun_mi</th>\n",
              "      <th>SkiableTerrain_ac</th>\n",
              "      <th>Snow Making_ac</th>\n",
              "      <th>daysOpenLastYear</th>\n",
              "      <th>yearsOpen</th>\n",
              "      <th>averageSnowfall</th>\n",
              "      <th>projectedDaysOpen</th>\n",
              "      <th>NightSkiing_ac</th>\n",
              "      <th>resorts_per_state</th>\n",
              "      <th>resorts_per_100kcapita</th>\n",
              "      <th>resorts_per_100ksq_mile</th>\n",
              "      <th>resort_skiable_area_ac_state_ratio</th>\n",
              "      <th>resort_days_open_state_ratio</th>\n",
              "      <th>resort_terrain_park_state_ratio</th>\n",
              "      <th>resort_night_skiing_state_ratio</th>\n",
              "      <th>total_chairs_runs_ratio</th>\n",
              "      <th>total_chairs_skiable_ratio</th>\n",
              "      <th>fastQuads_runs_ratio</th>\n",
              "      <th>fastQuads_skiable_ratio</th>\n",
              "    </tr>\n",
              "  </thead>\n",
              "  <tbody>\n",
              "    <tr>\n",
              "      <th>0</th>\n",
              "      <td>3939</td>\n",
              "      <td>2500</td>\n",
              "      <td>250</td>\n",
              "      <td>1</td>\n",
              "      <td>0</td>\n",
              "      <td>2</td>\n",
              "      <td>2</td>\n",
              "      <td>0</td>\n",
              "      <td>0</td>\n",
              "      <td>2</td>\n",
              "      <td>7</td>\n",
              "      <td>76.0</td>\n",
              "      <td>2.0</td>\n",
              "      <td>1.0</td>\n",
              "      <td>1610.0</td>\n",
              "      <td>113.0</td>\n",
              "      <td>150.0</td>\n",
              "      <td>60.0</td>\n",
              "      <td>669.0</td>\n",
              "      <td>150.0</td>\n",
              "      <td>550.0</td>\n",
              "      <td>3</td>\n",
              "      <td>0.410091</td>\n",
              "      <td>0.450867</td>\n",
              "      <td>0.706140</td>\n",
              "      <td>0.434783</td>\n",
              "      <td>0.500000</td>\n",
              "      <td>0.948276</td>\n",
              "      <td>0.092105</td>\n",
              "      <td>0.004348</td>\n",
              "      <td>0.026316</td>\n",
              "      <td>0.001242</td>\n",
              "    </tr>\n",
              "    <tr>\n",
              "      <th>1</th>\n",
              "      <td>2600</td>\n",
              "      <td>1540</td>\n",
              "      <td>1200</td>\n",
              "      <td>0</td>\n",
              "      <td>0</td>\n",
              "      <td>0</td>\n",
              "      <td>0</td>\n",
              "      <td>0</td>\n",
              "      <td>4</td>\n",
              "      <td>0</td>\n",
              "      <td>4</td>\n",
              "      <td>36.0</td>\n",
              "      <td>1.0</td>\n",
              "      <td>2.0</td>\n",
              "      <td>640.0</td>\n",
              "      <td>60.0</td>\n",
              "      <td>45.0</td>\n",
              "      <td>44.0</td>\n",
              "      <td>350.0</td>\n",
              "      <td>90.0</td>\n",
              "      <td>NaN</td>\n",
              "      <td>3</td>\n",
              "      <td>0.410091</td>\n",
              "      <td>0.450867</td>\n",
              "      <td>0.280702</td>\n",
              "      <td>0.130435</td>\n",
              "      <td>0.250000</td>\n",
              "      <td>NaN</td>\n",
              "      <td>0.111111</td>\n",
              "      <td>0.006250</td>\n",
              "      <td>0.000000</td>\n",
              "      <td>0.000000</td>\n",
              "    </tr>\n",
              "    <tr>\n",
              "      <th>2</th>\n",
              "      <td>2090</td>\n",
              "      <td>294</td>\n",
              "      <td>1796</td>\n",
              "      <td>0</td>\n",
              "      <td>0</td>\n",
              "      <td>0</td>\n",
              "      <td>0</td>\n",
              "      <td>1</td>\n",
              "      <td>0</td>\n",
              "      <td>2</td>\n",
              "      <td>3</td>\n",
              "      <td>13.0</td>\n",
              "      <td>1.0</td>\n",
              "      <td>1.0</td>\n",
              "      <td>30.0</td>\n",
              "      <td>30.0</td>\n",
              "      <td>150.0</td>\n",
              "      <td>36.0</td>\n",
              "      <td>69.0</td>\n",
              "      <td>152.0</td>\n",
              "      <td>30.0</td>\n",
              "      <td>3</td>\n",
              "      <td>0.410091</td>\n",
              "      <td>0.450867</td>\n",
              "      <td>0.013158</td>\n",
              "      <td>0.434783</td>\n",
              "      <td>0.250000</td>\n",
              "      <td>0.051724</td>\n",
              "      <td>0.230769</td>\n",
              "      <td>0.100000</td>\n",
              "      <td>0.000000</td>\n",
              "      <td>0.000000</td>\n",
              "    </tr>\n",
              "    <tr>\n",
              "      <th>3</th>\n",
              "      <td>11500</td>\n",
              "      <td>2300</td>\n",
              "      <td>9200</td>\n",
              "      <td>0</td>\n",
              "      <td>1</td>\n",
              "      <td>0</td>\n",
              "      <td>2</td>\n",
              "      <td>2</td>\n",
              "      <td>1</td>\n",
              "      <td>2</td>\n",
              "      <td>8</td>\n",
              "      <td>55.0</td>\n",
              "      <td>4.0</td>\n",
              "      <td>2.0</td>\n",
              "      <td>777.0</td>\n",
              "      <td>104.0</td>\n",
              "      <td>122.0</td>\n",
              "      <td>81.0</td>\n",
              "      <td>260.0</td>\n",
              "      <td>122.0</td>\n",
              "      <td>NaN</td>\n",
              "      <td>2</td>\n",
              "      <td>0.027477</td>\n",
              "      <td>1.754540</td>\n",
              "      <td>0.492708</td>\n",
              "      <td>0.514768</td>\n",
              "      <td>0.666667</td>\n",
              "      <td>NaN</td>\n",
              "      <td>0.145455</td>\n",
              "      <td>0.010296</td>\n",
              "      <td>0.000000</td>\n",
              "      <td>0.000000</td>\n",
              "    </tr>\n",
              "    <tr>\n",
              "      <th>4</th>\n",
              "      <td>11100</td>\n",
              "      <td>1800</td>\n",
              "      <td>9200</td>\n",
              "      <td>0</td>\n",
              "      <td>0</td>\n",
              "      <td>1</td>\n",
              "      <td>2</td>\n",
              "      <td>3</td>\n",
              "      <td>1</td>\n",
              "      <td>0</td>\n",
              "      <td>7</td>\n",
              "      <td>65.0</td>\n",
              "      <td>2.0</td>\n",
              "      <td>1.2</td>\n",
              "      <td>800.0</td>\n",
              "      <td>80.0</td>\n",
              "      <td>115.0</td>\n",
              "      <td>49.0</td>\n",
              "      <td>250.0</td>\n",
              "      <td>104.0</td>\n",
              "      <td>80.0</td>\n",
              "      <td>2</td>\n",
              "      <td>0.027477</td>\n",
              "      <td>1.754540</td>\n",
              "      <td>0.507292</td>\n",
              "      <td>0.485232</td>\n",
              "      <td>0.333333</td>\n",
              "      <td>1.000000</td>\n",
              "      <td>0.107692</td>\n",
              "      <td>0.008750</td>\n",
              "      <td>0.015385</td>\n",
              "      <td>0.001250</td>\n",
              "    </tr>\n",
              "    <tr>\n",
              "      <th>...</th>\n",
              "      <td>...</td>\n",
              "      <td>...</td>\n",
              "      <td>...</td>\n",
              "      <td>...</td>\n",
              "      <td>...</td>\n",
              "      <td>...</td>\n",
              "      <td>...</td>\n",
              "      <td>...</td>\n",
              "      <td>...</td>\n",
              "      <td>...</td>\n",
              "      <td>...</td>\n",
              "      <td>...</td>\n",
              "      <td>...</td>\n",
              "      <td>...</td>\n",
              "      <td>...</td>\n",
              "      <td>...</td>\n",
              "      <td>...</td>\n",
              "      <td>...</td>\n",
              "      <td>...</td>\n",
              "      <td>...</td>\n",
              "      <td>...</td>\n",
              "      <td>...</td>\n",
              "      <td>...</td>\n",
              "      <td>...</td>\n",
              "      <td>...</td>\n",
              "      <td>...</td>\n",
              "      <td>...</td>\n",
              "      <td>...</td>\n",
              "      <td>...</td>\n",
              "      <td>...</td>\n",
              "      <td>...</td>\n",
              "      <td>...</td>\n",
              "    </tr>\n",
              "    <tr>\n",
              "      <th>272</th>\n",
              "      <td>8000</td>\n",
              "      <td>640</td>\n",
              "      <td>7400</td>\n",
              "      <td>0</td>\n",
              "      <td>0</td>\n",
              "      <td>0</td>\n",
              "      <td>0</td>\n",
              "      <td>0</td>\n",
              "      <td>1</td>\n",
              "      <td>1</td>\n",
              "      <td>2</td>\n",
              "      <td>28.0</td>\n",
              "      <td>1.0</td>\n",
              "      <td>0.6</td>\n",
              "      <td>92.0</td>\n",
              "      <td>32.0</td>\n",
              "      <td>121.0</td>\n",
              "      <td>61.0</td>\n",
              "      <td>80.0</td>\n",
              "      <td>95.0</td>\n",
              "      <td>NaN</td>\n",
              "      <td>8</td>\n",
              "      <td>1.382268</td>\n",
              "      <td>8.178872</td>\n",
              "      <td>0.014104</td>\n",
              "      <td>0.168994</td>\n",
              "      <td>0.071429</td>\n",
              "      <td>NaN</td>\n",
              "      <td>0.071429</td>\n",
              "      <td>0.021739</td>\n",
              "      <td>0.000000</td>\n",
              "      <td>0.000000</td>\n",
              "    </tr>\n",
              "    <tr>\n",
              "      <th>273</th>\n",
              "      <td>7428</td>\n",
              "      <td>810</td>\n",
              "      <td>6619</td>\n",
              "      <td>0</td>\n",
              "      <td>0</td>\n",
              "      <td>0</td>\n",
              "      <td>0</td>\n",
              "      <td>1</td>\n",
              "      <td>1</td>\n",
              "      <td>1</td>\n",
              "      <td>3</td>\n",
              "      <td>48.0</td>\n",
              "      <td>1.0</td>\n",
              "      <td>1.0</td>\n",
              "      <td>184.0</td>\n",
              "      <td>18.0</td>\n",
              "      <td>61.0</td>\n",
              "      <td>81.0</td>\n",
              "      <td>310.0</td>\n",
              "      <td>77.0</td>\n",
              "      <td>NaN</td>\n",
              "      <td>8</td>\n",
              "      <td>1.382268</td>\n",
              "      <td>8.178872</td>\n",
              "      <td>0.028208</td>\n",
              "      <td>0.085196</td>\n",
              "      <td>0.071429</td>\n",
              "      <td>NaN</td>\n",
              "      <td>0.062500</td>\n",
              "      <td>0.016304</td>\n",
              "      <td>0.000000</td>\n",
              "      <td>0.000000</td>\n",
              "    </tr>\n",
              "    <tr>\n",
              "      <th>274</th>\n",
              "      <td>7808</td>\n",
              "      <td>1571</td>\n",
              "      <td>6237</td>\n",
              "      <td>0</td>\n",
              "      <td>0</td>\n",
              "      <td>0</td>\n",
              "      <td>1</td>\n",
              "      <td>1</td>\n",
              "      <td>1</td>\n",
              "      <td>0</td>\n",
              "      <td>3</td>\n",
              "      <td>32.0</td>\n",
              "      <td>2.0</td>\n",
              "      <td>1.0</td>\n",
              "      <td>400.0</td>\n",
              "      <td>250.0</td>\n",
              "      <td>121.0</td>\n",
              "      <td>80.0</td>\n",
              "      <td>300.0</td>\n",
              "      <td>123.0</td>\n",
              "      <td>110.0</td>\n",
              "      <td>8</td>\n",
              "      <td>1.382268</td>\n",
              "      <td>8.178872</td>\n",
              "      <td>0.061321</td>\n",
              "      <td>0.168994</td>\n",
              "      <td>0.142857</td>\n",
              "      <td>1.000000</td>\n",
              "      <td>0.093750</td>\n",
              "      <td>0.007500</td>\n",
              "      <td>0.000000</td>\n",
              "      <td>0.000000</td>\n",
              "    </tr>\n",
              "    <tr>\n",
              "      <th>275</th>\n",
              "      <td>9663</td>\n",
              "      <td>990</td>\n",
              "      <td>8798</td>\n",
              "      <td>0</td>\n",
              "      <td>0</td>\n",
              "      <td>0</td>\n",
              "      <td>0</td>\n",
              "      <td>1</td>\n",
              "      <td>3</td>\n",
              "      <td>1</td>\n",
              "      <td>5</td>\n",
              "      <td>33.0</td>\n",
              "      <td>2.0</td>\n",
              "      <td>0.7</td>\n",
              "      <td>75.0</td>\n",
              "      <td>30.0</td>\n",
              "      <td>131.0</td>\n",
              "      <td>59.0</td>\n",
              "      <td>250.0</td>\n",
              "      <td>NaN</td>\n",
              "      <td>NaN</td>\n",
              "      <td>8</td>\n",
              "      <td>1.382268</td>\n",
              "      <td>8.178872</td>\n",
              "      <td>0.011498</td>\n",
              "      <td>0.182961</td>\n",
              "      <td>0.142857</td>\n",
              "      <td>NaN</td>\n",
              "      <td>0.151515</td>\n",
              "      <td>0.066667</td>\n",
              "      <td>0.000000</td>\n",
              "      <td>0.000000</td>\n",
              "    </tr>\n",
              "    <tr>\n",
              "      <th>276</th>\n",
              "      <td>9500</td>\n",
              "      <td>1100</td>\n",
              "      <td>8400</td>\n",
              "      <td>0</td>\n",
              "      <td>0</td>\n",
              "      <td>0</td>\n",
              "      <td>0</td>\n",
              "      <td>2</td>\n",
              "      <td>0</td>\n",
              "      <td>0</td>\n",
              "      <td>2</td>\n",
              "      <td>25.0</td>\n",
              "      <td>NaN</td>\n",
              "      <td>0.4</td>\n",
              "      <td>370.0</td>\n",
              "      <td>NaN</td>\n",
              "      <td>NaN</td>\n",
              "      <td>81.0</td>\n",
              "      <td>150.0</td>\n",
              "      <td>NaN</td>\n",
              "      <td>NaN</td>\n",
              "      <td>8</td>\n",
              "      <td>1.382268</td>\n",
              "      <td>8.178872</td>\n",
              "      <td>0.056722</td>\n",
              "      <td>NaN</td>\n",
              "      <td>NaN</td>\n",
              "      <td>NaN</td>\n",
              "      <td>0.080000</td>\n",
              "      <td>0.005405</td>\n",
              "      <td>0.000000</td>\n",
              "      <td>0.000000</td>\n",
              "    </tr>\n",
              "  </tbody>\n",
              "</table>\n",
              "<p>276 rows × 32 columns</p>\n",
              "</div>"
            ],
            "text/plain": [
              "     summit_elev  vertical_drop  ...  fastQuads_runs_ratio  fastQuads_skiable_ratio\n",
              "0           3939           2500  ...              0.026316                 0.001242\n",
              "1           2600           1540  ...              0.000000                 0.000000\n",
              "2           2090            294  ...              0.000000                 0.000000\n",
              "3          11500           2300  ...              0.000000                 0.000000\n",
              "4          11100           1800  ...              0.015385                 0.001250\n",
              "..           ...            ...  ...                   ...                      ...\n",
              "272         8000            640  ...              0.000000                 0.000000\n",
              "273         7428            810  ...              0.000000                 0.000000\n",
              "274         7808           1571  ...              0.000000                 0.000000\n",
              "275         9663            990  ...              0.000000                 0.000000\n",
              "276         9500           1100  ...              0.000000                 0.000000\n",
              "\n",
              "[276 rows x 32 columns]"
            ]
          },
          "metadata": {
            "tags": []
          },
          "execution_count": 17
        }
      ]
    },
    {
      "cell_type": "code",
      "metadata": {
        "id": "xScaaxbQjOl3",
        "colab_type": "code",
        "colab": {
          "base_uri": "https://localhost:8080/",
          "height": 34
        },
        "outputId": "a050284d-2d16-466a-d324-cee313c293e8"
      },
      "source": [
        "len(X), len(y)"
      ],
      "execution_count": 19,
      "outputs": [
        {
          "output_type": "execute_result",
          "data": {
            "text/plain": [
              "(276, 276)"
            ]
          },
          "metadata": {
            "tags": []
          },
          "execution_count": 19
        }
      ]
    },
    {
      "cell_type": "code",
      "metadata": {
        "id": "wMF2b-YQjOl7",
        "colab_type": "code",
        "colab": {
          "base_uri": "https://localhost:8080/",
          "height": 336
        },
        "outputId": "5b22b348-6d22-4ba9-bf1e-a7f1b800460a"
      },
      "source": [
        "model.fit(X, y)"
      ],
      "execution_count": 20,
      "outputs": [
        {
          "output_type": "execute_result",
          "data": {
            "text/plain": [
              "Pipeline(memory=None,\n",
              "         steps=[('simpleimputer',\n",
              "                 SimpleImputer(add_indicator=False, copy=True, fill_value=None,\n",
              "                               missing_values=nan, strategy='median',\n",
              "                               verbose=0)),\n",
              "                ('standardscaler', None),\n",
              "                ('randomforestregressor',\n",
              "                 RandomForestRegressor(bootstrap=True, ccp_alpha=0.0,\n",
              "                                       criterion='mse', max_depth=None,\n",
              "                                       max_features='auto', max_leaf_nodes=None,\n",
              "                                       max_samples=None,\n",
              "                                       min_impurity_decrease=0.0,\n",
              "                                       min_impurity_split=None,\n",
              "                                       min_samples_leaf=1, min_samples_split=2,\n",
              "                                       min_weight_fraction_leaf=0.0,\n",
              "                                       n_estimators=69, n_jobs=None,\n",
              "                                       oob_score=False, random_state=47,\n",
              "                                       verbose=0, warm_start=False))],\n",
              "         verbose=False)"
            ]
          },
          "metadata": {
            "tags": []
          },
          "execution_count": 20
        }
      ]
    },
    {
      "cell_type": "code",
      "metadata": {
        "id": "tLN-PEwNjOl-",
        "colab_type": "code",
        "colab": {}
      },
      "source": [
        "cv_results = cross_validate(model, X, y, scoring='neg_mean_absolute_error', cv=5, n_jobs=-1)"
      ],
      "execution_count": 21,
      "outputs": []
    },
    {
      "cell_type": "code",
      "metadata": {
        "id": "qoYnjlC8jOmA",
        "colab_type": "code",
        "colab": {
          "base_uri": "https://localhost:8080/",
          "height": 50
        },
        "outputId": "ccdfb5c7-9dc6-4d90-d4c6-369607a9051a"
      },
      "source": [
        "cv_results['test_score']"
      ],
      "execution_count": 22,
      "outputs": [
        {
          "output_type": "execute_result",
          "data": {
            "text/plain": [
              "array([-12.10337215,  -9.28661397, -11.41279578,  -8.06408169,\n",
              "       -11.05864559])"
            ]
          },
          "metadata": {
            "tags": []
          },
          "execution_count": 22
        }
      ]
    },
    {
      "cell_type": "code",
      "metadata": {
        "id": "M3uFGMeojOmC",
        "colab_type": "code",
        "colab": {
          "base_uri": "https://localhost:8080/",
          "height": 34
        },
        "outputId": "1e9a1bc5-1223-4c16-fd90-1518b34e80ab"
      },
      "source": [
        "mae_mean, mae_std = np.mean(-1 * cv_results['test_score']), np.std(-1 * cv_results['test_score'])\n",
        "mae_mean, mae_std"
      ],
      "execution_count": 23,
      "outputs": [
        {
          "output_type": "execute_result",
          "data": {
            "text/plain": [
              "(10.3851018351214, 1.487015739861695)"
            ]
          },
          "metadata": {
            "tags": []
          },
          "execution_count": 23
        }
      ]
    },
    {
      "cell_type": "markdown",
      "metadata": {
        "id": "hppEVwggjOmE",
        "colab_type": "text"
      },
      "source": [
        "These numbers will inevitably be different to those in the previous step that used a different training data set. They should, however, be consistent. It's important to appreciate that estimates of model performance are subject to the noise and uncertainty of data!"
      ]
    },
    {
      "cell_type": "markdown",
      "metadata": {
        "id": "A6VoLdEojOmE",
        "colab_type": "text"
      },
      "source": [
        "## 5.7 Calculate Expected Big Mountain Ticket Price From The Model<a id='5.7_Calculate_Expected_Big_Mountain_Ticket_Price_From_The_Model'></a>"
      ]
    },
    {
      "cell_type": "code",
      "metadata": {
        "id": "Q3ixhk6jjOmE",
        "colab_type": "code",
        "colab": {}
      },
      "source": [
        "X_bm = ski_data.loc[ski_data.Name == \"Big Mountain Resort\", model.X_columns]\n",
        "y_bm = ski_data.loc[ski_data.Name == \"Big Mountain Resort\", 'AdultWeekend']"
      ],
      "execution_count": 30,
      "outputs": []
    },
    {
      "cell_type": "code",
      "metadata": {
        "id": "rasamdrV0JXW",
        "colab_type": "code",
        "colab": {
          "base_uri": "https://localhost:8080/",
          "height": 114
        },
        "outputId": "b1a2fb2e-f24a-43cb-d78c-d5be14bfa86c"
      },
      "source": [
        "X_bm"
      ],
      "execution_count": 34,
      "outputs": [
        {
          "output_type": "execute_result",
          "data": {
            "text/html": [
              "<div>\n",
              "<style scoped>\n",
              "    .dataframe tbody tr th:only-of-type {\n",
              "        vertical-align: middle;\n",
              "    }\n",
              "\n",
              "    .dataframe tbody tr th {\n",
              "        vertical-align: top;\n",
              "    }\n",
              "\n",
              "    .dataframe thead th {\n",
              "        text-align: right;\n",
              "    }\n",
              "</style>\n",
              "<table border=\"1\" class=\"dataframe\">\n",
              "  <thead>\n",
              "    <tr style=\"text-align: right;\">\n",
              "      <th></th>\n",
              "      <th>summit_elev</th>\n",
              "      <th>vertical_drop</th>\n",
              "      <th>base_elev</th>\n",
              "      <th>trams</th>\n",
              "      <th>fastSixes</th>\n",
              "      <th>fastQuads</th>\n",
              "      <th>quad</th>\n",
              "      <th>triple</th>\n",
              "      <th>double</th>\n",
              "      <th>surface</th>\n",
              "      <th>total_chairs</th>\n",
              "      <th>Runs</th>\n",
              "      <th>TerrainParks</th>\n",
              "      <th>LongestRun_mi</th>\n",
              "      <th>SkiableTerrain_ac</th>\n",
              "      <th>Snow Making_ac</th>\n",
              "      <th>daysOpenLastYear</th>\n",
              "      <th>yearsOpen</th>\n",
              "      <th>averageSnowfall</th>\n",
              "      <th>projectedDaysOpen</th>\n",
              "      <th>NightSkiing_ac</th>\n",
              "      <th>resorts_per_state</th>\n",
              "      <th>resorts_per_100kcapita</th>\n",
              "      <th>resorts_per_100ksq_mile</th>\n",
              "      <th>resort_skiable_area_ac_state_ratio</th>\n",
              "      <th>resort_days_open_state_ratio</th>\n",
              "      <th>resort_terrain_park_state_ratio</th>\n",
              "      <th>resort_night_skiing_state_ratio</th>\n",
              "      <th>total_chairs_runs_ratio</th>\n",
              "      <th>total_chairs_skiable_ratio</th>\n",
              "      <th>fastQuads_runs_ratio</th>\n",
              "      <th>fastQuads_skiable_ratio</th>\n",
              "    </tr>\n",
              "  </thead>\n",
              "  <tbody>\n",
              "    <tr>\n",
              "      <th>124</th>\n",
              "      <td>6817</td>\n",
              "      <td>2353</td>\n",
              "      <td>4464</td>\n",
              "      <td>0</td>\n",
              "      <td>0</td>\n",
              "      <td>3</td>\n",
              "      <td>2</td>\n",
              "      <td>6</td>\n",
              "      <td>0</td>\n",
              "      <td>3</td>\n",
              "      <td>14</td>\n",
              "      <td>105.0</td>\n",
              "      <td>4.0</td>\n",
              "      <td>3.3</td>\n",
              "      <td>3000.0</td>\n",
              "      <td>600.0</td>\n",
              "      <td>123.0</td>\n",
              "      <td>72.0</td>\n",
              "      <td>333.0</td>\n",
              "      <td>123.0</td>\n",
              "      <td>600.0</td>\n",
              "      <td>12</td>\n",
              "      <td>1.122778</td>\n",
              "      <td>8.161045</td>\n",
              "      <td>0.140121</td>\n",
              "      <td>0.129338</td>\n",
              "      <td>0.148148</td>\n",
              "      <td>0.84507</td>\n",
              "      <td>0.133333</td>\n",
              "      <td>0.004667</td>\n",
              "      <td>0.028571</td>\n",
              "      <td>0.001</td>\n",
              "    </tr>\n",
              "  </tbody>\n",
              "</table>\n",
              "</div>"
            ],
            "text/plain": [
              "     summit_elev  vertical_drop  ...  fastQuads_runs_ratio  fastQuads_skiable_ratio\n",
              "124         6817           2353  ...              0.028571                    0.001\n",
              "\n",
              "[1 rows x 32 columns]"
            ]
          },
          "metadata": {
            "tags": []
          },
          "execution_count": 34
        }
      ]
    },
    {
      "cell_type": "code",
      "metadata": {
        "id": "G6FkCWLejOmH",
        "colab_type": "code",
        "colab": {
          "base_uri": "https://localhost:8080/",
          "height": 34
        },
        "outputId": "2a4311b5-24aa-4bf1-bd57-87382f9f9267"
      },
      "source": [
        "bm_pred = model.predict(X_bm).item()\n",
        "bm_pred"
      ],
      "execution_count": 33,
      "outputs": [
        {
          "output_type": "execute_result",
          "data": {
            "text/plain": [
              "94.21739130434783"
            ]
          },
          "metadata": {
            "tags": []
          },
          "execution_count": 33
        }
      ]
    },
    {
      "cell_type": "code",
      "metadata": {
        "id": "HHvVZYUHjOmJ",
        "colab_type": "code",
        "colab": {
          "base_uri": "https://localhost:8080/",
          "height": 34
        },
        "outputId": "ca0362dc-8cb8-4f14-f12a-c7ca31a62095"
      },
      "source": [
        "y_bm = y_bm.values.item()\n",
        "y_bm"
      ],
      "execution_count": 32,
      "outputs": [
        {
          "output_type": "execute_result",
          "data": {
            "text/plain": [
              "81.0"
            ]
          },
          "metadata": {
            "tags": []
          },
          "execution_count": 32
        }
      ]
    },
    {
      "cell_type": "code",
      "metadata": {
        "id": "EBXySGkQjOmL",
        "colab_type": "code",
        "colab": {
          "base_uri": "https://localhost:8080/",
          "height": 50
        },
        "outputId": "087946c6-707d-4d51-adca-b0e2e60f1a70"
      },
      "source": [
        "print(f'Big Mountain Resort modelled price is ${bm_pred:.2f}, actual price is ${y_bm:.2f}.')\n",
        "print(f'Even with the expected mean absolute error of ${mae_mean:.2f}, this suggests there is room for an increase.')"
      ],
      "execution_count": 35,
      "outputs": [
        {
          "output_type": "stream",
          "text": [
            "Big Mountain Resort modelled price is $94.22, actual price is $81.00.\n",
            "Even with the expected mean absolute error of $10.39, this suggests there is room for an increase.\n"
          ],
          "name": "stdout"
        }
      ]
    },
    {
      "cell_type": "markdown",
      "metadata": {
        "id": "MFdaDrN9jOmO",
        "colab_type": "text"
      },
      "source": [
        "This result should be looked at optimistically and doubtfully! The validity of our model lies in the assumption that other resorts accurately set their prices according to what the market (the ticket-buying public) supports. The fact that our resort seems to be charging that much less that what's predicted suggests our resort might be undercharging. \n",
        "But if ours is mispricing itself, are others? It's reasonable to expect that some resorts will be \"overpriced\" and some \"underpriced.\" Or if resorts are pretty good at pricing strategies, it could be that our model is simply lacking some key data? Certainly we know nothing about operating costs, for example, and they would surely help."
      ]
    },
    {
      "cell_type": "markdown",
      "metadata": {
        "id": "8SvAfvKUjOmO",
        "colab_type": "text"
      },
      "source": [
        "## 5.8 Big Mountain Resort In Market Context<a id='5.8_Big_Mountain_Resort_In_Market_Context'></a>"
      ]
    },
    {
      "cell_type": "markdown",
      "metadata": {
        "id": "F7DDfJ_JjOmP",
        "colab_type": "text"
      },
      "source": [
        "Features that came up as important in the modeling (not just our final, random forest model) included:\n",
        "* vertical_drop\n",
        "* Snow Making_ac\n",
        "* total_chairs\n",
        "* fastQuads\n",
        "* Runs\n",
        "* LongestRun_mi\n",
        "* trams\n",
        "* SkiableTerrain_ac"
      ]
    },
    {
      "cell_type": "markdown",
      "metadata": {
        "id": "1DskO7XrjOmP",
        "colab_type": "text"
      },
      "source": [
        "A handy glossary of skiing terms can be found on the [ski.com](https://www.ski.com/ski-glossary) site. Some potentially relevant contextual information is that vertical drop, although nominally the height difference from the summit to the base, is generally taken from the highest [_lift-served_](http://verticalfeet.com/) point."
      ]
    },
    {
      "cell_type": "markdown",
      "metadata": {
        "id": "PhivBGkIjOmQ",
        "colab_type": "text"
      },
      "source": [
        "It's often useful to define custom functions for visualizing data in meaningful ways. The function below takes a feature name as an input and plots a histogram of the values of that feature. It then marks where Big Mountain sits in the distribution by marking Big Mountain's value with a vertical line using `matplotlib`'s [axvline](https://matplotlib.org/3.1.1/api/_as_gen/matplotlib.pyplot.axvline.html) function. It also performs a little cleaning up of missing values and adds descriptive labels and a title."
      ]
    },
    {
      "cell_type": "code",
      "metadata": {
        "id": "PuGx5FwCjOmQ",
        "colab_type": "code",
        "colab": {}
      },
      "source": [
        "#Code task 1#\n",
        "#Add code to the `plot_compare` function that displays a vertical, dashed line\n",
        "#on the histogram to indicate Big Mountain's position in the distribution\n",
        "#Hint: plt.axvline() plots a vertical line, its position for 'feature1'\n",
        "#would be `big_mountain['feature1'].values, we'd like a red line, which can be\n",
        "#specified with c='r', a dashed linestyle is produced by ls='--',\n",
        "#and it's nice to give it a slightly reduced alpha value, such as 0.8.\n",
        "#Don't forget to give it a useful label (e.g. 'Big Mountain') so it's listed\n",
        "#in the legend.\n",
        "def plot_compare(feat_name, description, state=None, figsize=(25, 15)):\n",
        "    \"\"\"Graphically compare distributions of features.\n",
        "    \n",
        "    Plot histogram of values for all resorts and reference line to mark\n",
        "    Big Mountain's position.\n",
        "    \n",
        "    Arguments:\n",
        "    feat_name - the feature column name in the data\n",
        "    description - text description of the feature\n",
        "    state - select a specific state (None for all states)\n",
        "    figsize - (optional) figure size\n",
        "    \"\"\"\n",
        "    \n",
        "    plt.subplots(figsize=figsize)\n",
        "    # quirk that hist sometimes objects to NaNs, sometimes doesn't\n",
        "    # filtering only for finite values tidies this up\n",
        "    if state is None:\n",
        "        ski_x = ski_data[feat_name]\n",
        "    else:\n",
        "        ski_x = ski_data.loc[ski_data.state == state, feat_name]\n",
        "    ski_x = ski_x[np.isfinite(ski_x)]\n",
        "    plt.hist(ski_x, bins=30)\n",
        "    plt.axvline(x=big_mountain[feat_name].values, c='r', ls='--', alpha=0.8, label='Big Mountain')\n",
        "    plt.xlabel(description)\n",
        "    plt.ylabel('frequency')\n",
        "    plt.title(description + ' distribution for resorts in market share')\n",
        "    plt.legend()"
      ],
      "execution_count": 36,
      "outputs": []
    },
    {
      "cell_type": "markdown",
      "metadata": {
        "id": "QjCZ63eHjOmS",
        "colab_type": "text"
      },
      "source": [
        "### 5.8.1 Ticket price<a id='5.8.1_Ticket_price'></a>"
      ]
    },
    {
      "cell_type": "markdown",
      "metadata": {
        "id": "8GdxOYq4jOmS",
        "colab_type": "text"
      },
      "source": [
        "Look at where Big Mountain sits overall amongst all resorts for price and for just other resorts in Montana."
      ]
    },
    {
      "cell_type": "code",
      "metadata": {
        "id": "lLjPkmi2jOmT",
        "colab_type": "code",
        "colab": {
          "base_uri": "https://localhost:8080/",
          "height": 692
        },
        "outputId": "b504b77b-f9bf-410e-f1ec-dbb506ad3607"
      },
      "source": [
        "plot_compare('AdultWeekend', 'Adult weekend ticket price ($)')"
      ],
      "execution_count": 37,
      "outputs": [
        {
          "output_type": "display_data",
          "data": {
            "image/png": "[encoded data removed]",
            "text/plain": [
              "<Figure size 1800x1080 with 1 Axes>"
            ]
          },
          "metadata": {
            "tags": []
          }
        }
      ]
    },
    {
      "cell_type": "code",
      "metadata": {
        "id": "Ex7NHU69jOmV",
        "colab_type": "code",
        "colab": {
          "base_uri": "https://localhost:8080/",
          "height": 689
        },
        "outputId": "0359fd75-26e5-4c51-dd45-3223fb7df97d"
      },
      "source": [
        "plot_compare('AdultWeekend', 'Adult weekend ticket price ($) - Montana only', state='Montana')"
      ],
      "execution_count": 38,
      "outputs": [
        {
          "output_type": "display_data",
          "data": {
            "image/png": "[encoded data removed]",
            "text/plain": [
              "<Figure size 1800x1080 with 1 Axes>"
            ]
          },
          "metadata": {
            "tags": []
          }
        }
      ]
    },
    {
      "cell_type": "markdown",
      "metadata": {
        "id": "hxaMdR2AjOmX",
        "colab_type": "text"
      },
      "source": [
        "### 5.8.2 Vertical drop<a id='5.8.2_Vertical_drop'></a>"
      ]
    },
    {
      "cell_type": "code",
      "metadata": {
        "id": "9DgclgmEjOmX",
        "colab_type": "code",
        "colab": {
          "base_uri": "https://localhost:8080/",
          "height": 692
        },
        "outputId": "a55bc867-a9fd-40a6-c9a5-526ab8637e8d"
      },
      "source": [
        "plot_compare('vertical_drop', 'Vertical drop (feet)')"
      ],
      "execution_count": 39,
      "outputs": [
        {
          "output_type": "display_data",
          "data": {
            "image/png": "[encoded data removed]",
            "text/plain": [
              "<Figure size 1800x1080 with 1 Axes>"
            ]
          },
          "metadata": {
            "tags": []
          }
        }
      ]
    },
    {
      "cell_type": "markdown",
      "metadata": {
        "id": "JfaxnazijOmZ",
        "colab_type": "text"
      },
      "source": [
        "Big Mountain is doing well for vertical drop, but there are still quite a few resorts with a greater drop."
      ]
    },
    {
      "cell_type": "markdown",
      "metadata": {
        "id": "2TTN_beGjOmZ",
        "colab_type": "text"
      },
      "source": [
        "### 5.8.3 Snow making area<a id='5.8.3_Snow_making_area'></a>"
      ]
    },
    {
      "cell_type": "code",
      "metadata": {
        "id": "Iw0AU-j1jOma",
        "colab_type": "code",
        "colab": {
          "base_uri": "https://localhost:8080/",
          "height": 692
        },
        "outputId": "80d90901-67d6-4903-b419-0f0a63ea7a4c"
      },
      "source": [
        "plot_compare('Snow Making_ac', 'Area covered by snow makers (acres)')"
      ],
      "execution_count": 40,
      "outputs": [
        {
          "output_type": "display_data",
          "data": {
            "image/png": "[encoded data removed]",
            "text/plain": [
              "<Figure size 1800x1080 with 1 Axes>"
            ]
          },
          "metadata": {
            "tags": []
          }
        }
      ]
    },
    {
      "cell_type": "markdown",
      "metadata": {
        "id": "Y8H4K8tLjOmc",
        "colab_type": "text"
      },
      "source": [
        "Big Mountain is very high up the league table of snow making area."
      ]
    },
    {
      "cell_type": "markdown",
      "metadata": {
        "id": "gncgSBzPjOmc",
        "colab_type": "text"
      },
      "source": [
        "### 5.8.4 Total number of chairs<a id='5.8.4_Total_number_of_chairs'></a>"
      ]
    },
    {
      "cell_type": "code",
      "metadata": {
        "id": "BdFUC0hUjOmc",
        "colab_type": "code",
        "colab": {
          "base_uri": "https://localhost:8080/",
          "height": 692
        },
        "outputId": "a16401fc-6f51-4a25-c4a1-8612f40d2949"
      },
      "source": [
        "plot_compare('total_chairs', 'Total number of chairs')"
      ],
      "execution_count": 41,
      "outputs": [
        {
          "output_type": "display_data",
          "data": {
            "image/png": "[encoded data removed]",
            "text/plain": [
              "<Figure size 1800x1080 with 1 Axes>"
            ]
          },
          "metadata": {
            "tags": []
          }
        }
      ]
    },
    {
      "cell_type": "markdown",
      "metadata": {
        "id": "n4HWjqjhjOmf",
        "colab_type": "text"
      },
      "source": [
        "Big Mountain has amongst the highest number of total chairs, resorts with more appear to be outliers."
      ]
    },
    {
      "cell_type": "markdown",
      "metadata": {
        "id": "YoB5q226jOmg",
        "colab_type": "text"
      },
      "source": [
        "### 5.8.5 Fast quads<a id='5.8.5_Fast_quads'></a>"
      ]
    },
    {
      "cell_type": "code",
      "metadata": {
        "id": "6pugzlgIjOmg",
        "colab_type": "code",
        "colab": {
          "base_uri": "https://localhost:8080/",
          "height": 690
        },
        "outputId": "bcca03fd-41ec-490a-ffde-b6b903eedc0e"
      },
      "source": [
        "plot_compare('fastQuads', 'Number of fast quads')"
      ],
      "execution_count": 42,
      "outputs": [
        {
          "output_type": "display_data",
          "data": {
            "image/png": "[encoded data removed]",
            "text/plain": [
              "<Figure size 1800x1080 with 1 Axes>"
            ]
          },
          "metadata": {
            "tags": []
          }
        }
      ]
    },
    {
      "cell_type": "markdown",
      "metadata": {
        "id": "ViRSRv3ejOmi",
        "colab_type": "text"
      },
      "source": [
        "Most resorts have no fast quads. Big Mountain has 3, which puts it high up that league table. There are some values  much higher, but they are rare."
      ]
    },
    {
      "cell_type": "markdown",
      "metadata": {
        "id": "sBccAEDNjOmi",
        "colab_type": "text"
      },
      "source": [
        "### 5.8.6 Runs<a id='5.8.6_Runs'></a>"
      ]
    },
    {
      "cell_type": "code",
      "metadata": {
        "id": "WgMDrnJ6jOmi",
        "colab_type": "code",
        "colab": {
          "base_uri": "https://localhost:8080/",
          "height": 692
        },
        "outputId": "74926f95-14b3-47df-e18e-97f214f0fde8"
      },
      "source": [
        "plot_compare('Runs', 'Total number of runs')"
      ],
      "execution_count": 43,
      "outputs": [
        {
          "output_type": "display_data",
          "data": {
            "image/png": "[encoded data removed]",
            "text/plain": [
              "<Figure size 1800x1080 with 1 Axes>"
            ]
          },
          "metadata": {
            "tags": []
          }
        }
      ]
    },
    {
      "cell_type": "markdown",
      "metadata": {
        "id": "xhoobCiLjOml",
        "colab_type": "text"
      },
      "source": [
        "Big Mountain compares well for the number of runs. There are some resorts with more, but not many."
      ]
    },
    {
      "cell_type": "markdown",
      "metadata": {
        "id": "sb7BoKSVjOml",
        "colab_type": "text"
      },
      "source": [
        "### 5.8.7 Longest run<a id='5.8.7_Longest_run'></a>"
      ]
    },
    {
      "cell_type": "code",
      "metadata": {
        "id": "pkfQtbj8jOml",
        "colab_type": "code",
        "colab": {
          "base_uri": "https://localhost:8080/",
          "height": 692
        },
        "outputId": "a90c7558-34a3-453a-c8cf-3deb445612b4"
      },
      "source": [
        "plot_compare('LongestRun_mi', 'Longest run length (miles)')"
      ],
      "execution_count": 44,
      "outputs": [
        {
          "output_type": "display_data",
          "data": {
            "image/png": "[encoded data removed]",
            "text/plain": [
              "<Figure size 1800x1080 with 1 Axes>"
            ]
          },
          "metadata": {
            "tags": []
          }
        }
      ]
    },
    {
      "cell_type": "markdown",
      "metadata": {
        "id": "HpGg8YuBjOmp",
        "colab_type": "text"
      },
      "source": [
        "Big Mountain has one of the longest runs. Although it is just over half the length of the longest, the longer ones are rare."
      ]
    },
    {
      "cell_type": "markdown",
      "metadata": {
        "id": "C9BqapwFjOmq",
        "colab_type": "text"
      },
      "source": [
        "### 5.8.8 Trams<a id='5.8.8_Trams'></a>"
      ]
    },
    {
      "cell_type": "code",
      "metadata": {
        "id": "o11IvS8cjOmq",
        "colab_type": "code",
        "colab": {
          "base_uri": "https://localhost:8080/",
          "height": 690
        },
        "outputId": "6ed02131-4e92-47b9-85f8-2f681cc4ea61"
      },
      "source": [
        "plot_compare('trams', 'Number of trams')"
      ],
      "execution_count": 45,
      "outputs": [
        {
          "output_type": "display_data",
          "data": {
            "image/png": "[encoded data removed]",
            "text/plain": [
              "<Figure size 1800x1080 with 1 Axes>"
            ]
          },
          "metadata": {
            "tags": []
          }
        }
      ]
    },
    {
      "cell_type": "markdown",
      "metadata": {
        "id": "3q7FXcUTjOmt",
        "colab_type": "text"
      },
      "source": [
        "The vast majority of resorts, such as Big Mountain, have no trams."
      ]
    },
    {
      "cell_type": "markdown",
      "metadata": {
        "id": "zgcU5T0BjOmt",
        "colab_type": "text"
      },
      "source": [
        "### 5.8.9 Skiable terrain area<a id='5.8.9_Skiable_terrain_area'></a>"
      ]
    },
    {
      "cell_type": "code",
      "metadata": {
        "id": "9Oq-ce87jOmt",
        "colab_type": "code",
        "colab": {
          "base_uri": "https://localhost:8080/",
          "height": 690
        },
        "outputId": "ee6195d8-fb53-4f30-af03-3432a2559275"
      },
      "source": [
        "plot_compare('SkiableTerrain_ac', 'Skiable terrain area (acres)')"
      ],
      "execution_count": 46,
      "outputs": [
        {
          "output_type": "display_data",
          "data": {
            "image/png": "[encoded data removed]",
            "text/plain": [
              "<Figure size 1800x1080 with 1 Axes>"
            ]
          },
          "metadata": {
            "tags": []
          }
        }
      ]
    },
    {
      "cell_type": "markdown",
      "metadata": {
        "id": "cOpOTuQgjOmv",
        "colab_type": "text"
      },
      "source": [
        "Big Mountain is amongst the resorts with the largest amount of skiable terrain."
      ]
    },
    {
      "cell_type": "markdown",
      "metadata": {
        "id": "dQ16VOaljOmw",
        "colab_type": "text"
      },
      "source": [
        "## 5.9 Modeling scenarios<a id='5.9_Modeling_scenarios'></a>"
      ]
    },
    {
      "cell_type": "markdown",
      "metadata": {
        "id": "i4NUmnsOjOmw",
        "colab_type": "text"
      },
      "source": [
        "Big Mountain Resort has been reviewing potential scenarios for either cutting costs or increasing revenue (from ticket prices). Ticket price is not determined by any set of parameters; the resort is free to set whatever price it likes. However, the resort operates within a market where people pay more for certain facilities, and less for others. Being able to sense how facilities support a given ticket price is valuable business intelligence. This is where the utility of our model comes in.\n",
        "\n",
        "The business has shortlisted some options:\n",
        "1. Permanently closing down up to 10 of the least used runs. This doesn't impact any other resort statistics.\n",
        "2. Increase the vertical drop by adding a run to a point 150 feet lower down but requiring the installation of an additional chair lift to bring skiers back up, without additional snow making coverage\n",
        "3. Same as number 2, but adding 2 acres of snow making cover\n",
        "4. Increase the longest run by 0.2 mile to boast 3.5 miles length, requiring an additional snow making coverage of 4 acres\n",
        "\n",
        "The expected number of visitors over the season is 350,000 and, on average, visitors ski for five days. Assume the provided data includes the additional lift that Big Mountain recently installed."
      ]
    },
    {
      "cell_type": "code",
      "metadata": {
        "id": "4YaDgxxjjOmw",
        "colab_type": "code",
        "colab": {}
      },
      "source": [
        "expected_visitors = 350_000"
      ],
      "execution_count": 47,
      "outputs": []
    },
    {
      "cell_type": "code",
      "metadata": {
        "id": "3q7R2Oma5dpM",
        "colab_type": "code",
        "colab": {
          "base_uri": "https://localhost:8080/",
          "height": 147
        },
        "outputId": "7f0af024-3a33-416b-919d-5830b51327ee"
      },
      "source": [
        "big_mountain"
      ],
      "execution_count": 49,
      "outputs": [
        {
          "output_type": "execute_result",
          "data": {
            "text/html": [
              "<div>\n",
              "<style scoped>\n",
              "    .dataframe tbody tr th:only-of-type {\n",
              "        vertical-align: middle;\n",
              "    }\n",
              "\n",
              "    .dataframe tbody tr th {\n",
              "        vertical-align: top;\n",
              "    }\n",
              "\n",
              "    .dataframe thead th {\n",
              "        text-align: right;\n",
              "    }\n",
              "</style>\n",
              "<table border=\"1\" class=\"dataframe\">\n",
              "  <thead>\n",
              "    <tr style=\"text-align: right;\">\n",
              "      <th></th>\n",
              "      <th>Name</th>\n",
              "      <th>Region</th>\n",
              "      <th>state</th>\n",
              "      <th>summit_elev</th>\n",
              "      <th>vertical_drop</th>\n",
              "      <th>base_elev</th>\n",
              "      <th>trams</th>\n",
              "      <th>fastSixes</th>\n",
              "      <th>fastQuads</th>\n",
              "      <th>quad</th>\n",
              "      <th>triple</th>\n",
              "      <th>double</th>\n",
              "      <th>surface</th>\n",
              "      <th>total_chairs</th>\n",
              "      <th>Runs</th>\n",
              "      <th>TerrainParks</th>\n",
              "      <th>LongestRun_mi</th>\n",
              "      <th>SkiableTerrain_ac</th>\n",
              "      <th>Snow Making_ac</th>\n",
              "      <th>daysOpenLastYear</th>\n",
              "      <th>yearsOpen</th>\n",
              "      <th>averageSnowfall</th>\n",
              "      <th>AdultWeekend</th>\n",
              "      <th>projectedDaysOpen</th>\n",
              "      <th>NightSkiing_ac</th>\n",
              "      <th>resorts_per_state</th>\n",
              "      <th>resorts_per_100kcapita</th>\n",
              "      <th>resorts_per_100ksq_mile</th>\n",
              "      <th>resort_skiable_area_ac_state_ratio</th>\n",
              "      <th>resort_days_open_state_ratio</th>\n",
              "      <th>resort_terrain_park_state_ratio</th>\n",
              "      <th>resort_night_skiing_state_ratio</th>\n",
              "      <th>total_chairs_runs_ratio</th>\n",
              "      <th>total_chairs_skiable_ratio</th>\n",
              "      <th>fastQuads_runs_ratio</th>\n",
              "      <th>fastQuads_skiable_ratio</th>\n",
              "    </tr>\n",
              "  </thead>\n",
              "  <tbody>\n",
              "    <tr>\n",
              "      <th>124</th>\n",
              "      <td>Big Mountain Resort</td>\n",
              "      <td>Montana</td>\n",
              "      <td>Montana</td>\n",
              "      <td>6817</td>\n",
              "      <td>2353</td>\n",
              "      <td>4464</td>\n",
              "      <td>0</td>\n",
              "      <td>0</td>\n",
              "      <td>3</td>\n",
              "      <td>2</td>\n",
              "      <td>6</td>\n",
              "      <td>0</td>\n",
              "      <td>3</td>\n",
              "      <td>14</td>\n",
              "      <td>105.0</td>\n",
              "      <td>4.0</td>\n",
              "      <td>3.3</td>\n",
              "      <td>3000.0</td>\n",
              "      <td>600.0</td>\n",
              "      <td>123.0</td>\n",
              "      <td>72.0</td>\n",
              "      <td>333.0</td>\n",
              "      <td>81.0</td>\n",
              "      <td>123.0</td>\n",
              "      <td>600.0</td>\n",
              "      <td>12</td>\n",
              "      <td>1.122778</td>\n",
              "      <td>8.161045</td>\n",
              "      <td>0.140121</td>\n",
              "      <td>0.129338</td>\n",
              "      <td>0.148148</td>\n",
              "      <td>0.84507</td>\n",
              "      <td>0.133333</td>\n",
              "      <td>0.004667</td>\n",
              "      <td>0.028571</td>\n",
              "      <td>0.001</td>\n",
              "    </tr>\n",
              "  </tbody>\n",
              "</table>\n",
              "</div>"
            ],
            "text/plain": [
              "                    Name  ... fastQuads_skiable_ratio\n",
              "124  Big Mountain Resort  ...                   0.001\n",
              "\n",
              "[1 rows x 36 columns]"
            ]
          },
          "metadata": {
            "tags": []
          },
          "execution_count": 49
        }
      ]
    },
    {
      "cell_type": "code",
      "metadata": {
        "id": "JK3AM9hcjOmy",
        "colab_type": "code",
        "colab": {
          "base_uri": "https://localhost:8080/",
          "height": 77
        },
        "outputId": "0dfdc699-e516-4c7c-eab5-a092d5a51012"
      },
      "source": [
        "all_feats = ['vertical_drop', 'Snow Making_ac', 'total_chairs', 'fastQuads', \n",
        "             'Runs', 'LongestRun_mi', 'trams', 'SkiableTerrain_ac']\n",
        "big_mountain[all_feats]"
      ],
      "execution_count": 48,
      "outputs": [
        {
          "output_type": "execute_result",
          "data": {
            "text/html": [
              "<div>\n",
              "<style scoped>\n",
              "    .dataframe tbody tr th:only-of-type {\n",
              "        vertical-align: middle;\n",
              "    }\n",
              "\n",
              "    .dataframe tbody tr th {\n",
              "        vertical-align: top;\n",
              "    }\n",
              "\n",
              "    .dataframe thead th {\n",
              "        text-align: right;\n",
              "    }\n",
              "</style>\n",
              "<table border=\"1\" class=\"dataframe\">\n",
              "  <thead>\n",
              "    <tr style=\"text-align: right;\">\n",
              "      <th></th>\n",
              "      <th>vertical_drop</th>\n",
              "      <th>Snow Making_ac</th>\n",
              "      <th>total_chairs</th>\n",
              "      <th>fastQuads</th>\n",
              "      <th>Runs</th>\n",
              "      <th>LongestRun_mi</th>\n",
              "      <th>trams</th>\n",
              "      <th>SkiableTerrain_ac</th>\n",
              "    </tr>\n",
              "  </thead>\n",
              "  <tbody>\n",
              "    <tr>\n",
              "      <th>124</th>\n",
              "      <td>2353</td>\n",
              "      <td>600.0</td>\n",
              "      <td>14</td>\n",
              "      <td>3</td>\n",
              "      <td>105.0</td>\n",
              "      <td>3.3</td>\n",
              "      <td>0</td>\n",
              "      <td>3000.0</td>\n",
              "    </tr>\n",
              "  </tbody>\n",
              "</table>\n",
              "</div>"
            ],
            "text/plain": [
              "     vertical_drop  Snow Making_ac  ...  trams  SkiableTerrain_ac\n",
              "124           2353           600.0  ...      0             3000.0\n",
              "\n",
              "[1 rows x 8 columns]"
            ]
          },
          "metadata": {
            "tags": []
          },
          "execution_count": 48
        }
      ]
    },
    {
      "cell_type": "code",
      "metadata": {
        "id": "wqixeB245uXa",
        "colab_type": "code",
        "colab": {
          "base_uri": "https://localhost:8080/",
          "height": 114
        },
        "outputId": "8c7b044e-cc53-42a6-dafe-d8692ec792c4"
      },
      "source": [
        "X_bm"
      ],
      "execution_count": 50,
      "outputs": [
        {
          "output_type": "execute_result",
          "data": {
            "text/html": [
              "<div>\n",
              "<style scoped>\n",
              "    .dataframe tbody tr th:only-of-type {\n",
              "        vertical-align: middle;\n",
              "    }\n",
              "\n",
              "    .dataframe tbody tr th {\n",
              "        vertical-align: top;\n",
              "    }\n",
              "\n",
              "    .dataframe thead th {\n",
              "        text-align: right;\n",
              "    }\n",
              "</style>\n",
              "<table border=\"1\" class=\"dataframe\">\n",
              "  <thead>\n",
              "    <tr style=\"text-align: right;\">\n",
              "      <th></th>\n",
              "      <th>summit_elev</th>\n",
              "      <th>vertical_drop</th>\n",
              "      <th>base_elev</th>\n",
              "      <th>trams</th>\n",
              "      <th>fastSixes</th>\n",
              "      <th>fastQuads</th>\n",
              "      <th>quad</th>\n",
              "      <th>triple</th>\n",
              "      <th>double</th>\n",
              "      <th>surface</th>\n",
              "      <th>total_chairs</th>\n",
              "      <th>Runs</th>\n",
              "      <th>TerrainParks</th>\n",
              "      <th>LongestRun_mi</th>\n",
              "      <th>SkiableTerrain_ac</th>\n",
              "      <th>Snow Making_ac</th>\n",
              "      <th>daysOpenLastYear</th>\n",
              "      <th>yearsOpen</th>\n",
              "      <th>averageSnowfall</th>\n",
              "      <th>projectedDaysOpen</th>\n",
              "      <th>NightSkiing_ac</th>\n",
              "      <th>resorts_per_state</th>\n",
              "      <th>resorts_per_100kcapita</th>\n",
              "      <th>resorts_per_100ksq_mile</th>\n",
              "      <th>resort_skiable_area_ac_state_ratio</th>\n",
              "      <th>resort_days_open_state_ratio</th>\n",
              "      <th>resort_terrain_park_state_ratio</th>\n",
              "      <th>resort_night_skiing_state_ratio</th>\n",
              "      <th>total_chairs_runs_ratio</th>\n",
              "      <th>total_chairs_skiable_ratio</th>\n",
              "      <th>fastQuads_runs_ratio</th>\n",
              "      <th>fastQuads_skiable_ratio</th>\n",
              "    </tr>\n",
              "  </thead>\n",
              "  <tbody>\n",
              "    <tr>\n",
              "      <th>124</th>\n",
              "      <td>6817</td>\n",
              "      <td>2353</td>\n",
              "      <td>4464</td>\n",
              "      <td>0</td>\n",
              "      <td>0</td>\n",
              "      <td>3</td>\n",
              "      <td>2</td>\n",
              "      <td>6</td>\n",
              "      <td>0</td>\n",
              "      <td>3</td>\n",
              "      <td>14</td>\n",
              "      <td>105.0</td>\n",
              "      <td>4.0</td>\n",
              "      <td>3.3</td>\n",
              "      <td>3000.0</td>\n",
              "      <td>600.0</td>\n",
              "      <td>123.0</td>\n",
              "      <td>72.0</td>\n",
              "      <td>333.0</td>\n",
              "      <td>123.0</td>\n",
              "      <td>600.0</td>\n",
              "      <td>12</td>\n",
              "      <td>1.122778</td>\n",
              "      <td>8.161045</td>\n",
              "      <td>0.140121</td>\n",
              "      <td>0.129338</td>\n",
              "      <td>0.148148</td>\n",
              "      <td>0.84507</td>\n",
              "      <td>0.133333</td>\n",
              "      <td>0.004667</td>\n",
              "      <td>0.028571</td>\n",
              "      <td>0.001</td>\n",
              "    </tr>\n",
              "  </tbody>\n",
              "</table>\n",
              "</div>"
            ],
            "text/plain": [
              "     summit_elev  vertical_drop  ...  fastQuads_runs_ratio  fastQuads_skiable_ratio\n",
              "124         6817           2353  ...              0.028571                    0.001\n",
              "\n",
              "[1 rows x 32 columns]"
            ]
          },
          "metadata": {
            "tags": []
          },
          "execution_count": 50
        }
      ]
    },
    {
      "cell_type": "code",
      "metadata": {
        "id": "T5gRKs1EjOm0",
        "colab_type": "code",
        "colab": {}
      },
      "source": [
        "#Code task 2#\n",
        "#In this function, copy the Big Mountain data into a new data frame\n",
        "#(Note we use .copy()!)\n",
        "#And then for each feature, and each of its deltas (changes from the original),\n",
        "#create the modified scenario dataframe (bm2) and make a ticket price prediction\n",
        "#for it. The difference between the scenario's prediction and the current\n",
        "#prediction is then calculated and returned.\n",
        "#Complete the code to increment each feature by the associated delta\n",
        "def predict_increase(features, deltas):\n",
        "    \"\"\"Increase in modelled ticket price by applying delta to feature.\n",
        "    \n",
        "    Arguments:\n",
        "    features - list, names of the features in the ski_data dataframe to change\n",
        "    deltas - list, the amounts by which to increase the values of the features\n",
        "    \n",
        "    Outputs:\n",
        "    Amount of increase in the predicted ticket price\n",
        "    \"\"\"\n",
        "    \n",
        "    bm2 = X_bm.copy()\n",
        "    for f, d in zip(features, deltas):\n",
        "        bm2[f] += d\n",
        "    return model.predict(bm2).item() - model.predict(X_bm).item()"
      ],
      "execution_count": 55,
      "outputs": []
    },
    {
      "cell_type": "markdown",
      "metadata": {
        "id": "F3a63hQejOm4",
        "colab_type": "text"
      },
      "source": [
        "### 5.9.1 Scenario 1<a id='5.9.1_Scenario_1'></a>"
      ]
    },
    {
      "cell_type": "markdown",
      "metadata": {
        "id": "3Qis-lfEjOm4",
        "colab_type": "text"
      },
      "source": [
        "Close up to 10 of the least used runs. The number of runs is the only parameter varying."
      ]
    },
    {
      "cell_type": "code",
      "metadata": {
        "id": "dc_XsLfijOm5",
        "colab_type": "code",
        "colab": {
          "base_uri": "https://localhost:8080/",
          "height": 34
        },
        "outputId": "b96a5edd-961c-400d-e8f4-4a3cb244fa1f"
      },
      "source": [
        "[i for i in range(-1, -11, -1)]"
      ],
      "execution_count": 56,
      "outputs": [
        {
          "output_type": "execute_result",
          "data": {
            "text/plain": [
              "[-1, -2, -3, -4, -5, -6, -7, -8, -9, -10]"
            ]
          },
          "metadata": {
            "tags": []
          },
          "execution_count": 56
        }
      ]
    },
    {
      "cell_type": "code",
      "metadata": {
        "id": "CVr5ifUsjOm7",
        "colab_type": "code",
        "colab": {}
      },
      "source": [
        "runs_delta = [i for i in range(-1, -11, -1)]\n",
        "price_deltas = [predict_increase(['Runs'], [delta]) for delta in runs_delta]"
      ],
      "execution_count": 57,
      "outputs": []
    },
    {
      "cell_type": "code",
      "metadata": {
        "id": "AnCdy0fDjOm9",
        "colab_type": "code",
        "colab": {
          "base_uri": "https://localhost:8080/",
          "height": 185
        },
        "outputId": "318558c1-6fa4-4878-f110-b0648dffe2ef"
      },
      "source": [
        "price_deltas"
      ],
      "execution_count": 58,
      "outputs": [
        {
          "output_type": "execute_result",
          "data": {
            "text/plain": [
              "[0.0,\n",
              " -0.4057971014492807,\n",
              " -0.6666666666666714,\n",
              " -0.6666666666666714,\n",
              " -0.6666666666666714,\n",
              " -1.2608695652173907,\n",
              " -1.2608695652173907,\n",
              " -1.2608695652173907,\n",
              " -1.7101449275362341,\n",
              " -1.7101449275362341]"
            ]
          },
          "metadata": {
            "tags": []
          },
          "execution_count": 58
        }
      ]
    },
    {
      "cell_type": "code",
      "metadata": {
        "id": "dzmZBarrjOm_",
        "colab_type": "code",
        "colab": {
          "base_uri": "https://localhost:8080/",
          "height": 686
        },
        "outputId": "93ec36a7-efa8-49b1-b236-3603f483c9ca"
      },
      "source": [
        "#Code task 3#\n",
        "#Create two plots, side by side, for the predicted ticket price change (delta) for each\n",
        "#condition (number of runs closed) in the scenario and the associated predicted revenue\n",
        "#change on the assumption that each of the expected visitors buys 5 tickets\n",
        "#There are two things to do here:\n",
        "#1 - use a list comprehension to create a list of the number of runs closed from `runs_delta`\n",
        "#2 - use a list comprehension to create a list of predicted revenue changes from `price_deltas`\n",
        "runs_closed = [-1 * runs for runs in runs_delta] #1\n",
        "fig, ax = plt.subplots(1, 2, figsize=(25, 15))\n",
        "fig.subplots_adjust(wspace=0.5)\n",
        "ax[0].plot(runs_closed, price_deltas, 'o-')\n",
        "ax[0].set(xlabel='Runs closed', ylabel='Change ($)', title='Ticket price')\n",
        "revenue_deltas = [5 * expected_visitors * price for price in price_deltas] #2\n",
        "ax[1].plot(runs_closed, revenue_deltas, 'o-')\n",
        "ax[1].set(xlabel='Runs closed', ylabel='Change ($)', title='Revenue');"
      ],
      "execution_count": 59,
      "outputs": [
        {
          "output_type": "display_data",
          "data": {
            "image/png": "[encoded data removed]",
            "text/plain": [
              "<Figure size 1800x1080 with 2 Axes>"
            ]
          },
          "metadata": {
            "tags": []
          }
        }
      ]
    },
    {
      "cell_type": "markdown",
      "metadata": {
        "id": "9VTBFV0xjOnB",
        "colab_type": "text"
      },
      "source": [
        "The model says closing one run makes no difference. Closing 2 and 3 successively reduces support for ticket price and so revenue. If Big Mountain closes down 3 runs, it seems they may as well close down 4 or 5 as there's no further loss in ticket price. Increasing the closures down to 6 or more leads to a large drop. "
      ]
    },
    {
      "cell_type": "markdown",
      "metadata": {
        "id": "Mc-zDhDMjOnC",
        "colab_type": "text"
      },
      "source": [
        "### 5.9.2 Scenario 2<a id='5.9.2_Scenario_2'></a>"
      ]
    },
    {
      "cell_type": "markdown",
      "metadata": {
        "id": "HdP34O4DjOnC",
        "colab_type": "text"
      },
      "source": [
        "In this scenario, Big Mountain is adding a run, increasing the vertical drop by 150 feet, and installing an additional chair lift."
      ]
    },
    {
      "cell_type": "code",
      "metadata": {
        "id": "EGyXgFvBjOnC",
        "colab_type": "code",
        "colab": {}
      },
      "source": [
        "#Code task 4#\n",
        "#Call `predict_increase` with a list of the features 'Runs', 'vertical_drop', and 'total_chairs'\n",
        "#and associated deltas of 1, 150, and 1\n",
        "ticket2_increase = predict_increase(['Runs', 'vertical_drop', 'total_chairs'], [1, 150, 1])\n",
        "revenue2_increase = 5 * expected_visitors * ticket2_increase"
      ],
      "execution_count": 60,
      "outputs": []
    },
    {
      "cell_type": "code",
      "metadata": {
        "id": "2sImZNMIjOnF",
        "colab_type": "code",
        "colab": {
          "base_uri": "https://localhost:8080/",
          "height": 50
        },
        "outputId": "bab0fd35-970c-4af6-e03a-49ac22caa2ea"
      },
      "source": [
        "print(f'This scenario increases support for ticket price by ${ticket2_increase:.2f}')\n",
        "print(f'Over the season, this could be expected to amount to ${revenue2_increase:.0f}')"
      ],
      "execution_count": 61,
      "outputs": [
        {
          "output_type": "stream",
          "text": [
            "This scenario increases support for ticket price by $1.99\n",
            "Over the season, this could be expected to amount to $3474638\n"
          ],
          "name": "stdout"
        }
      ]
    },
    {
      "cell_type": "markdown",
      "metadata": {
        "id": "LPKO_2tLjOnH",
        "colab_type": "text"
      },
      "source": [
        "### 5.9.3 Scenario 3<a id='5.9.3_Scenario_3'></a>"
      ]
    },
    {
      "cell_type": "markdown",
      "metadata": {
        "id": "GZFgioXdjOnI",
        "colab_type": "text"
      },
      "source": [
        "In this scenario, you are repeating the previous one but adding 2 acres of snow making."
      ]
    },
    {
      "cell_type": "code",
      "metadata": {
        "id": "-dUBsraajOnI",
        "colab_type": "code",
        "colab": {}
      },
      "source": [
        "#Code task 5#\n",
        "#Repeat scenario 2 conditions, but add an increase of 2 to `Snow Making_ac`\n",
        "ticket3_increase = predict_increase(['Runs', 'vertical_drop', 'total_chairs', 'Snow Making_ac'], [1, 150, 1, 2])\n",
        "revenue3_increase = 5 * expected_visitors * ticket3_increase"
      ],
      "execution_count": 63,
      "outputs": []
    },
    {
      "cell_type": "code",
      "metadata": {
        "id": "4_FqGBHEjOnK",
        "colab_type": "code",
        "colab": {
          "base_uri": "https://localhost:8080/",
          "height": 50
        },
        "outputId": "a876b04d-057a-4ae3-b420-8459d03ea38b"
      },
      "source": [
        "print(f'This scenario increases support for ticket price by ${ticket3_increase:.2f}')\n",
        "print(f'Over the season, this could be expected to amount to ${revenue3_increase:.0f}')"
      ],
      "execution_count": 64,
      "outputs": [
        {
          "output_type": "stream",
          "text": [
            "This scenario increases support for ticket price by $1.99\n",
            "Over the season, this could be expected to amount to $3474638\n"
          ],
          "name": "stdout"
        }
      ]
    },
    {
      "cell_type": "markdown",
      "metadata": {
        "id": "-zbpuiSAjOnN",
        "colab_type": "text"
      },
      "source": [
        "Such a small increase in the snow making area makes no difference!"
      ]
    },
    {
      "cell_type": "markdown",
      "metadata": {
        "id": "aOKVeh8kjOnN",
        "colab_type": "text"
      },
      "source": [
        "### 5.9.4 Scenario 4<a id='5.9.4_Scenario_4'></a>"
      ]
    },
    {
      "cell_type": "markdown",
      "metadata": {
        "id": "uh8rjn1IjOnO",
        "colab_type": "text"
      },
      "source": [
        "This scenario calls for increasing the longest run by .2 miles and guaranteeing its snow coverage by adding 4 acres of snow making capability."
      ]
    },
    {
      "cell_type": "code",
      "metadata": {
        "id": "9cYD_JCAjOnO",
        "colab_type": "code",
        "colab": {
          "base_uri": "https://localhost:8080/",
          "height": 34
        },
        "outputId": "b7157896-470a-47a8-8e73-6e250fd3323f"
      },
      "source": [
        "#Code task 6#\n",
        "#Predict the increase from adding 0.2 miles to `LongestRun_mi` and 4 to `Snow Making_ac`\n",
        "predict_increase(['LongestRun_mi', 'Snow Making_ac'], [0.2, 4])"
      ],
      "execution_count": 65,
      "outputs": [
        {
          "output_type": "execute_result",
          "data": {
            "text/plain": [
              "0.0"
            ]
          },
          "metadata": {
            "tags": []
          },
          "execution_count": 65
        }
      ]
    },
    {
      "cell_type": "markdown",
      "metadata": {
        "id": "NpcDH4BcjOnQ",
        "colab_type": "text"
      },
      "source": [
        "No difference whatsoever. Although the longest run feature was used in the linear model, the random forest model (the one we chose because of its better performance) only has longest run way down in the feature importance list. "
      ]
    },
    {
      "cell_type": "markdown",
      "metadata": {
        "id": "k6vxYOepjOnQ",
        "colab_type": "text"
      },
      "source": [
        "## 5.10 Summary<a id='5.10_Summary'></a>"
      ]
    },
    {
      "cell_type": "markdown",
      "metadata": {
        "id": "ekkrWzAxjOnR",
        "colab_type": "text"
      },
      "source": [
        "**Q: 1** Write a summary of the results of modeling these scenarios. Start by starting the current position; how much does Big Mountain currently charge? What does your modelling suggest for a ticket price that could be supported in the marketplace by Big Mountain's facilities? How would you approach suggesting such a change to the business leadership? Discuss the additional operating cost of the new chair lift per ticket (on the basis of each visitor on average buying 5 day tickets) in the context of raising prices to cover this. For future improvements, state which, if any, of the modeled scenarios you'd recommend for further consideration. Suggest how the business might test, and progress, with any run closures."
      ]
    },
    {
      "cell_type": "markdown",
      "metadata": {
        "id": "2yzFxo94jOnR",
        "colab_type": "text"
      },
      "source": [
        "**A: 1** Your answer here"
      ]
    },
    {
      "cell_type": "markdown",
      "metadata": {
        "id": "4icJZY3OjOnS",
        "colab_type": "text"
      },
      "source": [
        "## 5.11 Further work<a id='5.11_Further_work'></a>"
      ]
    },
    {
      "cell_type": "markdown",
      "metadata": {
        "id": "Pm8EfVofjOnS",
        "colab_type": "text"
      },
      "source": [
        "**Q: 2** What next? Highlight any deficiencies in the data that hampered or limited this work. The only price data in our dataset were ticket prices. You were provided with information about the additional operating cost of the new chair lift, but what other cost information would be useful? Big Mountain was already fairly high on some of the league charts of facilities offered, but why was its modeled price so much higher than its current price? Would this mismatch come as a surprise to the business executives? How would you find out? Assuming the business leaders felt this model was useful, how would the business make use of it? Would you expect them to come to you every time they wanted to test a new combination of parameters in a scenario? We hope you would have better things to do, so how might this model be made available for business analysts to use and explore?"
      ]
    },
    {
      "cell_type": "markdown",
      "metadata": {
        "id": "edH_sC6ZjOnS",
        "colab_type": "text"
      },
      "source": [
        "**A: 2** Your answer here"
      ]
    }
  ]
}