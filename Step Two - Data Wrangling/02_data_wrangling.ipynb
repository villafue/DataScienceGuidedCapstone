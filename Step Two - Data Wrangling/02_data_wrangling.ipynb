{
  "nbformat": 4,
  "nbformat_minor": 0,
  "metadata": {
    "kernelspec": {
      "display_name": "Python 3",
      "language": "python",
      "name": "python3"
    },
    "language_info": {
      "codemirror_mode": {
        "name": "ipython",
        "version": 3
      },
      "file_extension": ".py",
      "mimetype": "text/x-python",
      "name": "python",
      "nbconvert_exporter": "python",
      "pygments_lexer": "ipython3",
      "version": "3.7.4"
    },
    "colab": {
      "name": "02_data_wrangling.ipynb",
      "provenance": [],
      "include_colab_link": true
    }
  },
  "cells": [
    {
      "cell_type": "markdown",
      "metadata": {
        "id": "view-in-github",
        "colab_type": "text"
      },
      "source": [
        "<a href=\"https://colab.research.google.com/github/villafue/DataScienceGuidedCapstone/blob/master/Step%20Two%20-%20Data%20Wrangling/02_data_wrangling.ipynb\" target=\"_parent\"><img src=\"https://colab.research.google.com/assets/colab-badge.svg\" alt=\"Open In Colab\"/></a>"
      ]
    },
    {
      "cell_type": "markdown",
      "metadata": {
        "id": "IAde3g0iAzcB",
        "colab_type": "text"
      },
      "source": [
        "# 2 Data wrangling<a id='2_Data_wrangling'></a>"
      ]
    },
    {
      "cell_type": "markdown",
      "metadata": {
        "id": "Y4JR06Q5AzcD",
        "colab_type": "text"
      },
      "source": [
        "## 2.1 Contents<a id='2.1_Contents'></a>\n",
        "* [2 Data wrangling](#2_Data_wrangling)\n",
        "  * [2.1 Contents](#2.1_Contents)\n",
        "  * [2.2 Introduction](#2.2_Introduction)\n",
        "    * [2.2.1 Recap Of Data Science Problem](#2.2.1_Recap_Of_Data_Science_Problem)\n",
        "    * [2.2.2 Introduction To Notebook](#2.2.2_Introduction_To_Notebook)\n",
        "  * [2.3 Imports](#2.3_Imports)\n",
        "  * [2.4 Objectives](#2.4_Objectives)\n",
        "  * [2.5 Load The Ski Resort Data](#2.5_Load_The_Ski_Resort_Data)\n",
        "  * [2.6 Explore The Data](#2.6_Explore_The_Data)\n",
        "    * [2.6.1 Find Your Resort Of Interest](#2.6.1_Find_Your_Resort_Of_Interest)\n",
        "    * [2.6.2 Number Of Missing Values By Column](#2.6.2_Number_Of_Missing_Values_By_Column)\n",
        "    * [2.6.3 Categorical Features](#2.6.3_Categorical_Features)\n",
        "      * [2.6.3.1 Unique Resort Names](#2.6.3.1_Unique_Resort_Names)\n",
        "      * [2.6.3.2 Region And State](#2.6.3.2_Region_And_State)\n",
        "      * [2.6.3.3 Number of distinct regions and states](#2.6.3.3_Number_of_distinct_regions_and_states)\n",
        "      * [2.6.3.4 Distribution Of Resorts By Region And State](#2.6.3.4_Distribution_Of_Resorts_By_Region_And_State)\n",
        "      * [2.6.3.5 Distribution Of Ticket Price By State](#2.6.3.5_Distribution_Of_Ticket_Price_By_State)\n",
        "        * [2.6.3.5.1 Average weekend and weekday price by state](#2.6.3.5.1_Average_weekend_and_weekday_price_by_state)\n",
        "        * [2.6.3.5.2 Distribution of weekday and weekend price by state](#2.6.3.5.2_Distribution_of_weekday_and_weekend_price_by_state)\n",
        "    * [2.6.4 Numeric Features](#2.6.4_Numeric_Features)\n",
        "      * [2.6.4.1 Numeric data summary](#2.6.4.1_Numeric_data_summary)\n",
        "      * [2.6.4.2 Distributions Of Feature Values](#2.6.4.2_Distributions_Of_Feature_Values)\n",
        "        * [2.6.4.2.1 SkiableTerrain_ac](#2.6.4.2.1_SkiableTerrain_ac)\n",
        "        * [2.6.4.2.2 Snow Making_ac](#2.6.4.2.2_Snow_Making_ac)\n",
        "        * [2.6.4.2.3 fastEight](#2.6.4.2.3_fastEight)\n",
        "        * [2.6.4.2.4 fastSixes and Trams](#2.6.4.2.4_fastSixes_and_Trams)\n",
        "  * [2.7 Derive State-wide Summary Statistics For Our Market Segment](#2.7_Derive_State-wide_Summary_Statistics_For_Our_Market_Segment)\n",
        "  * [2.8 Drop Rows With No Price Data](#2.8_Drop_Rows_With_No_Price_Data)\n",
        "  * [2.9 Review distributions](#2.9_Review_distributions)\n",
        "  * [2.10 Population data](#2.10_Population_data)\n",
        "  * [2.11 Target Feature](#2.11_Target_Feature)\n",
        "    * [2.11.1 Number Of Missing Values By Row - Resort](#2.11.1_Number_Of_Missing_Values_By_Row_-_Resort)\n",
        "  * [2.12 Save data](#2.12_Save_data)\n",
        "  * [2.13 Summary](#2.13_Summary)\n"
      ]
    },
    {
      "cell_type": "markdown",
      "metadata": {
        "id": "oVcwE9FaAzcE",
        "colab_type": "text"
      },
      "source": [
        "## 2.2 Introduction<a id='2.2_Introduction'></a>"
      ]
    },
    {
      "cell_type": "markdown",
      "metadata": {
        "id": "E-Rqf8UmAzcF",
        "colab_type": "text"
      },
      "source": [
        "This step focuses on collecting your data, organizing it, and making sure it's well defined. Paying attention to these tasks will pay off greatly later on. Some data cleaning can be done at this stage, but it's important not to be overzealous in your cleaning before you've explored the data to better understand it."
      ]
    },
    {
      "cell_type": "markdown",
      "metadata": {
        "id": "UaaZzc1xAzcG",
        "colab_type": "text"
      },
      "source": [
        "### 2.2.1 Recap Of Data Science Problem<a id='2.2.1_Recap_Of_Data_Science_Problem'></a>"
      ]
    },
    {
      "cell_type": "markdown",
      "metadata": {
        "id": "9EyBCetkAzcH",
        "colab_type": "text"
      },
      "source": [
        "The purpose of this data science project is to come up with a pricing model for ski resort tickets in our market segment. Big Mountain suspects it may not be maximizing its returns, relative to its position in the market. It also does not have a strong sense of what facilities matter most to visitors, particularly which ones they're most likely to pay more for. This project aims to build a predictive model for ticket price based on a number of facilities, or properties, boasted by resorts (*at the resorts).* \n",
        "This model will be used to provide guidance for Big Mountain's pricing and future facility investment plans."
      ]
    },
    {
      "cell_type": "markdown",
      "metadata": {
        "id": "zWnPcbvMAzcI",
        "colab_type": "text"
      },
      "source": [
        "### 2.2.2 Introduction To Notebook<a id='2.2.2_Introduction_To_Notebook'></a>"
      ]
    },
    {
      "cell_type": "markdown",
      "metadata": {
        "id": "vgTMLrR7AzcK",
        "colab_type": "text"
      },
      "source": [
        "Notebooks grow organically as we explore our data. If you used paper notebooks, you could discover a mistake and cross out or revise some earlier work. Later work may give you a reason to revisit earlier work and explore it further. The great thing about Jupyter notebooks is that you can edit, add, and move cells around without needing to cross out figures or scrawl in the margin. However, this means you can lose track of your changes easily. If you worked in a regulated environment, the company may have a a policy of always dating entries and clearly crossing out any mistakes, with your initials and the date.\n",
        "\n",
        "**Best practice here is to commit your changes using a version control system such as Git.** Try to get into the habit of adding and committing your files to the Git repository you're working in after you save them. You're are working in a Git repository, right? If you make a significant change, save the notebook and commit it to Git. In fact, if you're about to make a significant change, it's a good idea to commit before as well. Then if the change is a mess, you've got the previous version to go back to.\n",
        "\n",
        "**Another best practice with notebooks is to try to keep them organized with helpful headings and comments.** Not only can a good structure, but associated headings help you keep track of what you've done and your current focus. Anyone reading your notebook will have a much easier time following the flow of work. Remember, that 'anyone' will most likely be you. Be kind to future you!\n",
        "\n",
        "In this notebook, note how we try to use well structured, helpful headings that frequently are self-explanatory, and we make a brief note after any results to highlight key takeaways. This is an immense help to anyone reading your notebook and it will greatly help you when you come to summarise your findings. **Top tip: jot down key findings in a final summary at the end of the notebook as they arise. You can tidy this up later.** This is a great way to ensure important results don't get lost in the middle of your notebooks."
      ]
    },
    {
      "cell_type": "markdown",
      "metadata": {
        "id": "ghgM8kI7AzcL",
        "colab_type": "text"
      },
      "source": [
        "In this, and subsequent notebooks, there are coding tasks marked with `#Code task n#` with code to complete. The `___` will guide you to where you need to insert code."
      ]
    },
    {
      "cell_type": "markdown",
      "metadata": {
        "id": "hzrP8LjxAzcM",
        "colab_type": "text"
      },
      "source": [
        "## 2.3 Imports<a id='2.3_Imports'></a>"
      ]
    },
    {
      "cell_type": "markdown",
      "metadata": {
        "id": "9xhaCDEGAzcN",
        "colab_type": "text"
      },
      "source": [
        "Placing your imports all together at the start of your notebook means you only need to consult one place to check your notebook's dependencies. By all means import something 'in situ' later on when you're experimenting, but if the imported dependency ends up being kept, you should subsequently move the import statement here with the rest."
      ]
    },
    {
      "cell_type": "code",
      "metadata": {
        "id": "7vN4SN02AzcO",
        "colab_type": "code",
        "colab": {
          "base_uri": "https://localhost:8080/",
          "height": 0
        },
        "outputId": "b0a28772-50e5-4a9a-8b48-6350fb94fb1f"
      },
      "source": [
        "#Code task 1#\n",
        "#Import pandas, matplotlib.pyplot, and seaborn in the correct lines below\n",
        "import pandas as pd\n",
        "import matplotlib.pyplot as plt\n",
        "import seaborn as sns\n",
        "import os"
      ],
      "execution_count": 1,
      "outputs": [
        {
          "output_type": "stream",
          "text": [
            "/usr/local/lib/python3.6/dist-packages/statsmodels/tools/_testing.py:19: FutureWarning: pandas.util.testing is deprecated. Use the functions in the public API at pandas.testing instead.\n",
            "  import pandas.util.testing as tm\n"
          ],
          "name": "stderr"
        }
      ]
    },
    {
      "cell_type": "markdown",
      "metadata": {
        "id": "NkREUHhJAzcT",
        "colab_type": "text"
      },
      "source": [
        "## 2.4 Objectives<a id='2.4_Objectives'></a>"
      ]
    },
    {
      "cell_type": "markdown",
      "metadata": {
        "id": "kwx1OyPTAzcU",
        "colab_type": "text"
      },
      "source": [
        "There are some fundamental questions to resolve in this notebook before you move on.\n",
        "\n",
        "* Do you think you may have the data you need to tackle the desired question?\n",
        "    * Have you identified the required target value?\n",
        "    * Do you have potentially useful features?\n",
        "* Do you have any fundamental issues with the data?"
      ]
    },
    {
      "cell_type": "markdown",
      "metadata": {
        "id": "DmLY8Kh6AzcV",
        "colab_type": "text"
      },
      "source": [
        "## 2.5 Load The Ski Resort Data<a id='2.5_Load_The_Ski_Resort_Data'></a>"
      ]
    },
    {
      "cell_type": "code",
      "metadata": {
        "id": "H2HEcWVKAzcV",
        "colab_type": "code",
        "colab": {
          "base_uri": "https://localhost:8080/",
          "height": 0
        },
        "outputId": "ff3ff1d7-b5e3-498f-d461-2775facc06dc"
      },
      "source": [
        "# the supplied CSV data file is the raw_data directory\n",
        "url = 'https://raw.githubusercontent.com/villafue/DataScienceGuidedCapstone/master/raw_data/ski_resort_data.csv'\n",
        "ski_data = pd.read_csv(url)\n",
        "ski_data.head()"
      ],
      "execution_count": 2,
      "outputs": [
        {
          "output_type": "execute_result",
          "data": {
            "text/html": [
              "<div>\n",
              "<style scoped>\n",
              "    .dataframe tbody tr th:only-of-type {\n",
              "        vertical-align: middle;\n",
              "    }\n",
              "\n",
              "    .dataframe tbody tr th {\n",
              "        vertical-align: top;\n",
              "    }\n",
              "\n",
              "    .dataframe thead th {\n",
              "        text-align: right;\n",
              "    }\n",
              "</style>\n",
              "<table border=\"1\" class=\"dataframe\">\n",
              "  <thead>\n",
              "    <tr style=\"text-align: right;\">\n",
              "      <th></th>\n",
              "      <th>Name</th>\n",
              "      <th>Region</th>\n",
              "      <th>state</th>\n",
              "      <th>summit_elev</th>\n",
              "      <th>vertical_drop</th>\n",
              "      <th>base_elev</th>\n",
              "      <th>trams</th>\n",
              "      <th>fastEight</th>\n",
              "      <th>fastSixes</th>\n",
              "      <th>fastQuads</th>\n",
              "      <th>quad</th>\n",
              "      <th>triple</th>\n",
              "      <th>double</th>\n",
              "      <th>surface</th>\n",
              "      <th>total_chairs</th>\n",
              "      <th>Runs</th>\n",
              "      <th>TerrainParks</th>\n",
              "      <th>LongestRun_mi</th>\n",
              "      <th>SkiableTerrain_ac</th>\n",
              "      <th>Snow Making_ac</th>\n",
              "      <th>daysOpenLastYear</th>\n",
              "      <th>yearsOpen</th>\n",
              "      <th>averageSnowfall</th>\n",
              "      <th>AdultWeekday</th>\n",
              "      <th>AdultWeekend</th>\n",
              "      <th>projectedDaysOpen</th>\n",
              "      <th>NightSkiing_ac</th>\n",
              "    </tr>\n",
              "  </thead>\n",
              "  <tbody>\n",
              "    <tr>\n",
              "      <th>0</th>\n",
              "      <td>Alyeska Resort</td>\n",
              "      <td>Alaska</td>\n",
              "      <td>Alaska</td>\n",
              "      <td>3939</td>\n",
              "      <td>2500</td>\n",
              "      <td>250</td>\n",
              "      <td>1</td>\n",
              "      <td>0.0</td>\n",
              "      <td>0</td>\n",
              "      <td>2</td>\n",
              "      <td>2</td>\n",
              "      <td>0</td>\n",
              "      <td>0</td>\n",
              "      <td>2</td>\n",
              "      <td>7</td>\n",
              "      <td>76.0</td>\n",
              "      <td>2.0</td>\n",
              "      <td>1.0</td>\n",
              "      <td>1610.0</td>\n",
              "      <td>113.0</td>\n",
              "      <td>150.0</td>\n",
              "      <td>60.0</td>\n",
              "      <td>669.0</td>\n",
              "      <td>65.0</td>\n",
              "      <td>85.0</td>\n",
              "      <td>150.0</td>\n",
              "      <td>550.0</td>\n",
              "    </tr>\n",
              "    <tr>\n",
              "      <th>1</th>\n",
              "      <td>Eaglecrest Ski Area</td>\n",
              "      <td>Alaska</td>\n",
              "      <td>Alaska</td>\n",
              "      <td>2600</td>\n",
              "      <td>1540</td>\n",
              "      <td>1200</td>\n",
              "      <td>0</td>\n",
              "      <td>0.0</td>\n",
              "      <td>0</td>\n",
              "      <td>0</td>\n",
              "      <td>0</td>\n",
              "      <td>0</td>\n",
              "      <td>4</td>\n",
              "      <td>0</td>\n",
              "      <td>4</td>\n",
              "      <td>36.0</td>\n",
              "      <td>1.0</td>\n",
              "      <td>2.0</td>\n",
              "      <td>640.0</td>\n",
              "      <td>60.0</td>\n",
              "      <td>45.0</td>\n",
              "      <td>44.0</td>\n",
              "      <td>350.0</td>\n",
              "      <td>47.0</td>\n",
              "      <td>53.0</td>\n",
              "      <td>90.0</td>\n",
              "      <td>NaN</td>\n",
              "    </tr>\n",
              "    <tr>\n",
              "      <th>2</th>\n",
              "      <td>Hilltop Ski Area</td>\n",
              "      <td>Alaska</td>\n",
              "      <td>Alaska</td>\n",
              "      <td>2090</td>\n",
              "      <td>294</td>\n",
              "      <td>1796</td>\n",
              "      <td>0</td>\n",
              "      <td>0.0</td>\n",
              "      <td>0</td>\n",
              "      <td>0</td>\n",
              "      <td>0</td>\n",
              "      <td>1</td>\n",
              "      <td>0</td>\n",
              "      <td>2</td>\n",
              "      <td>3</td>\n",
              "      <td>13.0</td>\n",
              "      <td>1.0</td>\n",
              "      <td>1.0</td>\n",
              "      <td>30.0</td>\n",
              "      <td>30.0</td>\n",
              "      <td>150.0</td>\n",
              "      <td>36.0</td>\n",
              "      <td>69.0</td>\n",
              "      <td>30.0</td>\n",
              "      <td>34.0</td>\n",
              "      <td>152.0</td>\n",
              "      <td>30.0</td>\n",
              "    </tr>\n",
              "    <tr>\n",
              "      <th>3</th>\n",
              "      <td>Arizona Snowbowl</td>\n",
              "      <td>Arizona</td>\n",
              "      <td>Arizona</td>\n",
              "      <td>11500</td>\n",
              "      <td>2300</td>\n",
              "      <td>9200</td>\n",
              "      <td>0</td>\n",
              "      <td>0.0</td>\n",
              "      <td>1</td>\n",
              "      <td>0</td>\n",
              "      <td>2</td>\n",
              "      <td>2</td>\n",
              "      <td>1</td>\n",
              "      <td>2</td>\n",
              "      <td>8</td>\n",
              "      <td>55.0</td>\n",
              "      <td>4.0</td>\n",
              "      <td>2.0</td>\n",
              "      <td>777.0</td>\n",
              "      <td>104.0</td>\n",
              "      <td>122.0</td>\n",
              "      <td>81.0</td>\n",
              "      <td>260.0</td>\n",
              "      <td>89.0</td>\n",
              "      <td>89.0</td>\n",
              "      <td>122.0</td>\n",
              "      <td>NaN</td>\n",
              "    </tr>\n",
              "    <tr>\n",
              "      <th>4</th>\n",
              "      <td>Sunrise Park Resort</td>\n",
              "      <td>Arizona</td>\n",
              "      <td>Arizona</td>\n",
              "      <td>11100</td>\n",
              "      <td>1800</td>\n",
              "      <td>9200</td>\n",
              "      <td>0</td>\n",
              "      <td>NaN</td>\n",
              "      <td>0</td>\n",
              "      <td>1</td>\n",
              "      <td>2</td>\n",
              "      <td>3</td>\n",
              "      <td>1</td>\n",
              "      <td>0</td>\n",
              "      <td>7</td>\n",
              "      <td>65.0</td>\n",
              "      <td>2.0</td>\n",
              "      <td>1.2</td>\n",
              "      <td>800.0</td>\n",
              "      <td>80.0</td>\n",
              "      <td>115.0</td>\n",
              "      <td>49.0</td>\n",
              "      <td>250.0</td>\n",
              "      <td>74.0</td>\n",
              "      <td>78.0</td>\n",
              "      <td>104.0</td>\n",
              "      <td>80.0</td>\n",
              "    </tr>\n",
              "  </tbody>\n",
              "</table>\n",
              "</div>"
            ],
            "text/plain": [
              "                  Name   Region  ... projectedDaysOpen  NightSkiing_ac\n",
              "0       Alyeska Resort   Alaska  ...             150.0           550.0\n",
              "1  Eaglecrest Ski Area   Alaska  ...              90.0             NaN\n",
              "2     Hilltop Ski Area   Alaska  ...             152.0            30.0\n",
              "3     Arizona Snowbowl  Arizona  ...             122.0             NaN\n",
              "4  Sunrise Park Resort  Arizona  ...             104.0            80.0\n",
              "\n",
              "[5 rows x 27 columns]"
            ]
          },
          "metadata": {
            "tags": []
          },
          "execution_count": 2
        }
      ]
    },
    {
      "cell_type": "markdown",
      "metadata": {
        "id": "Pz3dxS6BAzcY",
        "colab_type": "text"
      },
      "source": [
        "Good first steps in auditing the data are the info method and displaying the first few records with head."
      ]
    },
    {
      "cell_type": "code",
      "metadata": {
        "id": "00217cW1AzcY",
        "colab_type": "code",
        "colab": {
          "base_uri": "https://localhost:8080/",
          "height": 0
        },
        "outputId": "7a212f1f-342e-4314-b2f2-aebe225463ea"
      },
      "source": [
        "#Code task 2#\n",
        "#Call the info method (or function?) on ski_data to see a summary of the data\n",
        "ski_data.info()"
      ],
      "execution_count": 3,
      "outputs": [
        {
          "output_type": "stream",
          "text": [
            "<class 'pandas.core.frame.DataFrame'>\n",
            "RangeIndex: 330 entries, 0 to 329\n",
            "Data columns (total 27 columns):\n",
            " #   Column             Non-Null Count  Dtype  \n",
            "---  ------             --------------  -----  \n",
            " 0   Name               330 non-null    object \n",
            " 1   Region             330 non-null    object \n",
            " 2   state              330 non-null    object \n",
            " 3   summit_elev        330 non-null    int64  \n",
            " 4   vertical_drop      330 non-null    int64  \n",
            " 5   base_elev          330 non-null    int64  \n",
            " 6   trams              330 non-null    int64  \n",
            " 7   fastEight          164 non-null    float64\n",
            " 8   fastSixes          330 non-null    int64  \n",
            " 9   fastQuads          330 non-null    int64  \n",
            " 10  quad               330 non-null    int64  \n",
            " 11  triple             330 non-null    int64  \n",
            " 12  double             330 non-null    int64  \n",
            " 13  surface            330 non-null    int64  \n",
            " 14  total_chairs       330 non-null    int64  \n",
            " 15  Runs               326 non-null    float64\n",
            " 16  TerrainParks       279 non-null    float64\n",
            " 17  LongestRun_mi      325 non-null    float64\n",
            " 18  SkiableTerrain_ac  327 non-null    float64\n",
            " 19  Snow Making_ac     284 non-null    float64\n",
            " 20  daysOpenLastYear   279 non-null    float64\n",
            " 21  yearsOpen          329 non-null    float64\n",
            " 22  averageSnowfall    316 non-null    float64\n",
            " 23  AdultWeekday       276 non-null    float64\n",
            " 24  AdultWeekend       279 non-null    float64\n",
            " 25  projectedDaysOpen  283 non-null    float64\n",
            " 26  NightSkiing_ac     187 non-null    float64\n",
            "dtypes: float64(13), int64(11), object(3)\n",
            "memory usage: 69.7+ KB\n"
          ],
          "name": "stdout"
        }
      ]
    },
    {
      "cell_type": "markdown",
      "metadata": {
        "id": "gsqHaW14Azcc",
        "colab_type": "text"
      },
      "source": [
        "`AdultWeekday` is the price of an adult weekday ticket. `AdultWeekend` is the price of an adult weekend ticket. The other columns are potential features."
      ]
    },
    {
      "cell_type": "markdown",
      "metadata": {
        "id": "oISa3unHAzcc",
        "colab_type": "text"
      },
      "source": [
        "This immediately raises the question of what quantity will you want to model? You know you want to model the ticket price, but you realise there are two kinds of ticket price!"
      ]
    },
    {
      "cell_type": "code",
      "metadata": {
        "scrolled": true,
        "id": "aAGLbjmSAzcd",
        "colab_type": "code",
        "colab": {
          "base_uri": "https://localhost:8080/",
          "height": 0
        },
        "outputId": "a3fb54d3-29ee-417f-c5a9-a8e085c6dd55"
      },
      "source": [
        "#Code task 3#\n",
        "#Call the head method on ski_data to print the first several rows of the data\n",
        "ski_data.head()"
      ],
      "execution_count": 4,
      "outputs": [
        {
          "output_type": "execute_result",
          "data": {
            "text/html": [
              "<div>\n",
              "<style scoped>\n",
              "    .dataframe tbody tr th:only-of-type {\n",
              "        vertical-align: middle;\n",
              "    }\n",
              "\n",
              "    .dataframe tbody tr th {\n",
              "        vertical-align: top;\n",
              "    }\n",
              "\n",
              "    .dataframe thead th {\n",
              "        text-align: right;\n",
              "    }\n",
              "</style>\n",
              "<table border=\"1\" class=\"dataframe\">\n",
              "  <thead>\n",
              "    <tr style=\"text-align: right;\">\n",
              "      <th></th>\n",
              "      <th>Name</th>\n",
              "      <th>Region</th>\n",
              "      <th>state</th>\n",
              "      <th>summit_elev</th>\n",
              "      <th>vertical_drop</th>\n",
              "      <th>base_elev</th>\n",
              "      <th>trams</th>\n",
              "      <th>fastEight</th>\n",
              "      <th>fastSixes</th>\n",
              "      <th>fastQuads</th>\n",
              "      <th>quad</th>\n",
              "      <th>triple</th>\n",
              "      <th>double</th>\n",
              "      <th>surface</th>\n",
              "      <th>total_chairs</th>\n",
              "      <th>Runs</th>\n",
              "      <th>TerrainParks</th>\n",
              "      <th>LongestRun_mi</th>\n",
              "      <th>SkiableTerrain_ac</th>\n",
              "      <th>Snow Making_ac</th>\n",
              "      <th>daysOpenLastYear</th>\n",
              "      <th>yearsOpen</th>\n",
              "      <th>averageSnowfall</th>\n",
              "      <th>AdultWeekday</th>\n",
              "      <th>AdultWeekend</th>\n",
              "      <th>projectedDaysOpen</th>\n",
              "      <th>NightSkiing_ac</th>\n",
              "    </tr>\n",
              "  </thead>\n",
              "  <tbody>\n",
              "    <tr>\n",
              "      <th>0</th>\n",
              "      <td>Alyeska Resort</td>\n",
              "      <td>Alaska</td>\n",
              "      <td>Alaska</td>\n",
              "      <td>3939</td>\n",
              "      <td>2500</td>\n",
              "      <td>250</td>\n",
              "      <td>1</td>\n",
              "      <td>0.0</td>\n",
              "      <td>0</td>\n",
              "      <td>2</td>\n",
              "      <td>2</td>\n",
              "      <td>0</td>\n",
              "      <td>0</td>\n",
              "      <td>2</td>\n",
              "      <td>7</td>\n",
              "      <td>76.0</td>\n",
              "      <td>2.0</td>\n",
              "      <td>1.0</td>\n",
              "      <td>1610.0</td>\n",
              "      <td>113.0</td>\n",
              "      <td>150.0</td>\n",
              "      <td>60.0</td>\n",
              "      <td>669.0</td>\n",
              "      <td>65.0</td>\n",
              "      <td>85.0</td>\n",
              "      <td>150.0</td>\n",
              "      <td>550.0</td>\n",
              "    </tr>\n",
              "    <tr>\n",
              "      <th>1</th>\n",
              "      <td>Eaglecrest Ski Area</td>\n",
              "      <td>Alaska</td>\n",
              "      <td>Alaska</td>\n",
              "      <td>2600</td>\n",
              "      <td>1540</td>\n",
              "      <td>1200</td>\n",
              "      <td>0</td>\n",
              "      <td>0.0</td>\n",
              "      <td>0</td>\n",
              "      <td>0</td>\n",
              "      <td>0</td>\n",
              "      <td>0</td>\n",
              "      <td>4</td>\n",
              "      <td>0</td>\n",
              "      <td>4</td>\n",
              "      <td>36.0</td>\n",
              "      <td>1.0</td>\n",
              "      <td>2.0</td>\n",
              "      <td>640.0</td>\n",
              "      <td>60.0</td>\n",
              "      <td>45.0</td>\n",
              "      <td>44.0</td>\n",
              "      <td>350.0</td>\n",
              "      <td>47.0</td>\n",
              "      <td>53.0</td>\n",
              "      <td>90.0</td>\n",
              "      <td>NaN</td>\n",
              "    </tr>\n",
              "    <tr>\n",
              "      <th>2</th>\n",
              "      <td>Hilltop Ski Area</td>\n",
              "      <td>Alaska</td>\n",
              "      <td>Alaska</td>\n",
              "      <td>2090</td>\n",
              "      <td>294</td>\n",
              "      <td>1796</td>\n",
              "      <td>0</td>\n",
              "      <td>0.0</td>\n",
              "      <td>0</td>\n",
              "      <td>0</td>\n",
              "      <td>0</td>\n",
              "      <td>1</td>\n",
              "      <td>0</td>\n",
              "      <td>2</td>\n",
              "      <td>3</td>\n",
              "      <td>13.0</td>\n",
              "      <td>1.0</td>\n",
              "      <td>1.0</td>\n",
              "      <td>30.0</td>\n",
              "      <td>30.0</td>\n",
              "      <td>150.0</td>\n",
              "      <td>36.0</td>\n",
              "      <td>69.0</td>\n",
              "      <td>30.0</td>\n",
              "      <td>34.0</td>\n",
              "      <td>152.0</td>\n",
              "      <td>30.0</td>\n",
              "    </tr>\n",
              "    <tr>\n",
              "      <th>3</th>\n",
              "      <td>Arizona Snowbowl</td>\n",
              "      <td>Arizona</td>\n",
              "      <td>Arizona</td>\n",
              "      <td>11500</td>\n",
              "      <td>2300</td>\n",
              "      <td>9200</td>\n",
              "      <td>0</td>\n",
              "      <td>0.0</td>\n",
              "      <td>1</td>\n",
              "      <td>0</td>\n",
              "      <td>2</td>\n",
              "      <td>2</td>\n",
              "      <td>1</td>\n",
              "      <td>2</td>\n",
              "      <td>8</td>\n",
              "      <td>55.0</td>\n",
              "      <td>4.0</td>\n",
              "      <td>2.0</td>\n",
              "      <td>777.0</td>\n",
              "      <td>104.0</td>\n",
              "      <td>122.0</td>\n",
              "      <td>81.0</td>\n",
              "      <td>260.0</td>\n",
              "      <td>89.0</td>\n",
              "      <td>89.0</td>\n",
              "      <td>122.0</td>\n",
              "      <td>NaN</td>\n",
              "    </tr>\n",
              "    <tr>\n",
              "      <th>4</th>\n",
              "      <td>Sunrise Park Resort</td>\n",
              "      <td>Arizona</td>\n",
              "      <td>Arizona</td>\n",
              "      <td>11100</td>\n",
              "      <td>1800</td>\n",
              "      <td>9200</td>\n",
              "      <td>0</td>\n",
              "      <td>NaN</td>\n",
              "      <td>0</td>\n",
              "      <td>1</td>\n",
              "      <td>2</td>\n",
              "      <td>3</td>\n",
              "      <td>1</td>\n",
              "      <td>0</td>\n",
              "      <td>7</td>\n",
              "      <td>65.0</td>\n",
              "      <td>2.0</td>\n",
              "      <td>1.2</td>\n",
              "      <td>800.0</td>\n",
              "      <td>80.0</td>\n",
              "      <td>115.0</td>\n",
              "      <td>49.0</td>\n",
              "      <td>250.0</td>\n",
              "      <td>74.0</td>\n",
              "      <td>78.0</td>\n",
              "      <td>104.0</td>\n",
              "      <td>80.0</td>\n",
              "    </tr>\n",
              "  </tbody>\n",
              "</table>\n",
              "</div>"
            ],
            "text/plain": [
              "                  Name   Region  ... projectedDaysOpen  NightSkiing_ac\n",
              "0       Alyeska Resort   Alaska  ...             150.0           550.0\n",
              "1  Eaglecrest Ski Area   Alaska  ...              90.0             NaN\n",
              "2     Hilltop Ski Area   Alaska  ...             152.0            30.0\n",
              "3     Arizona Snowbowl  Arizona  ...             122.0             NaN\n",
              "4  Sunrise Park Resort  Arizona  ...             104.0            80.0\n",
              "\n",
              "[5 rows x 27 columns]"
            ]
          },
          "metadata": {
            "tags": []
          },
          "execution_count": 4
        }
      ]
    },
    {
      "cell_type": "markdown",
      "metadata": {
        "id": "uia4pQzIAzcg",
        "colab_type": "text"
      },
      "source": [
        "The output above suggests you've made a good start getting the ski resort data organized. You have plausible column headings. You can already see you have a missing value in the `fastEight` column"
      ]
    },
    {
      "cell_type": "markdown",
      "metadata": {
        "id": "jtDBdBVYAzcg",
        "colab_type": "text"
      },
      "source": [
        "## 2.6 Explore The Data<a id='2.6_Explore_The_Data'></a>"
      ]
    },
    {
      "cell_type": "markdown",
      "metadata": {
        "id": "HzxxvhTBAzch",
        "colab_type": "text"
      },
      "source": [
        "### 2.6.1 Find Your Resort Of Interest<a id='2.6.1_Find_Your_Resort_Of_Interest'></a>"
      ]
    },
    {
      "cell_type": "markdown",
      "metadata": {
        "id": "2qMH-6WlAzci",
        "colab_type": "text"
      },
      "source": [
        "Your resort of interest is called Big Mountain Resort. Check it's in the data:"
      ]
    },
    {
      "cell_type": "code",
      "metadata": {
        "id": "kI6vBk9AAzci",
        "colab_type": "code",
        "colab": {
          "base_uri": "https://localhost:8080/",
          "height": 0
        },
        "outputId": "fd4c26df-ff5a-4f08-d93f-a47de2bdb584"
      },
      "source": [
        "#Code task 4#\n",
        "#Filter the ski_data dataframe to display just the row for our resort with the name 'Big Mountain Resort'\n",
        "#Hint: you will find that the transpose of the row will give a nicer output. DataFrame's do have a\n",
        "#transpose method, but you can access this conveniently with the `T` property.\n",
        "ski_data[ski_data.Name == 'Big Mountain Resort'].T"
      ],
      "execution_count": 5,
      "outputs": [
        {
          "output_type": "execute_result",
          "data": {
            "text/html": [
              "<div>\n",
              "<style scoped>\n",
              "    .dataframe tbody tr th:only-of-type {\n",
              "        vertical-align: middle;\n",
              "    }\n",
              "\n",
              "    .dataframe tbody tr th {\n",
              "        vertical-align: top;\n",
              "    }\n",
              "\n",
              "    .dataframe thead th {\n",
              "        text-align: right;\n",
              "    }\n",
              "</style>\n",
              "<table border=\"1\" class=\"dataframe\">\n",
              "  <thead>\n",
              "    <tr style=\"text-align: right;\">\n",
              "      <th></th>\n",
              "      <th>151</th>\n",
              "    </tr>\n",
              "  </thead>\n",
              "  <tbody>\n",
              "    <tr>\n",
              "      <th>Name</th>\n",
              "      <td>Big Mountain Resort</td>\n",
              "    </tr>\n",
              "    <tr>\n",
              "      <th>Region</th>\n",
              "      <td>Montana</td>\n",
              "    </tr>\n",
              "    <tr>\n",
              "      <th>state</th>\n",
              "      <td>Montana</td>\n",
              "    </tr>\n",
              "    <tr>\n",
              "      <th>summit_elev</th>\n",
              "      <td>6817</td>\n",
              "    </tr>\n",
              "    <tr>\n",
              "      <th>vertical_drop</th>\n",
              "      <td>2353</td>\n",
              "    </tr>\n",
              "    <tr>\n",
              "      <th>base_elev</th>\n",
              "      <td>4464</td>\n",
              "    </tr>\n",
              "    <tr>\n",
              "      <th>trams</th>\n",
              "      <td>0</td>\n",
              "    </tr>\n",
              "    <tr>\n",
              "      <th>fastEight</th>\n",
              "      <td>0</td>\n",
              "    </tr>\n",
              "    <tr>\n",
              "      <th>fastSixes</th>\n",
              "      <td>0</td>\n",
              "    </tr>\n",
              "    <tr>\n",
              "      <th>fastQuads</th>\n",
              "      <td>3</td>\n",
              "    </tr>\n",
              "    <tr>\n",
              "      <th>quad</th>\n",
              "      <td>2</td>\n",
              "    </tr>\n",
              "    <tr>\n",
              "      <th>triple</th>\n",
              "      <td>6</td>\n",
              "    </tr>\n",
              "    <tr>\n",
              "      <th>double</th>\n",
              "      <td>0</td>\n",
              "    </tr>\n",
              "    <tr>\n",
              "      <th>surface</th>\n",
              "      <td>3</td>\n",
              "    </tr>\n",
              "    <tr>\n",
              "      <th>total_chairs</th>\n",
              "      <td>14</td>\n",
              "    </tr>\n",
              "    <tr>\n",
              "      <th>Runs</th>\n",
              "      <td>105</td>\n",
              "    </tr>\n",
              "    <tr>\n",
              "      <th>TerrainParks</th>\n",
              "      <td>4</td>\n",
              "    </tr>\n",
              "    <tr>\n",
              "      <th>LongestRun_mi</th>\n",
              "      <td>3.3</td>\n",
              "    </tr>\n",
              "    <tr>\n",
              "      <th>SkiableTerrain_ac</th>\n",
              "      <td>3000</td>\n",
              "    </tr>\n",
              "    <tr>\n",
              "      <th>Snow Making_ac</th>\n",
              "      <td>600</td>\n",
              "    </tr>\n",
              "    <tr>\n",
              "      <th>daysOpenLastYear</th>\n",
              "      <td>123</td>\n",
              "    </tr>\n",
              "    <tr>\n",
              "      <th>yearsOpen</th>\n",
              "      <td>72</td>\n",
              "    </tr>\n",
              "    <tr>\n",
              "      <th>averageSnowfall</th>\n",
              "      <td>333</td>\n",
              "    </tr>\n",
              "    <tr>\n",
              "      <th>AdultWeekday</th>\n",
              "      <td>81</td>\n",
              "    </tr>\n",
              "    <tr>\n",
              "      <th>AdultWeekend</th>\n",
              "      <td>81</td>\n",
              "    </tr>\n",
              "    <tr>\n",
              "      <th>projectedDaysOpen</th>\n",
              "      <td>123</td>\n",
              "    </tr>\n",
              "    <tr>\n",
              "      <th>NightSkiing_ac</th>\n",
              "      <td>600</td>\n",
              "    </tr>\n",
              "  </tbody>\n",
              "</table>\n",
              "</div>"
            ],
            "text/plain": [
              "                                   151\n",
              "Name               Big Mountain Resort\n",
              "Region                         Montana\n",
              "state                          Montana\n",
              "summit_elev                       6817\n",
              "vertical_drop                     2353\n",
              "base_elev                         4464\n",
              "trams                                0\n",
              "fastEight                            0\n",
              "fastSixes                            0\n",
              "fastQuads                            3\n",
              "quad                                 2\n",
              "triple                               6\n",
              "double                               0\n",
              "surface                              3\n",
              "total_chairs                        14\n",
              "Runs                               105\n",
              "TerrainParks                         4\n",
              "LongestRun_mi                      3.3\n",
              "SkiableTerrain_ac                 3000\n",
              "Snow Making_ac                     600\n",
              "daysOpenLastYear                   123\n",
              "yearsOpen                           72\n",
              "averageSnowfall                    333\n",
              "AdultWeekday                        81\n",
              "AdultWeekend                        81\n",
              "projectedDaysOpen                  123\n",
              "NightSkiing_ac                     600"
            ]
          },
          "metadata": {
            "tags": []
          },
          "execution_count": 5
        }
      ]
    },
    {
      "cell_type": "markdown",
      "metadata": {
        "id": "XYkk28-RAzck",
        "colab_type": "text"
      },
      "source": [
        "It's good that your resort doesn't appear to have any missing values."
      ]
    },
    {
      "cell_type": "markdown",
      "metadata": {
        "id": "z5MzRXinAzcl",
        "colab_type": "text"
      },
      "source": [
        "### 2.6.2 Number Of Missing Values By Column<a id='2.6.2_Number_Of_Missing_Values_By_Column'></a>"
      ]
    },
    {
      "cell_type": "markdown",
      "metadata": {
        "id": "KbE9ezYhAzcm",
        "colab_type": "text"
      },
      "source": [
        "Count the number of missing values in each column and sort them."
      ]
    },
    {
      "cell_type": "code",
      "metadata": {
        "id": "WCNuoCcAAzcm",
        "colab_type": "code",
        "colab": {
          "base_uri": "https://localhost:8080/",
          "height": 0
        },
        "outputId": "a136fcfd-c683-497e-b788-b1cf8015a65c"
      },
      "source": [
        "#Code task 5#\n",
        "#Count (using `.sum()`) the number of missing values (`.isnull()`) in each column of \n",
        "#ski_data as well as the percentages (using `.mean()` instead of `.sum()`).\n",
        "#Order them (increasing or decreasing) using sort_values\n",
        "#Call `pd.concat` to present these in a single table (DataFrame) with the helpful column names 'count' and '%'\n",
        "missing = pd.concat([ski_data.isnull().sum(), 100 * ski_data.isnull().mean()], axis=1)\n",
        "missing.columns=['count', '%']\n",
        "missing.sort_values(by='count')"
      ],
      "execution_count": 6,
      "outputs": [
        {
          "output_type": "execute_result",
          "data": {
            "text/html": [
              "<div>\n",
              "<style scoped>\n",
              "    .dataframe tbody tr th:only-of-type {\n",
              "        vertical-align: middle;\n",
              "    }\n",
              "\n",
              "    .dataframe tbody tr th {\n",
              "        vertical-align: top;\n",
              "    }\n",
              "\n",
              "    .dataframe thead th {\n",
              "        text-align: right;\n",
              "    }\n",
              "</style>\n",
              "<table border=\"1\" class=\"dataframe\">\n",
              "  <thead>\n",
              "    <tr style=\"text-align: right;\">\n",
              "      <th></th>\n",
              "      <th>count</th>\n",
              "      <th>%</th>\n",
              "    </tr>\n",
              "  </thead>\n",
              "  <tbody>\n",
              "    <tr>\n",
              "      <th>Name</th>\n",
              "      <td>0</td>\n",
              "      <td>0.000000</td>\n",
              "    </tr>\n",
              "    <tr>\n",
              "      <th>total_chairs</th>\n",
              "      <td>0</td>\n",
              "      <td>0.000000</td>\n",
              "    </tr>\n",
              "    <tr>\n",
              "      <th>double</th>\n",
              "      <td>0</td>\n",
              "      <td>0.000000</td>\n",
              "    </tr>\n",
              "    <tr>\n",
              "      <th>triple</th>\n",
              "      <td>0</td>\n",
              "      <td>0.000000</td>\n",
              "    </tr>\n",
              "    <tr>\n",
              "      <th>quad</th>\n",
              "      <td>0</td>\n",
              "      <td>0.000000</td>\n",
              "    </tr>\n",
              "    <tr>\n",
              "      <th>fastQuads</th>\n",
              "      <td>0</td>\n",
              "      <td>0.000000</td>\n",
              "    </tr>\n",
              "    <tr>\n",
              "      <th>fastSixes</th>\n",
              "      <td>0</td>\n",
              "      <td>0.000000</td>\n",
              "    </tr>\n",
              "    <tr>\n",
              "      <th>surface</th>\n",
              "      <td>0</td>\n",
              "      <td>0.000000</td>\n",
              "    </tr>\n",
              "    <tr>\n",
              "      <th>trams</th>\n",
              "      <td>0</td>\n",
              "      <td>0.000000</td>\n",
              "    </tr>\n",
              "    <tr>\n",
              "      <th>base_elev</th>\n",
              "      <td>0</td>\n",
              "      <td>0.000000</td>\n",
              "    </tr>\n",
              "    <tr>\n",
              "      <th>vertical_drop</th>\n",
              "      <td>0</td>\n",
              "      <td>0.000000</td>\n",
              "    </tr>\n",
              "    <tr>\n",
              "      <th>summit_elev</th>\n",
              "      <td>0</td>\n",
              "      <td>0.000000</td>\n",
              "    </tr>\n",
              "    <tr>\n",
              "      <th>state</th>\n",
              "      <td>0</td>\n",
              "      <td>0.000000</td>\n",
              "    </tr>\n",
              "    <tr>\n",
              "      <th>Region</th>\n",
              "      <td>0</td>\n",
              "      <td>0.000000</td>\n",
              "    </tr>\n",
              "    <tr>\n",
              "      <th>yearsOpen</th>\n",
              "      <td>1</td>\n",
              "      <td>0.303030</td>\n",
              "    </tr>\n",
              "    <tr>\n",
              "      <th>SkiableTerrain_ac</th>\n",
              "      <td>3</td>\n",
              "      <td>0.909091</td>\n",
              "    </tr>\n",
              "    <tr>\n",
              "      <th>Runs</th>\n",
              "      <td>4</td>\n",
              "      <td>1.212121</td>\n",
              "    </tr>\n",
              "    <tr>\n",
              "      <th>LongestRun_mi</th>\n",
              "      <td>5</td>\n",
              "      <td>1.515152</td>\n",
              "    </tr>\n",
              "    <tr>\n",
              "      <th>averageSnowfall</th>\n",
              "      <td>14</td>\n",
              "      <td>4.242424</td>\n",
              "    </tr>\n",
              "    <tr>\n",
              "      <th>Snow Making_ac</th>\n",
              "      <td>46</td>\n",
              "      <td>13.939394</td>\n",
              "    </tr>\n",
              "    <tr>\n",
              "      <th>projectedDaysOpen</th>\n",
              "      <td>47</td>\n",
              "      <td>14.242424</td>\n",
              "    </tr>\n",
              "    <tr>\n",
              "      <th>TerrainParks</th>\n",
              "      <td>51</td>\n",
              "      <td>15.454545</td>\n",
              "    </tr>\n",
              "    <tr>\n",
              "      <th>daysOpenLastYear</th>\n",
              "      <td>51</td>\n",
              "      <td>15.454545</td>\n",
              "    </tr>\n",
              "    <tr>\n",
              "      <th>AdultWeekend</th>\n",
              "      <td>51</td>\n",
              "      <td>15.454545</td>\n",
              "    </tr>\n",
              "    <tr>\n",
              "      <th>AdultWeekday</th>\n",
              "      <td>54</td>\n",
              "      <td>16.363636</td>\n",
              "    </tr>\n",
              "    <tr>\n",
              "      <th>NightSkiing_ac</th>\n",
              "      <td>143</td>\n",
              "      <td>43.333333</td>\n",
              "    </tr>\n",
              "    <tr>\n",
              "      <th>fastEight</th>\n",
              "      <td>166</td>\n",
              "      <td>50.303030</td>\n",
              "    </tr>\n",
              "  </tbody>\n",
              "</table>\n",
              "</div>"
            ],
            "text/plain": [
              "                   count          %\n",
              "Name                   0   0.000000\n",
              "total_chairs           0   0.000000\n",
              "double                 0   0.000000\n",
              "triple                 0   0.000000\n",
              "quad                   0   0.000000\n",
              "fastQuads              0   0.000000\n",
              "fastSixes              0   0.000000\n",
              "surface                0   0.000000\n",
              "trams                  0   0.000000\n",
              "base_elev              0   0.000000\n",
              "vertical_drop          0   0.000000\n",
              "summit_elev            0   0.000000\n",
              "state                  0   0.000000\n",
              "Region                 0   0.000000\n",
              "yearsOpen              1   0.303030\n",
              "SkiableTerrain_ac      3   0.909091\n",
              "Runs                   4   1.212121\n",
              "LongestRun_mi          5   1.515152\n",
              "averageSnowfall       14   4.242424\n",
              "Snow Making_ac        46  13.939394\n",
              "projectedDaysOpen     47  14.242424\n",
              "TerrainParks          51  15.454545\n",
              "daysOpenLastYear      51  15.454545\n",
              "AdultWeekend          51  15.454545\n",
              "AdultWeekday          54  16.363636\n",
              "NightSkiing_ac       143  43.333333\n",
              "fastEight            166  50.303030"
            ]
          },
          "metadata": {
            "tags": []
          },
          "execution_count": 6
        }
      ]
    },
    {
      "cell_type": "code",
      "metadata": {
        "id": "gBd8BjobjHL5",
        "colab_type": "code",
        "colab": {}
      },
      "source": [
        "#Code task 5#\n",
        "#Count (using `.sum()`) the number of missing values (`.isnull()`) in each column of \n",
        "#ski_data as well as the percentages (using `.mean()` instead of `.sum()`).\n",
        "#Order them (increasing or decreasing) using sort_values\n",
        "#Call `pd.concat` to present these in a single table (DataFrame) with the helpful column names 'count' and '%'\n",
        "missing = pd.concat([ski_data.isnull().sum(), 100 * ski_data.isnull().mean()], axis=1)"
      ],
      "execution_count": 7,
      "outputs": []
    },
    {
      "cell_type": "markdown",
      "metadata": {
        "id": "7MJWsRdMAzcp",
        "colab_type": "text"
      },
      "source": [
        "`fastEight` has the most missing values, at just over 50%. Unfortunately, you see you're also missing quite a few of your desired target quantity, the ticket price, which is missing 15-16% of values. `AdultWeekday` is missing in a few more records than `AdultWeekend`. What overlap is there in these missing values? This is a question you'll want to investigate. You should also point out that `isnull()` is not the only indicator of missing data. Sometimes 'missingness' can be encoded, perhaps by a -1 or 999. Such values are typically chosen because they are \"obviously\" not genuine values. If you were capturing data on people's heights and weights but missing someone's height, you could certainly encode that as a 0 because no one has a height of zero (in any units). Yet such entries would not be revealed by `isnull()`. Here, you need a data dictionary and/or to spot such values as part of looking for outliers. Someone with a height of zero should definitely show up as an outlier!"
      ]
    },
    {
      "cell_type": "markdown",
      "metadata": {
        "id": "wGuFMDB-Azcq",
        "colab_type": "text"
      },
      "source": [
        "### 2.6.3 Categorical Features<a id='2.6.3_Categorical_Features'></a>"
      ]
    },
    {
      "cell_type": "markdown",
      "metadata": {
        "id": "Ytm-z2iiAzcr",
        "colab_type": "text"
      },
      "source": [
        "So far you've examined only the numeric features. Now you inspect categorical ones such as resort name and state. These are discrete entities. 'Alaska' is a name. Although names can be sorted alphabetically, it makes no sense to take the average of 'Alaska' and 'Arizona'. Similarly, 'Alaska' is before 'Arizona' only lexicographically; it is neither 'less than' nor 'greater than' 'Arizona'. As such, they tend to require different handling than strictly numeric quantities. Note, a feature _can_ be numeric but also categorical. For example, instead of giving the number of `fastEight` lifts, a feature might be `has_fastEights` and have the value 0 or 1 to denote absence or presence of such a lift. In such a case it would not make sense to take an average of this or perform other mathematical calculations on it. Although you digress a little to make a point, month numbers are also, strictly speaking, categorical features. Yes, when a month is represented by its number (1 for January, 2 for Februrary etc.) it provides a convenient way to graph trends over a year. And, arguably, there is some logical interpretation of the average of 1 and 3 (January and March) being 2 (February). However, clearly December of one years precedes January of the next and yet 12 as a number is not less than 1. The numeric quantities in the section above are truly numeric; they are the number of feet in the drop, or acres or years open or the amount of snowfall etc."
      ]
    },
    {
      "cell_type": "code",
      "metadata": {
        "id": "PwHKbOKUAzcr",
        "colab_type": "code",
        "colab": {
          "base_uri": "https://localhost:8080/",
          "height": 0
        },
        "outputId": "14bb63f6-b07b-4aef-9408-0a9ca59556b0"
      },
      "source": [
        "#Code task 6#\n",
        "#Use ski_data's `select_dtypes` method to select columns of dtype 'object'\n",
        "ski_data.select_dtypes(object)"
      ],
      "execution_count": 8,
      "outputs": [
        {
          "output_type": "execute_result",
          "data": {
            "text/html": [
              "<div>\n",
              "<style scoped>\n",
              "    .dataframe tbody tr th:only-of-type {\n",
              "        vertical-align: middle;\n",
              "    }\n",
              "\n",
              "    .dataframe tbody tr th {\n",
              "        vertical-align: top;\n",
              "    }\n",
              "\n",
              "    .dataframe thead th {\n",
              "        text-align: right;\n",
              "    }\n",
              "</style>\n",
              "<table border=\"1\" class=\"dataframe\">\n",
              "  <thead>\n",
              "    <tr style=\"text-align: right;\">\n",
              "      <th></th>\n",
              "      <th>Name</th>\n",
              "      <th>Region</th>\n",
              "      <th>state</th>\n",
              "    </tr>\n",
              "  </thead>\n",
              "  <tbody>\n",
              "    <tr>\n",
              "      <th>0</th>\n",
              "      <td>Alyeska Resort</td>\n",
              "      <td>Alaska</td>\n",
              "      <td>Alaska</td>\n",
              "    </tr>\n",
              "    <tr>\n",
              "      <th>1</th>\n",
              "      <td>Eaglecrest Ski Area</td>\n",
              "      <td>Alaska</td>\n",
              "      <td>Alaska</td>\n",
              "    </tr>\n",
              "    <tr>\n",
              "      <th>2</th>\n",
              "      <td>Hilltop Ski Area</td>\n",
              "      <td>Alaska</td>\n",
              "      <td>Alaska</td>\n",
              "    </tr>\n",
              "    <tr>\n",
              "      <th>3</th>\n",
              "      <td>Arizona Snowbowl</td>\n",
              "      <td>Arizona</td>\n",
              "      <td>Arizona</td>\n",
              "    </tr>\n",
              "    <tr>\n",
              "      <th>4</th>\n",
              "      <td>Sunrise Park Resort</td>\n",
              "      <td>Arizona</td>\n",
              "      <td>Arizona</td>\n",
              "    </tr>\n",
              "    <tr>\n",
              "      <th>...</th>\n",
              "      <td>...</td>\n",
              "      <td>...</td>\n",
              "      <td>...</td>\n",
              "    </tr>\n",
              "    <tr>\n",
              "      <th>325</th>\n",
              "      <td>Meadowlark Ski Lodge</td>\n",
              "      <td>Wyoming</td>\n",
              "      <td>Wyoming</td>\n",
              "    </tr>\n",
              "    <tr>\n",
              "      <th>326</th>\n",
              "      <td>Sleeping Giant Ski Resort</td>\n",
              "      <td>Wyoming</td>\n",
              "      <td>Wyoming</td>\n",
              "    </tr>\n",
              "    <tr>\n",
              "      <th>327</th>\n",
              "      <td>Snow King Resort</td>\n",
              "      <td>Wyoming</td>\n",
              "      <td>Wyoming</td>\n",
              "    </tr>\n",
              "    <tr>\n",
              "      <th>328</th>\n",
              "      <td>Snowy Range Ski &amp; Recreation Area</td>\n",
              "      <td>Wyoming</td>\n",
              "      <td>Wyoming</td>\n",
              "    </tr>\n",
              "    <tr>\n",
              "      <th>329</th>\n",
              "      <td>White Pine Ski Area</td>\n",
              "      <td>Wyoming</td>\n",
              "      <td>Wyoming</td>\n",
              "    </tr>\n",
              "  </tbody>\n",
              "</table>\n",
              "<p>330 rows × 3 columns</p>\n",
              "</div>"
            ],
            "text/plain": [
              "                                  Name   Region    state\n",
              "0                       Alyeska Resort   Alaska   Alaska\n",
              "1                  Eaglecrest Ski Area   Alaska   Alaska\n",
              "2                     Hilltop Ski Area   Alaska   Alaska\n",
              "3                     Arizona Snowbowl  Arizona  Arizona\n",
              "4                  Sunrise Park Resort  Arizona  Arizona\n",
              "..                                 ...      ...      ...\n",
              "325               Meadowlark Ski Lodge  Wyoming  Wyoming\n",
              "326          Sleeping Giant Ski Resort  Wyoming  Wyoming\n",
              "327                   Snow King Resort  Wyoming  Wyoming\n",
              "328  Snowy Range Ski & Recreation Area  Wyoming  Wyoming\n",
              "329                White Pine Ski Area  Wyoming  Wyoming\n",
              "\n",
              "[330 rows x 3 columns]"
            ]
          },
          "metadata": {
            "tags": []
          },
          "execution_count": 8
        }
      ]
    },
    {
      "cell_type": "markdown",
      "metadata": {
        "id": "7nHagnOKAzcu",
        "colab_type": "text"
      },
      "source": [
        "You saw earlier on that these three columns had no missing values. But are there any other issues with these columns? Sensible questions to ask here include:\n",
        "\n",
        "* Is `Name` (or at least a combination of Name/Region/State) unique?\n",
        "* Is `Region` always the same as `state`?"
      ]
    },
    {
      "cell_type": "markdown",
      "metadata": {
        "id": "c0h7QjTFAzcu",
        "colab_type": "text"
      },
      "source": [
        "#### 2.6.3.1 Unique Resort Names<a id='2.6.3.1_Unique_Resort_Names'></a>"
      ]
    },
    {
      "cell_type": "code",
      "metadata": {
        "id": "uxY5DTuxAzcu",
        "colab_type": "code",
        "colab": {
          "base_uri": "https://localhost:8080/",
          "height": 0
        },
        "outputId": "c3f4315a-20ef-42a5-8be1-d40fe0bf9869"
      },
      "source": [
        "#Code task 7#\n",
        "#Use pandas' Series method `value_counts` to find any duplicated resort names\n",
        "ski_data['Name'].value_counts().head()"
      ],
      "execution_count": 9,
      "outputs": [
        {
          "output_type": "execute_result",
          "data": {
            "text/plain": [
              "Crystal Mountain    2\n",
              "Mt. Brighton        1\n",
              "Maple Ski Ridge     1\n",
              "Trollhaugen         1\n",
              "Blue Knob           1\n",
              "Name: Name, dtype: int64"
            ]
          },
          "metadata": {
            "tags": []
          },
          "execution_count": 9
        }
      ]
    },
    {
      "cell_type": "code",
      "metadata": {
        "id": "Ozp0-aZSVHnw",
        "colab_type": "code",
        "colab": {
          "base_uri": "https://localhost:8080/",
          "height": 0
        },
        "outputId": "d41a8f16-7924-465c-c104-ffaaf4e7bfc2"
      },
      "source": [
        "#Code task 8#\n",
        "#Concatenate the string columns 'Name' and 'Region' and count the values again (as above)\n",
        "(ski_data['Name'] + ', ' + ski_data['Region']).value_counts().head()"
      ],
      "execution_count": 10,
      "outputs": [
        {
          "output_type": "execute_result",
          "data": {
            "text/plain": [
              "Timberline Lodge, Mt. Hood                     1\n",
              "Arapahoe Basin Ski Area, Colorado              1\n",
              "Mohawk Mountain, Connecticut                   1\n",
              "Sunrise Park Resort, Arizona                   1\n",
              "Elm Creek Winter Recreation Area, Minnesota    1\n",
              "dtype: int64"
            ]
          },
          "metadata": {
            "tags": []
          },
          "execution_count": 10
        }
      ]
    },
    {
      "cell_type": "markdown",
      "metadata": {
        "id": "7fIizah1Azcw",
        "colab_type": "text"
      },
      "source": [
        "You have a duplicated resort name: Crystal Mountain."
      ]
    },
    {
      "cell_type": "markdown",
      "metadata": {
        "id": "UkqZFRXgAzcx",
        "colab_type": "text"
      },
      "source": [
        "**Q: 1** Is this resort duplicated if you take into account Region and/or state as well?"
      ]
    },
    {
      "cell_type": "code",
      "metadata": {
        "id": "yb1UtOu_Azc0",
        "colab_type": "code",
        "colab": {
          "base_uri": "https://localhost:8080/",
          "height": 0
        },
        "outputId": "8150bcf3-5e6c-4b97-e2ad-1b7016a9f5b0"
      },
      "source": [
        "#Code task 9#\n",
        "#Concatenate 'Name' and 'state' and count the values again (as above)\n",
        "(ski_data['Name'] + ', ' + ski_data['state']).value_counts().head()"
      ],
      "execution_count": 11,
      "outputs": [
        {
          "output_type": "execute_result",
          "data": {
            "text/plain": [
              "Showdown Montana, Montana                1\n",
              "Steamboat, Colorado                      1\n",
              "Snowbasin, Utah                          1\n",
              "Elk Mountain Ski Resort, Pennsylvania    1\n",
              "Black Mountain, New Hampshire            1\n",
              "dtype: int64"
            ]
          },
          "metadata": {
            "tags": []
          },
          "execution_count": 11
        }
      ]
    },
    {
      "cell_type": "markdown",
      "metadata": {
        "id": "YTEMvpG9yUa0",
        "colab_type": "text"
      },
      "source": [
        "**NB** because you know `value_counts()` sorts descending, you can use the `head()` method and know the rest of the counts must be 1."
      ]
    },
    {
      "cell_type": "code",
      "metadata": {
        "id": "FHCjzTpoWFM4",
        "colab_type": "code",
        "colab": {
          "base_uri": "https://localhost:8080/",
          "height": 0
        },
        "outputId": "80dbb92d-c66e-48a7-b779-0bf3b0ae3940"
      },
      "source": [
        "ski_data.query('Name == \"Crystal Mountain\"')"
      ],
      "execution_count": 12,
      "outputs": [
        {
          "output_type": "execute_result",
          "data": {
            "text/html": [
              "<div>\n",
              "<style scoped>\n",
              "    .dataframe tbody tr th:only-of-type {\n",
              "        vertical-align: middle;\n",
              "    }\n",
              "\n",
              "    .dataframe tbody tr th {\n",
              "        vertical-align: top;\n",
              "    }\n",
              "\n",
              "    .dataframe thead th {\n",
              "        text-align: right;\n",
              "    }\n",
              "</style>\n",
              "<table border=\"1\" class=\"dataframe\">\n",
              "  <thead>\n",
              "    <tr style=\"text-align: right;\">\n",
              "      <th></th>\n",
              "      <th>Name</th>\n",
              "      <th>Region</th>\n",
              "      <th>state</th>\n",
              "      <th>summit_elev</th>\n",
              "      <th>vertical_drop</th>\n",
              "      <th>base_elev</th>\n",
              "      <th>trams</th>\n",
              "      <th>fastEight</th>\n",
              "      <th>fastSixes</th>\n",
              "      <th>fastQuads</th>\n",
              "      <th>quad</th>\n",
              "      <th>triple</th>\n",
              "      <th>double</th>\n",
              "      <th>surface</th>\n",
              "      <th>total_chairs</th>\n",
              "      <th>Runs</th>\n",
              "      <th>TerrainParks</th>\n",
              "      <th>LongestRun_mi</th>\n",
              "      <th>SkiableTerrain_ac</th>\n",
              "      <th>Snow Making_ac</th>\n",
              "      <th>daysOpenLastYear</th>\n",
              "      <th>yearsOpen</th>\n",
              "      <th>averageSnowfall</th>\n",
              "      <th>AdultWeekday</th>\n",
              "      <th>AdultWeekend</th>\n",
              "      <th>projectedDaysOpen</th>\n",
              "      <th>NightSkiing_ac</th>\n",
              "    </tr>\n",
              "  </thead>\n",
              "  <tbody>\n",
              "    <tr>\n",
              "      <th>104</th>\n",
              "      <td>Crystal Mountain</td>\n",
              "      <td>Michigan</td>\n",
              "      <td>Michigan</td>\n",
              "      <td>1132</td>\n",
              "      <td>375</td>\n",
              "      <td>757</td>\n",
              "      <td>0</td>\n",
              "      <td>0.0</td>\n",
              "      <td>0</td>\n",
              "      <td>1</td>\n",
              "      <td>3</td>\n",
              "      <td>2</td>\n",
              "      <td>0</td>\n",
              "      <td>2</td>\n",
              "      <td>8</td>\n",
              "      <td>58.0</td>\n",
              "      <td>3.0</td>\n",
              "      <td>0.3</td>\n",
              "      <td>102.0</td>\n",
              "      <td>96.0</td>\n",
              "      <td>120.0</td>\n",
              "      <td>63.0</td>\n",
              "      <td>132.0</td>\n",
              "      <td>54.0</td>\n",
              "      <td>64.0</td>\n",
              "      <td>135.0</td>\n",
              "      <td>56.0</td>\n",
              "    </tr>\n",
              "    <tr>\n",
              "      <th>295</th>\n",
              "      <td>Crystal Mountain</td>\n",
              "      <td>Washington</td>\n",
              "      <td>Washington</td>\n",
              "      <td>7012</td>\n",
              "      <td>3100</td>\n",
              "      <td>4400</td>\n",
              "      <td>1</td>\n",
              "      <td>NaN</td>\n",
              "      <td>2</td>\n",
              "      <td>2</td>\n",
              "      <td>1</td>\n",
              "      <td>2</td>\n",
              "      <td>2</td>\n",
              "      <td>0</td>\n",
              "      <td>10</td>\n",
              "      <td>57.0</td>\n",
              "      <td>1.0</td>\n",
              "      <td>2.5</td>\n",
              "      <td>2600.0</td>\n",
              "      <td>10.0</td>\n",
              "      <td>NaN</td>\n",
              "      <td>57.0</td>\n",
              "      <td>486.0</td>\n",
              "      <td>99.0</td>\n",
              "      <td>99.0</td>\n",
              "      <td>NaN</td>\n",
              "      <td>NaN</td>\n",
              "    </tr>\n",
              "  </tbody>\n",
              "</table>\n",
              "</div>"
            ],
            "text/plain": [
              "                 Name      Region  ... projectedDaysOpen  NightSkiing_ac\n",
              "104  Crystal Mountain    Michigan  ...             135.0            56.0\n",
              "295  Crystal Mountain  Washington  ...               NaN             NaN\n",
              "\n",
              "[2 rows x 27 columns]"
            ]
          },
          "metadata": {
            "tags": []
          },
          "execution_count": 12
        }
      ]
    },
    {
      "cell_type": "markdown",
      "metadata": {
        "id": "NP8ih79VAzc6",
        "colab_type": "text"
      },
      "source": [
        "# **A: 1** No, they are from two different states. Oh, and I did the \"query\" code above before seeing the code below :P."
      ]
    },
    {
      "cell_type": "code",
      "metadata": {
        "id": "my4HPtE3Azc8",
        "colab_type": "code",
        "colab": {
          "base_uri": "https://localhost:8080/",
          "height": 177
        },
        "outputId": "9dec754c-6488-4960-89b6-12919b84430e"
      },
      "source": [
        "ski_data[ski_data['Name'] == 'Crystal Mountain']"
      ],
      "execution_count": 13,
      "outputs": [
        {
          "output_type": "execute_result",
          "data": {
            "text/html": [
              "<div>\n",
              "<style scoped>\n",
              "    .dataframe tbody tr th:only-of-type {\n",
              "        vertical-align: middle;\n",
              "    }\n",
              "\n",
              "    .dataframe tbody tr th {\n",
              "        vertical-align: top;\n",
              "    }\n",
              "\n",
              "    .dataframe thead th {\n",
              "        text-align: right;\n",
              "    }\n",
              "</style>\n",
              "<table border=\"1\" class=\"dataframe\">\n",
              "  <thead>\n",
              "    <tr style=\"text-align: right;\">\n",
              "      <th></th>\n",
              "      <th>Name</th>\n",
              "      <th>Region</th>\n",
              "      <th>state</th>\n",
              "      <th>summit_elev</th>\n",
              "      <th>vertical_drop</th>\n",
              "      <th>base_elev</th>\n",
              "      <th>trams</th>\n",
              "      <th>fastEight</th>\n",
              "      <th>fastSixes</th>\n",
              "      <th>fastQuads</th>\n",
              "      <th>quad</th>\n",
              "      <th>triple</th>\n",
              "      <th>double</th>\n",
              "      <th>surface</th>\n",
              "      <th>total_chairs</th>\n",
              "      <th>Runs</th>\n",
              "      <th>TerrainParks</th>\n",
              "      <th>LongestRun_mi</th>\n",
              "      <th>SkiableTerrain_ac</th>\n",
              "      <th>Snow Making_ac</th>\n",
              "      <th>daysOpenLastYear</th>\n",
              "      <th>yearsOpen</th>\n",
              "      <th>averageSnowfall</th>\n",
              "      <th>AdultWeekday</th>\n",
              "      <th>AdultWeekend</th>\n",
              "      <th>projectedDaysOpen</th>\n",
              "      <th>NightSkiing_ac</th>\n",
              "    </tr>\n",
              "  </thead>\n",
              "  <tbody>\n",
              "    <tr>\n",
              "      <th>104</th>\n",
              "      <td>Crystal Mountain</td>\n",
              "      <td>Michigan</td>\n",
              "      <td>Michigan</td>\n",
              "      <td>1132</td>\n",
              "      <td>375</td>\n",
              "      <td>757</td>\n",
              "      <td>0</td>\n",
              "      <td>0.0</td>\n",
              "      <td>0</td>\n",
              "      <td>1</td>\n",
              "      <td>3</td>\n",
              "      <td>2</td>\n",
              "      <td>0</td>\n",
              "      <td>2</td>\n",
              "      <td>8</td>\n",
              "      <td>58.0</td>\n",
              "      <td>3.0</td>\n",
              "      <td>0.3</td>\n",
              "      <td>102.0</td>\n",
              "      <td>96.0</td>\n",
              "      <td>120.0</td>\n",
              "      <td>63.0</td>\n",
              "      <td>132.0</td>\n",
              "      <td>54.0</td>\n",
              "      <td>64.0</td>\n",
              "      <td>135.0</td>\n",
              "      <td>56.0</td>\n",
              "    </tr>\n",
              "    <tr>\n",
              "      <th>295</th>\n",
              "      <td>Crystal Mountain</td>\n",
              "      <td>Washington</td>\n",
              "      <td>Washington</td>\n",
              "      <td>7012</td>\n",
              "      <td>3100</td>\n",
              "      <td>4400</td>\n",
              "      <td>1</td>\n",
              "      <td>NaN</td>\n",
              "      <td>2</td>\n",
              "      <td>2</td>\n",
              "      <td>1</td>\n",
              "      <td>2</td>\n",
              "      <td>2</td>\n",
              "      <td>0</td>\n",
              "      <td>10</td>\n",
              "      <td>57.0</td>\n",
              "      <td>1.0</td>\n",
              "      <td>2.5</td>\n",
              "      <td>2600.0</td>\n",
              "      <td>10.0</td>\n",
              "      <td>NaN</td>\n",
              "      <td>57.0</td>\n",
              "      <td>486.0</td>\n",
              "      <td>99.0</td>\n",
              "      <td>99.0</td>\n",
              "      <td>NaN</td>\n",
              "      <td>NaN</td>\n",
              "    </tr>\n",
              "  </tbody>\n",
              "</table>\n",
              "</div>"
            ],
            "text/plain": [
              "                 Name      Region  ... projectedDaysOpen  NightSkiing_ac\n",
              "104  Crystal Mountain    Michigan  ...             135.0            56.0\n",
              "295  Crystal Mountain  Washington  ...               NaN             NaN\n",
              "\n",
              "[2 rows x 27 columns]"
            ]
          },
          "metadata": {
            "tags": []
          },
          "execution_count": 13
        }
      ]
    },
    {
      "cell_type": "markdown",
      "metadata": {
        "id": "EDk2jaSJAzc_",
        "colab_type": "text"
      },
      "source": [
        "So there are two Crystal Mountain resorts, but they are clearly two different resorts in two different states. This is a powerful signal that you have unique records on each row."
      ]
    },
    {
      "cell_type": "markdown",
      "metadata": {
        "id": "Hq0xwig4Azc_",
        "colab_type": "text"
      },
      "source": [
        "#### 2.6.3.2 Region And State<a id='2.6.3.2_Region_And_State'></a>"
      ]
    },
    {
      "cell_type": "markdown",
      "metadata": {
        "id": "r6IbGQLlAzdA",
        "colab_type": "text"
      },
      "source": [
        "What's the relationship between region and state?"
      ]
    },
    {
      "cell_type": "markdown",
      "metadata": {
        "id": "2QNTIRHCAzdB",
        "colab_type": "text"
      },
      "source": [
        "You know they are the same in many cases (e.g. both the Region and the state are given as 'Michigan'). In how many cases do they differ?"
      ]
    },
    {
      "cell_type": "code",
      "metadata": {
        "id": "gZG7Qj4JAzdB",
        "colab_type": "code",
        "colab": {
          "base_uri": "https://localhost:8080/",
          "height": 34
        },
        "outputId": "b471172a-1f37-4ba2-85cc-9b085ebd9bae"
      },
      "source": [
        "#Code task 10#\n",
        "#Calculate the number of times Region does not equal state\n",
        "(ski_data.Region != ski_data.state).sum()"
      ],
      "execution_count": 14,
      "outputs": [
        {
          "output_type": "execute_result",
          "data": {
            "text/plain": [
              "33"
            ]
          },
          "metadata": {
            "tags": []
          },
          "execution_count": 14
        }
      ]
    },
    {
      "cell_type": "markdown",
      "metadata": {
        "id": "HHk5nfvUAzdD",
        "colab_type": "text"
      },
      "source": [
        "You know what a state is. What is a region? You can tabulate the distinct values along with their respective frequencies using `value_counts()`."
      ]
    },
    {
      "cell_type": "code",
      "metadata": {
        "id": "Mg8z47w9AzdD",
        "colab_type": "code",
        "colab": {
          "base_uri": "https://localhost:8080/",
          "height": 672
        },
        "outputId": "02b0a06d-e86f-4049-cb5d-325aa13fbca7"
      },
      "source": [
        "ski_data['Region'].value_counts()"
      ],
      "execution_count": 15,
      "outputs": [
        {
          "output_type": "execute_result",
          "data": {
            "text/plain": [
              "New York               33\n",
              "Michigan               29\n",
              "Sierra Nevada          22\n",
              "Colorado               22\n",
              "Pennsylvania           19\n",
              "Wisconsin              16\n",
              "New Hampshire          16\n",
              "Vermont                15\n",
              "Minnesota              14\n",
              "Idaho                  12\n",
              "Montana                12\n",
              "Massachusetts          11\n",
              "Washington             10\n",
              "New Mexico              9\n",
              "Maine                   9\n",
              "Wyoming                 8\n",
              "Utah                    7\n",
              "Oregon                  6\n",
              "North Carolina          6\n",
              "Salt Lake City          6\n",
              "Connecticut             5\n",
              "Ohio                    5\n",
              "Virginia                4\n",
              "West Virginia           4\n",
              "Mt. Hood                4\n",
              "Illinois                4\n",
              "Alaska                  3\n",
              "Iowa                    3\n",
              "Arizona                 2\n",
              "Missouri                2\n",
              "Nevada                  2\n",
              "South Dakota            2\n",
              "New Jersey              2\n",
              "Indiana                 2\n",
              "Northern California     1\n",
              "Maryland                1\n",
              "Tennessee               1\n",
              "Rhode Island            1\n",
              "Name: Region, dtype: int64"
            ]
          },
          "metadata": {
            "tags": []
          },
          "execution_count": 15
        }
      ]
    },
    {
      "cell_type": "markdown",
      "metadata": {
        "id": "59iN8gTXAzdF",
        "colab_type": "text"
      },
      "source": [
        "A casual inspection by eye reveals some non-state names such as Sierra Nevada, Salt Lake City, and Northern California. Tabulate the differences between Region and state. On a note regarding scaling to larger data sets, you might wonder how you could spot such cases when presented with millions of rows. This is an interesting point. Imagine you have access to a database with a Region and state column in a table and there are millions of rows. You wouldn't eyeball all the rows looking for differences! Bear in mind that our first interest lies in establishing the answer to the question \"Are they always the same?\" One approach might be to ask the database to return records where they differ, but limit the output to 10 rows. If there were differences, you'd only get up to 10 results, and so you wouldn't know whether you'd located all differences, but you'd know that there were 'a nonzero number' of differences. If you got an empty result set back, then you would know that the two columns always had the same value. At the risk of digressing, some values in one column only might be NULL (missing) and different databases treat NULL differently, so be aware that on many an occasion a seamingly 'simple' question gets very interesting to answer very quickly!"
      ]
    },
    {
      "cell_type": "code",
      "metadata": {
        "id": "Z7KO7NI2AzdG",
        "colab_type": "code",
        "colab": {
          "base_uri": "https://localhost:8080/",
          "height": 134
        },
        "outputId": "54dd532c-ed4d-4cd3-ecd4-008d37551473"
      },
      "source": [
        "#Code task 11#\n",
        "#Filter the ski_data dataframe for rows where 'Region' and 'state' are different,\n",
        "#group that by 'state' and perform `value_counts` on the 'Region'\n",
        "(ski_data[ski_data.Region != ski_data.state]\n",
        " .groupby(['state'])['Region']\n",
        " .value_counts())"
      ],
      "execution_count": 16,
      "outputs": [
        {
          "output_type": "execute_result",
          "data": {
            "text/plain": [
              "state       Region             \n",
              "California  Sierra Nevada          20\n",
              "            Northern California     1\n",
              "Nevada      Sierra Nevada           2\n",
              "Oregon      Mt. Hood                4\n",
              "Utah        Salt Lake City          6\n",
              "Name: Region, dtype: int64"
            ]
          },
          "metadata": {
            "tags": []
          },
          "execution_count": 16
        }
      ]
    },
    {
      "cell_type": "markdown",
      "metadata": {
        "id": "ZC6qixgOAzdI",
        "colab_type": "text"
      },
      "source": [
        "The vast majority of the differences are in California, with most Regions being called Sierra Nevada and just one referred to as Northern California."
      ]
    },
    {
      "cell_type": "markdown",
      "metadata": {
        "id": "XsGaP-SfAzdI",
        "colab_type": "text"
      },
      "source": [
        "#### 2.6.3.3 Number of distinct regions and states<a id='2.6.3.3_Number_of_distinct_regions_and_states'></a>"
      ]
    },
    {
      "cell_type": "code",
      "metadata": {
        "id": "zA-ykTwtAzdJ",
        "colab_type": "code",
        "colab": {
          "base_uri": "https://localhost:8080/",
          "height": 67
        },
        "outputId": "436df1b0-cf64-472e-bacd-49ca9bafc4b4"
      },
      "source": [
        "#Code task 12#\n",
        "#Select the 'Region' and 'state' columns from ski_data and use the `nunique` method to calculate\n",
        "#the number of unique values in each\n",
        "ski_data[['Region', 'state']].nunique()"
      ],
      "execution_count": 17,
      "outputs": [
        {
          "output_type": "execute_result",
          "data": {
            "text/plain": [
              "Region    38\n",
              "state     35\n",
              "dtype: int64"
            ]
          },
          "metadata": {
            "tags": []
          },
          "execution_count": 17
        }
      ]
    },
    {
      "cell_type": "markdown",
      "metadata": {
        "id": "CEyIi0bzAzdL",
        "colab_type": "text"
      },
      "source": [
        "Because a few states are split across multiple named regions, there are slightly more unique regions than states."
      ]
    },
    {
      "cell_type": "markdown",
      "metadata": {
        "id": "vqsBQIHRAzdL",
        "colab_type": "text"
      },
      "source": [
        "#### 2.6.3.4 Distribution Of Resorts By Region And State<a id='2.6.3.4_Distribution_Of_Resorts_By_Region_And_State'></a>"
      ]
    },
    {
      "cell_type": "markdown",
      "metadata": {
        "id": "Bc3G2PQnAzdL",
        "colab_type": "text"
      },
      "source": [
        "If this is your first time using [matplotlib](https://matplotlib.org/3.2.2/index.html)'s [subplots](https://matplotlib.org/3.2.2/api/_as_gen/matplotlib.pyplot.subplots.html), you may find the online documentation useful."
      ]
    },
    {
      "cell_type": "code",
      "metadata": {
        "id": "umAXyp9cAzdM",
        "colab_type": "code",
        "colab": {
          "base_uri": "https://localhost:8080/",
          "height": 513
        },
        "outputId": "c019a7c1-5d90-48cf-e04f-020597bfc4eb"
      },
      "source": [
        "#Code task 13#\n",
        "#Create two subplots on 1 row and 2 columns with a figsize of (12, 8)\n",
        "fig, ax = plt.subplots(1, 2, figsize=(12, 8))\n",
        "#Specify a horizontal barplot ('barh') as kind of plot (kind=)\n",
        "ski_data.Region.value_counts().plot(kind='barh', ax=ax[0])\n",
        "#Give the plot a helpful title of 'Region'\n",
        "ax[0].set_title('Region')\n",
        "#Label the xaxis 'Count'\n",
        "ax[0].set_xlabel('Count')\n",
        "#Specify a horizontal barplot ('barh') as kind of plot (kind=)\n",
        "ski_data.state.value_counts().plot(kind='barh', ax=ax[1])\n",
        "#Give the plot a helpful title of 'state'\n",
        "ax[1].set_title('state')\n",
        "#Label the xaxis 'Count'\n",
        "ax[1].set_xlabel('Count')\n",
        "#Give the subplots a little \"breathing room\" with a wspace of 0.5\n",
        "plt.subplots_adjust(wspace=0.5);\n",
        "#You're encouraged to explore a few different figure sizes, orientations, and spacing here\n",
        "# as the importance of easy-to-read and informative figures is frequently understated\n",
        "# and you will find the ability to tweak figures invaluable later on"
      ],
      "execution_count": 18,
      "outputs": [
        {
          "output_type": "display_data",
          "data": {
            "image/png": "[encoded data removed]",
            "text/plain": [
              "<Figure size 864x576 with 2 Axes>"
            ]
          },
          "metadata": {
            "tags": [],
            "needs_background": "light"
          }
        }
      ]
    },
    {
      "cell_type": "markdown",
      "metadata": {
        "id": "GCrkdrm1AzdP",
        "colab_type": "text"
      },
      "source": [
        "How's your geography? Looking at the distribution of States, you see New York accounting for the majority of resorts. Our target resort is in Montana, which comes in at 13th place. You should think carefully about how, or whether, you use this information. Does New York command a premium because of its proximity to population? Even if a resort's State were a useful predictor of ticket price, your main interest lies in Montana. Would you want a model that is skewed for accuracy by New York? Should you just filter for Montana and create a Montana-specific model? This would slash your available data volume. Your problem task includes the contextual insight that the data are for resorts all belonging to the same market share. This suggests one might expect prices to be similar amongst them. You can look into this. A boxplot grouped by State is an ideal way to quickly compare prices. Another side note worth bringing up here is that, in reality, the best approach here definitely would include consulting with the client or other domain expert. They might know of good reasons for treating states equivalently or differently. The data scientist is rarely the final arbiter of such a decision. But here, you'll see if we can find any supporting evidence for treating states the same or differently."
      ]
    },
    {
      "cell_type": "markdown",
      "metadata": {
        "id": "UUUpO6S3AzdP",
        "colab_type": "text"
      },
      "source": [
        "#### 2.6.3.5 Distribution Of Ticket Price By State<a id='2.6.3.5_Distribution_Of_Ticket_Price_By_State'></a>"
      ]
    },
    {
      "cell_type": "markdown",
      "metadata": {
        "id": "jhFCoEtZAzdQ",
        "colab_type": "text"
      },
      "source": [
        "Our primary focus is our Big Mountain resort, in Montana. Does the state give you any clues to help decide what your primary target response feature should be (weekend or weekday ticket prices)?"
      ]
    },
    {
      "cell_type": "markdown",
      "metadata": {
        "id": "OD7sQJWeAzdQ",
        "colab_type": "text"
      },
      "source": [
        "##### 2.6.3.5.1 Average weekend and weekday price by state<a id='2.6.3.5.1_Average_weekend_and_weekday_price_by_state'></a>"
      ]
    },
    {
      "cell_type": "code",
      "metadata": {
        "id": "2XpyNJDAAzdR",
        "colab_type": "code",
        "colab": {
          "base_uri": "https://localhost:8080/",
          "height": 330
        },
        "outputId": "5f16af70-29e1-4cd5-b400-0778025a7505"
      },
      "source": [
        "#Code task 14#\n",
        "# Calculate average weekday and weekend price by state and sort by the average of the two\n",
        "# Hint: use the pattern dataframe.groupby(<grouping variable>)[<list of columns>].mean()\n",
        "state_price_means = ski_data.___(___)[[___, ___]].mean()\n",
        "state_price_means.head()"
      ],
      "execution_count": 19,
      "outputs": [
        {
          "output_type": "error",
          "ename": "AttributeError",
          "evalue": "ignored",
          "traceback": [
            "\u001b[0;31m---------------------------------------------------------------------------\u001b[0m",
            "\u001b[0;31mAttributeError\u001b[0m                            Traceback (most recent call last)",
            "\u001b[0;32m<ipython-input-19-8a0e9e5c7dd7>\u001b[0m in \u001b[0;36m<module>\u001b[0;34m()\u001b[0m\n\u001b[1;32m      2\u001b[0m \u001b[0;31m# Calculate average weekday and weekend price by state and sort by the average of the two\u001b[0m\u001b[0;34m\u001b[0m\u001b[0;34m\u001b[0m\u001b[0;34m\u001b[0m\u001b[0m\n\u001b[1;32m      3\u001b[0m \u001b[0;31m# Hint: use the pattern dataframe.groupby(<grouping variable>)[<list of columns>].mean()\u001b[0m\u001b[0;34m\u001b[0m\u001b[0;34m\u001b[0m\u001b[0;34m\u001b[0m\u001b[0m\n\u001b[0;32m----> 4\u001b[0;31m \u001b[0mstate_price_means\u001b[0m \u001b[0;34m=\u001b[0m \u001b[0mski_data\u001b[0m\u001b[0;34m.\u001b[0m\u001b[0m___\u001b[0m\u001b[0;34m(\u001b[0m\u001b[0m___\u001b[0m\u001b[0;34m)\u001b[0m\u001b[0;34m[\u001b[0m\u001b[0;34m[\u001b[0m\u001b[0m___\u001b[0m\u001b[0;34m,\u001b[0m \u001b[0m___\u001b[0m\u001b[0;34m]\u001b[0m\u001b[0;34m]\u001b[0m\u001b[0;34m.\u001b[0m\u001b[0mmean\u001b[0m\u001b[0;34m(\u001b[0m\u001b[0;34m)\u001b[0m\u001b[0;34m\u001b[0m\u001b[0;34m\u001b[0m\u001b[0m\n\u001b[0m\u001b[1;32m      5\u001b[0m \u001b[0mstate_price_means\u001b[0m\u001b[0;34m.\u001b[0m\u001b[0mhead\u001b[0m\u001b[0;34m(\u001b[0m\u001b[0;34m)\u001b[0m\u001b[0;34m\u001b[0m\u001b[0;34m\u001b[0m\u001b[0m\n",
            "\u001b[0;32m/usr/local/lib/python3.6/dist-packages/pandas/core/generic.py\u001b[0m in \u001b[0;36m__getattr__\u001b[0;34m(self, name)\u001b[0m\n\u001b[1;32m   5272\u001b[0m             \u001b[0;32mif\u001b[0m \u001b[0mself\u001b[0m\u001b[0;34m.\u001b[0m\u001b[0m_info_axis\u001b[0m\u001b[0;34m.\u001b[0m\u001b[0m_can_hold_identifiers_and_holds_name\u001b[0m\u001b[0;34m(\u001b[0m\u001b[0mname\u001b[0m\u001b[0;34m)\u001b[0m\u001b[0;34m:\u001b[0m\u001b[0;34m\u001b[0m\u001b[0;34m\u001b[0m\u001b[0m\n\u001b[1;32m   5273\u001b[0m                 \u001b[0;32mreturn\u001b[0m \u001b[0mself\u001b[0m\u001b[0;34m[\u001b[0m\u001b[0mname\u001b[0m\u001b[0;34m]\u001b[0m\u001b[0;34m\u001b[0m\u001b[0;34m\u001b[0m\u001b[0m\n\u001b[0;32m-> 5274\u001b[0;31m             \u001b[0;32mreturn\u001b[0m \u001b[0mobject\u001b[0m\u001b[0;34m.\u001b[0m\u001b[0m__getattribute__\u001b[0m\u001b[0;34m(\u001b[0m\u001b[0mself\u001b[0m\u001b[0;34m,\u001b[0m \u001b[0mname\u001b[0m\u001b[0;34m)\u001b[0m\u001b[0;34m\u001b[0m\u001b[0;34m\u001b[0m\u001b[0m\n\u001b[0m\u001b[1;32m   5275\u001b[0m \u001b[0;34m\u001b[0m\u001b[0m\n\u001b[1;32m   5276\u001b[0m     \u001b[0;32mdef\u001b[0m \u001b[0m__setattr__\u001b[0m\u001b[0;34m(\u001b[0m\u001b[0mself\u001b[0m\u001b[0;34m,\u001b[0m \u001b[0mname\u001b[0m\u001b[0;34m:\u001b[0m \u001b[0mstr\u001b[0m\u001b[0;34m,\u001b[0m \u001b[0mvalue\u001b[0m\u001b[0;34m)\u001b[0m \u001b[0;34m->\u001b[0m \u001b[0;32mNone\u001b[0m\u001b[0;34m:\u001b[0m\u001b[0;34m\u001b[0m\u001b[0;34m\u001b[0m\u001b[0m\n",
            "\u001b[0;31mAttributeError\u001b[0m: 'DataFrame' object has no attribute '___'"
          ]
        }
      ]
    },
    {
      "cell_type": "code",
      "metadata": {
        "id": "k0qcEYmKAzdS",
        "colab_type": "code",
        "colab": {}
      },
      "source": [
        "# The next bit simply reorders the index by increasing average of weekday and weekend prices\n",
        "# Compare the index order you get from\n",
        "# state_price_means.index\n",
        "# with\n",
        "# state_price_means.mean(axis=1).sort_values(ascending=False).index\n",
        "# See how this expression simply sits within the reindex()\n",
        "(state_price_means.reindex(index=state_price_means.mean(axis=1)\n",
        "    .sort_values(ascending=False)\n",
        "    .index)\n",
        "    .plot(kind='barh', figsize=(10, 10), title='Average ticket price by State'))\n",
        "plt.xlabel('Price ($)');"
      ],
      "execution_count": null,
      "outputs": []
    },
    {
      "cell_type": "code",
      "metadata": {
        "id": "agKqj-tYAzdU",
        "colab_type": "code",
        "colab": {}
      },
      "source": [
        "The figure above represents a dataframe with two columns, one for the average prices of each kind of ticket. This tells you how the average ticket price varies from state to state. But can you get more insight into the difference in the distributions between states?"
      ],
      "execution_count": null,
      "outputs": []
    },
    {
      "cell_type": "markdown",
      "metadata": {
        "id": "eqIRQYzMAzdW",
        "colab_type": "text"
      },
      "source": [
        "##### 2.6.3.5.2 Distribution of weekday and weekend price by state<a id='2.6.3.5.2_Distribution_of_weekday_and_weekend_price_by_state'></a>"
      ]
    },
    {
      "cell_type": "markdown",
      "metadata": {
        "id": "5PJ2xPuzAzdW",
        "colab_type": "text"
      },
      "source": [
        "Next, you can transform the data into a single column for price with a new categorical column that represents the ticket type."
      ]
    },
    {
      "cell_type": "code",
      "metadata": {
        "id": "-gws-cyrAzdX",
        "colab_type": "code",
        "colab": {}
      },
      "source": [
        "#Code task 15#\n",
        "#Use the pd.melt function, pass in the ski_data columns 'state', 'AdultWeekday', and 'Adultweekend' only,\n",
        "#specify 'state' for `id_vars`\n",
        "#gather the ticket prices from the 'Adultweekday' and 'AdultWeekend' columns using the `value_vars` argument,\n",
        "#call the resultant price column 'Price' via the `value_name` argument,\n",
        "#name the weekday/weekend indicator column 'Ticket' via the `var_name` argument\n",
        "ticket_prices = pd.melt(ski_data[[___, ___, ___]], \n",
        "                        id_vars=___, \n",
        "                        var_name=___, \n",
        "                        value_vars=[___, ___], \n",
        "                        value_name=___)"
      ],
      "execution_count": null,
      "outputs": []
    },
    {
      "cell_type": "code",
      "metadata": {
        "id": "JDsRHNL5AzdZ",
        "colab_type": "code",
        "colab": {}
      },
      "source": [
        "ticket_prices.head()"
      ],
      "execution_count": null,
      "outputs": []
    },
    {
      "cell_type": "markdown",
      "metadata": {
        "id": "QiySTQNHAzdb",
        "colab_type": "text"
      },
      "source": [
        "This is now in a format we can pass to [seaborn](https://seaborn.pydata.org/)'s [boxplot](https://seaborn.pydata.org/generated/seaborn.boxplot.html) function to create boxplots of the ticket price distributions for each ticket type for each state."
      ]
    },
    {
      "cell_type": "code",
      "metadata": {
        "id": "Ggk4ddkqAzdc",
        "colab_type": "code",
        "colab": {}
      },
      "source": [
        "#Code task 16#\n",
        "#Create a seaborn boxplot of the ticket price dataframe we created above,\n",
        "#with 'state' on the x-axis, 'Price' as the y-value, and a hue that indicates 'Ticket'\n",
        "#This will use boxplot's x, y, hue, and data arguments.\n",
        "plt.subplots(figsize=(12, 8))\n",
        "sns.boxplot(x=___, y=___, hue=___, data=ticket_prices)\n",
        "plt.xticks(rotation='vertical')\n",
        "plt.ylabel('Price ($)')\n",
        "plt.xlabel('State');"
      ],
      "execution_count": null,
      "outputs": []
    },
    {
      "cell_type": "markdown",
      "metadata": {
        "id": "kacexrzAAzde",
        "colab_type": "text"
      },
      "source": [
        "Aside from some relatively expensive ticket prices in California, Colorado, and Utah, most prices appear to lie in a broad band from around 25 to over 100 dollars. Some States show more variability than others. Montana and South Dakota, for example, both show fairly small variability as well as matching weekend and weekday ticket prices. Nevada and Utah, on the other hand, show the most range in prices. Some States, notably North Carolina and Virginia, have weekend prices far higher than weekday prices. You could be inspired from this exploration to consider a few potential groupings of resorts, those with low spread, those with lower averages, and those that charge a premium for weekend tickets. However, you're told that you are taking all resorts to be part of the same market share, you  could argue against further segment the resorts. Nevertheless, ways to consider using the State information in your modelling include:\n",
        "\n",
        "* disregard State completely\n",
        "* retain all State information\n",
        "* retain State in the form of Montana vs not Montana, as our target resort is in Montana\n",
        "\n",
        "You've also noted another effect above: some States show a marked difference between weekday and weekend ticket prices. It may make sense to allow a model to take into account not just State but also weekend vs weekday."
      ]
    },
    {
      "cell_type": "markdown",
      "metadata": {
        "id": "O42hFV5LAzde",
        "colab_type": "text"
      },
      "source": [
        "Thus we currently have two main questions you want to resolve:\n",
        "\n",
        "* What do you do about the two types of ticket price?\n",
        "* What do you do about the state information?"
      ]
    },
    {
      "cell_type": "markdown",
      "metadata": {
        "id": "NJUnvxQPAzdf",
        "colab_type": "text"
      },
      "source": [
        "### 2.6.4 Numeric Features<a id='2.6.4_Numeric_Features'></a>"
      ]
    },
    {
      "cell_type": "code",
      "metadata": {
        "id": "H1-obIHXAzdf",
        "colab_type": "code",
        "colab": {}
      },
      "source": [
        "Having decided to reserve judgement on how exactly you utilize the State, turn your attention to cleaning the numeric features."
      ],
      "execution_count": null,
      "outputs": []
    },
    {
      "cell_type": "markdown",
      "metadata": {
        "id": "3HKfav7KAzdi",
        "colab_type": "text"
      },
      "source": [
        "#### 2.6.4.1 Numeric data summary<a id='2.6.4.1_Numeric_data_summary'></a>"
      ]
    },
    {
      "cell_type": "code",
      "metadata": {
        "id": "5UmEDuhZAzdi",
        "colab_type": "code",
        "colab": {}
      },
      "source": [
        "#Code task 17#\n",
        "#Call ski_data's `describe` method for a statistical summary of the numerical columns\n",
        "#Hint: there are fewer summary stat columns than features, so displaying the transpose\n",
        "#will be useful again\n",
        "ski_data.___.___"
      ],
      "execution_count": null,
      "outputs": []
    },
    {
      "cell_type": "markdown",
      "metadata": {
        "id": "iWDPl0MlAzdk",
        "colab_type": "text"
      },
      "source": [
        "Recall you're missing the ticket prices for some 16% of resorts. This is a fundamental problem that means you simply lack the required data for those resorts and will have to drop those records. But you may have a weekend price and not a weekday price, or vice versa. You want to keep any price you have."
      ]
    },
    {
      "cell_type": "code",
      "metadata": {
        "id": "Sq3YSQyNAzdk",
        "colab_type": "code",
        "colab": {}
      },
      "source": [
        "missing_price = ski_data[['AdultWeekend', 'AdultWeekday']].isnull().sum(axis=1)\n",
        "missing_price.value_counts()/len(missing_price) * 100"
      ],
      "execution_count": null,
      "outputs": []
    },
    {
      "cell_type": "markdown",
      "metadata": {
        "id": "-XdoS8_MAzdm",
        "colab_type": "text"
      },
      "source": [
        "Just over 82% of resorts have no missing ticket price, 3% are missing one value, and 14% are missing both. You will definitely want to drop the records for which you have no price information, however you will not do so just yet. There may still be useful information about the distributions of other features in that 14% of the data."
      ]
    },
    {
      "cell_type": "markdown",
      "metadata": {
        "id": "AqWp_RP0Azdn",
        "colab_type": "text"
      },
      "source": [
        "#### 2.6.4.2 Distributions Of Feature Values<a id='2.6.4.2_Distributions_Of_Feature_Values'></a>"
      ]
    },
    {
      "cell_type": "markdown",
      "metadata": {
        "id": "2Y03_UrLAzdn",
        "colab_type": "text"
      },
      "source": [
        "Note that, although we are still in the 'data wrangling and cleaning' phase rather than exploratory data analysis, looking at distributions of features is immensely useful in getting a feel for whether the values look sensible and whether there are any obvious outliers to investigate. Some exploratory data analysis belongs here, and data wrangling will inevitably occur later on. It's more a matter of emphasis. Here, we're interesting in focusing on whether distributions look plausible or wrong. Later on, we're more interested in relationships and patterns."
      ]
    },
    {
      "cell_type": "code",
      "metadata": {
        "id": "C7ngUs7GAzdo",
        "colab_type": "code",
        "colab": {}
      },
      "source": [
        "#Code task 18#\n",
        "#Call ski_data's `hist` method to plot histograms of each of the numeric features\n",
        "#Try passing it an argument figsize=(15,10)\n",
        "#Try calling plt.subplots_adjust() with an argument hspace=0.5 to adjust the spacing\n",
        "#It's important you create legible and easy-to-read plots\n",
        "ski_data.___(___)\n",
        "#plt.subplots_adjust(hspace=___);\n",
        "#Hint: notice how the terminating ';' \"swallows\" some messy output and leads to a tidier notebook"
      ],
      "execution_count": null,
      "outputs": []
    },
    {
      "cell_type": "markdown",
      "metadata": {
        "id": "fvJppzspAzdq",
        "colab_type": "text"
      },
      "source": [
        "What features do we have possible cause for concern about and why?\n",
        "\n",
        "* SkiableTerrain_ac because values are clustered down the low end,\n",
        "* Snow Making_ac for the same reason,\n",
        "* fastEight because all but one value is 0 so it has very little variance, and half the values are missing,\n",
        "* fastSixes raises an amber flag; it has more variability, but still mostly 0,\n",
        "* trams also may get an amber flag for the same reason,\n",
        "* yearsOpen because most values are low but it has a maximum of 2019, which strongly suggests someone recorded calendar year rather than number of years."
      ]
    },
    {
      "cell_type": "markdown",
      "metadata": {
        "id": "RPRnpgktAzdq",
        "colab_type": "text"
      },
      "source": [
        "##### 2.6.4.2.1 SkiableTerrain_ac<a id='2.6.4.2.1_SkiableTerrain_ac'></a>"
      ]
    },
    {
      "cell_type": "code",
      "metadata": {
        "id": "xFPOJ4-xAzdr",
        "colab_type": "code",
        "colab": {}
      },
      "source": [
        "#Code task 19#\n",
        "#Filter the 'SkiableTerrain_ac' column to print the values greater than 10000\n",
        "ski_data.___[ski_data.___ > ___]"
      ],
      "execution_count": null,
      "outputs": []
    },
    {
      "cell_type": "markdown",
      "metadata": {
        "id": "Z8iBFeIpAzdt",
        "colab_type": "text"
      },
      "source": [
        "**Q: 2** One resort has an incredibly large skiable terrain area! Which is it?"
      ]
    },
    {
      "cell_type": "code",
      "metadata": {
        "id": "05zLTM6RAzdt",
        "colab_type": "code",
        "colab": {}
      },
      "source": [
        "#Code task 20#\n",
        "#Now you know there's only one, print the whole row to investigate all values, including seeing the resort name\n",
        "#Hint: don't forget the transpose will be helpful here\n",
        "ski_data[ski_data.___ > ___].___"
      ],
      "execution_count": null,
      "outputs": []
    },
    {
      "cell_type": "markdown",
      "metadata": {
        "id": "FDbLutpNAzdw",
        "colab_type": "text"
      },
      "source": [
        "**A: 2** Your answer here"
      ]
    },
    {
      "cell_type": "markdown",
      "metadata": {
        "id": "WW4puqxpAzdx",
        "colab_type": "text"
      },
      "source": [
        "But what can you do when you have one record that seems highly suspicious?"
      ]
    },
    {
      "cell_type": "markdown",
      "metadata": {
        "id": "2_KP1WOIAzdx",
        "colab_type": "text"
      },
      "source": [
        "You can see if your data are correct. Search for \"silverton mountain skiable area\". If you do this, you get some [useful information](https://www.google.com/search?q=silverton+mountain+skiable+area)."
      ]
    },
    {
      "cell_type": "markdown",
      "metadata": {
        "id": "qrOWLqgEAzdx",
        "colab_type": "text"
      },
      "source": [
        "![Silverton Mountain information](https://github.com/villafue/DataScienceGuidedCapstone/blob/master/Step%20Two%20-%20Data%20Wrangling/images/silverton_mountain_info.png?raw=1)"
      ]
    },
    {
      "cell_type": "markdown",
      "metadata": {
        "id": "VMqHUONnAzdy",
        "colab_type": "text"
      },
      "source": [
        "You can spot check data. You see your top and base elevation values agree, but the skiable area is very different. Your suspect value is 26819, but the value you've just looked up is 1819. The last three digits agree. This sort of error could have occured in transmission or some editing or transcription stage. You could plausibly replace the suspect value with the one you've just obtained. Another cautionary note to make here is that although you're doing this in order to progress with your analysis, this is most definitely an issue that should have been raised and fed back to the client or data originator as a query. You should view this \"data correction\" step as a means to continue (documenting it carefully as you do in this notebook) rather than an ultimate decision as to what is correct."
      ]
    },
    {
      "cell_type": "code",
      "metadata": {
        "id": "4fnGclo2Azdz",
        "colab_type": "code",
        "colab": {}
      },
      "source": [
        "#Code task 21#\n",
        "#Use the .loc accessor to print the 'SkiableTerrain_ac' value only for this resort\n",
        "ski_data.___[39, 'SkiableTerrain_ac']"
      ],
      "execution_count": null,
      "outputs": []
    },
    {
      "cell_type": "code",
      "metadata": {
        "id": "fYqHDYdqAzd2",
        "colab_type": "code",
        "colab": {}
      },
      "source": [
        "#Code task 22#\n",
        "#Use the .loc accessor again to modify this value with the correct value of 1819\n",
        "ski_data.___[39, 'SkiableTerrain_ac'] = ___"
      ],
      "execution_count": null,
      "outputs": []
    },
    {
      "cell_type": "code",
      "metadata": {
        "id": "2r4OYYa2Azd4",
        "colab_type": "code",
        "colab": {}
      },
      "source": [
        "#Code task 23#\n",
        "#Use the .loc accessor a final time to verify that the value has been modified\n",
        "ski_data.___[39, 'SkiableTerrain_ac']"
      ],
      "execution_count": null,
      "outputs": []
    },
    {
      "cell_type": "markdown",
      "metadata": {
        "id": "plCA3KpcAzd6",
        "colab_type": "text"
      },
      "source": [
        "**NB whilst you may become suspicious about your data quality, and you know you have missing values, you will not here dive down the rabbit hole of checking all values or web scraping to replace missing values.**"
      ]
    },
    {
      "cell_type": "markdown",
      "metadata": {
        "id": "eL8j5M90Azd6",
        "colab_type": "text"
      },
      "source": [
        "What does the distribution of skiable area look like now?"
      ]
    },
    {
      "cell_type": "code",
      "metadata": {
        "id": "dO5caTsRAzd9",
        "colab_type": "code",
        "colab": {}
      },
      "source": [
        "ski_data.SkiableTerrain_ac.hist(bins=30)\n",
        "plt.xlabel('SkiableTerrain_ac')\n",
        "plt.ylabel('Count')\n",
        "plt.title('Distribution of skiable area (acres) after replacing erroneous value');"
      ],
      "execution_count": null,
      "outputs": []
    },
    {
      "cell_type": "markdown",
      "metadata": {
        "id": "WCB03SLmAzeA",
        "colab_type": "text"
      },
      "source": [
        "You now see a rather long tailed distribution. You may wonder about the now most extreme value that is above 8000, but similarly you may also wonder about the value around 7000. If you wanted to spend more time manually checking values you could, but leave this for now. The above distribution is plausible."
      ]
    },
    {
      "cell_type": "markdown",
      "metadata": {
        "id": "fxbubBrVAzeA",
        "colab_type": "text"
      },
      "source": [
        "##### 2.6.4.2.2 Snow Making_ac<a id='2.6.4.2.2_Snow_Making_ac'></a>"
      ]
    },
    {
      "cell_type": "code",
      "metadata": {
        "id": "gdb3rZqBAzeA",
        "colab_type": "code",
        "colab": {}
      },
      "source": [
        "ski_data['Snow Making_ac'][ski_data['Snow Making_ac'] > 1000]"
      ],
      "execution_count": null,
      "outputs": []
    },
    {
      "cell_type": "code",
      "metadata": {
        "id": "A7ApXf2oAzeC",
        "colab_type": "code",
        "colab": {}
      },
      "source": [
        "ski_data[ski_data['Snow Making_ac'] > 3000].T"
      ],
      "execution_count": null,
      "outputs": []
    },
    {
      "cell_type": "markdown",
      "metadata": {
        "id": "H4M5q0ceAzeE",
        "colab_type": "text"
      },
      "source": [
        "You can adopt a similar approach as for the suspect skiable area value and do some spot checking. To save time, here is a link to the website for [Heavenly Mountain Resort](https://www.skiheavenly.com/the-mountain/about-the-mountain/mountain-info.aspx). From this you can glean that you have values for skiable terrain that agree. Furthermore, you can read that snowmaking covers 60% of the trails."
      ]
    },
    {
      "cell_type": "markdown",
      "metadata": {
        "id": "wDuTwas3AzeF",
        "colab_type": "text"
      },
      "source": [
        "What, then, is your rough guess for the area covered by snowmaking?"
      ]
    },
    {
      "cell_type": "code",
      "metadata": {
        "id": "giulLco-AzeF",
        "colab_type": "code",
        "colab": {}
      },
      "source": [
        ".6 * 4800"
      ],
      "execution_count": null,
      "outputs": []
    },
    {
      "cell_type": "markdown",
      "metadata": {
        "id": "fVdCBLpzAzeG",
        "colab_type": "text"
      },
      "source": [
        "This is less than the value of 3379 in your data so you may have a judgement call to make. However, notice something else. You have no ticket pricing information at all for this resort. Any further effort spent worrying about values for this resort will be wasted. You'll simply be dropping the entire row!"
      ]
    },
    {
      "cell_type": "markdown",
      "metadata": {
        "id": "V29o0bkdAzeH",
        "colab_type": "text"
      },
      "source": [
        "##### 2.6.4.2.3 fastEight<a id='2.6.4.2.3_fastEight'></a>"
      ]
    },
    {
      "cell_type": "markdown",
      "metadata": {
        "id": "ZBgcqKIoAzeH",
        "colab_type": "text"
      },
      "source": [
        "Look at the different fastEight values more closely:"
      ]
    },
    {
      "cell_type": "code",
      "metadata": {
        "id": "cuL3PnzpAzeH",
        "colab_type": "code",
        "colab": {}
      },
      "source": [
        "ski_data.fastEight.value_counts()"
      ],
      "execution_count": null,
      "outputs": []
    },
    {
      "cell_type": "markdown",
      "metadata": {
        "id": "QHVF6-IFAzeJ",
        "colab_type": "text"
      },
      "source": [
        "Drop the fastEight column in its entirety; half the values are missing and all but the others are the value zero. There is essentially no information in this column."
      ]
    },
    {
      "cell_type": "code",
      "metadata": {
        "id": "Pe5dlwMGAzeJ",
        "colab_type": "code",
        "colab": {}
      },
      "source": [
        "#Code task 24#\n",
        "#Drop the 'fastEight' column from ski_data. Use inplace=True\n",
        "ski_data.drop(columns=___, inplace=___)"
      ],
      "execution_count": null,
      "outputs": []
    },
    {
      "cell_type": "markdown",
      "metadata": {
        "id": "i9506o8BAzeM",
        "colab_type": "text"
      },
      "source": [
        "What about yearsOpen? How many resorts have purportedly been open for more than 100 years?"
      ]
    },
    {
      "cell_type": "code",
      "metadata": {
        "id": "-Qw4E8beAzeN",
        "colab_type": "code",
        "colab": {}
      },
      "source": [
        "#Code task 25#\n",
        "#Filter the 'yearsOpen' column for values greater than 100\n",
        "ski_data.___[ski_data.___ > ___]"
      ],
      "execution_count": null,
      "outputs": []
    },
    {
      "cell_type": "markdown",
      "metadata": {
        "id": "4xkZF8WtAzeP",
        "colab_type": "text"
      },
      "source": [
        "Okay, one seems to have been open for 104 years. But beyond that, one is down as having been open for 2019 years. This is wrong! What shall you do about this?"
      ]
    },
    {
      "cell_type": "markdown",
      "metadata": {
        "id": "pZlWsyLjAzeQ",
        "colab_type": "text"
      },
      "source": [
        "What does the distribution of yearsOpen look like if you exclude just the obviously wrong one?"
      ]
    },
    {
      "cell_type": "code",
      "metadata": {
        "id": "gBDVF54qAzeQ",
        "colab_type": "code",
        "colab": {}
      },
      "source": [
        "#Code task 26#\n",
        "#Call the hist method on 'yearsOpen' after filtering for values under 1000\n",
        "#Pass the argument bins=30 to hist(), but feel free to explore other values\n",
        "ski_data.___[ski_data.___ < ___].hist(___)\n",
        "plt.xlabel('Years open')\n",
        "plt.ylabel('Count')\n",
        "plt.title('Distribution of years open excluding 2019');"
      ],
      "execution_count": null,
      "outputs": []
    },
    {
      "cell_type": "markdown",
      "metadata": {
        "id": "--Bbf6w6AzeV",
        "colab_type": "text"
      },
      "source": [
        "The above distribution of years seems entirely plausible, including the 104 year value. You can certainly state that no resort will have been open for 2019 years! It likely means the resort opened in 2019. It could also mean the resort is due to open in 2019. You don't know when these data were gathered!"
      ]
    },
    {
      "cell_type": "markdown",
      "metadata": {
        "id": "fXkk1c0DAzeV",
        "colab_type": "text"
      },
      "source": [
        "Let's review the summary statistics for the years under 1000."
      ]
    },
    {
      "cell_type": "code",
      "metadata": {
        "id": "uAPDHyLeAzeW",
        "colab_type": "code",
        "colab": {}
      },
      "source": [
        "ski_data.yearsOpen[ski_data.yearsOpen < 1000].describe()"
      ],
      "execution_count": null,
      "outputs": []
    },
    {
      "cell_type": "markdown",
      "metadata": {
        "id": "8QG-YuPWAzeX",
        "colab_type": "text"
      },
      "source": [
        "The smallest number of years open otherwise is 6. You can't be sure whether this resort in question has been open zero years or one year and even whether the numbers are projections or actual. In any case, you would be adding a new youngest resort so it feels best to simply drop this row."
      ]
    },
    {
      "cell_type": "code",
      "metadata": {
        "id": "pQWIkYGgAzeY",
        "colab_type": "code",
        "colab": {}
      },
      "source": [
        "ski_data = ski_data[ski_data.yearsOpen < 1000]"
      ],
      "execution_count": null,
      "outputs": []
    },
    {
      "cell_type": "markdown",
      "metadata": {
        "id": "Iu3goiOiAzeZ",
        "colab_type": "text"
      },
      "source": [
        "##### 2.6.4.2.4 fastSixes and Trams<a id='2.6.4.2.4_fastSixes_and_Trams'></a>"
      ]
    },
    {
      "cell_type": "markdown",
      "metadata": {
        "id": "pLdRmb1kAzeZ",
        "colab_type": "text"
      },
      "source": [
        "The other features you had mild concern over, you will not investigate further. Perhaps take some care when using these features."
      ]
    },
    {
      "cell_type": "markdown",
      "metadata": {
        "id": "BPfFB01-Azea",
        "colab_type": "text"
      },
      "source": [
        "## 2.7 Derive State-wide Summary Statistics For Our Market Segment<a id='2.7_Derive_State-wide_Summary_Statistics_For_Our_Market_Segment'></a>"
      ]
    },
    {
      "cell_type": "markdown",
      "metadata": {
        "id": "FFzRisesAzea",
        "colab_type": "text"
      },
      "source": [
        "You have, by this point removed one row, but it was for a resort that may not have opened yet, or perhaps in its first season. Using your business knowledge, you know that state-wide supply and demand of certain skiing resources may well factor into pricing strategies. Does a resort dominate the available night skiing in a state? Or does it account for a large proportion of the total skiable terrain or days open?\n",
        "\n",
        "If you want to add any features to your data that captures the state-wide market size, you should do this now, before dropping any more rows. In the next section, you'll drop rows with missing price information. Although you don't know what those resorts charge for their tickets, you do know the resorts exists and have been open for at least six years. Thus, you'll now calculate some state-wide summary statistics for later use."
      ]
    },
    {
      "cell_type": "markdown",
      "metadata": {
        "id": "6nFmIphIAzeb",
        "colab_type": "text"
      },
      "source": [
        "Many features in your data pertain to chairlifts, that is for getting people around each resort. These aren't relevant, nor are the features relating to altitudes. Features that you may be interested in are:\n",
        "\n",
        "* TerrainParks\n",
        "* SkiableTerrain_ac\n",
        "* daysOpenLastYear\n",
        "* NightSkiing_ac\n",
        "\n",
        "When you think about it, these are features it makes sense to sum: the total number of terrain parks, the total skiable area, the total number of days open, and the total area available for night skiing. You might consider the total number of ski runs, but understand that the skiable area is more informative than just a number of runs."
      ]
    },
    {
      "cell_type": "markdown",
      "metadata": {
        "id": "L7e27SUqAzeb",
        "colab_type": "text"
      },
      "source": [
        "A fairly new groupby behaviour is [named aggregation](https://pandas-docs.github.io/pandas-docs-travis/whatsnew/v0.25.0.html). This allows us to clearly perform the aggregations you want whilst also creating informative output column names."
      ]
    },
    {
      "cell_type": "code",
      "metadata": {
        "id": "uwDvGcHOAzeb",
        "colab_type": "code",
        "colab": {}
      },
      "source": [
        "#Code task 27#\n",
        "#Add named aggregations for the sum of 'daysOpenLastYear', 'TerrainParks', and 'NightSkiing_ac'\n",
        "#call them 'state_total_days_open', 'state_total_terrain_parks', and 'state_total_nightskiing_ac',\n",
        "#respectively\n",
        "#Finally, add a call to the reset_index() method (we recommend you experiment with and without this to see\n",
        "#what it does)\n",
        "state_summary = ski_data.groupby('state').agg(\n",
        "    resorts_per_state=pd.NamedAgg(column='Name', aggfunc='size'), #could pick any column here\n",
        "    state_total_skiable_area_ac=pd.NamedAgg(column='SkiableTerrain_ac', aggfunc='sum'),\n",
        "    state_total_days_open=pd.NamedAgg(column=__, aggfunc='sum'),\n",
        "    ___=pd.NamedAgg(column=___, aggfunc=___),\n",
        "    ___=pd.NamedAgg(column=___, aggfunc=___)\n",
        ").___\n",
        "state_summary.head()"
      ],
      "execution_count": null,
      "outputs": []
    },
    {
      "cell_type": "markdown",
      "metadata": {
        "id": "1kGwipdrAzed",
        "colab_type": "text"
      },
      "source": [
        "## 2.8 Drop Rows With No Price Data<a id='2.8_Drop_Rows_With_No_Price_Data'></a>"
      ]
    },
    {
      "cell_type": "markdown",
      "metadata": {
        "id": "vYpv2YR6Azee",
        "colab_type": "text"
      },
      "source": [
        "You know there are two columns that refer to price: 'AdultWeekend' and 'AdultWeekday'. You can calculate the number of price values missing per row. This will obviously have to be either 0, 1, or 2, where 0 denotes no price values are missing and 2 denotes that both are missing."
      ]
    },
    {
      "cell_type": "code",
      "metadata": {
        "id": "aaeUNvleAzee",
        "colab_type": "code",
        "colab": {}
      },
      "source": [
        "missing_price = ski_data[['AdultWeekend', 'AdultWeekday']].isnull().sum(axis=1)\n",
        "missing_price.value_counts()/len(missing_price) * 100"
      ],
      "execution_count": null,
      "outputs": []
    },
    {
      "cell_type": "markdown",
      "metadata": {
        "id": "Igjd5fMpAzeg",
        "colab_type": "text"
      },
      "source": [
        "About 14% of the rows have no price data. As the price is your target, these rows are of no use. Time to lose them."
      ]
    },
    {
      "cell_type": "code",
      "metadata": {
        "id": "GxIJCr_fAzeh",
        "colab_type": "code",
        "colab": {}
      },
      "source": [
        "#Code task 28#\n",
        "#Use `missing_price` to remove rows from ski_data where both price values are missing\n",
        "ski_data = ski_data[___ != 2]"
      ],
      "execution_count": null,
      "outputs": []
    },
    {
      "cell_type": "markdown",
      "metadata": {
        "id": "RhGXFnPCAzek",
        "colab_type": "text"
      },
      "source": [
        "## 2.9 Review distributions<a id='2.9_Review_distributions'></a>"
      ]
    },
    {
      "cell_type": "code",
      "metadata": {
        "id": "ZLK8L3FrAzel",
        "colab_type": "code",
        "colab": {}
      },
      "source": [
        "ski_data.hist(figsize=(15, 10))\n",
        "plt.subplots_adjust(hspace=0.5);"
      ],
      "execution_count": null,
      "outputs": []
    },
    {
      "cell_type": "markdown",
      "metadata": {
        "id": "LqnuCtkpAzen",
        "colab_type": "text"
      },
      "source": [
        "These distributions are much better. There are clearly some skewed distributions, so keep an eye on `fastQuads`, `fastSixes`, and perhaps `trams`. These lack much variance away from 0 and may have a small number of relatively extreme values.  Models failing to rate a feature as important when domain knowledge tells you it should be is an issue to look out for, as is a model being overly influenced by some extreme values. If you build a good machine learning pipeline, hopefully it will be robust to such issues, but you may also wish to consider nonlinear transformations of features."
      ]
    },
    {
      "cell_type": "markdown",
      "metadata": {
        "id": "YMGvS9yJAzen",
        "colab_type": "text"
      },
      "source": [
        "## 2.10 Population data<a id='2.10_Population_data'></a>"
      ]
    },
    {
      "cell_type": "markdown",
      "metadata": {
        "id": "UZ8Rbx70Azen",
        "colab_type": "text"
      },
      "source": [
        "Population and area data for the US states can be obtained from [wikipedia](https://simple.wikipedia.org/wiki/List_of_U.S._states). Listen, you should have a healthy concern about using data you \"found on the Internet\". Make sure it comes from a reputable source. This table of data is useful because it allows you to easily pull and incorporate an external data set. It also allows you to proceed with an analysis that includes state sizes and populations for your 'first cut' model. Be explicit about your source (we documented it here in this workflow) and ensure it is open to inspection. All steps are subject to review, and it may be that a client has a specific source of data they trust that you should use to rerun the analysis."
      ]
    },
    {
      "cell_type": "code",
      "metadata": {
        "id": "rY_Q1P2HAzeo",
        "colab_type": "code",
        "colab": {}
      },
      "source": [
        "#Code task 29#\n",
        "#Use pandas' `read_html` method to read the table from the URL below\n",
        "states_url = 'https://simple.wikipedia.org/wiki/List_of_U.S._states'\n",
        "usa_states = pd.___(___)"
      ],
      "execution_count": null,
      "outputs": []
    },
    {
      "cell_type": "code",
      "metadata": {
        "id": "I-aFSbo6Azep",
        "colab_type": "code",
        "colab": {}
      },
      "source": [
        "type(usa_states)"
      ],
      "execution_count": null,
      "outputs": []
    },
    {
      "cell_type": "code",
      "metadata": {
        "id": "ldldSnCoAzer",
        "colab_type": "code",
        "colab": {}
      },
      "source": [
        "len(usa_states)"
      ],
      "execution_count": null,
      "outputs": []
    },
    {
      "cell_type": "code",
      "metadata": {
        "id": "ef2XjYAqAzes",
        "colab_type": "code",
        "colab": {}
      },
      "source": [
        "usa_states = usa_states[0]\n",
        "usa_states.head()"
      ],
      "execution_count": null,
      "outputs": []
    },
    {
      "cell_type": "markdown",
      "metadata": {
        "id": "zXOy3KG0Azeu",
        "colab_type": "text"
      },
      "source": [
        "Note, in even the last year, the capability of `pd.read_html()` has improved. The merged cells you see in the web table are now handled much more conveniently, with 'Phoenix' now being duplicated so the subsequent columns remain aligned. But check this anyway. If you extract the established date column, you should just get dates. Recall previously you used the `.loc` accessor, because you were using labels. Now you want to refer to a column by its index position and so use `.iloc`. For a discussion on the difference use cases of `.loc` and `.iloc` refer to the [pandas documentation](https://pandas.pydata.org/pandas-docs/stable/user_guide/indexing.html)."
      ]
    },
    {
      "cell_type": "code",
      "metadata": {
        "id": "VxWV-4G9Azeu",
        "colab_type": "code",
        "colab": {}
      },
      "source": [
        "#Code task 30#\n",
        "#Use the iloc accessor to get the pandas Series for column number 4 from `usa_states`\n",
        "#It should be a column of dates\n",
        "established = usa_sates.___[:, 4]"
      ],
      "execution_count": null,
      "outputs": []
    },
    {
      "cell_type": "code",
      "metadata": {
        "id": "ttLgh1hnAzew",
        "colab_type": "code",
        "colab": {}
      },
      "source": [
        "established"
      ],
      "execution_count": null,
      "outputs": []
    },
    {
      "cell_type": "markdown",
      "metadata": {
        "id": "BxxNZsLJAzez",
        "colab_type": "text"
      },
      "source": [
        "Extract the state name, population, and total area (square miles) columns."
      ]
    },
    {
      "cell_type": "code",
      "metadata": {
        "id": "N_1pial9Azez",
        "colab_type": "code",
        "colab": {}
      },
      "source": [
        "#Code task 31#\n",
        "#Now use the iloc accessor again to extract columns 0, 5, and 6 and the dataframe's `copy()` method\n",
        "#Set the names of these extracted columns to 'state', 'state_population', and 'state_area_sq_miles',\n",
        "#respectively.\n",
        "usa_states_sub = usa_states.___[:, [___]].copy()\n",
        "usa_states_sub.columns = [___]\n",
        "usa_states_sub.head()"
      ],
      "execution_count": null,
      "outputs": []
    },
    {
      "cell_type": "markdown",
      "metadata": {
        "id": "w9XNFicpAze1",
        "colab_type": "text"
      },
      "source": [
        "Do you have all the ski data states accounted for?"
      ]
    },
    {
      "cell_type": "code",
      "metadata": {
        "id": "LXbS6ANVAze2",
        "colab_type": "code",
        "colab": {}
      },
      "source": [
        "#Code task 32#\n",
        "#Find the states in `state_summary` that are not in `usa_states_sub`\n",
        "#Hint: set(list1) - set(list2) is an easy way to get items in list1 that are not in list2\n",
        "missing_states = ___(state_summary.state) - ___(usa_states_sub.state)\n",
        "missing_states"
      ],
      "execution_count": null,
      "outputs": []
    },
    {
      "cell_type": "markdown",
      "metadata": {
        "id": "MJdIdeLXAze8",
        "colab_type": "text"
      },
      "source": [
        "No?? "
      ]
    },
    {
      "cell_type": "markdown",
      "metadata": {
        "id": "DuCyJW8hAze9",
        "colab_type": "text"
      },
      "source": [
        "If you look at the table on the web, you can perhaps start to guess what the problem is. You can confirm your suspicion by pulling out state names that _contain_ 'Massachusetts', 'Pennsylvania', or 'Virginia' from usa_states_sub:"
      ]
    },
    {
      "cell_type": "code",
      "metadata": {
        "id": "5bMSaiKMAze9",
        "colab_type": "code",
        "colab": {}
      },
      "source": [
        "usa_states_sub.state[usa_states_sub.state.str.contains('Massachusetts|Pennsylvania|Rhode Island|Virginia')]"
      ],
      "execution_count": null,
      "outputs": []
    },
    {
      "cell_type": "markdown",
      "metadata": {
        "id": "fF8kHyMIAze_",
        "colab_type": "text"
      },
      "source": [
        "Delete square brackets and their contents and try again:"
      ]
    },
    {
      "cell_type": "code",
      "metadata": {
        "id": "f0aH0o4ZAze_",
        "colab_type": "code",
        "colab": {}
      },
      "source": [
        "#Code task 33#\n",
        "#Use pandas' Series' `replace()` method to replace anything within square brackets (including the brackets)\n",
        "#with the empty string. Do this inplace, so you need to specify the arguments:\n",
        "#to_replace='\\[.*\\]' #literal square bracket followed by anything or nothing followed by literal closing bracket\n",
        "#value='' #empty string as replacement\n",
        "#regex=True #we used a regex in our `to_replace` argument\n",
        "#inplace=True #Do this \"in place\"\n",
        "usa_states_sub.state.___(to_replace=___, value=__, regex=___, inplace=___)\n",
        "usa_states_sub.state[usa_states_sub.state.str.contains('Massachusetts|Pennsylvania|Rhode Island|Virginia')]"
      ],
      "execution_count": null,
      "outputs": []
    },
    {
      "cell_type": "code",
      "metadata": {
        "id": "4JNDqRQhAzfB",
        "colab_type": "code",
        "colab": {}
      },
      "source": [
        "#Code task 34#\n",
        "#And now verify none of our states are missing by checking that there are no states in\n",
        "#state_summary that are not in usa_states_sub (as earlier using `set()`)\n",
        "missing_states = ___(state_summary.state) - ___(usa_states_sub.state)\n",
        "missing_states"
      ],
      "execution_count": null,
      "outputs": []
    },
    {
      "cell_type": "markdown",
      "metadata": {
        "id": "DSn1BpsUAzfD",
        "colab_type": "text"
      },
      "source": [
        "Better! You have an empty set for missing states now. You can confidently add the population and state area columns to the ski resort data."
      ]
    },
    {
      "cell_type": "code",
      "metadata": {
        "id": "ilnpuBLOAzfD",
        "colab_type": "code",
        "colab": {}
      },
      "source": [
        "#Code task 35#\n",
        "#Use 'state_summary's `merge()` method to combine our new data in 'usa_states_sub'\n",
        "#specify the arguments how='left' and on='state'\n",
        "state_summary = state_summary.___(usa_states_sub, ___=___, ___=___)\n",
        "state_summary.head()"
      ],
      "execution_count": null,
      "outputs": []
    },
    {
      "cell_type": "markdown",
      "metadata": {
        "id": "9ILSmE5uAzfF",
        "colab_type": "text"
      },
      "source": [
        "Having created this data frame of summary statistics for various states, it would seem obvious to join this with the ski resort data to augment it with this additional data. You will do this, but not now. In the next notebook you will be exploring the data, including the relationships between the states. For that you want a separate row for each state, as you have here, and joining the data this soon means you'd need to separate and eliminate redundances in the state data when you wanted it."
      ]
    },
    {
      "cell_type": "markdown",
      "metadata": {
        "id": "0-BqrkX0AzfF",
        "colab_type": "text"
      },
      "source": [
        "## 2.11 Target Feature<a id='2.11_Target_Feature'></a>"
      ]
    },
    {
      "cell_type": "markdown",
      "metadata": {
        "id": "s48gSUFxAzfF",
        "colab_type": "text"
      },
      "source": [
        "Finally, what will your target be when modelling ticket price? What relationship is there between weekday and weekend prices?"
      ]
    },
    {
      "cell_type": "code",
      "metadata": {
        "id": "PhJ79y0vAzfG",
        "colab_type": "code",
        "colab": {}
      },
      "source": [
        "#Code task 36#\n",
        "#Use ski_data's `plot()` method to create a scatterplot (kind='scatter') with 'AdultWeekday' on the x-axis and\n",
        "#'AdultWeekend' on the y-axis\n",
        "ski_data.___(x=___, y=___, kind=___);"
      ],
      "execution_count": null,
      "outputs": []
    },
    {
      "cell_type": "markdown",
      "metadata": {
        "id": "Jl3_5oeGAzfH",
        "colab_type": "text"
      },
      "source": [
        "A couple of observations can be made. Firstly, there is a clear line where weekend and weekday prices are equal. Weekend prices being higher than weekday prices seem restricted to sub $100 resorts. Recall from the boxplot earlier that the distribution for weekday and weekend prices in Montana seemed equal. Is this confirmed in the actual data for each resort? Big Mountain resort is in Montana, so the relationship between these quantities in this state are particularly relevant."
      ]
    },
    {
      "cell_type": "code",
      "metadata": {
        "id": "duRHPwEFAzfH",
        "colab_type": "code",
        "colab": {}
      },
      "source": [
        "#Code task 37#\n",
        "#Use the loc accessor on ski_data to print the 'AdultWeekend' and 'AdultWeekday' columns for Montana only\n",
        "ski_data.___[ski_data.state == ___, [___, ___]]"
      ],
      "execution_count": null,
      "outputs": []
    },
    {
      "cell_type": "markdown",
      "metadata": {
        "id": "pvyvcdTUAzfI",
        "colab_type": "text"
      },
      "source": [
        "Is there any reason to prefer weekend or weekday prices? Which is missing the least?"
      ]
    },
    {
      "cell_type": "code",
      "metadata": {
        "id": "QRhYi81BAzfK",
        "colab_type": "code",
        "colab": {}
      },
      "source": [
        "ski_data[['AdultWeekend', 'AdultWeekday']].isnull().sum()"
      ],
      "execution_count": null,
      "outputs": []
    },
    {
      "cell_type": "markdown",
      "metadata": {
        "id": "ASclj8uoAzfM",
        "colab_type": "text"
      },
      "source": [
        "Weekend prices have the least missing values of the two, so drop the weekday prices and then keep just the rows that have weekend price."
      ]
    },
    {
      "cell_type": "code",
      "metadata": {
        "id": "DQMfu9TEAzfM",
        "colab_type": "code",
        "colab": {}
      },
      "source": [
        "ski_data.drop(columns='AdultWeekday', inplace=True)\n",
        "ski_data.dropna(subset=['AdultWeekend'], inplace=True)"
      ],
      "execution_count": null,
      "outputs": []
    },
    {
      "cell_type": "code",
      "metadata": {
        "id": "qP2z-ACXAzfO",
        "colab_type": "code",
        "colab": {}
      },
      "source": [
        "ski_data.shape"
      ],
      "execution_count": null,
      "outputs": []
    },
    {
      "cell_type": "markdown",
      "metadata": {
        "id": "RBks2DaXAzfQ",
        "colab_type": "text"
      },
      "source": [
        "Perform a final quick check on the data."
      ]
    },
    {
      "cell_type": "markdown",
      "metadata": {
        "id": "YzATSQ0MAzfQ",
        "colab_type": "text"
      },
      "source": [
        "### 2.11.1 Number Of Missing Values By Row - Resort<a id='2.11.1_Number_Of_Missing_Values_By_Row_-_Resort'></a>"
      ]
    },
    {
      "cell_type": "markdown",
      "metadata": {
        "id": "buTzZttVAzfR",
        "colab_type": "text"
      },
      "source": [
        "Having dropped rows missing the desired target ticket price, what degree of missingness do you have for the remaining rows?"
      ]
    },
    {
      "cell_type": "code",
      "metadata": {
        "id": "X0f9TjXZAzfS",
        "colab_type": "code",
        "colab": {}
      },
      "source": [
        "missing = pd.concat([ski_data.isnull().sum(axis=1), 100 * ski_data.isnull().mean(axis=1)], axis=1)\n",
        "missing.columns=['count', '%']\n",
        "missing.sort_values(by='count', ascending=False).head(10)"
      ],
      "execution_count": null,
      "outputs": []
    },
    {
      "cell_type": "markdown",
      "metadata": {
        "id": "uNgKUY7aAzfU",
        "colab_type": "text"
      },
      "source": [
        "These seem possibly curiously quantized..."
      ]
    },
    {
      "cell_type": "code",
      "metadata": {
        "id": "YaMaB196AzfU",
        "colab_type": "code",
        "colab": {}
      },
      "source": [
        "missing['%'].unique()"
      ],
      "execution_count": null,
      "outputs": []
    },
    {
      "cell_type": "markdown",
      "metadata": {
        "id": "cGkLnxUpAzfX",
        "colab_type": "text"
      },
      "source": [
        "Yes, the percentage of missing values per row appear in multiples of 4."
      ]
    },
    {
      "cell_type": "code",
      "metadata": {
        "id": "MErOMdMbAzfX",
        "colab_type": "code",
        "colab": {}
      },
      "source": [
        "missing['%'].value_counts()"
      ],
      "execution_count": null,
      "outputs": []
    },
    {
      "cell_type": "markdown",
      "metadata": {
        "id": "rEJKCC2rAzfZ",
        "colab_type": "text"
      },
      "source": [
        "This is almost as if values have been removed artificially... Nevertheless, what you don't know is how useful the missing features are in predicting ticket price. You shouldn't just drop rows that are missing several useless features."
      ]
    },
    {
      "cell_type": "code",
      "metadata": {
        "id": "kveqPkeaAzfZ",
        "colab_type": "code",
        "colab": {}
      },
      "source": [
        "ski_data.info()"
      ],
      "execution_count": null,
      "outputs": []
    },
    {
      "cell_type": "markdown",
      "metadata": {
        "id": "9aLWH0mTAzfc",
        "colab_type": "text"
      },
      "source": [
        "There are still some missing values, and it's good to be aware of this, but leave them as is for now."
      ]
    },
    {
      "cell_type": "markdown",
      "metadata": {
        "id": "BEGa5k14Azfc",
        "colab_type": "text"
      },
      "source": [
        "## 2.12 Save data<a id='2.12_Save_data'></a>"
      ]
    },
    {
      "cell_type": "code",
      "metadata": {
        "id": "UpG-H2ZFAzfc",
        "colab_type": "code",
        "colab": {}
      },
      "source": [
        "ski_data.shape"
      ],
      "execution_count": null,
      "outputs": []
    },
    {
      "cell_type": "markdown",
      "metadata": {
        "id": "ExihmdjaAzfe",
        "colab_type": "text"
      },
      "source": [
        "Save this to your data directory, separately. Note that you were provided with the data in `raw_data` and you should saving derived data in a separate location. This guards against overwriting our original data."
      ]
    },
    {
      "cell_type": "code",
      "metadata": {
        "id": "PNp9IrRKAzfe",
        "colab_type": "code",
        "colab": {}
      },
      "source": [
        "datapath = 'data'\n",
        "# renaming the output data directory and re-running this notebook, for example,\n",
        "# will recreate this (empty) directory and resave the data files.\n",
        "# NB this is not a substitute for a modern data pipeline, for which there are\n",
        "# various tools. However, for our purposes here, and often in a \"one off\" analysis,\n",
        "# this is useful because we have to deliberately move/delete our data in order\n",
        "# to overwrite it.\n",
        "if not os.path.exists(datapath):\n",
        "    os.mkdir(datapath)"
      ],
      "execution_count": null,
      "outputs": []
    },
    {
      "cell_type": "code",
      "metadata": {
        "id": "CBOIfePmAzfg",
        "colab_type": "code",
        "colab": {}
      },
      "source": [
        "datapath_skidata = os.path.join(datapath, 'ski_data_cleaned.csv')\n",
        "if not os.path.exists(datapath_skidata):\n",
        "    ski_data.to_csv(datapath_skidata, index=False)"
      ],
      "execution_count": null,
      "outputs": []
    },
    {
      "cell_type": "code",
      "metadata": {
        "id": "jrRWTsjnAzfh",
        "colab_type": "code",
        "colab": {}
      },
      "source": [
        "datapath_states = os.path.join(datapath, 'state_summary.csv')\n",
        "if not os.path.exists(datapath_states):\n",
        "    state_summary.to_csv(datapath_states, index=False)"
      ],
      "execution_count": null,
      "outputs": []
    },
    {
      "cell_type": "markdown",
      "metadata": {
        "id": "WiSVu3UHAzfi",
        "colab_type": "text"
      },
      "source": [
        "## 2.13 Summary<a id='2.13_Summary'></a>"
      ]
    },
    {
      "cell_type": "markdown",
      "metadata": {
        "id": "c_BlxQAYAzfi",
        "colab_type": "text"
      },
      "source": [
        "**Q: 3** Write a summary statement that highlights the key processes and findings from this notebook. This should include information such as the original number of rows in the data, whether our own resort was actually present etc. What columns, if any, have been removed? Any rows? Summarise the reasons why. Were any other issues found? What remedial actions did you take? State where you are in the project. Can you confirm what the target feature is for your desire to predict ticket price? How many rows were left in the data? Hint: this is a great opportunity to reread your notebook, check all cells have been executed in order and from a \"blank slate\" (restarting the kernel will do this), and that your workflow makes sense and follows a logical pattern. As you do this you can pull out salient information for inclusion in this summary. Thus, this section will provide an important overview of \"what\" and \"why\" without having to dive into the \"how\" or any unproductive or inconclusive steps along the way."
      ]
    },
    {
      "cell_type": "markdown",
      "metadata": {
        "id": "u2f1TE8NAzfj",
        "colab_type": "text"
      },
      "source": [
        "**A: 3** Your answer here"
      ]
    }
  ]
}