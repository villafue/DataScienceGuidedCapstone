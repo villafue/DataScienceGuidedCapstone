{
  "nbformat": 4,
  "nbformat_minor": 0,
  "metadata": {
    "kernelspec": {
      "display_name": "Python 3",
      "language": "python",
      "name": "python3"
    },
    "language_info": {
      "codemirror_mode": {
        "name": "ipython",
        "version": 3
      },
      "file_extension": ".py",
      "mimetype": "text/x-python",
      "name": "python",
      "nbconvert_exporter": "python",
      "pygments_lexer": "ipython3",
      "version": "3.7.4"
    },
    "colab": {
      "name": "04_preprocessing_and_training.ipynb",
      "provenance": [],
      "toc_visible": true,
      "include_colab_link": true
    }
  },
  "cells": [
    {
      "cell_type": "markdown",
      "metadata": {
        "id": "view-in-github",
        "colab_type": "text"
      },
      "source": [
        "<a href=\"https://colab.research.google.com/github/villafue/DataScienceGuidedCapstone/blob/master/Step%20Four%20-%20Preprocessing%20and%20Training/04_preprocessing_and_training.ipynb\" target=\"_parent\"><img src=\"https://colab.research.google.com/assets/colab-badge.svg\" alt=\"Open In Colab\"/></a>"
      ]
    },
    {
      "cell_type": "markdown",
      "metadata": {
        "id": "YenasMUo-joZ",
        "colab_type": "text"
      },
      "source": [
        "# 4 Pre-Processing and Training Data<a id='4_Pre-Processing_and_Training_Data'></a>"
      ]
    },
    {
      "cell_type": "markdown",
      "metadata": {
        "id": "oLLeYCFc-joa",
        "colab_type": "text"
      },
      "source": [
        "## 4.1 Contents<a id='4.1_Contents'></a>\n",
        "* [4 Pre-Processing and Training Data](#4_Pre-Processing_and_Training_Data)\n",
        "  * [4.1 Contents](#4.1_Contents)\n",
        "  * [4.2 Introduction](#4.2_Introduction)\n",
        "  * [4.3 Imports](#4.3_Imports)\n",
        "  * [4.4 Load Data](#4.4_Load_Data)\n",
        "  * [4.5 Extract Big Mountain Data](#4.5_Extract_Big_Mountain_Data)\n",
        "  * [4.6 Train/Test Split](#4.6_Train/Test_Split)\n",
        "  * [4.7 Initial Not-Even-A-Model](#4.7_Initial_Not-Even-A-Model)\n",
        "    * [4.7.1 Metrics](#4.7.1_Metrics)\n",
        "      * [4.7.1.1 R-squared, or coefficient of determination](#4.7.1.1_R-squared,_or_coefficient_of_determination)\n",
        "      * [4.7.1.2 Mean Absolute Error](#4.7.1.2_Mean_Absolute_Error)\n",
        "      * [4.7.1.3 Mean Squared Error](#4.7.1.3_Mean_Squared_Error)\n",
        "    * [4.7.2 sklearn metrics](#4.7.2_sklearn_metrics)\n",
        "        * [4.7.2.0.1 R-squared](#4.7.2.0.1_R-squared)\n",
        "        * [4.7.2.0.2 Mean absolute error](#4.7.2.0.2_Mean_absolute_error)\n",
        "        * [4.7.2.0.3 Mean squared error](#4.7.2.0.3_Mean_squared_error)\n",
        "    * [4.7.3 Note On Calculating Metrics](#4.7.3_Note_On_Calculating_Metrics)\n",
        "  * [4.8 Initial Models](#4.8_Initial_Models)\n",
        "    * [4.8.1 Imputing missing feature (predictor) values](#4.8.1_Imputing_missing_feature_(predictor)_values)\n",
        "      * [4.8.1.1 Impute missing values with median](#4.8.1.1_Impute_missing_values_with_median)\n",
        "        * [4.8.1.1.1 Learn the values to impute from the train set](#4.8.1.1.1_Learn_the_values_to_impute_from_the_train_set)\n",
        "        * [4.8.1.1.2 Apply the imputation to both train and test splits](#4.8.1.1.2_Apply_the_imputation_to_both_train_and_test_splits)\n",
        "        * [4.8.1.1.3 Scale the data](#4.8.1.1.3_Scale_the_data)\n",
        "        * [4.8.1.1.4 Train the model on the train split](#4.8.1.1.4_Train_the_model_on_the_train_split)\n",
        "        * [4.8.1.1.5 Make predictions using the model on both train and test splits](#4.8.1.1.5_Make_predictions_using_the_model_on_both_train_and_test_splits)\n",
        "        * [4.8.1.1.6 Assess model performance](#4.8.1.1.6_Assess_model_performance)\n",
        "      * [4.8.1.2 Impute missing values with the mean](#4.8.1.2_Impute_missing_values_with_the_mean)\n",
        "        * [4.8.1.2.1 Learn the values to impute from the train set](#4.8.1.2.1_Learn_the_values_to_impute_from_the_train_set)\n",
        "        * [4.8.1.2.2 Apply the imputation to both train and test splits](#4.8.1.2.2_Apply_the_imputation_to_both_train_and_test_splits)\n",
        "        * [4.8.1.2.3 Scale the data](#4.8.1.2.3_Scale_the_data)\n",
        "        * [4.8.1.2.4 Train the model on the train split](#4.8.1.2.4_Train_the_model_on_the_train_split)\n",
        "        * [4.8.1.2.5 Make predictions using the model on both train and test splits](#4.8.1.2.5_Make_predictions_using_the_model_on_both_train_and_test_splits)\n",
        "        * [4.8.1.2.6 Assess model performance](#4.8.1.2.6_Assess_model_performance)\n",
        "    * [4.8.2 Pipelines](#4.8.2_Pipelines)\n",
        "      * [4.8.2.1 Define the pipeline](#4.8.2.1_Define_the_pipeline)\n",
        "      * [4.8.2.2 Fit the pipeline](#4.8.2.2_Fit_the_pipeline)\n",
        "      * [4.8.2.3 Make predictions on the train and test sets](#4.8.2.3_Make_predictions_on_the_train_and_test_sets)\n",
        "      * [4.8.2.4 Assess performance](#4.8.2.4_Assess_performance)\n",
        "  * [4.9 Refining The Linear Model](#4.9_Refining_The_Linear_Model)\n",
        "    * [4.9.1 Define the pipeline](#4.9.1_Define_the_pipeline)\n",
        "    * [4.9.2 Fit the pipeline](#4.9.2_Fit_the_pipeline)\n",
        "    * [4.9.3 Assess performance on the train and test set](#4.9.3_Assess_performance_on_the_train_and_test_set)\n",
        "    * [4.9.4 Define a new pipeline to select a different number of features](#4.9.4_Define_a_new_pipeline_to_select_a_different_number_of_features)\n",
        "    * [4.9.5 Fit the pipeline](#4.9.5_Fit_the_pipeline)\n",
        "    * [4.9.6 Assess performance on train and test data](#4.9.6_Assess_performance_on_train_and_test_data)\n",
        "    * [4.9.7 Assessing performance using cross-validation](#4.9.7_Assessing_performance_using_cross-validation)\n",
        "    * [4.9.8 Hyperparameter search using GridSearchCV](#4.9.8_Hyperparameter_search_using_GridSearchCV)\n",
        "  * [4.10 Random Forest Model](#4.10_Random_Forest_Model)\n",
        "    * [4.10.1 Define the pipeline](#4.10.1_Define_the_pipeline)\n",
        "    * [4.10.2 Fit and assess performance using cross-validation](#4.10.2_Fit_and_assess_performance_using_cross-validation)\n",
        "    * [4.10.3 Hyperparameter search using GridSearchCV](#4.10.3_Hyperparameter_search_using_GridSearchCV)\n",
        "  * [4.11 Final Model Selection](#4.11_Final_Model_Selection)\n",
        "    * [4.11.1 Linear regression model performance](#4.11.1_Linear_regression_model_performance)\n",
        "    * [4.11.2 Random forest regression model performance](#4.11.2_Random_forest_regression_model_performance)\n",
        "    * [4.11.3 Conclusion](#4.11.3_Conclusion)\n",
        "  * [4.12 Data quantity assessment](#4.12_Data_quantity_assessment)\n",
        "  * [4.13 Save best model object from pipeline](#4.13_Save_best_model_object_from_pipeline)\n",
        "  * [4.14 Summary](#4.14_Summary)\n"
      ]
    },
    {
      "cell_type": "markdown",
      "metadata": {
        "id": "RlsOadoA-joe",
        "colab_type": "text"
      },
      "source": [
        "## 4.2 Introduction<a id='4.2_Introduction'></a>"
      ]
    },
    {
      "cell_type": "markdown",
      "metadata": {
        "id": "6AHB8V_P-jof",
        "colab_type": "text"
      },
      "source": [
        "In preceding notebooks, performed preliminary assessments of data quality and refined the question to be answered. You found a small number of data values that gave clear choices about whether to replace values or drop a whole row. You determined that predicting the adult weekend ticket price was your primary aim. You threw away records with missing price data, but not before making the most of the other available data to look for any patterns between the states. You didn't see any and decided to treat all states equally; the state label didn't seem to be particularly useful.\n",
        "\n",
        "In this notebook you'll start to build machine learning models. Before even starting with learning a machine learning model, however, start by considering how useful the mean value is as a predictor. This is more than just a pedagogical device. You never want to go to stakeholders with a machine learning model only to have the CEO point out that it performs worse than just guessing the average! Your first model is a baseline performance comparitor for any subsequent model. You then build up the process of efficiently and robustly creating and assessing models against it. The development we lay out may be little slower than in the real world, but this step of the capstone is definitely more than just instructional. It is good practice to build up an understanding that the machine learning pipelines you build work as expected. You can validate steps with your own functions for checking expected equivalence between, say, pandas and sklearn implementations."
      ]
    },
    {
      "cell_type": "markdown",
      "metadata": {
        "id": "C4VuxxwP-jog",
        "colab_type": "text"
      },
      "source": [
        "## 4.3 Imports<a id='4.3_Imports'></a>"
      ]
    },
    {
      "cell_type": "code",
      "metadata": {
        "id": "5w7oKnVH-jog",
        "colab_type": "code",
        "colab": {
          "base_uri": "https://localhost:8080/",
          "height": 70
        },
        "outputId": "c8cb9bbd-5e95-4933-952c-92c8d05af10b"
      },
      "source": [
        "import pandas as pd\n",
        "import numpy as np\n",
        "import os\n",
        "import pickle\n",
        "import matplotlib.pyplot as plt\n",
        "import seaborn as sns\n",
        "from sklearn import __version__ as sklearn_version\n",
        "from sklearn.decomposition import PCA\n",
        "from sklearn.preprocessing import scale\n",
        "from sklearn.model_selection import train_test_split, cross_validate, GridSearchCV, learning_curve\n",
        "from sklearn.preprocessing import StandardScaler, MinMaxScaler\n",
        "from sklearn.dummy import DummyRegressor\n",
        "from sklearn.linear_model import LinearRegression\n",
        "from sklearn.ensemble import RandomForestRegressor\n",
        "from sklearn.metrics import r2_score, mean_squared_error, mean_absolute_error\n",
        "from sklearn.pipeline import make_pipeline\n",
        "from sklearn.impute import SimpleImputer\n",
        "from sklearn.feature_selection import SelectKBest, f_regression\n",
        "import datetime\n",
        "from IPython.display import display\n",
        "pd.set_option('display.notebook_repr_html', True)"
      ],
      "execution_count": 1,
      "outputs": [
        {
          "output_type": "stream",
          "text": [
            "/usr/local/lib/python3.6/dist-packages/statsmodels/tools/_testing.py:19: FutureWarning: pandas.util.testing is deprecated. Use the functions in the public API at pandas.testing instead.\n",
            "  import pandas.util.testing as tm\n"
          ],
          "name": "stderr"
        }
      ]
    },
    {
      "cell_type": "code",
      "metadata": {
        "id": "K2Oj6jnG-qnS",
        "colab_type": "code",
        "colab": {}
      },
      "source": [
        "plt.rcParams.update(plt.rcParamsDefault)\n",
        "%matplotlib inline\n",
        "plt.style.use(['seaborn-whitegrid'])"
      ],
      "execution_count": 2,
      "outputs": []
    },
    {
      "cell_type": "markdown",
      "metadata": {
        "id": "KSf95vMn-jom",
        "colab_type": "text"
      },
      "source": [
        "## 4.4 Load Data<a id='4.4_Load_Data'></a>"
      ]
    },
    {
      "cell_type": "code",
      "metadata": {
        "scrolled": true,
        "id": "P8g0EjDG-jon",
        "colab_type": "code",
        "colab": {
          "base_uri": "https://localhost:8080/",
          "height": 1000
        },
        "outputId": "f66ac56c-ac86-4178-c27f-979540425609"
      },
      "source": [
        "ski_data = pd.read_csv('https://raw.githubusercontent.com/villafue/DataScienceGuidedCapstone/master/raw_data/ski_data_step3_features.csv')\n",
        "ski_data.head().T"
      ],
      "execution_count": 3,
      "outputs": [
        {
          "output_type": "execute_result",
          "data": {
            "text/html": [
              "<div>\n",
              "<style scoped>\n",
              "    .dataframe tbody tr th:only-of-type {\n",
              "        vertical-align: middle;\n",
              "    }\n",
              "\n",
              "    .dataframe tbody tr th {\n",
              "        vertical-align: top;\n",
              "    }\n",
              "\n",
              "    .dataframe thead th {\n",
              "        text-align: right;\n",
              "    }\n",
              "</style>\n",
              "<table border=\"1\" class=\"dataframe\">\n",
              "  <thead>\n",
              "    <tr style=\"text-align: right;\">\n",
              "      <th></th>\n",
              "      <th>0</th>\n",
              "      <th>1</th>\n",
              "      <th>2</th>\n",
              "      <th>3</th>\n",
              "      <th>4</th>\n",
              "    </tr>\n",
              "  </thead>\n",
              "  <tbody>\n",
              "    <tr>\n",
              "      <th>Name</th>\n",
              "      <td>Alyeska Resort</td>\n",
              "      <td>Eaglecrest Ski Area</td>\n",
              "      <td>Hilltop Ski Area</td>\n",
              "      <td>Arizona Snowbowl</td>\n",
              "      <td>Sunrise Park Resort</td>\n",
              "    </tr>\n",
              "    <tr>\n",
              "      <th>Region</th>\n",
              "      <td>Alaska</td>\n",
              "      <td>Alaska</td>\n",
              "      <td>Alaska</td>\n",
              "      <td>Arizona</td>\n",
              "      <td>Arizona</td>\n",
              "    </tr>\n",
              "    <tr>\n",
              "      <th>state</th>\n",
              "      <td>Alaska</td>\n",
              "      <td>Alaska</td>\n",
              "      <td>Alaska</td>\n",
              "      <td>Arizona</td>\n",
              "      <td>Arizona</td>\n",
              "    </tr>\n",
              "    <tr>\n",
              "      <th>summit_elev</th>\n",
              "      <td>3939</td>\n",
              "      <td>2600</td>\n",
              "      <td>2090</td>\n",
              "      <td>11500</td>\n",
              "      <td>11100</td>\n",
              "    </tr>\n",
              "    <tr>\n",
              "      <th>vertical_drop</th>\n",
              "      <td>2500</td>\n",
              "      <td>1540</td>\n",
              "      <td>294</td>\n",
              "      <td>2300</td>\n",
              "      <td>1800</td>\n",
              "    </tr>\n",
              "    <tr>\n",
              "      <th>base_elev</th>\n",
              "      <td>250</td>\n",
              "      <td>1200</td>\n",
              "      <td>1796</td>\n",
              "      <td>9200</td>\n",
              "      <td>9200</td>\n",
              "    </tr>\n",
              "    <tr>\n",
              "      <th>trams</th>\n",
              "      <td>1</td>\n",
              "      <td>0</td>\n",
              "      <td>0</td>\n",
              "      <td>0</td>\n",
              "      <td>0</td>\n",
              "    </tr>\n",
              "    <tr>\n",
              "      <th>fastSixes</th>\n",
              "      <td>0</td>\n",
              "      <td>0</td>\n",
              "      <td>0</td>\n",
              "      <td>1</td>\n",
              "      <td>0</td>\n",
              "    </tr>\n",
              "    <tr>\n",
              "      <th>fastQuads</th>\n",
              "      <td>2</td>\n",
              "      <td>0</td>\n",
              "      <td>0</td>\n",
              "      <td>0</td>\n",
              "      <td>1</td>\n",
              "    </tr>\n",
              "    <tr>\n",
              "      <th>quad</th>\n",
              "      <td>2</td>\n",
              "      <td>0</td>\n",
              "      <td>0</td>\n",
              "      <td>2</td>\n",
              "      <td>2</td>\n",
              "    </tr>\n",
              "    <tr>\n",
              "      <th>triple</th>\n",
              "      <td>0</td>\n",
              "      <td>0</td>\n",
              "      <td>1</td>\n",
              "      <td>2</td>\n",
              "      <td>3</td>\n",
              "    </tr>\n",
              "    <tr>\n",
              "      <th>double</th>\n",
              "      <td>0</td>\n",
              "      <td>4</td>\n",
              "      <td>0</td>\n",
              "      <td>1</td>\n",
              "      <td>1</td>\n",
              "    </tr>\n",
              "    <tr>\n",
              "      <th>surface</th>\n",
              "      <td>2</td>\n",
              "      <td>0</td>\n",
              "      <td>2</td>\n",
              "      <td>2</td>\n",
              "      <td>0</td>\n",
              "    </tr>\n",
              "    <tr>\n",
              "      <th>total_chairs</th>\n",
              "      <td>7</td>\n",
              "      <td>4</td>\n",
              "      <td>3</td>\n",
              "      <td>8</td>\n",
              "      <td>7</td>\n",
              "    </tr>\n",
              "    <tr>\n",
              "      <th>Runs</th>\n",
              "      <td>76</td>\n",
              "      <td>36</td>\n",
              "      <td>13</td>\n",
              "      <td>55</td>\n",
              "      <td>65</td>\n",
              "    </tr>\n",
              "    <tr>\n",
              "      <th>TerrainParks</th>\n",
              "      <td>2</td>\n",
              "      <td>1</td>\n",
              "      <td>1</td>\n",
              "      <td>4</td>\n",
              "      <td>2</td>\n",
              "    </tr>\n",
              "    <tr>\n",
              "      <th>LongestRun_mi</th>\n",
              "      <td>1</td>\n",
              "      <td>2</td>\n",
              "      <td>1</td>\n",
              "      <td>2</td>\n",
              "      <td>1.2</td>\n",
              "    </tr>\n",
              "    <tr>\n",
              "      <th>SkiableTerrain_ac</th>\n",
              "      <td>1610</td>\n",
              "      <td>640</td>\n",
              "      <td>30</td>\n",
              "      <td>777</td>\n",
              "      <td>800</td>\n",
              "    </tr>\n",
              "    <tr>\n",
              "      <th>Snow Making_ac</th>\n",
              "      <td>113</td>\n",
              "      <td>60</td>\n",
              "      <td>30</td>\n",
              "      <td>104</td>\n",
              "      <td>80</td>\n",
              "    </tr>\n",
              "    <tr>\n",
              "      <th>daysOpenLastYear</th>\n",
              "      <td>150</td>\n",
              "      <td>45</td>\n",
              "      <td>150</td>\n",
              "      <td>122</td>\n",
              "      <td>115</td>\n",
              "    </tr>\n",
              "    <tr>\n",
              "      <th>yearsOpen</th>\n",
              "      <td>60</td>\n",
              "      <td>44</td>\n",
              "      <td>36</td>\n",
              "      <td>81</td>\n",
              "      <td>49</td>\n",
              "    </tr>\n",
              "    <tr>\n",
              "      <th>averageSnowfall</th>\n",
              "      <td>669</td>\n",
              "      <td>350</td>\n",
              "      <td>69</td>\n",
              "      <td>260</td>\n",
              "      <td>250</td>\n",
              "    </tr>\n",
              "    <tr>\n",
              "      <th>AdultWeekend</th>\n",
              "      <td>85</td>\n",
              "      <td>53</td>\n",
              "      <td>34</td>\n",
              "      <td>89</td>\n",
              "      <td>78</td>\n",
              "    </tr>\n",
              "    <tr>\n",
              "      <th>projectedDaysOpen</th>\n",
              "      <td>150</td>\n",
              "      <td>90</td>\n",
              "      <td>152</td>\n",
              "      <td>122</td>\n",
              "      <td>104</td>\n",
              "    </tr>\n",
              "    <tr>\n",
              "      <th>NightSkiing_ac</th>\n",
              "      <td>550</td>\n",
              "      <td>NaN</td>\n",
              "      <td>30</td>\n",
              "      <td>NaN</td>\n",
              "      <td>80</td>\n",
              "    </tr>\n",
              "    <tr>\n",
              "      <th>resorts_per_state</th>\n",
              "      <td>3</td>\n",
              "      <td>3</td>\n",
              "      <td>3</td>\n",
              "      <td>2</td>\n",
              "      <td>2</td>\n",
              "    </tr>\n",
              "    <tr>\n",
              "      <th>resorts_per_100kcapita</th>\n",
              "      <td>0.410091</td>\n",
              "      <td>0.410091</td>\n",
              "      <td>0.410091</td>\n",
              "      <td>0.0274774</td>\n",
              "      <td>0.0274774</td>\n",
              "    </tr>\n",
              "    <tr>\n",
              "      <th>resorts_per_100ksq_mile</th>\n",
              "      <td>0.450867</td>\n",
              "      <td>0.450867</td>\n",
              "      <td>0.450867</td>\n",
              "      <td>1.75454</td>\n",
              "      <td>1.75454</td>\n",
              "    </tr>\n",
              "    <tr>\n",
              "      <th>resort_skiable_area_ac_state_ratio</th>\n",
              "      <td>0.70614</td>\n",
              "      <td>0.280702</td>\n",
              "      <td>0.0131579</td>\n",
              "      <td>0.492708</td>\n",
              "      <td>0.507292</td>\n",
              "    </tr>\n",
              "    <tr>\n",
              "      <th>resort_days_open_state_ratio</th>\n",
              "      <td>0.434783</td>\n",
              "      <td>0.130435</td>\n",
              "      <td>0.434783</td>\n",
              "      <td>0.514768</td>\n",
              "      <td>0.485232</td>\n",
              "    </tr>\n",
              "    <tr>\n",
              "      <th>resort_terrain_park_state_ratio</th>\n",
              "      <td>0.5</td>\n",
              "      <td>0.25</td>\n",
              "      <td>0.25</td>\n",
              "      <td>0.666667</td>\n",
              "      <td>0.333333</td>\n",
              "    </tr>\n",
              "    <tr>\n",
              "      <th>resort_night_skiing_state_ratio</th>\n",
              "      <td>0.948276</td>\n",
              "      <td>NaN</td>\n",
              "      <td>0.0517241</td>\n",
              "      <td>NaN</td>\n",
              "      <td>1</td>\n",
              "    </tr>\n",
              "    <tr>\n",
              "      <th>total_chairs_runs_ratio</th>\n",
              "      <td>0.0921053</td>\n",
              "      <td>0.111111</td>\n",
              "      <td>0.230769</td>\n",
              "      <td>0.145455</td>\n",
              "      <td>0.107692</td>\n",
              "    </tr>\n",
              "    <tr>\n",
              "      <th>total_chairs_skiable_ratio</th>\n",
              "      <td>0.00434783</td>\n",
              "      <td>0.00625</td>\n",
              "      <td>0.1</td>\n",
              "      <td>0.010296</td>\n",
              "      <td>0.00875</td>\n",
              "    </tr>\n",
              "    <tr>\n",
              "      <th>fastQuads_runs_ratio</th>\n",
              "      <td>0.0263158</td>\n",
              "      <td>0</td>\n",
              "      <td>0</td>\n",
              "      <td>0</td>\n",
              "      <td>0.0153846</td>\n",
              "    </tr>\n",
              "    <tr>\n",
              "      <th>fastQuads_skiable_ratio</th>\n",
              "      <td>0.00124224</td>\n",
              "      <td>0</td>\n",
              "      <td>0</td>\n",
              "      <td>0</td>\n",
              "      <td>0.00125</td>\n",
              "    </tr>\n",
              "  </tbody>\n",
              "</table>\n",
              "</div>"
            ],
            "text/plain": [
              "                                                 0  ...                    4\n",
              "Name                                Alyeska Resort  ...  Sunrise Park Resort\n",
              "Region                                      Alaska  ...              Arizona\n",
              "state                                       Alaska  ...              Arizona\n",
              "summit_elev                                   3939  ...                11100\n",
              "vertical_drop                                 2500  ...                 1800\n",
              "base_elev                                      250  ...                 9200\n",
              "trams                                            1  ...                    0\n",
              "fastSixes                                        0  ...                    0\n",
              "fastQuads                                        2  ...                    1\n",
              "quad                                             2  ...                    2\n",
              "triple                                           0  ...                    3\n",
              "double                                           0  ...                    1\n",
              "surface                                          2  ...                    0\n",
              "total_chairs                                     7  ...                    7\n",
              "Runs                                            76  ...                   65\n",
              "TerrainParks                                     2  ...                    2\n",
              "LongestRun_mi                                    1  ...                  1.2\n",
              "SkiableTerrain_ac                             1610  ...                  800\n",
              "Snow Making_ac                                 113  ...                   80\n",
              "daysOpenLastYear                               150  ...                  115\n",
              "yearsOpen                                       60  ...                   49\n",
              "averageSnowfall                                669  ...                  250\n",
              "AdultWeekend                                    85  ...                   78\n",
              "projectedDaysOpen                              150  ...                  104\n",
              "NightSkiing_ac                                 550  ...                   80\n",
              "resorts_per_state                                3  ...                    2\n",
              "resorts_per_100kcapita                    0.410091  ...            0.0274774\n",
              "resorts_per_100ksq_mile                   0.450867  ...              1.75454\n",
              "resort_skiable_area_ac_state_ratio         0.70614  ...             0.507292\n",
              "resort_days_open_state_ratio              0.434783  ...             0.485232\n",
              "resort_terrain_park_state_ratio                0.5  ...             0.333333\n",
              "resort_night_skiing_state_ratio           0.948276  ...                    1\n",
              "total_chairs_runs_ratio                  0.0921053  ...             0.107692\n",
              "total_chairs_skiable_ratio              0.00434783  ...              0.00875\n",
              "fastQuads_runs_ratio                     0.0263158  ...            0.0153846\n",
              "fastQuads_skiable_ratio                 0.00124224  ...              0.00125\n",
              "\n",
              "[36 rows x 5 columns]"
            ]
          },
          "metadata": {
            "tags": []
          },
          "execution_count": 3
        }
      ]
    },
    {
      "cell_type": "markdown",
      "metadata": {
        "id": "OpyIr2Ei-jos",
        "colab_type": "text"
      },
      "source": [
        "## 4.5 Extract Big Mountain Data<a id='4.5_Extract_Big_Mountain_Data'></a>"
      ]
    },
    {
      "cell_type": "markdown",
      "metadata": {
        "id": "Wn1qgaSN-jot",
        "colab_type": "text"
      },
      "source": [
        "Big Mountain is your resort. Separate it from the rest of the data to use later."
      ]
    },
    {
      "cell_type": "code",
      "metadata": {
        "id": "ZIwEck40-jou",
        "colab_type": "code",
        "colab": {}
      },
      "source": [
        "big_mountain = ski_data[ski_data.Name == 'Big Mountain Resort']"
      ],
      "execution_count": 4,
      "outputs": []
    },
    {
      "cell_type": "code",
      "metadata": {
        "id": "w2oVr66Q-joy",
        "colab_type": "code",
        "colab": {
          "base_uri": "https://localhost:8080/",
          "height": 1000
        },
        "outputId": "067f9995-9c22-454c-dd1c-e6d59f8b7022"
      },
      "source": [
        "big_mountain.T"
      ],
      "execution_count": 5,
      "outputs": [
        {
          "output_type": "execute_result",
          "data": {
            "text/html": [
              "<div>\n",
              "<style scoped>\n",
              "    .dataframe tbody tr th:only-of-type {\n",
              "        vertical-align: middle;\n",
              "    }\n",
              "\n",
              "    .dataframe tbody tr th {\n",
              "        vertical-align: top;\n",
              "    }\n",
              "\n",
              "    .dataframe thead th {\n",
              "        text-align: right;\n",
              "    }\n",
              "</style>\n",
              "<table border=\"1\" class=\"dataframe\">\n",
              "  <thead>\n",
              "    <tr style=\"text-align: right;\">\n",
              "      <th></th>\n",
              "      <th>124</th>\n",
              "    </tr>\n",
              "  </thead>\n",
              "  <tbody>\n",
              "    <tr>\n",
              "      <th>Name</th>\n",
              "      <td>Big Mountain Resort</td>\n",
              "    </tr>\n",
              "    <tr>\n",
              "      <th>Region</th>\n",
              "      <td>Montana</td>\n",
              "    </tr>\n",
              "    <tr>\n",
              "      <th>state</th>\n",
              "      <td>Montana</td>\n",
              "    </tr>\n",
              "    <tr>\n",
              "      <th>summit_elev</th>\n",
              "      <td>6817</td>\n",
              "    </tr>\n",
              "    <tr>\n",
              "      <th>vertical_drop</th>\n",
              "      <td>2353</td>\n",
              "    </tr>\n",
              "    <tr>\n",
              "      <th>base_elev</th>\n",
              "      <td>4464</td>\n",
              "    </tr>\n",
              "    <tr>\n",
              "      <th>trams</th>\n",
              "      <td>0</td>\n",
              "    </tr>\n",
              "    <tr>\n",
              "      <th>fastSixes</th>\n",
              "      <td>0</td>\n",
              "    </tr>\n",
              "    <tr>\n",
              "      <th>fastQuads</th>\n",
              "      <td>3</td>\n",
              "    </tr>\n",
              "    <tr>\n",
              "      <th>quad</th>\n",
              "      <td>2</td>\n",
              "    </tr>\n",
              "    <tr>\n",
              "      <th>triple</th>\n",
              "      <td>6</td>\n",
              "    </tr>\n",
              "    <tr>\n",
              "      <th>double</th>\n",
              "      <td>0</td>\n",
              "    </tr>\n",
              "    <tr>\n",
              "      <th>surface</th>\n",
              "      <td>3</td>\n",
              "    </tr>\n",
              "    <tr>\n",
              "      <th>total_chairs</th>\n",
              "      <td>14</td>\n",
              "    </tr>\n",
              "    <tr>\n",
              "      <th>Runs</th>\n",
              "      <td>105</td>\n",
              "    </tr>\n",
              "    <tr>\n",
              "      <th>TerrainParks</th>\n",
              "      <td>4</td>\n",
              "    </tr>\n",
              "    <tr>\n",
              "      <th>LongestRun_mi</th>\n",
              "      <td>3.3</td>\n",
              "    </tr>\n",
              "    <tr>\n",
              "      <th>SkiableTerrain_ac</th>\n",
              "      <td>3000</td>\n",
              "    </tr>\n",
              "    <tr>\n",
              "      <th>Snow Making_ac</th>\n",
              "      <td>600</td>\n",
              "    </tr>\n",
              "    <tr>\n",
              "      <th>daysOpenLastYear</th>\n",
              "      <td>123</td>\n",
              "    </tr>\n",
              "    <tr>\n",
              "      <th>yearsOpen</th>\n",
              "      <td>72</td>\n",
              "    </tr>\n",
              "    <tr>\n",
              "      <th>averageSnowfall</th>\n",
              "      <td>333</td>\n",
              "    </tr>\n",
              "    <tr>\n",
              "      <th>AdultWeekend</th>\n",
              "      <td>81</td>\n",
              "    </tr>\n",
              "    <tr>\n",
              "      <th>projectedDaysOpen</th>\n",
              "      <td>123</td>\n",
              "    </tr>\n",
              "    <tr>\n",
              "      <th>NightSkiing_ac</th>\n",
              "      <td>600</td>\n",
              "    </tr>\n",
              "    <tr>\n",
              "      <th>resorts_per_state</th>\n",
              "      <td>12</td>\n",
              "    </tr>\n",
              "    <tr>\n",
              "      <th>resorts_per_100kcapita</th>\n",
              "      <td>1.12278</td>\n",
              "    </tr>\n",
              "    <tr>\n",
              "      <th>resorts_per_100ksq_mile</th>\n",
              "      <td>8.16104</td>\n",
              "    </tr>\n",
              "    <tr>\n",
              "      <th>resort_skiable_area_ac_state_ratio</th>\n",
              "      <td>0.140121</td>\n",
              "    </tr>\n",
              "    <tr>\n",
              "      <th>resort_days_open_state_ratio</th>\n",
              "      <td>0.129338</td>\n",
              "    </tr>\n",
              "    <tr>\n",
              "      <th>resort_terrain_park_state_ratio</th>\n",
              "      <td>0.148148</td>\n",
              "    </tr>\n",
              "    <tr>\n",
              "      <th>resort_night_skiing_state_ratio</th>\n",
              "      <td>0.84507</td>\n",
              "    </tr>\n",
              "    <tr>\n",
              "      <th>total_chairs_runs_ratio</th>\n",
              "      <td>0.133333</td>\n",
              "    </tr>\n",
              "    <tr>\n",
              "      <th>total_chairs_skiable_ratio</th>\n",
              "      <td>0.00466667</td>\n",
              "    </tr>\n",
              "    <tr>\n",
              "      <th>fastQuads_runs_ratio</th>\n",
              "      <td>0.0285714</td>\n",
              "    </tr>\n",
              "    <tr>\n",
              "      <th>fastQuads_skiable_ratio</th>\n",
              "      <td>0.001</td>\n",
              "    </tr>\n",
              "  </tbody>\n",
              "</table>\n",
              "</div>"
            ],
            "text/plain": [
              "                                                    124\n",
              "Name                                Big Mountain Resort\n",
              "Region                                          Montana\n",
              "state                                           Montana\n",
              "summit_elev                                        6817\n",
              "vertical_drop                                      2353\n",
              "base_elev                                          4464\n",
              "trams                                                 0\n",
              "fastSixes                                             0\n",
              "fastQuads                                             3\n",
              "quad                                                  2\n",
              "triple                                                6\n",
              "double                                                0\n",
              "surface                                               3\n",
              "total_chairs                                         14\n",
              "Runs                                                105\n",
              "TerrainParks                                          4\n",
              "LongestRun_mi                                       3.3\n",
              "SkiableTerrain_ac                                  3000\n",
              "Snow Making_ac                                      600\n",
              "daysOpenLastYear                                    123\n",
              "yearsOpen                                            72\n",
              "averageSnowfall                                     333\n",
              "AdultWeekend                                         81\n",
              "projectedDaysOpen                                   123\n",
              "NightSkiing_ac                                      600\n",
              "resorts_per_state                                    12\n",
              "resorts_per_100kcapita                          1.12278\n",
              "resorts_per_100ksq_mile                         8.16104\n",
              "resort_skiable_area_ac_state_ratio             0.140121\n",
              "resort_days_open_state_ratio                   0.129338\n",
              "resort_terrain_park_state_ratio                0.148148\n",
              "resort_night_skiing_state_ratio                 0.84507\n",
              "total_chairs_runs_ratio                        0.133333\n",
              "total_chairs_skiable_ratio                   0.00466667\n",
              "fastQuads_runs_ratio                          0.0285714\n",
              "fastQuads_skiable_ratio                           0.001"
            ]
          },
          "metadata": {
            "tags": []
          },
          "execution_count": 5
        }
      ]
    },
    {
      "cell_type": "code",
      "metadata": {
        "id": "zW_yFTE8-jo4",
        "colab_type": "code",
        "colab": {
          "base_uri": "https://localhost:8080/",
          "height": 34
        },
        "outputId": "4f0a7c6e-b2b1-4280-dc5d-f9ad37c6d940"
      },
      "source": [
        "ski_data.shape"
      ],
      "execution_count": 6,
      "outputs": [
        {
          "output_type": "execute_result",
          "data": {
            "text/plain": [
              "(277, 36)"
            ]
          },
          "metadata": {
            "tags": []
          },
          "execution_count": 6
        }
      ]
    },
    {
      "cell_type": "code",
      "metadata": {
        "id": "p9sac9vR-jo8",
        "colab_type": "code",
        "colab": {}
      },
      "source": [
        "ski_data = ski_data[ski_data.Name != 'Big Mountain Resort']"
      ],
      "execution_count": 7,
      "outputs": []
    },
    {
      "cell_type": "code",
      "metadata": {
        "id": "wqktImrD-jpB",
        "colab_type": "code",
        "colab": {
          "base_uri": "https://localhost:8080/",
          "height": 34
        },
        "outputId": "46776f2b-7524-411d-f0d6-7c793cb9fc53"
      },
      "source": [
        "ski_data.shape"
      ],
      "execution_count": 8,
      "outputs": [
        {
          "output_type": "execute_result",
          "data": {
            "text/plain": [
              "(276, 36)"
            ]
          },
          "metadata": {
            "tags": []
          },
          "execution_count": 8
        }
      ]
    },
    {
      "cell_type": "markdown",
      "metadata": {
        "id": "S9hlPLxF-jqF",
        "colab_type": "text"
      },
      "source": [
        "## 4.6 Train/Test Split<a id='4.6_Train/Test_Split'></a>"
      ]
    },
    {
      "cell_type": "markdown",
      "metadata": {
        "id": "94nnaM-R-jqG",
        "colab_type": "text"
      },
      "source": [
        "So far, you've treated ski resort data as a single entity. In machine learning, when you train your model on all of your data, you end up with no data set aside to evaluate model performance. You could keep making more and more complex models that fit the data better and better and not realise you were overfitting to that one set of samples. By partitioning the data into training and testing splits, without letting a model (or missing-value imputation) learn anything about the test split, you have a somewhat independent assessment of how your model might perform in the future. An often overlooked subtlety here is that people all too frequently use the test set to assess model performance _and then compare multiple models to pick the best_. This means their overall model selection process is  fitting to one specific data set, not the test split. You could keep going, trying to get better and better performance on that one data set, but that's  where cross-validation becomes especially useful. While training models, a test split is very useful as a final check on expected future performance."
      ]
    },
    {
      "cell_type": "markdown",
      "metadata": {
        "id": "0_rabpap-jqH",
        "colab_type": "text"
      },
      "source": [
        "What partition sizes would you have with a 70/30 train/test split?"
      ]
    },
    {
      "cell_type": "code",
      "metadata": {
        "id": "Z0hRaCOo-jqH",
        "colab_type": "code",
        "colab": {
          "base_uri": "https://localhost:8080/",
          "height": 34
        },
        "outputId": "b805b6ea-862f-4381-81a6-59351698ed8b"
      },
      "source": [
        "len(ski_data) * .7, len(ski_data) * .3"
      ],
      "execution_count": 9,
      "outputs": [
        {
          "output_type": "execute_result",
          "data": {
            "text/plain": [
              "(193.2, 82.8)"
            ]
          },
          "metadata": {
            "tags": []
          },
          "execution_count": 9
        }
      ]
    },
    {
      "cell_type": "code",
      "metadata": {
        "id": "w9_ZHvKc-jqL",
        "colab_type": "code",
        "colab": {}
      },
      "source": [
        "'''\n",
        "The first parameter after train_test_split are the X values, .AdultWeekend is the y value, test size is .3 (.7 for training), and random state so we get constant results.\n",
        "'''\n",
        "X_train, X_test, y_train, y_test = train_test_split(ski_data.drop(columns='AdultWeekend'), \n",
        "                                                    ski_data.AdultWeekend, test_size=0.3, \n",
        "                                                    random_state=47)"
      ],
      "execution_count": 10,
      "outputs": []
    },
    {
      "cell_type": "code",
      "metadata": {
        "id": "K4lKBGS1-jqO",
        "colab_type": "code",
        "colab": {
          "base_uri": "https://localhost:8080/",
          "height": 34
        },
        "outputId": "c2e1a740-e1a7-44e1-9dbe-f3c26b512efc"
      },
      "source": [
        "X_train.shape, X_test.shape"
      ],
      "execution_count": 11,
      "outputs": [
        {
          "output_type": "execute_result",
          "data": {
            "text/plain": [
              "((193, 35), (83, 35))"
            ]
          },
          "metadata": {
            "tags": []
          },
          "execution_count": 11
        }
      ]
    },
    {
      "cell_type": "code",
      "metadata": {
        "id": "kJiTuDpx-jqU",
        "colab_type": "code",
        "colab": {
          "base_uri": "https://localhost:8080/",
          "height": 34
        },
        "outputId": "1a121a6e-6107-488d-b43d-9cc5c05909a7"
      },
      "source": [
        "y_train.shape, y_test.shape"
      ],
      "execution_count": 12,
      "outputs": [
        {
          "output_type": "execute_result",
          "data": {
            "text/plain": [
              "((193,), (83,))"
            ]
          },
          "metadata": {
            "tags": []
          },
          "execution_count": 12
        }
      ]
    },
    {
      "cell_type": "code",
      "metadata": {
        "id": "5gGsCZ3V-jqa",
        "colab_type": "code",
        "colab": {
          "base_uri": "https://localhost:8080/",
          "height": 34
        },
        "outputId": "257aa293-d7ba-40af-e1ef-ccabb5ed7660"
      },
      "source": [
        "#Code task 1#\n",
        "#Save the 'Name', 'state', and 'Region' columns from the train/test data into names_train and names_test\n",
        "#Then drop those columns from `X_train` and `X_test`. Use 'inplace=True'\n",
        "names_list = ['Name', 'state', 'Region']\n",
        "names_train = X_train[names_list]\n",
        "names_test = X_test[names_list]\n",
        "X_train.drop(columns=names_list, inplace=True)\n",
        "X_test.drop(columns=names_list, inplace=True)\n",
        "X_train.shape, X_test.shape"
      ],
      "execution_count": 13,
      "outputs": [
        {
          "output_type": "execute_result",
          "data": {
            "text/plain": [
              "((193, 32), (83, 32))"
            ]
          },
          "metadata": {
            "tags": []
          },
          "execution_count": 13
        }
      ]
    },
    {
      "cell_type": "markdown",
      "metadata": {
        "id": "AX9aC3mHYR2j",
        "colab_type": "text"
      },
      "source": [
        "All train-test-split does is divide the data. I can still manipulate it. Because I am not modeling any categorical features (Name, state, Region), I can set those columns aside and save it for later. Interestingly, we decided to save it post-split. We'll most probably use it in Step 5. "
      ]
    },
    {
      "cell_type": "code",
      "metadata": {
        "id": "wmY6TXZtX5bE",
        "colab_type": "code",
        "colab": {
          "base_uri": "https://localhost:8080/",
          "height": 418
        },
        "outputId": "0b65bd02-4b4b-4672-bd96-16ac842bf6e4"
      },
      "source": [
        "print(names_list)\n",
        "names_train"
      ],
      "execution_count": 14,
      "outputs": [
        {
          "output_type": "stream",
          "text": [
            "['Name', 'state', 'Region']\n"
          ],
          "name": "stdout"
        },
        {
          "output_type": "execute_result",
          "data": {
            "text/html": [
              "<div>\n",
              "<style scoped>\n",
              "    .dataframe tbody tr th:only-of-type {\n",
              "        vertical-align: middle;\n",
              "    }\n",
              "\n",
              "    .dataframe tbody tr th {\n",
              "        vertical-align: top;\n",
              "    }\n",
              "\n",
              "    .dataframe thead th {\n",
              "        text-align: right;\n",
              "    }\n",
              "</style>\n",
              "<table border=\"1\" class=\"dataframe\">\n",
              "  <thead>\n",
              "    <tr style=\"text-align: right;\">\n",
              "      <th></th>\n",
              "      <th>Name</th>\n",
              "      <th>state</th>\n",
              "      <th>Region</th>\n",
              "    </tr>\n",
              "  </thead>\n",
              "  <tbody>\n",
              "    <tr>\n",
              "      <th>108</th>\n",
              "      <td>Powder Ridge Ski Area</td>\n",
              "      <td>Minnesota</td>\n",
              "      <td>Minnesota</td>\n",
              "    </tr>\n",
              "    <tr>\n",
              "      <th>96</th>\n",
              "      <td>The Homestead</td>\n",
              "      <td>Michigan</td>\n",
              "      <td>Michigan</td>\n",
              "    </tr>\n",
              "    <tr>\n",
              "      <th>189</th>\n",
              "      <td>Beech Mountain Resort</td>\n",
              "      <td>North Carolina</td>\n",
              "      <td>North Carolina</td>\n",
              "    </tr>\n",
              "    <tr>\n",
              "      <th>232</th>\n",
              "      <td>Solitude Mountain Resort</td>\n",
              "      <td>Utah</td>\n",
              "      <td>Salt Lake City</td>\n",
              "    </tr>\n",
              "    <tr>\n",
              "      <th>1</th>\n",
              "      <td>Eaglecrest Ski Area</td>\n",
              "      <td>Alaska</td>\n",
              "      <td>Alaska</td>\n",
              "    </tr>\n",
              "    <tr>\n",
              "      <th>...</th>\n",
              "      <td>...</td>\n",
              "      <td>...</td>\n",
              "      <td>...</td>\n",
              "    </tr>\n",
              "    <tr>\n",
              "      <th>23</th>\n",
              "      <td>Monarch Mountain</td>\n",
              "      <td>Colorado</td>\n",
              "      <td>Colorado</td>\n",
              "    </tr>\n",
              "    <tr>\n",
              "      <th>180</th>\n",
              "      <td>Toggenburg Mountain</td>\n",
              "      <td>New York</td>\n",
              "      <td>New York</td>\n",
              "    </tr>\n",
              "    <tr>\n",
              "      <th>72</th>\n",
              "      <td>Wachusett Mountain Ski Area</td>\n",
              "      <td>Massachusetts</td>\n",
              "      <td>Massachusetts</td>\n",
              "    </tr>\n",
              "    <tr>\n",
              "      <th>265</th>\n",
              "      <td>Nordic Mountain</td>\n",
              "      <td>Wisconsin</td>\n",
              "      <td>Wisconsin</td>\n",
              "    </tr>\n",
              "    <tr>\n",
              "      <th>136</th>\n",
              "      <td>King Pine</td>\n",
              "      <td>New Hampshire</td>\n",
              "      <td>New Hampshire</td>\n",
              "    </tr>\n",
              "  </tbody>\n",
              "</table>\n",
              "<p>193 rows × 3 columns</p>\n",
              "</div>"
            ],
            "text/plain": [
              "                            Name           state          Region\n",
              "108        Powder Ridge Ski Area       Minnesota       Minnesota\n",
              "96                 The Homestead        Michigan        Michigan\n",
              "189        Beech Mountain Resort  North Carolina  North Carolina\n",
              "232     Solitude Mountain Resort            Utah  Salt Lake City\n",
              "1            Eaglecrest Ski Area          Alaska          Alaska\n",
              "..                           ...             ...             ...\n",
              "23              Monarch Mountain        Colorado        Colorado\n",
              "180          Toggenburg Mountain        New York        New York\n",
              "72   Wachusett Mountain Ski Area   Massachusetts   Massachusetts\n",
              "265              Nordic Mountain       Wisconsin       Wisconsin\n",
              "136                    King Pine   New Hampshire   New Hampshire\n",
              "\n",
              "[193 rows x 3 columns]"
            ]
          },
          "metadata": {
            "tags": []
          },
          "execution_count": 14
        }
      ]
    },
    {
      "cell_type": "code",
      "metadata": {
        "id": "S0qpE4S_E8tO",
        "colab_type": "code",
        "colab": {
          "base_uri": "https://localhost:8080/",
          "height": 438
        },
        "outputId": "8aa9dfbc-4016-4ea4-c4a2-c2df26dfb9f2"
      },
      "source": [
        "'''\n",
        "I didn't realize X_train was still as dataframe. I thought it was an array.\n",
        "'''\n",
        "X_train"
      ],
      "execution_count": 15,
      "outputs": [
        {
          "output_type": "execute_result",
          "data": {
            "text/html": [
              "<div>\n",
              "<style scoped>\n",
              "    .dataframe tbody tr th:only-of-type {\n",
              "        vertical-align: middle;\n",
              "    }\n",
              "\n",
              "    .dataframe tbody tr th {\n",
              "        vertical-align: top;\n",
              "    }\n",
              "\n",
              "    .dataframe thead th {\n",
              "        text-align: right;\n",
              "    }\n",
              "</style>\n",
              "<table border=\"1\" class=\"dataframe\">\n",
              "  <thead>\n",
              "    <tr style=\"text-align: right;\">\n",
              "      <th></th>\n",
              "      <th>summit_elev</th>\n",
              "      <th>vertical_drop</th>\n",
              "      <th>base_elev</th>\n",
              "      <th>trams</th>\n",
              "      <th>fastSixes</th>\n",
              "      <th>fastQuads</th>\n",
              "      <th>quad</th>\n",
              "      <th>triple</th>\n",
              "      <th>double</th>\n",
              "      <th>surface</th>\n",
              "      <th>total_chairs</th>\n",
              "      <th>Runs</th>\n",
              "      <th>TerrainParks</th>\n",
              "      <th>LongestRun_mi</th>\n",
              "      <th>SkiableTerrain_ac</th>\n",
              "      <th>Snow Making_ac</th>\n",
              "      <th>daysOpenLastYear</th>\n",
              "      <th>yearsOpen</th>\n",
              "      <th>averageSnowfall</th>\n",
              "      <th>projectedDaysOpen</th>\n",
              "      <th>NightSkiing_ac</th>\n",
              "      <th>resorts_per_state</th>\n",
              "      <th>resorts_per_100kcapita</th>\n",
              "      <th>resorts_per_100ksq_mile</th>\n",
              "      <th>resort_skiable_area_ac_state_ratio</th>\n",
              "      <th>resort_days_open_state_ratio</th>\n",
              "      <th>resort_terrain_park_state_ratio</th>\n",
              "      <th>resort_night_skiing_state_ratio</th>\n",
              "      <th>total_chairs_runs_ratio</th>\n",
              "      <th>total_chairs_skiable_ratio</th>\n",
              "      <th>fastQuads_runs_ratio</th>\n",
              "      <th>fastQuads_skiable_ratio</th>\n",
              "    </tr>\n",
              "  </thead>\n",
              "  <tbody>\n",
              "    <tr>\n",
              "      <th>108</th>\n",
              "      <td>790</td>\n",
              "      <td>300</td>\n",
              "      <td>500</td>\n",
              "      <td>0</td>\n",
              "      <td>0</td>\n",
              "      <td>0</td>\n",
              "      <td>1</td>\n",
              "      <td>0</td>\n",
              "      <td>2</td>\n",
              "      <td>3</td>\n",
              "      <td>6</td>\n",
              "      <td>15.0</td>\n",
              "      <td>4.0</td>\n",
              "      <td>NaN</td>\n",
              "      <td>60.0</td>\n",
              "      <td>60.0</td>\n",
              "      <td>97.0</td>\n",
              "      <td>58.0</td>\n",
              "      <td>45.0</td>\n",
              "      <td>113.0</td>\n",
              "      <td>60.0</td>\n",
              "      <td>14</td>\n",
              "      <td>0.248243</td>\n",
              "      <td>16.103800</td>\n",
              "      <td>0.038462</td>\n",
              "      <td>0.065101</td>\n",
              "      <td>0.137931</td>\n",
              "      <td>0.058824</td>\n",
              "      <td>0.400000</td>\n",
              "      <td>0.100000</td>\n",
              "      <td>0.000000</td>\n",
              "      <td>0.000000</td>\n",
              "    </tr>\n",
              "    <tr>\n",
              "      <th>96</th>\n",
              "      <td>900</td>\n",
              "      <td>320</td>\n",
              "      <td>580</td>\n",
              "      <td>0</td>\n",
              "      <td>0</td>\n",
              "      <td>0</td>\n",
              "      <td>0</td>\n",
              "      <td>2</td>\n",
              "      <td>1</td>\n",
              "      <td>2</td>\n",
              "      <td>5</td>\n",
              "      <td>15.0</td>\n",
              "      <td>1.0</td>\n",
              "      <td>0.2</td>\n",
              "      <td>16.0</td>\n",
              "      <td>16.0</td>\n",
              "      <td>47.0</td>\n",
              "      <td>34.0</td>\n",
              "      <td>150.0</td>\n",
              "      <td>42.0</td>\n",
              "      <td>16.0</td>\n",
              "      <td>28</td>\n",
              "      <td>0.280368</td>\n",
              "      <td>28.951341</td>\n",
              "      <td>0.003631</td>\n",
              "      <td>0.019674</td>\n",
              "      <td>0.015873</td>\n",
              "      <td>0.008222</td>\n",
              "      <td>0.333333</td>\n",
              "      <td>0.312500</td>\n",
              "      <td>0.000000</td>\n",
              "      <td>0.000000</td>\n",
              "    </tr>\n",
              "    <tr>\n",
              "      <th>189</th>\n",
              "      <td>5506</td>\n",
              "      <td>830</td>\n",
              "      <td>4675</td>\n",
              "      <td>0</td>\n",
              "      <td>0</td>\n",
              "      <td>0</td>\n",
              "      <td>3</td>\n",
              "      <td>0</td>\n",
              "      <td>3</td>\n",
              "      <td>2</td>\n",
              "      <td>8</td>\n",
              "      <td>17.0</td>\n",
              "      <td>1.0</td>\n",
              "      <td>1.0</td>\n",
              "      <td>95.0</td>\n",
              "      <td>95.0</td>\n",
              "      <td>98.0</td>\n",
              "      <td>52.0</td>\n",
              "      <td>31.0</td>\n",
              "      <td>NaN</td>\n",
              "      <td>95.0</td>\n",
              "      <td>6</td>\n",
              "      <td>0.057208</td>\n",
              "      <td>11.148479</td>\n",
              "      <td>0.256757</td>\n",
              "      <td>0.193676</td>\n",
              "      <td>0.111111</td>\n",
              "      <td>0.283582</td>\n",
              "      <td>0.470588</td>\n",
              "      <td>0.084211</td>\n",
              "      <td>0.000000</td>\n",
              "      <td>0.000000</td>\n",
              "    </tr>\n",
              "    <tr>\n",
              "      <th>232</th>\n",
              "      <td>10488</td>\n",
              "      <td>2494</td>\n",
              "      <td>7994</td>\n",
              "      <td>0</td>\n",
              "      <td>0</td>\n",
              "      <td>4</td>\n",
              "      <td>2</td>\n",
              "      <td>1</td>\n",
              "      <td>1</td>\n",
              "      <td>1</td>\n",
              "      <td>9</td>\n",
              "      <td>80.0</td>\n",
              "      <td>NaN</td>\n",
              "      <td>3.0</td>\n",
              "      <td>1200.0</td>\n",
              "      <td>150.0</td>\n",
              "      <td>161.0</td>\n",
              "      <td>62.0</td>\n",
              "      <td>500.0</td>\n",
              "      <td>148.0</td>\n",
              "      <td>NaN</td>\n",
              "      <td>13</td>\n",
              "      <td>0.405495</td>\n",
              "      <td>15.312673</td>\n",
              "      <td>0.039334</td>\n",
              "      <td>0.104275</td>\n",
              "      <td>NaN</td>\n",
              "      <td>NaN</td>\n",
              "      <td>0.112500</td>\n",
              "      <td>0.007500</td>\n",
              "      <td>0.050000</td>\n",
              "      <td>0.003333</td>\n",
              "    </tr>\n",
              "    <tr>\n",
              "      <th>1</th>\n",
              "      <td>2600</td>\n",
              "      <td>1540</td>\n",
              "      <td>1200</td>\n",
              "      <td>0</td>\n",
              "      <td>0</td>\n",
              "      <td>0</td>\n",
              "      <td>0</td>\n",
              "      <td>0</td>\n",
              "      <td>4</td>\n",
              "      <td>0</td>\n",
              "      <td>4</td>\n",
              "      <td>36.0</td>\n",
              "      <td>1.0</td>\n",
              "      <td>2.0</td>\n",
              "      <td>640.0</td>\n",
              "      <td>60.0</td>\n",
              "      <td>45.0</td>\n",
              "      <td>44.0</td>\n",
              "      <td>350.0</td>\n",
              "      <td>90.0</td>\n",
              "      <td>NaN</td>\n",
              "      <td>3</td>\n",
              "      <td>0.410091</td>\n",
              "      <td>0.450867</td>\n",
              "      <td>0.280702</td>\n",
              "      <td>0.130435</td>\n",
              "      <td>0.250000</td>\n",
              "      <td>NaN</td>\n",
              "      <td>0.111111</td>\n",
              "      <td>0.006250</td>\n",
              "      <td>0.000000</td>\n",
              "      <td>0.000000</td>\n",
              "    </tr>\n",
              "    <tr>\n",
              "      <th>...</th>\n",
              "      <td>...</td>\n",
              "      <td>...</td>\n",
              "      <td>...</td>\n",
              "      <td>...</td>\n",
              "      <td>...</td>\n",
              "      <td>...</td>\n",
              "      <td>...</td>\n",
              "      <td>...</td>\n",
              "      <td>...</td>\n",
              "      <td>...</td>\n",
              "      <td>...</td>\n",
              "      <td>...</td>\n",
              "      <td>...</td>\n",
              "      <td>...</td>\n",
              "      <td>...</td>\n",
              "      <td>...</td>\n",
              "      <td>...</td>\n",
              "      <td>...</td>\n",
              "      <td>...</td>\n",
              "      <td>...</td>\n",
              "      <td>...</td>\n",
              "      <td>...</td>\n",
              "      <td>...</td>\n",
              "      <td>...</td>\n",
              "      <td>...</td>\n",
              "      <td>...</td>\n",
              "      <td>...</td>\n",
              "      <td>...</td>\n",
              "      <td>...</td>\n",
              "      <td>...</td>\n",
              "      <td>...</td>\n",
              "      <td>...</td>\n",
              "    </tr>\n",
              "    <tr>\n",
              "      <th>23</th>\n",
              "      <td>11952</td>\n",
              "      <td>1162</td>\n",
              "      <td>10790</td>\n",
              "      <td>0</td>\n",
              "      <td>0</td>\n",
              "      <td>0</td>\n",
              "      <td>1</td>\n",
              "      <td>0</td>\n",
              "      <td>4</td>\n",
              "      <td>2</td>\n",
              "      <td>7</td>\n",
              "      <td>64.0</td>\n",
              "      <td>2.0</td>\n",
              "      <td>1.0</td>\n",
              "      <td>800.0</td>\n",
              "      <td>NaN</td>\n",
              "      <td>143.0</td>\n",
              "      <td>80.0</td>\n",
              "      <td>350.0</td>\n",
              "      <td>136.0</td>\n",
              "      <td>NaN</td>\n",
              "      <td>22</td>\n",
              "      <td>0.382028</td>\n",
              "      <td>21.134744</td>\n",
              "      <td>0.018314</td>\n",
              "      <td>0.043892</td>\n",
              "      <td>0.027027</td>\n",
              "      <td>NaN</td>\n",
              "      <td>0.109375</td>\n",
              "      <td>0.008750</td>\n",
              "      <td>0.000000</td>\n",
              "      <td>0.000000</td>\n",
              "    </tr>\n",
              "    <tr>\n",
              "      <th>180</th>\n",
              "      <td>2000</td>\n",
              "      <td>700</td>\n",
              "      <td>1300</td>\n",
              "      <td>0</td>\n",
              "      <td>0</td>\n",
              "      <td>0</td>\n",
              "      <td>0</td>\n",
              "      <td>1</td>\n",
              "      <td>1</td>\n",
              "      <td>3</td>\n",
              "      <td>5</td>\n",
              "      <td>22.0</td>\n",
              "      <td>2.0</td>\n",
              "      <td>0.4</td>\n",
              "      <td>85.0</td>\n",
              "      <td>NaN</td>\n",
              "      <td>NaN</td>\n",
              "      <td>66.0</td>\n",
              "      <td>130.0</td>\n",
              "      <td>122.0</td>\n",
              "      <td>73.0</td>\n",
              "      <td>33</td>\n",
              "      <td>0.169635</td>\n",
              "      <td>60.489414</td>\n",
              "      <td>0.015415</td>\n",
              "      <td>NaN</td>\n",
              "      <td>0.027778</td>\n",
              "      <td>0.025740</td>\n",
              "      <td>0.227273</td>\n",
              "      <td>0.058824</td>\n",
              "      <td>0.000000</td>\n",
              "      <td>0.000000</td>\n",
              "    </tr>\n",
              "    <tr>\n",
              "      <th>72</th>\n",
              "      <td>2006</td>\n",
              "      <td>1000</td>\n",
              "      <td>1006</td>\n",
              "      <td>0</td>\n",
              "      <td>0</td>\n",
              "      <td>3</td>\n",
              "      <td>0</td>\n",
              "      <td>1</td>\n",
              "      <td>0</td>\n",
              "      <td>4</td>\n",
              "      <td>8</td>\n",
              "      <td>27.0</td>\n",
              "      <td>2.0</td>\n",
              "      <td>1.5</td>\n",
              "      <td>112.0</td>\n",
              "      <td>112.0</td>\n",
              "      <td>NaN</td>\n",
              "      <td>57.0</td>\n",
              "      <td>100.0</td>\n",
              "      <td>120.0</td>\n",
              "      <td>104.0</td>\n",
              "      <td>11</td>\n",
              "      <td>0.159594</td>\n",
              "      <td>104.225886</td>\n",
              "      <td>0.096055</td>\n",
              "      <td>NaN</td>\n",
              "      <td>0.111111</td>\n",
              "      <td>0.178388</td>\n",
              "      <td>0.296296</td>\n",
              "      <td>0.071429</td>\n",
              "      <td>0.111111</td>\n",
              "      <td>0.026786</td>\n",
              "    </tr>\n",
              "    <tr>\n",
              "      <th>265</th>\n",
              "      <td>1137</td>\n",
              "      <td>265</td>\n",
              "      <td>872</td>\n",
              "      <td>0</td>\n",
              "      <td>0</td>\n",
              "      <td>0</td>\n",
              "      <td>0</td>\n",
              "      <td>1</td>\n",
              "      <td>1</td>\n",
              "      <td>5</td>\n",
              "      <td>7</td>\n",
              "      <td>18.0</td>\n",
              "      <td>4.0</td>\n",
              "      <td>1.0</td>\n",
              "      <td>60.0</td>\n",
              "      <td>60.0</td>\n",
              "      <td>68.0</td>\n",
              "      <td>43.0</td>\n",
              "      <td>80.0</td>\n",
              "      <td>90.0</td>\n",
              "      <td>60.0</td>\n",
              "      <td>15</td>\n",
              "      <td>0.257624</td>\n",
              "      <td>22.902162</td>\n",
              "      <td>0.034286</td>\n",
              "      <td>0.044766</td>\n",
              "      <td>0.100000</td>\n",
              "      <td>0.056338</td>\n",
              "      <td>0.388889</td>\n",
              "      <td>0.116667</td>\n",
              "      <td>0.000000</td>\n",
              "      <td>0.000000</td>\n",
              "    </tr>\n",
              "    <tr>\n",
              "      <th>136</th>\n",
              "      <td>850</td>\n",
              "      <td>350</td>\n",
              "      <td>500</td>\n",
              "      <td>0</td>\n",
              "      <td>0</td>\n",
              "      <td>0</td>\n",
              "      <td>0</td>\n",
              "      <td>3</td>\n",
              "      <td>0</td>\n",
              "      <td>3</td>\n",
              "      <td>6</td>\n",
              "      <td>17.0</td>\n",
              "      <td>2.0</td>\n",
              "      <td>0.3</td>\n",
              "      <td>48.0</td>\n",
              "      <td>45.0</td>\n",
              "      <td>105.0</td>\n",
              "      <td>57.0</td>\n",
              "      <td>120.0</td>\n",
              "      <td>107.0</td>\n",
              "      <td>23.0</td>\n",
              "      <td>16</td>\n",
              "      <td>1.176721</td>\n",
              "      <td>171.141299</td>\n",
              "      <td>0.014006</td>\n",
              "      <td>0.056849</td>\n",
              "      <td>0.046512</td>\n",
              "      <td>0.061170</td>\n",
              "      <td>0.352941</td>\n",
              "      <td>0.125000</td>\n",
              "      <td>0.000000</td>\n",
              "      <td>0.000000</td>\n",
              "    </tr>\n",
              "  </tbody>\n",
              "</table>\n",
              "<p>193 rows × 32 columns</p>\n",
              "</div>"
            ],
            "text/plain": [
              "     summit_elev  vertical_drop  ...  fastQuads_runs_ratio  fastQuads_skiable_ratio\n",
              "108          790            300  ...              0.000000                 0.000000\n",
              "96           900            320  ...              0.000000                 0.000000\n",
              "189         5506            830  ...              0.000000                 0.000000\n",
              "232        10488           2494  ...              0.050000                 0.003333\n",
              "1           2600           1540  ...              0.000000                 0.000000\n",
              "..           ...            ...  ...                   ...                      ...\n",
              "23         11952           1162  ...              0.000000                 0.000000\n",
              "180         2000            700  ...              0.000000                 0.000000\n",
              "72          2006           1000  ...              0.111111                 0.026786\n",
              "265         1137            265  ...              0.000000                 0.000000\n",
              "136          850            350  ...              0.000000                 0.000000\n",
              "\n",
              "[193 rows x 32 columns]"
            ]
          },
          "metadata": {
            "tags": []
          },
          "execution_count": 15
        }
      ]
    },
    {
      "cell_type": "code",
      "metadata": {
        "id": "WlBo4FpF-jqe",
        "colab_type": "code",
        "colab": {
          "base_uri": "https://localhost:8080/",
          "height": 571
        },
        "outputId": "7ef2435f-4698-452d-862b-650ebd763696"
      },
      "source": [
        "#Code task 2#\n",
        "#Check the `dtypes` attribute of `X_train` to verify all features are numeric\n",
        "X_train.dtypes"
      ],
      "execution_count": 16,
      "outputs": [
        {
          "output_type": "execute_result",
          "data": {
            "text/plain": [
              "summit_elev                             int64\n",
              "vertical_drop                           int64\n",
              "base_elev                               int64\n",
              "trams                                   int64\n",
              "fastSixes                               int64\n",
              "fastQuads                               int64\n",
              "quad                                    int64\n",
              "triple                                  int64\n",
              "double                                  int64\n",
              "surface                                 int64\n",
              "total_chairs                            int64\n",
              "Runs                                  float64\n",
              "TerrainParks                          float64\n",
              "LongestRun_mi                         float64\n",
              "SkiableTerrain_ac                     float64\n",
              "Snow Making_ac                        float64\n",
              "daysOpenLastYear                      float64\n",
              "yearsOpen                             float64\n",
              "averageSnowfall                       float64\n",
              "projectedDaysOpen                     float64\n",
              "NightSkiing_ac                        float64\n",
              "resorts_per_state                       int64\n",
              "resorts_per_100kcapita                float64\n",
              "resorts_per_100ksq_mile               float64\n",
              "resort_skiable_area_ac_state_ratio    float64\n",
              "resort_days_open_state_ratio          float64\n",
              "resort_terrain_park_state_ratio       float64\n",
              "resort_night_skiing_state_ratio       float64\n",
              "total_chairs_runs_ratio               float64\n",
              "total_chairs_skiable_ratio            float64\n",
              "fastQuads_runs_ratio                  float64\n",
              "fastQuads_skiable_ratio               float64\n",
              "dtype: object"
            ]
          },
          "metadata": {
            "tags": []
          },
          "execution_count": 16
        }
      ]
    },
    {
      "cell_type": "code",
      "metadata": {
        "id": "fhOcIKgM-jqj",
        "colab_type": "code",
        "colab": {
          "base_uri": "https://localhost:8080/",
          "height": 571
        },
        "outputId": "c0d7f965-75df-4661-fe1d-bdc18f506e1f"
      },
      "source": [
        "#Code task 3#\n",
        "#Repeat this check for the test split in `X_test`\n",
        "X_test.dtypes"
      ],
      "execution_count": 17,
      "outputs": [
        {
          "output_type": "execute_result",
          "data": {
            "text/plain": [
              "summit_elev                             int64\n",
              "vertical_drop                           int64\n",
              "base_elev                               int64\n",
              "trams                                   int64\n",
              "fastSixes                               int64\n",
              "fastQuads                               int64\n",
              "quad                                    int64\n",
              "triple                                  int64\n",
              "double                                  int64\n",
              "surface                                 int64\n",
              "total_chairs                            int64\n",
              "Runs                                  float64\n",
              "TerrainParks                          float64\n",
              "LongestRun_mi                         float64\n",
              "SkiableTerrain_ac                     float64\n",
              "Snow Making_ac                        float64\n",
              "daysOpenLastYear                      float64\n",
              "yearsOpen                             float64\n",
              "averageSnowfall                       float64\n",
              "projectedDaysOpen                     float64\n",
              "NightSkiing_ac                        float64\n",
              "resorts_per_state                       int64\n",
              "resorts_per_100kcapita                float64\n",
              "resorts_per_100ksq_mile               float64\n",
              "resort_skiable_area_ac_state_ratio    float64\n",
              "resort_days_open_state_ratio          float64\n",
              "resort_terrain_park_state_ratio       float64\n",
              "resort_night_skiing_state_ratio       float64\n",
              "total_chairs_runs_ratio               float64\n",
              "total_chairs_skiable_ratio            float64\n",
              "fastQuads_runs_ratio                  float64\n",
              "fastQuads_skiable_ratio               float64\n",
              "dtype: object"
            ]
          },
          "metadata": {
            "tags": []
          },
          "execution_count": 17
        }
      ]
    },
    {
      "cell_type": "markdown",
      "metadata": {
        "id": "ZRyyWIIS-jqm",
        "colab_type": "text"
      },
      "source": [
        "You have only numeric features in your X now!"
      ]
    },
    {
      "cell_type": "markdown",
      "metadata": {
        "id": "p103QbMH-jqm",
        "colab_type": "text"
      },
      "source": [
        "## 4.7 Initial Not-Even-A-Model<a id='4.7_Initial_Not-Even-A-Model'></a>"
      ]
    },
    {
      "cell_type": "markdown",
      "metadata": {
        "id": "1o-Eiacp-jqo",
        "colab_type": "text"
      },
      "source": [
        "A good place to start is to see how good the mean is as a predictor. In other words, what if you simply say your best guess is the average price?"
      ]
    },
    {
      "cell_type": "code",
      "metadata": {
        "id": "KNtngj15-jqo",
        "colab_type": "code",
        "colab": {
          "base_uri": "https://localhost:8080/",
          "height": 34
        },
        "outputId": "4f7b6d19-b0f3-46c2-c80d-f4afb7176708"
      },
      "source": [
        "#Code task 4#\n",
        "#Calculate the mean of `y_train`\n",
        "train_mean = y_train.mean()\n",
        "train_mean"
      ],
      "execution_count": 18,
      "outputs": [
        {
          "output_type": "execute_result",
          "data": {
            "text/plain": [
              "63.811088082901556"
            ]
          },
          "metadata": {
            "tags": []
          },
          "execution_count": 18
        }
      ]
    },
    {
      "cell_type": "markdown",
      "metadata": {
        "id": "3T4IAgB0-jsZ",
        "colab_type": "text"
      },
      "source": [
        "`sklearn`'s `DummyRegressor` easily does this:"
      ]
    },
    {
      "cell_type": "code",
      "metadata": {
        "id": "p4hiJ8Rd-jsa",
        "colab_type": "code",
        "colab": {
          "base_uri": "https://localhost:8080/",
          "height": 34
        },
        "outputId": "5a13144c-692e-4b90-9966-4bdb6dbca3cd"
      },
      "source": [
        "#Code task 5#\n",
        "#Fit the dummy regressor on the training data\n",
        "#Hint, call its `.fit()` method with `X_train` and `y_train` as arguments\n",
        "#Then print the object's `constant_` attribute and verify it's the same as the mean above\n",
        "dumb_reg = DummyRegressor(strategy='mean')\n",
        "dumb_reg.fit(X_train, y_train)\n",
        "dumb_reg.constant_"
      ],
      "execution_count": 19,
      "outputs": [
        {
          "output_type": "execute_result",
          "data": {
            "text/plain": [
              "array([[63.81108808]])"
            ]
          },
          "metadata": {
            "tags": []
          },
          "execution_count": 19
        }
      ]
    },
    {
      "cell_type": "markdown",
      "metadata": {
        "id": "wmkzSDUZ-jsc",
        "colab_type": "text"
      },
      "source": [
        "How good is this? How closely does this match, or explain, the actual values? There are many ways of assessing how good one set of values agrees with another, which brings us to the subject of metrics."
      ]
    },
    {
      "cell_type": "markdown",
      "metadata": {
        "id": "CGFjCH1C-jsd",
        "colab_type": "text"
      },
      "source": [
        "### 4.7.1 Metrics<a id='4.7.1_Metrics'></a>"
      ]
    },
    {
      "cell_type": "markdown",
      "metadata": {
        "id": "7X1kHHUa-jsd",
        "colab_type": "text"
      },
      "source": [
        "#### 4.7.1.1 R-squared, or coefficient of determination<a id='4.7.1.1_R-squared,_or_coefficient_of_determination'></a>"
      ]
    },
    {
      "cell_type": "markdown",
      "metadata": {
        "id": "O1tNM6x5-jsd",
        "colab_type": "text"
      },
      "source": [
        "One measure is $R^2$, the [coefficient of determination](https://en.wikipedia.org/wiki/Coefficient_of_determination). This is a measure of the proportion of variance in the dependent variable (our ticket price) that is predicted by our \"model\". The linked Wikipedia articles gives a nice explanation of how negative values can arise. This is frequently a cause of confusion for newcomers who, reasonably, ask how can a squared value be negative?\n",
        "\n",
        "A: One reason why $R^2$ can be negative is because the model performs worse than simply taking the mean of the data. If this is the case, then just use the mean. In contrast, positive $R^2$ shows how much the X-variables explain the variance of the data above just using the mean.\n",
        "\n",
        "Recall the mean can be denoted by $\\bar{y}$, where\n",
        "\n",
        "$$\\bar{y} = \\frac{1}{n}\\sum_{i=1}^ny_i$$\n",
        "\n",
        "and where $y_i$ are the individual values of the dependent variable.\n",
        "\n",
        "The total sum of squares (error), can be expressed as\n",
        "\n",
        "$$SS_{tot} = \\sum_i(y_i-\\bar{y})^2$$\n",
        "\n",
        "The above formula should be familiar as it's simply the variance without the denominator to scale (divide) by the sample size.\n",
        "\n",
        "The residual sum of squares is similarly defined to be\n",
        "\n",
        "$$SS_{res} = \\sum_i(y_i-\\hat{y})^2$$\n",
        "\n",
        "where $\\hat{y}$ are our predicted values for the depended variable.\n",
        "\n",
        "The coefficient of determination, $R^2$, here is given by\n",
        "\n",
        "$$R^2 = 1 - \\frac{SS_{res}}{SS_{tot}}$$\n",
        "\n",
        "Putting it into words, it's one minus the ratio of the residual variance to the original variance. Thus, the baseline model here, which always predicts $\\bar{y}$, should give $R^2=0$. A model that perfectly predicts the observed values would have no residual error and so give $R^2=1$. Models that do worse than predicting the mean will have increased the sum of squares of residuals and so produce a negative $R^2$."
      ]
    },
    {
      "cell_type": "code",
      "metadata": {
        "id": "iame52aL-jse",
        "colab_type": "code",
        "colab": {}
      },
      "source": [
        "#Code task 6#\n",
        "#Calculate the R^2 as defined above\n",
        "def r_squared(y, ypred):\n",
        "    \"\"\"R-squared score.\n",
        "    \n",
        "    Calculate the R-squared, or coefficient of determination, of the input.\n",
        "    \n",
        "    Arguments:\n",
        "    y -- the observed values\n",
        "    ypred -- the predicted values\n",
        "    \"\"\"\n",
        "    ybar = np.sum(y) / len(y) #yes, we could use np.mean(y)\n",
        "    sum_sq_tot = np.sum((y - ybar)**2) #total sum of squares error\n",
        "    sum_sq_res = np.sum((y - ypred)**2) #residual sum of squares error\n",
        "    R2 = 1.0 - sum_sq_res / sum_sq_tot\n",
        "    return R2"
      ],
      "execution_count": 20,
      "outputs": []
    },
    {
      "cell_type": "markdown",
      "metadata": {
        "id": "cFp18HKM-jsh",
        "colab_type": "text"
      },
      "source": [
        "Make your predictions by creating an array of length the size of the training set with the single value of the mean."
      ]
    },
    {
      "cell_type": "code",
      "metadata": {
        "id": "6ZortuI2-jsh",
        "colab_type": "code",
        "colab": {
          "base_uri": "https://localhost:8080/",
          "height": 34
        },
        "outputId": "5dba6ad6-5946-4f5b-cd57-24112dcd71cd"
      },
      "source": [
        "y_tr_pred_ = train_mean * np.ones(len(y_train))\n",
        "y_tr_pred_[:5]"
      ],
      "execution_count": 21,
      "outputs": [
        {
          "output_type": "execute_result",
          "data": {
            "text/plain": [
              "array([63.81108808, 63.81108808, 63.81108808, 63.81108808, 63.81108808])"
            ]
          },
          "metadata": {
            "tags": []
          },
          "execution_count": 21
        }
      ]
    },
    {
      "cell_type": "markdown",
      "metadata": {
        "id": "xmqiD7Rf-jsk",
        "colab_type": "text"
      },
      "source": [
        "Remember the `sklearn` dummy regressor? "
      ]
    },
    {
      "cell_type": "code",
      "metadata": {
        "id": "3aF6jUhb-jsk",
        "colab_type": "code",
        "colab": {
          "base_uri": "https://localhost:8080/",
          "height": 34
        },
        "outputId": "b65f272b-f0ba-4338-cfdd-eeedbf95ba06"
      },
      "source": [
        "y_tr_pred = dumb_reg.predict(X_train)\n",
        "y_tr_pred[:5]"
      ],
      "execution_count": 22,
      "outputs": [
        {
          "output_type": "execute_result",
          "data": {
            "text/plain": [
              "array([63.81108808, 63.81108808, 63.81108808, 63.81108808, 63.81108808])"
            ]
          },
          "metadata": {
            "tags": []
          },
          "execution_count": 22
        }
      ]
    },
    {
      "cell_type": "markdown",
      "metadata": {
        "id": "q5aaK9DI-jsm",
        "colab_type": "text"
      },
      "source": [
        "You can see that `DummyRegressor` produces exactly the same results and saves you having to mess about broadcasting the mean (or whichever other statistic we used - check out the [documentation](https://scikit-learn.org/stable/modules/generated/sklearn.dummy.DummyRegressor.html) to see what's available) to an array of the appropriate length. It also gives you an object with `fit()` and `predict()` methods as well so you can use them as conveniently as any other `sklearn` estimator."
      ]
    },
    {
      "cell_type": "code",
      "metadata": {
        "id": "WO_BtSWa-jsm",
        "colab_type": "code",
        "colab": {
          "base_uri": "https://localhost:8080/",
          "height": 34
        },
        "outputId": "b7b89f2b-a00a-42fc-f28b-8eb48d6c3724"
      },
      "source": [
        "r_squared(y_train, y_tr_pred)"
      ],
      "execution_count": 23,
      "outputs": [
        {
          "output_type": "execute_result",
          "data": {
            "text/plain": [
              "0.0"
            ]
          },
          "metadata": {
            "tags": []
          },
          "execution_count": 23
        }
      ]
    },
    {
      "cell_type": "markdown",
      "metadata": {
        "id": "_cpIt-kh-jsp",
        "colab_type": "text"
      },
      "source": [
        "Exactly as expected, if you use the average value as your prediction, you get an $R^2$ of zero _on our training set_. What if you use this \"model\" to predict unseen values from the test set? Remember, of course, that your \"model\" is trained on the training set; you still use the training set mean as your prediction."
      ]
    },
    {
      "cell_type": "markdown",
      "metadata": {
        "id": "eNH8BtBd-jsp",
        "colab_type": "text"
      },
      "source": [
        "Make your predictions by creating an array of length the size of the test set with the single value of the (training) mean."
      ]
    },
    {
      "cell_type": "code",
      "metadata": {
        "id": "KBIstcaX-jsp",
        "colab_type": "code",
        "colab": {
          "base_uri": "https://localhost:8080/",
          "height": 34
        },
        "outputId": "946edab5-351a-47af-f77e-c3878f553c6a"
      },
      "source": [
        "y_te_pred = train_mean * np.ones(len(y_test))\n",
        "r_squared(y_test, y_te_pred)"
      ],
      "execution_count": 24,
      "outputs": [
        {
          "output_type": "execute_result",
          "data": {
            "text/plain": [
              "-0.0031235200417913944"
            ]
          },
          "metadata": {
            "tags": []
          },
          "execution_count": 24
        }
      ]
    },
    {
      "cell_type": "markdown",
      "metadata": {
        "id": "LBO0kgvw-jss",
        "colab_type": "text"
      },
      "source": [
        "Generally, you can expect performance on a test set to be slightly worse than on the training set. As you are getting an $R^2$ of zero on the training set, there's nowhere to go but negative!"
      ]
    },
    {
      "cell_type": "markdown",
      "metadata": {
        "id": "y60aV5zt-jst",
        "colab_type": "text"
      },
      "source": [
        "$R^2$ is a common metric, and interpretable in terms of the amount of variance explained, it's less appealing if you want an idea of how \"close\" your predictions are to the true values. Metrics that summarise the difference between predicted and actual values are _mean absolute error_ and _mean squared error_."
      ]
    },
    {
      "cell_type": "markdown",
      "metadata": {
        "id": "9yqz2GfB-jst",
        "colab_type": "text"
      },
      "source": [
        "#### 4.7.1.2 Mean Absolute Error<a id='4.7.1.2_Mean_Absolute_Error'></a>"
      ]
    },
    {
      "cell_type": "markdown",
      "metadata": {
        "id": "pioZUt0x-jsu",
        "colab_type": "text"
      },
      "source": [
        "This is very simply the average of the absolute errors:\n",
        "\n",
        "$$MAE = \\frac{1}{n}\\sum_i^n|y_i - \\hat{y}|$$"
      ]
    },
    {
      "cell_type": "code",
      "metadata": {
        "id": "vjkTKUdN-jsv",
        "colab_type": "code",
        "colab": {}
      },
      "source": [
        "#Code task 7#\n",
        "#Calculate the MAE as defined above\n",
        "def mae(y, ypred):\n",
        "    \"\"\"Mean absolute error.\n",
        "    \n",
        "    Calculate the mean absolute error of the arguments\n",
        "\n",
        "    Arguments:\n",
        "    y -- the observed values\n",
        "    ypred -- the predicted values\n",
        "    \"\"\"\n",
        "    ybar = np.sum(y) / len(y) #yes, we could use np.mean(y)\n",
        "    abs_error = np.abs(y - ypred)\n",
        "    mae = np.mean(abs_error)\n",
        "    return mae"
      ],
      "execution_count": 25,
      "outputs": []
    },
    {
      "cell_type": "code",
      "metadata": {
        "id": "Lq4RMB7n-jsw",
        "colab_type": "code",
        "colab": {
          "base_uri": "https://localhost:8080/",
          "height": 34
        },
        "outputId": "9f92eb92-d866-4acc-9e8c-b6dc5a535abe"
      },
      "source": [
        "mae(y_train, y_tr_pred)"
      ],
      "execution_count": 26,
      "outputs": [
        {
          "output_type": "execute_result",
          "data": {
            "text/plain": [
              "17.923463717146785"
            ]
          },
          "metadata": {
            "tags": []
          },
          "execution_count": 26
        }
      ]
    },
    {
      "cell_type": "code",
      "metadata": {
        "id": "-fsX1949-jsy",
        "colab_type": "code",
        "colab": {
          "base_uri": "https://localhost:8080/",
          "height": 34
        },
        "outputId": "70c5e890-4bbf-4d4a-9918-f96d551f81e3"
      },
      "source": [
        "mae(y_test, y_te_pred)"
      ],
      "execution_count": 27,
      "outputs": [
        {
          "output_type": "execute_result",
          "data": {
            "text/plain": [
              "19.136142081278486"
            ]
          },
          "metadata": {
            "tags": []
          },
          "execution_count": 27
        }
      ]
    },
    {
      "cell_type": "markdown",
      "metadata": {
        "id": "Web8wytb-js0",
        "colab_type": "text"
      },
      "source": [
        "Mean absolute error is arguably the most intuitive of all the metrics, this essentially tells you that, on average, you might expect to be off by around \\$19 if you guessed ticket price based on an average of known values."
      ]
    },
    {
      "cell_type": "markdown",
      "metadata": {
        "id": "9s3XZsYC-js1",
        "colab_type": "text"
      },
      "source": [
        "#### 4.7.1.3 Mean Squared Error<a id='4.7.1.3_Mean_Squared_Error'></a>"
      ]
    },
    {
      "cell_type": "markdown",
      "metadata": {
        "id": "-KdsYbSw-js1",
        "colab_type": "text"
      },
      "source": [
        "Another common metric (and an important one internally for optimizing machine learning models) is the mean squared error. This is simply the average of the square of the errors:\n",
        "\n",
        "$$MSE = \\frac{1}{n}\\sum_i^n(y_i - \\hat{y})^2$$"
      ]
    },
    {
      "cell_type": "code",
      "metadata": {
        "scrolled": true,
        "id": "CzxJkgw7-js1",
        "colab_type": "code",
        "colab": {}
      },
      "source": [
        "#Code task 8#\n",
        "#Calculate the MSE as defined above\n",
        "def mse(y, ypred):\n",
        "    \"\"\"Mean square error.\n",
        "    \n",
        "    Calculate the mean square error of the arguments\n",
        "\n",
        "    Arguments:\n",
        "    y -- the observed values\n",
        "    ypred -- the predicted values\n",
        "    \"\"\"\n",
        "    sq_error = (y- ypred)**2\n",
        "    mse = np.mean(sq_error)\n",
        "    return mse"
      ],
      "execution_count": 28,
      "outputs": []
    },
    {
      "cell_type": "code",
      "metadata": {
        "id": "XUui4ncQ-js4",
        "colab_type": "code",
        "colab": {
          "base_uri": "https://localhost:8080/",
          "height": 34
        },
        "outputId": "3848f1e8-7dc6-4439-c666-0eb35db85038"
      },
      "source": [
        "mse(y_train, y_tr_pred)"
      ],
      "execution_count": 29,
      "outputs": [
        {
          "output_type": "execute_result",
          "data": {
            "text/plain": [
              "614.1334096969057"
            ]
          },
          "metadata": {
            "tags": []
          },
          "execution_count": 29
        }
      ]
    },
    {
      "cell_type": "code",
      "metadata": {
        "id": "oS_6anlS-js6",
        "colab_type": "code",
        "colab": {
          "base_uri": "https://localhost:8080/",
          "height": 34
        },
        "outputId": "d23d4ae0-b083-4886-9eed-0f49c8d7ac16"
      },
      "source": [
        "mse(y_test, y_te_pred)"
      ],
      "execution_count": 30,
      "outputs": [
        {
          "output_type": "execute_result",
          "data": {
            "text/plain": [
              "581.4365441953481"
            ]
          },
          "metadata": {
            "tags": []
          },
          "execution_count": 30
        }
      ]
    },
    {
      "cell_type": "markdown",
      "metadata": {
        "id": "yIat7Dl8-js8",
        "colab_type": "text"
      },
      "source": [
        "So here, you get a slightly better MSE on the test set than you did on the train set. And what does a squared error mean anyway? To convert this back to our measurement space, we often take the square root, to form the _root mean square error_ thus:"
      ]
    },
    {
      "cell_type": "code",
      "metadata": {
        "id": "t90lTQT--js8",
        "colab_type": "code",
        "colab": {
          "base_uri": "https://localhost:8080/",
          "height": 34
        },
        "outputId": "441eb107-3368-465d-b527-3f6be0ba43fc"
      },
      "source": [
        "np.sqrt([mse(y_train, y_tr_pred), mse(y_test, y_te_pred)])"
      ],
      "execution_count": 31,
      "outputs": [
        {
          "output_type": "execute_result",
          "data": {
            "text/plain": [
              "array([24.78171523, 24.11299534])"
            ]
          },
          "metadata": {
            "tags": []
          },
          "execution_count": 31
        }
      ]
    },
    {
      "cell_type": "markdown",
      "metadata": {
        "id": "gXBYc6-Z-jtB",
        "colab_type": "text"
      },
      "source": [
        "### 4.7.2 sklearn metrics<a id='4.7.2_sklearn_metrics'></a>"
      ]
    },
    {
      "cell_type": "markdown",
      "metadata": {
        "id": "9Hw9XvI6-jtC",
        "colab_type": "text"
      },
      "source": [
        "Functions are good, but you don't want to have to define functions every time we want to assess performance. `sklearn.metrics` provides many commonly used metrics, included the ones above."
      ]
    },
    {
      "cell_type": "markdown",
      "metadata": {
        "id": "wJrgW30O-jtC",
        "colab_type": "text"
      },
      "source": [
        "##### 4.7.2.0.1 R-squared<a id='4.7.2.0.1_R-squared'></a>"
      ]
    },
    {
      "cell_type": "code",
      "metadata": {
        "id": "MTf971ci-jtD",
        "colab_type": "code",
        "colab": {
          "base_uri": "https://localhost:8080/",
          "height": 34
        },
        "outputId": "26fe19f2-d1a2-4deb-ae95-3f9f9a4f0dbb"
      },
      "source": [
        "r2_score(y_train, y_tr_pred), r2_score(y_test, y_te_pred)"
      ],
      "execution_count": 32,
      "outputs": [
        {
          "output_type": "execute_result",
          "data": {
            "text/plain": [
              "(0.0, -0.0031235200417913944)"
            ]
          },
          "metadata": {
            "tags": []
          },
          "execution_count": 32
        }
      ]
    },
    {
      "cell_type": "markdown",
      "metadata": {
        "id": "lhwx5G4h-jtF",
        "colab_type": "text"
      },
      "source": [
        "##### 4.7.2.0.2 Mean absolute error<a id='4.7.2.0.2_Mean_absolute_error'></a>"
      ]
    },
    {
      "cell_type": "code",
      "metadata": {
        "id": "_KVNMcbU-jtF",
        "colab_type": "code",
        "colab": {
          "base_uri": "https://localhost:8080/",
          "height": 34
        },
        "outputId": "1deaf7b9-8f92-4e36-9fa5-2ee03a978a83"
      },
      "source": [
        "mean_absolute_error(y_train, y_tr_pred), mean_absolute_error(y_test, y_te_pred)"
      ],
      "execution_count": 33,
      "outputs": [
        {
          "output_type": "execute_result",
          "data": {
            "text/plain": [
              "(17.92346371714677, 19.136142081278486)"
            ]
          },
          "metadata": {
            "tags": []
          },
          "execution_count": 33
        }
      ]
    },
    {
      "cell_type": "markdown",
      "metadata": {
        "id": "Kcuhx9tt-jtH",
        "colab_type": "text"
      },
      "source": [
        "##### 4.7.2.0.3 Mean squared error<a id='4.7.2.0.3_Mean_squared_error'></a>"
      ]
    },
    {
      "cell_type": "code",
      "metadata": {
        "id": "rXgfDCqx-jtH",
        "colab_type": "code",
        "colab": {
          "base_uri": "https://localhost:8080/",
          "height": 34
        },
        "outputId": "bea05a08-a43c-4a09-8daa-bc3ad3df6c2b"
      },
      "source": [
        "mean_squared_error(y_train, y_tr_pred), mean_squared_error(y_test, y_te_pred)"
      ],
      "execution_count": 34,
      "outputs": [
        {
          "output_type": "execute_result",
          "data": {
            "text/plain": [
              "(614.1334096969046, 581.4365441953483)"
            ]
          },
          "metadata": {
            "tags": []
          },
          "execution_count": 34
        }
      ]
    },
    {
      "cell_type": "markdown",
      "metadata": {
        "id": "YeQ6qGol-jtJ",
        "colab_type": "text"
      },
      "source": [
        "### 4.7.3 Note On Calculating Metrics<a id='4.7.3_Note_On_Calculating_Metrics'></a>"
      ]
    },
    {
      "cell_type": "markdown",
      "metadata": {
        "id": "9h_qmQyy-jtK",
        "colab_type": "text"
      },
      "source": [
        "When calling functions to calculate metrics, it is important to take care in the order of the arguments. Two of the metrics above actually don't care if the arguments are reversed; one does. Which one cares?"
      ]
    },
    {
      "cell_type": "markdown",
      "metadata": {
        "id": "VM_mIxAu-jtK",
        "colab_type": "text"
      },
      "source": [
        "In a Jupyter code cell, running `r2_score?` will bring up the docstring for the function, and `r2_score??` will bring up the actual code of the function! Try them and compare the source for `sklearn`'s function with yours. Feel free to explore what happens when you reverse the order of the arguments and compare behaviour of `sklearn`'s function and yours."
      ]
    },
    {
      "cell_type": "code",
      "metadata": {
        "id": "aQW8GxvVZrIw",
        "colab_type": "code",
        "colab": {}
      },
      "source": [
        "r2_score??"
      ],
      "execution_count": 35,
      "outputs": []
    },
    {
      "cell_type": "code",
      "metadata": {
        "id": "wziMMV5n-jtL",
        "colab_type": "code",
        "colab": {
          "base_uri": "https://localhost:8080/",
          "height": 34
        },
        "outputId": "d5b9967a-6e22-4f59-f907-8e240edae90a"
      },
      "source": [
        "# train set - sklearn\n",
        "# correct order, incorrect order\n",
        "r2_score(y_train, y_tr_pred), r2_score(y_tr_pred, y_train)"
      ],
      "execution_count": 36,
      "outputs": [
        {
          "output_type": "execute_result",
          "data": {
            "text/plain": [
              "(0.0, -3.041041349306602e+30)"
            ]
          },
          "metadata": {
            "tags": []
          },
          "execution_count": 36
        }
      ]
    },
    {
      "cell_type": "code",
      "metadata": {
        "id": "zUSckkBC-jtN",
        "colab_type": "code",
        "colab": {
          "base_uri": "https://localhost:8080/",
          "height": 34
        },
        "outputId": "2ab763d2-3344-4fd5-bbbc-7dcb4ef5fdb9"
      },
      "source": [
        "# test set - sklearn\n",
        "# correct order, incorrect order\n",
        "r2_score(y_test, y_te_pred), r2_score(y_te_pred, y_test)"
      ],
      "execution_count": 37,
      "outputs": [
        {
          "output_type": "execute_result",
          "data": {
            "text/plain": [
              "(-0.0031235200417913944, 0.0)"
            ]
          },
          "metadata": {
            "tags": []
          },
          "execution_count": 37
        }
      ]
    },
    {
      "cell_type": "code",
      "metadata": {
        "id": "p3hES-Wf-jtQ",
        "colab_type": "code",
        "colab": {
          "base_uri": "https://localhost:8080/",
          "height": 34
        },
        "outputId": "c3d0194d-c086-4f23-ab96-eafbb2ec6156"
      },
      "source": [
        "# train set - using our homebrew function\n",
        "# correct order, incorrect order\n",
        "r_squared(y_train, y_tr_pred), r_squared(y_tr_pred, y_train)"
      ],
      "execution_count": 38,
      "outputs": [
        {
          "output_type": "execute_result",
          "data": {
            "text/plain": [
              "(0.0, -3.041041349306602e+30)"
            ]
          },
          "metadata": {
            "tags": []
          },
          "execution_count": 38
        }
      ]
    },
    {
      "cell_type": "code",
      "metadata": {
        "id": "Zu4kRkRc-jtT",
        "colab_type": "code",
        "colab": {
          "base_uri": "https://localhost:8080/",
          "height": 67
        },
        "outputId": "4c9cce24-fd8d-4b0c-e318-d4a3377ef805"
      },
      "source": [
        "# test set - using our homebrew function\n",
        "# correct order, incorrect order\n",
        "r_squared(y_test, y_te_pred), r_squared(y_te_pred, y_test)"
      ],
      "execution_count": 39,
      "outputs": [
        {
          "output_type": "stream",
          "text": [
            "/usr/local/lib/python3.6/dist-packages/ipykernel_launcher.py:15: RuntimeWarning: divide by zero encountered in double_scalars\n",
            "  from ipykernel import kernelapp as app\n"
          ],
          "name": "stderr"
        },
        {
          "output_type": "execute_result",
          "data": {
            "text/plain": [
              "(-0.0031235200417913944, -inf)"
            ]
          },
          "metadata": {
            "tags": []
          },
          "execution_count": 39
        }
      ]
    },
    {
      "cell_type": "markdown",
      "metadata": {
        "id": "G4HAgvmt-jtV",
        "colab_type": "text"
      },
      "source": [
        "You can get very different results swapping the argument order. It's worth highlighting this because data scientists do this too much in the real world! Don't be one of them! Frequently the argument order doesn't matter, but it will bite you when you do it with a function that does care. It's sloppy, bad practice and if you don't make a habit of putting arguments in the right order, you will forget!\n",
        "\n",
        "Remember:\n",
        "* argument order matters,\n",
        "* check function syntax with `func?` in a code cell"
      ]
    },
    {
      "cell_type": "markdown",
      "metadata": {
        "id": "Z3ZiiIKj-jtV",
        "colab_type": "text"
      },
      "source": [
        "## 4.8 Initial Models<a id='4.8_Initial_Models'></a>"
      ]
    },
    {
      "cell_type": "markdown",
      "metadata": {
        "id": "LZN2b1Tj-jtW",
        "colab_type": "text"
      },
      "source": [
        "### 4.8.1 Imputing missing feature (predictor) values<a id='4.8.1_Imputing_missing_feature_(predictor)_values'></a>"
      ]
    },
    {
      "cell_type": "markdown",
      "metadata": {
        "id": "67jDtvyi-jtX",
        "colab_type": "text"
      },
      "source": [
        "Recall when performing EDA, you imputed (filled in) some missing values in pandas. You did this judiciously for exploratory/visualization purposes. You left many missing values in the data. You can impute missing values using scikit-learn, but note that you should learn values to impute from a train split and apply that to the test split to then assess how well your imputation worked."
      ]
    },
    {
      "cell_type": "markdown",
      "metadata": {
        "id": "1Hlqtw8V-jtX",
        "colab_type": "text"
      },
      "source": [
        "#### 4.8.1.1 Impute missing values with median<a id='4.8.1.1_Impute_missing_values_with_median'></a>"
      ]
    },
    {
      "cell_type": "markdown",
      "metadata": {
        "id": "rBt69vi8-jtY",
        "colab_type": "text"
      },
      "source": [
        "There's missing values. Recall from your data exploration that many distributions were skewed. Your first thought might be to impute missing values using the median."
      ]
    },
    {
      "cell_type": "markdown",
      "metadata": {
        "id": "q5b4Z6Dn-jtY",
        "colab_type": "text"
      },
      "source": [
        "##### 4.8.1.1.1 Learn the values to impute from the train set<a id='4.8.1.1.1_Learn_the_values_to_impute_from_the_train_set'></a>"
      ]
    },
    {
      "cell_type": "code",
      "metadata": {
        "id": "ltdMcJNx-jtY",
        "colab_type": "code",
        "colab": {
          "base_uri": "https://localhost:8080/",
          "height": 571
        },
        "outputId": "62eb74ef-8551-4832-a5e5-e8866f60a7a3"
      },
      "source": [
        "# These are the values we'll use to fill in any missing values\n",
        "X_defaults_median = X_train.median()\n",
        "X_defaults_median"
      ],
      "execution_count": 40,
      "outputs": [
        {
          "output_type": "execute_result",
          "data": {
            "text/plain": [
              "summit_elev                           2215.000000\n",
              "vertical_drop                          750.000000\n",
              "base_elev                             1300.000000\n",
              "trams                                    0.000000\n",
              "fastSixes                                0.000000\n",
              "fastQuads                                0.000000\n",
              "quad                                     1.000000\n",
              "triple                                   1.000000\n",
              "double                                   1.000000\n",
              "surface                                  2.000000\n",
              "total_chairs                             7.000000\n",
              "Runs                                    28.000000\n",
              "TerrainParks                             2.000000\n",
              "LongestRun_mi                            1.000000\n",
              "SkiableTerrain_ac                      170.000000\n",
              "Snow Making_ac                          96.500000\n",
              "daysOpenLastYear                       109.000000\n",
              "yearsOpen                               57.000000\n",
              "averageSnowfall                        120.000000\n",
              "projectedDaysOpen                      115.000000\n",
              "NightSkiing_ac                          70.000000\n",
              "resorts_per_state                       15.000000\n",
              "resorts_per_100kcapita                   0.248243\n",
              "resorts_per_100ksq_mile                 22.902162\n",
              "resort_skiable_area_ac_state_ratio       0.051458\n",
              "resort_days_open_state_ratio             0.071225\n",
              "resort_terrain_park_state_ratio          0.069444\n",
              "resort_night_skiing_state_ratio          0.077081\n",
              "total_chairs_runs_ratio                  0.200000\n",
              "total_chairs_skiable_ratio               0.040323\n",
              "fastQuads_runs_ratio                     0.000000\n",
              "fastQuads_skiable_ratio                  0.000000\n",
              "dtype: float64"
            ]
          },
          "metadata": {
            "tags": []
          },
          "execution_count": 40
        }
      ]
    },
    {
      "cell_type": "markdown",
      "metadata": {
        "id": "mLTsIqDy-jtc",
        "colab_type": "text"
      },
      "source": [
        "##### 4.8.1.1.2 Apply the imputation to both train and test splits<a id='4.8.1.1.2_Apply_the_imputation_to_both_train_and_test_splits'></a>"
      ]
    },
    {
      "cell_type": "code",
      "metadata": {
        "id": "Snh0w9rB-jtc",
        "colab_type": "code",
        "colab": {}
      },
      "source": [
        "#Code task 9#\n",
        "#Call `X_train` and `X_test`'s `fillna()` method, passing `X_defaults_median` as the values to use\n",
        "#Assign the results to `X_tr` and `X_te`, respectively\n",
        "X_tr = X_train.fillna(X_defaults_median)\n",
        "X_te = X_test.fillna(X_defaults_median)"
      ],
      "execution_count": 41,
      "outputs": []
    },
    {
      "cell_type": "markdown",
      "metadata": {
        "id": "yk_pJZc_-jtg",
        "colab_type": "text"
      },
      "source": [
        "##### 4.8.1.1.3 Scale the data<a id='4.8.1.1.3_Scale_the_data'></a>"
      ]
    },
    {
      "cell_type": "markdown",
      "metadata": {
        "id": "qhj0cgoE-jtg",
        "colab_type": "text"
      },
      "source": [
        "As you have features measured in many different units, with numbers that vary by orders of magnitude, start off by scaling them to put them all on a consistent scale. The [StandardScaler](https://scikit-learn.org/stable/modules/generated/sklearn.preprocessing.StandardScaler.html) scales each feature to zero mean and unit variance."
      ]
    },
    {
      "cell_type": "code",
      "metadata": {
        "id": "XgZccFeI-jth",
        "colab_type": "code",
        "colab": {}
      },
      "source": [
        "#Code task 10#\n",
        "#Call the StandardScaler`s fit method on `X_tr` to fit the scaler\n",
        "#then use it's `transform()` method to apply the scaling to both the train and test split\n",
        "#data (`X_tr` and `X_te`), naming the results `X_tr_scaled` and `X_te_scaled`, respectively\n",
        "scaler = StandardScaler()\n",
        "scaler.fit(X_tr)\n",
        "X_tr_scaled = scaler.transform(X_tr)\n",
        "X_te_scaled = scaler.transform(X_te)"
      ],
      "execution_count": 42,
      "outputs": []
    },
    {
      "cell_type": "markdown",
      "metadata": {
        "id": "LCFXGnbw-jtj",
        "colab_type": "text"
      },
      "source": [
        "##### 4.8.1.1.4 Train the model on the train split<a id='4.8.1.1.4_Train_the_model_on_the_train_split'></a>"
      ]
    },
    {
      "cell_type": "code",
      "metadata": {
        "id": "Hy_d_FB1-jtk",
        "colab_type": "code",
        "colab": {}
      },
      "source": [
        "lm = LinearRegression().fit(X_tr_scaled, y_train)"
      ],
      "execution_count": 43,
      "outputs": []
    },
    {
      "cell_type": "markdown",
      "metadata": {
        "id": "tEeug_TT-jtm",
        "colab_type": "text"
      },
      "source": [
        "##### 4.8.1.1.5 Make predictions using the model on both train and test splits<a id='4.8.1.1.5_Make_predictions_using_the_model_on_both_train_and_test_splits'></a>"
      ]
    },
    {
      "cell_type": "code",
      "metadata": {
        "id": "K9NjtmeV-jtn",
        "colab_type": "code",
        "colab": {}
      },
      "source": [
        "#Code task 11#\n",
        "#Call the `predict()` method of the model (`lm`) on both the (scaled) train and test data\n",
        "#Assign the predictions to `y_tr_pred` and `y_te_pred`, respectively\n",
        "y_tr_pred = lm.predict(X_tr_scaled)\n",
        "y_te_pred = lm.predict(X_te_scaled)"
      ],
      "execution_count": 44,
      "outputs": []
    },
    {
      "cell_type": "markdown",
      "metadata": {
        "id": "YB-v9tZp-jtp",
        "colab_type": "text"
      },
      "source": [
        "##### 4.8.1.1.6 Assess model performance<a id='4.8.1.1.6_Assess_model_performance'></a>"
      ]
    },
    {
      "cell_type": "code",
      "metadata": {
        "id": "6aonEe2V-jtp",
        "colab_type": "code",
        "colab": {
          "base_uri": "https://localhost:8080/",
          "height": 34
        },
        "outputId": "68278fc8-7f57-46f1-9774-e1699b2c472d"
      },
      "source": [
        "# r^2 - train, test\n",
        "median_r2 = r2_score(y_train, y_tr_pred), r2_score(y_test, y_te_pred)\n",
        "median_r2"
      ],
      "execution_count": 45,
      "outputs": [
        {
          "output_type": "execute_result",
          "data": {
            "text/plain": [
              "(0.8177988515690604, 0.7209725843435146)"
            ]
          },
          "metadata": {
            "tags": []
          },
          "execution_count": 45
        }
      ]
    },
    {
      "cell_type": "markdown",
      "metadata": {
        "id": "FBiCvlbI-jtr",
        "colab_type": "text"
      },
      "source": [
        "Recall that you estimated ticket price by simply using a known average. As expected, this produced an $R^2$ of zero for both the training and test set, because $R^2$ tells us how much of the variance you're explaining beyond that of using just the mean, and you were using just the mean. Here we see that our simple linear regression model explains over 80% of the variance on the train set and over 70% on the test set. Clearly you are onto something, although the much lower value for the test set suggests you're overfitting somewhat. This isn't a surprise as you've made no effort to select a parsimonious set of features or deal with multicollinearity in our data."
      ]
    },
    {
      "cell_type": "code",
      "metadata": {
        "id": "PcAprKVO-jts",
        "colab_type": "code",
        "colab": {
          "base_uri": "https://localhost:8080/",
          "height": 34
        },
        "outputId": "0da8d763-defb-42fa-ef2a-abd5d8811724"
      },
      "source": [
        "#Code task 12#\n",
        "#Now calculate the mean absolute error scores using `sklearn`'s `mean_absolute_error` function\n",
        "# as we did above for R^2\n",
        "# MAE - train, test\n",
        "median_mae = mean_absolute_error(y_train, y_tr_pred), mean_absolute_error(y_test, y_te_pred)\n",
        "median_mae"
      ],
      "execution_count": 46,
      "outputs": [
        {
          "output_type": "execute_result",
          "data": {
            "text/plain": [
              "(8.547850301825424, 9.407020118581316)"
            ]
          },
          "metadata": {
            "tags": []
          },
          "execution_count": 46
        }
      ]
    },
    {
      "cell_type": "markdown",
      "metadata": {
        "id": "Hkm8GHtn-jtw",
        "colab_type": "text"
      },
      "source": [
        "Using this model, then, on average you'd expect to estimate a ticket price within \\$9 or so of the real price. This is much, much better than the \\$19 from just guessing using the average. There may be something to this machine learning lark after all!"
      ]
    },
    {
      "cell_type": "code",
      "metadata": {
        "id": "BGbuNPX3-jtw",
        "colab_type": "code",
        "colab": {
          "base_uri": "https://localhost:8080/",
          "height": 50
        },
        "outputId": "9c80bdb2-0133-4752-c7d4-6bb902f08d87"
      },
      "source": [
        "#Code task 13#\n",
        "#And also do the same using `sklearn`'s `mean_squared_error`\n",
        "# MSE - train, test\n",
        "median_mse =mean_squared_error(y_train, y_tr_pred), mean_squared_error(y_test, y_te_pred)\n",
        "print(median_mse)\n",
        "print(np.sqrt(median_mse))"
      ],
      "execution_count": 47,
      "outputs": [
        {
          "output_type": "stream",
          "text": [
            "(111.89581253658478, 161.73156451192264)\n",
            "[10.5780817  12.71737255]\n"
          ],
          "name": "stdout"
        }
      ]
    },
    {
      "cell_type": "markdown",
      "metadata": {
        "id": "F0Dx6nmL-jt0",
        "colab_type": "text"
      },
      "source": [
        "#### 4.8.1.2 Impute missing values with the mean<a id='4.8.1.2_Impute_missing_values_with_the_mean'></a>"
      ]
    },
    {
      "cell_type": "markdown",
      "metadata": {
        "id": "4j9sk0bW-jt0",
        "colab_type": "text"
      },
      "source": [
        "You chose to use the median for filling missing values because of the skew of many of our predictor feature distributions. What if you wanted to try something else, such as the mean?"
      ]
    },
    {
      "cell_type": "markdown",
      "metadata": {
        "id": "Gt1YCthh-jt1",
        "colab_type": "text"
      },
      "source": [
        "##### 4.8.1.2.1 Learn the values to impute from the train set<a id='4.8.1.2.1_Learn_the_values_to_impute_from_the_train_set'></a>"
      ]
    },
    {
      "cell_type": "code",
      "metadata": {
        "id": "cxo3bM7K-jt2",
        "colab_type": "code",
        "colab": {
          "base_uri": "https://localhost:8080/",
          "height": 1000
        },
        "outputId": "c017d946-f4f0-435c-a3ce-bf9c763ffb44"
      },
      "source": [
        "#Code task 14#\n",
        "#As we did for the median above, calculate mean values for imputing missing values\n",
        "# These are the values we'll use to fill in any missing values\n",
        "X_defaults_mean = X_train.mean()\n",
        "print(X_defaults_mean)\n",
        "print(X_defaults_median)"
      ],
      "execution_count": 48,
      "outputs": [
        {
          "output_type": "stream",
          "text": [
            "summit_elev                           4074.554404\n",
            "vertical_drop                         1043.196891\n",
            "base_elev                             3020.512953\n",
            "trams                                    0.103627\n",
            "fastSixes                                0.072539\n",
            "fastQuads                                0.673575\n",
            "quad                                     1.010363\n",
            "triple                                   1.440415\n",
            "double                                   1.813472\n",
            "surface                                  2.497409\n",
            "total_chairs                             7.611399\n",
            "Runs                                    41.188482\n",
            "TerrainParks                             2.434783\n",
            "LongestRun_mi                            1.293122\n",
            "SkiableTerrain_ac                      448.785340\n",
            "Snow Making_ac                         129.601190\n",
            "daysOpenLastYear                       110.100629\n",
            "yearsOpen                               56.559585\n",
            "averageSnowfall                        162.310160\n",
            "projectedDaysOpen                      115.920245\n",
            "NightSkiing_ac                          86.384615\n",
            "resorts_per_state                       16.264249\n",
            "resorts_per_100kcapita                   0.424802\n",
            "resorts_per_100ksq_mile                 40.957785\n",
            "resort_skiable_area_ac_state_ratio       0.097205\n",
            "resort_days_open_state_ratio             0.126014\n",
            "resort_terrain_park_state_ratio          0.116022\n",
            "resort_night_skiing_state_ratio          0.155024\n",
            "total_chairs_runs_ratio                  0.271441\n",
            "total_chairs_skiable_ratio               0.070483\n",
            "fastQuads_runs_ratio                     0.010401\n",
            "fastQuads_skiable_ratio                  0.001633\n",
            "dtype: float64\n",
            "summit_elev                           2215.000000\n",
            "vertical_drop                          750.000000\n",
            "base_elev                             1300.000000\n",
            "trams                                    0.000000\n",
            "fastSixes                                0.000000\n",
            "fastQuads                                0.000000\n",
            "quad                                     1.000000\n",
            "triple                                   1.000000\n",
            "double                                   1.000000\n",
            "surface                                  2.000000\n",
            "total_chairs                             7.000000\n",
            "Runs                                    28.000000\n",
            "TerrainParks                             2.000000\n",
            "LongestRun_mi                            1.000000\n",
            "SkiableTerrain_ac                      170.000000\n",
            "Snow Making_ac                          96.500000\n",
            "daysOpenLastYear                       109.000000\n",
            "yearsOpen                               57.000000\n",
            "averageSnowfall                        120.000000\n",
            "projectedDaysOpen                      115.000000\n",
            "NightSkiing_ac                          70.000000\n",
            "resorts_per_state                       15.000000\n",
            "resorts_per_100kcapita                   0.248243\n",
            "resorts_per_100ksq_mile                 22.902162\n",
            "resort_skiable_area_ac_state_ratio       0.051458\n",
            "resort_days_open_state_ratio             0.071225\n",
            "resort_terrain_park_state_ratio          0.069444\n",
            "resort_night_skiing_state_ratio          0.077081\n",
            "total_chairs_runs_ratio                  0.200000\n",
            "total_chairs_skiable_ratio               0.040323\n",
            "fastQuads_runs_ratio                     0.000000\n",
            "fastQuads_skiable_ratio                  0.000000\n",
            "dtype: float64\n"
          ],
          "name": "stdout"
        }
      ]
    },
    {
      "cell_type": "markdown",
      "metadata": {
        "id": "FIylwThe-jt4",
        "colab_type": "text"
      },
      "source": [
        "By eye, you can immediately tell that your replacement values are much higher than those from using the median."
      ]
    },
    {
      "cell_type": "markdown",
      "metadata": {
        "id": "QfndSMvB-jt5",
        "colab_type": "text"
      },
      "source": [
        "##### 4.8.1.2.2 Apply the imputation to both train and test splits<a id='4.8.1.2.2_Apply_the_imputation_to_both_train_and_test_splits'></a>"
      ]
    },
    {
      "cell_type": "code",
      "metadata": {
        "id": "PK20jRuR-jt5",
        "colab_type": "code",
        "colab": {}
      },
      "source": [
        "X_tr = X_train.fillna(X_defaults_mean)\n",
        "X_te = X_test.fillna(X_defaults_mean)"
      ],
      "execution_count": 49,
      "outputs": []
    },
    {
      "cell_type": "markdown",
      "metadata": {
        "id": "SnVGhGTa-jt7",
        "colab_type": "text"
      },
      "source": [
        "##### 4.8.1.2.3 Scale the data<a id='4.8.1.2.3_Scale_the_data'></a>"
      ]
    },
    {
      "cell_type": "code",
      "metadata": {
        "id": "8729DJh4-jt7",
        "colab_type": "code",
        "colab": {}
      },
      "source": [
        "scaler = StandardScaler()\n",
        "scaler.fit(X_tr)\n",
        "X_tr_scaled = scaler.transform(X_tr)\n",
        "X_te_scaled = scaler.transform(X_te)"
      ],
      "execution_count": 50,
      "outputs": []
    },
    {
      "cell_type": "markdown",
      "metadata": {
        "id": "fiIMI-WW-jt9",
        "colab_type": "text"
      },
      "source": [
        "##### 4.8.1.2.4 Train the model on the train split<a id='4.8.1.2.4_Train_the_model_on_the_train_split'></a>"
      ]
    },
    {
      "cell_type": "code",
      "metadata": {
        "id": "ZscXZ57r-jt9",
        "colab_type": "code",
        "colab": {}
      },
      "source": [
        "lm = LinearRegression().fit(X_tr_scaled, y_train)"
      ],
      "execution_count": 51,
      "outputs": []
    },
    {
      "cell_type": "markdown",
      "metadata": {
        "id": "OnDttaOJ-jt_",
        "colab_type": "text"
      },
      "source": [
        "##### 4.8.1.2.5 Make predictions using the model on both train and test splits<a id='4.8.1.2.5_Make_predictions_using_the_model_on_both_train_and_test_splits'></a>"
      ]
    },
    {
      "cell_type": "code",
      "metadata": {
        "id": "qnGzDTYN-jt_",
        "colab_type": "code",
        "colab": {}
      },
      "source": [
        "y_tr_pred = lm.predict(X_tr_scaled)\n",
        "y_te_pred = lm.predict(X_te_scaled)"
      ],
      "execution_count": 52,
      "outputs": []
    },
    {
      "cell_type": "markdown",
      "metadata": {
        "id": "FmqeETC3-juQ",
        "colab_type": "text"
      },
      "source": [
        "##### 4.8.1.2.6 Assess model performance<a id='4.8.1.2.6_Assess_model_performance'></a>"
      ]
    },
    {
      "cell_type": "code",
      "metadata": {
        "id": "-1jjlD7X-juR",
        "colab_type": "code",
        "colab": {
          "base_uri": "https://localhost:8080/",
          "height": 34
        },
        "outputId": "795a89e7-8330-45cd-9944-35b8c5c2aa24"
      },
      "source": [
        "r2_score(y_train, y_tr_pred), r2_score(y_test, y_te_pred)"
      ],
      "execution_count": 53,
      "outputs": [
        {
          "output_type": "execute_result",
          "data": {
            "text/plain": [
              "(0.8170154093990025, 0.716381471695996)"
            ]
          },
          "metadata": {
            "tags": []
          },
          "execution_count": 53
        }
      ]
    },
    {
      "cell_type": "code",
      "metadata": {
        "id": "DfHLBf5a-juT",
        "colab_type": "code",
        "colab": {
          "base_uri": "https://localhost:8080/",
          "height": 34
        },
        "outputId": "82ad0c80-40c0-48a4-e620-23b006d9ef6e"
      },
      "source": [
        "mean_absolute_error(y_train, y_tr_pred), mean_absolute_error(y_test, y_te_pred)"
      ],
      "execution_count": 54,
      "outputs": [
        {
          "output_type": "execute_result",
          "data": {
            "text/plain": [
              "(8.536884040670973, 9.416375625789273)"
            ]
          },
          "metadata": {
            "tags": []
          },
          "execution_count": 54
        }
      ]
    },
    {
      "cell_type": "code",
      "metadata": {
        "id": "5_dJJhIn-juU",
        "colab_type": "code",
        "colab": {
          "base_uri": "https://localhost:8080/",
          "height": 50
        },
        "outputId": "05f6109e-8294-41d1-b4a7-e84afd0681bc"
      },
      "source": [
        "mean_mse = mean_squared_error(y_train, y_tr_pred), mean_squared_error(y_test, y_te_pred)\n",
        "print(mean_mse)\n",
        "print(np.sqrt(mean_mse))"
      ],
      "execution_count": 55,
      "outputs": [
        {
          "output_type": "stream",
          "text": [
            "(112.37695054778276, 164.3926930952437)\n",
            "[10.60079952 12.8215714 ]\n"
          ],
          "name": "stdout"
        }
      ]
    },
    {
      "cell_type": "markdown",
      "metadata": {
        "id": "er9Hkksm-juW",
        "colab_type": "text"
      },
      "source": [
        "These results don't seem very different to when you used the median for imputing missing values. Perhaps it doesn't make much difference here. Maybe your overtraining dominates. Maybe other feature transformations, such as taking the log, would help. You could try with just a subset of features rather than using all of them as inputs.\n",
        "\n",
        "To perform the median/mean comparison, you copied and pasted a lot of code just to change the function for imputing missing values. It would make more sense to write a function that performed the sequence of steps:\n",
        "1. impute missing values\n",
        "2. scale the features\n",
        "3. train a model\n",
        "4. calculate model performance\n",
        "\n",
        "But these are common steps and `sklearn` provides something much better than writing custom functions."
      ]
    },
    {
      "cell_type": "markdown",
      "metadata": {
        "id": "7hY1XPPn-juX",
        "colab_type": "text"
      },
      "source": [
        "### 4.8.2 Pipelines<a id='4.8.2_Pipelines'></a>"
      ]
    },
    {
      "cell_type": "markdown",
      "metadata": {
        "id": "H_cwwmeR-juX",
        "colab_type": "text"
      },
      "source": [
        "One of the most important and useful components of `sklearn` is the [pipeline](https://scikit-learn.org/stable/modules/generated/sklearn.pipeline.Pipeline.html). In place of `panda`'s `fillna` DataFrame method, there is `sklearn`'s `SimpleImputer`. Remember the first linear model above performed the steps:\n",
        "\n",
        "1. replace missing values with the median for each feature\n",
        "2. scale the data to zero mean and unit variance\n",
        "3. train a linear regression model\n",
        "\n",
        "and all these steps were trained on the train split and then applied to the test split for assessment.\n",
        "\n",
        "The pipeline below defines exactly those same steps. Crucially, the resultant `Pipeline` object has a `fit()` method and a `predict()` method, just like the `LinearRegression()` object itself. Just as you might create a linear regression model and train it with `.fit()` and predict with `.predict()`, you can wrap the entire process of imputing and feature scaling and regression in a single object you can train with `.fit()` and predict with `.predict()`. And that's basically a pipeline: a model on steroids."
      ]
    },
    {
      "cell_type": "markdown",
      "metadata": {
        "id": "LDMvkqCG-juY",
        "colab_type": "text"
      },
      "source": [
        "#### 4.8.2.1 Define the pipeline<a id='4.8.2.1_Define_the_pipeline'></a>"
      ]
    },
    {
      "cell_type": "code",
      "metadata": {
        "id": "gHwa7P1o-juY",
        "colab_type": "code",
        "colab": {}
      },
      "source": [
        "pipe = make_pipeline(\n",
        "    SimpleImputer(strategy='median'), \n",
        "    StandardScaler(), \n",
        "    LinearRegression()\n",
        ")"
      ],
      "execution_count": 56,
      "outputs": []
    },
    {
      "cell_type": "code",
      "metadata": {
        "id": "3SGQx4Uq-jub",
        "colab_type": "code",
        "colab": {
          "base_uri": "https://localhost:8080/",
          "height": 34
        },
        "outputId": "93232cb4-2c40-47ab-f1a8-45acfc5e2736"
      },
      "source": [
        "'''\n",
        "It's its own type...yay.\n",
        "'''\n",
        "type(pipe)"
      ],
      "execution_count": 57,
      "outputs": [
        {
          "output_type": "execute_result",
          "data": {
            "text/plain": [
              "sklearn.pipeline.Pipeline"
            ]
          },
          "metadata": {
            "tags": []
          },
          "execution_count": 57
        }
      ]
    },
    {
      "cell_type": "code",
      "metadata": {
        "id": "Qi8crTIe-jue",
        "colab_type": "code",
        "colab": {
          "base_uri": "https://localhost:8080/",
          "height": 34
        },
        "outputId": "c85d57b6-69b1-499d-fdd0-732b3c69ab38"
      },
      "source": [
        "'''\n",
        "It also has `fit` and `predict`.\n",
        "'''\n",
        "hasattr(pipe, 'fit'), hasattr(pipe, 'predict')"
      ],
      "execution_count": 58,
      "outputs": [
        {
          "output_type": "execute_result",
          "data": {
            "text/plain": [
              "(True, True)"
            ]
          },
          "metadata": {
            "tags": []
          },
          "execution_count": 58
        }
      ]
    },
    {
      "cell_type": "markdown",
      "metadata": {
        "id": "0iuGicaK-jug",
        "colab_type": "text"
      },
      "source": [
        "#### 4.8.2.2 Fit the pipeline<a id='4.8.2.2_Fit_the_pipeline'></a>"
      ]
    },
    {
      "cell_type": "markdown",
      "metadata": {
        "id": "LV5UmPHv-jug",
        "colab_type": "text"
      },
      "source": [
        "Here, a single call to the pipeline's `fit()` method combines the steps of learning the imputation (determining what values to use to fill the missing ones), the scaling (determining the mean to subtract and the variance to divide by), and then training the model. It does this all in the one call with the training data as arguments."
      ]
    },
    {
      "cell_type": "code",
      "metadata": {
        "id": "0ih0h-6y-juh",
        "colab_type": "code",
        "colab": {
          "base_uri": "https://localhost:8080/",
          "height": 202
        },
        "outputId": "a91f40d4-360e-4897-bb2d-5b6298bf91fb"
      },
      "source": [
        "#Code task 15#\n",
        "#Call the pipe's `fit()` method with `X_train` and `y_train` as arguments\n",
        "pipe.fit(X_train, y_train)"
      ],
      "execution_count": 59,
      "outputs": [
        {
          "output_type": "execute_result",
          "data": {
            "text/plain": [
              "Pipeline(memory=None,\n",
              "         steps=[('simpleimputer',\n",
              "                 SimpleImputer(add_indicator=False, copy=True, fill_value=None,\n",
              "                               missing_values=nan, strategy='median',\n",
              "                               verbose=0)),\n",
              "                ('standardscaler',\n",
              "                 StandardScaler(copy=True, with_mean=True, with_std=True)),\n",
              "                ('linearregression',\n",
              "                 LinearRegression(copy_X=True, fit_intercept=True, n_jobs=None,\n",
              "                                  normalize=False))],\n",
              "         verbose=False)"
            ]
          },
          "metadata": {
            "tags": []
          },
          "execution_count": 59
        }
      ]
    },
    {
      "cell_type": "markdown",
      "metadata": {
        "id": "AD9MO5W3-jui",
        "colab_type": "text"
      },
      "source": [
        "#### 4.8.2.3 Make predictions on the train and test sets<a id='4.8.2.3_Make_predictions_on_the_train_and_test_sets'></a>"
      ]
    },
    {
      "cell_type": "code",
      "metadata": {
        "id": "TEO9GkLx-juj",
        "colab_type": "code",
        "colab": {}
      },
      "source": [
        "y_tr_pred = pipe.predict(X_train)\n",
        "y_te_pred = pipe.predict(X_test)"
      ],
      "execution_count": 60,
      "outputs": []
    },
    {
      "cell_type": "markdown",
      "metadata": {
        "id": "mJaQjjdk-juk",
        "colab_type": "text"
      },
      "source": [
        "#### 4.8.2.4 Assess performance<a id='4.8.2.4_Assess_performance'></a>"
      ]
    },
    {
      "cell_type": "code",
      "metadata": {
        "id": "QOz6A5zo-jul",
        "colab_type": "code",
        "colab": {
          "base_uri": "https://localhost:8080/",
          "height": 34
        },
        "outputId": "f7abc0f6-6d82-49f9-eaf1-4009e1d269cd"
      },
      "source": [
        "r2_score(y_train, y_tr_pred), r2_score(y_test, y_te_pred)"
      ],
      "execution_count": 61,
      "outputs": [
        {
          "output_type": "execute_result",
          "data": {
            "text/plain": [
              "(0.8177988515690604, 0.7209725843435146)"
            ]
          },
          "metadata": {
            "tags": []
          },
          "execution_count": 61
        }
      ]
    },
    {
      "cell_type": "markdown",
      "metadata": {
        "id": "ubWAnncE-jum",
        "colab_type": "text"
      },
      "source": [
        "And compare with your earlier (non-pipeline) result:"
      ]
    },
    {
      "cell_type": "code",
      "metadata": {
        "id": "oTFYr_kn-jum",
        "colab_type": "code",
        "colab": {
          "base_uri": "https://localhost:8080/",
          "height": 34
        },
        "outputId": "52334e90-28b8-4771-81a8-b0599ed91ba4"
      },
      "source": [
        "median_r2"
      ],
      "execution_count": 62,
      "outputs": [
        {
          "output_type": "execute_result",
          "data": {
            "text/plain": [
              "(0.8177988515690604, 0.7209725843435146)"
            ]
          },
          "metadata": {
            "tags": []
          },
          "execution_count": 62
        }
      ]
    },
    {
      "cell_type": "code",
      "metadata": {
        "id": "E_Hhuuj4-juq",
        "colab_type": "code",
        "colab": {
          "base_uri": "https://localhost:8080/",
          "height": 34
        },
        "outputId": "db1285ab-0931-4d55-b7a0-94e7fb126e09"
      },
      "source": [
        "mean_absolute_error(y_train, y_tr_pred), mean_absolute_error(y_test, y_te_pred)"
      ],
      "execution_count": 63,
      "outputs": [
        {
          "output_type": "execute_result",
          "data": {
            "text/plain": [
              "(8.547850301825424, 9.407020118581316)"
            ]
          },
          "metadata": {
            "tags": []
          },
          "execution_count": 63
        }
      ]
    },
    {
      "cell_type": "markdown",
      "metadata": {
        "id": "8-8uWac3GS18",
        "colab_type": "text"
      },
      "source": [
        "Compare with your earlier result:"
      ]
    },
    {
      "cell_type": "code",
      "metadata": {
        "id": "YxavbEbX-juv",
        "colab_type": "code",
        "colab": {
          "base_uri": "https://localhost:8080/",
          "height": 34
        },
        "outputId": "b81a502a-9030-4272-a944-d53940cd21b2"
      },
      "source": [
        "median_mae"
      ],
      "execution_count": 64,
      "outputs": [
        {
          "output_type": "execute_result",
          "data": {
            "text/plain": [
              "(8.547850301825424, 9.407020118581316)"
            ]
          },
          "metadata": {
            "tags": []
          },
          "execution_count": 64
        }
      ]
    },
    {
      "cell_type": "code",
      "metadata": {
        "id": "HOC02VvU-jux",
        "colab_type": "code",
        "colab": {
          "base_uri": "https://localhost:8080/",
          "height": 34
        },
        "outputId": "aea56b37-793e-44ca-b95a-2d2d3c6b70d5"
      },
      "source": [
        "mean_squared_error(y_train, y_tr_pred), mean_squared_error(y_test, y_te_pred)"
      ],
      "execution_count": 65,
      "outputs": [
        {
          "output_type": "execute_result",
          "data": {
            "text/plain": [
              "(111.89581253658478, 161.73156451192264)"
            ]
          },
          "metadata": {
            "tags": []
          },
          "execution_count": 65
        }
      ]
    },
    {
      "cell_type": "markdown",
      "metadata": {
        "id": "YSVtT3cX-juz",
        "colab_type": "text"
      },
      "source": [
        "Compare with your earlier result:"
      ]
    },
    {
      "cell_type": "code",
      "metadata": {
        "id": "r8yVH8Vb-juz",
        "colab_type": "code",
        "colab": {
          "base_uri": "https://localhost:8080/",
          "height": 34
        },
        "outputId": "c7944759-1e17-45c8-cdce-7b05639c788d"
      },
      "source": [
        "median_mse"
      ],
      "execution_count": 66,
      "outputs": [
        {
          "output_type": "execute_result",
          "data": {
            "text/plain": [
              "(111.89581253658478, 161.73156451192264)"
            ]
          },
          "metadata": {
            "tags": []
          },
          "execution_count": 66
        }
      ]
    },
    {
      "cell_type": "markdown",
      "metadata": {
        "id": "PvwGSCC6-ju2",
        "colab_type": "text"
      },
      "source": [
        "These results confirm the pipeline is doing exactly what's expected, and results are identical to your earlier steps. This allows you to move faster but with confidence."
      ]
    },
    {
      "cell_type": "markdown",
      "metadata": {
        "id": "nzLEIYiE-ju2",
        "colab_type": "text"
      },
      "source": [
        "## 4.9 Refining The Linear Model<a id='4.9_Refining_The_Linear_Model'></a>"
      ]
    },
    {
      "cell_type": "markdown",
      "metadata": {
        "id": "BSEKB4nl-ju3",
        "colab_type": "text"
      },
      "source": [
        "You suspected the model was overfitting. This is no real surprise given the number of features you blindly used. It's likely a judicious subset of features would generalize better. `sklearn` has a number of feature selection functions available. The one you'll use here is `SelectKBest` which, as you might guess, selects the k best features. You can read about SelectKBest \n",
        "[here](https://scikit-learn.org/stable/modules/generated/sklearn.feature_selection.SelectKBest.html#sklearn.feature_selection.SelectKBest). `f_regression` is just the [score function](https://scikit-learn.org/stable/modules/generated/sklearn.feature_selection.f_regression.html#sklearn.feature_selection.f_regression) you're using because you're performing regression. It's important to choose an appropriate one for your machine learning task.\n",
        "\n",
        "Helpful Link: [Best Explanation of f_regression](https://stats.stackexchange.com/questions/204141/difference-between-selecting-features-based-on-f-regression-and-based-on-r2)"
      ]
    },
    {
      "cell_type": "markdown",
      "metadata": {
        "id": "dDQo7FFU-ju3",
        "colab_type": "text"
      },
      "source": [
        "### 4.9.1 Define the pipeline<a id='4.9.1_Define_the_pipeline'></a>"
      ]
    },
    {
      "cell_type": "markdown",
      "metadata": {
        "id": "73BhXhS7-ju3",
        "colab_type": "text"
      },
      "source": [
        "Redefine your pipeline to include this feature selection step:"
      ]
    },
    {
      "cell_type": "code",
      "metadata": {
        "id": "uDG1hatT-ju3",
        "colab_type": "code",
        "colab": {}
      },
      "source": [
        "#Code task 16#\n",
        "#Add `SelectKBest` as a step in the pipeline between `StandardScaler()` and `LinearRegression()`\n",
        "#Don't forget to tell it to use `f_regression` as its score function\n",
        "pipe = make_pipeline(\n",
        "    SimpleImputer(strategy='median'), \n",
        "    StandardScaler(),\n",
        "    SelectKBest(f_regression),\n",
        "    LinearRegression()\n",
        ")"
      ],
      "execution_count": 67,
      "outputs": []
    },
    {
      "cell_type": "markdown",
      "metadata": {
        "id": "jYcyebbL-ju5",
        "colab_type": "text"
      },
      "source": [
        "### 4.9.2 Fit the pipeline<a id='4.9.2_Fit_the_pipeline'></a>"
      ]
    },
    {
      "cell_type": "code",
      "metadata": {
        "id": "qB1ZyFg5-ju5",
        "colab_type": "code",
        "colab": {
          "base_uri": "https://localhost:8080/",
          "height": 252
        },
        "outputId": "494d6407-9fa0-4eb0-c3d3-e57dd47039eb"
      },
      "source": [
        "pipe.fit(X_train, y_train)"
      ],
      "execution_count": 68,
      "outputs": [
        {
          "output_type": "execute_result",
          "data": {
            "text/plain": [
              "Pipeline(memory=None,\n",
              "         steps=[('simpleimputer',\n",
              "                 SimpleImputer(add_indicator=False, copy=True, fill_value=None,\n",
              "                               missing_values=nan, strategy='median',\n",
              "                               verbose=0)),\n",
              "                ('standardscaler',\n",
              "                 StandardScaler(copy=True, with_mean=True, with_std=True)),\n",
              "                ('selectkbest',\n",
              "                 SelectKBest(k=10,\n",
              "                             score_func=<function f_regression at 0x7f84455f1a60>)),\n",
              "                ('linearregression',\n",
              "                 LinearRegression(copy_X=True, fit_intercept=True, n_jobs=None,\n",
              "                                  normalize=False))],\n",
              "         verbose=False)"
            ]
          },
          "metadata": {
            "tags": []
          },
          "execution_count": 68
        }
      ]
    },
    {
      "cell_type": "markdown",
      "metadata": {
        "id": "bk7YbPjl-ju7",
        "colab_type": "text"
      },
      "source": [
        "### 4.9.3 Assess performance on the train and test set<a id='4.9.3_Assess_performance_on_the_train_and_test_set'></a>"
      ]
    },
    {
      "cell_type": "code",
      "metadata": {
        "id": "Fj3rf0Kx-ju7",
        "colab_type": "code",
        "colab": {}
      },
      "source": [
        "y_tr_pred = pipe.predict(X_train)\n",
        "y_te_pred = pipe.predict(X_test)"
      ],
      "execution_count": 69,
      "outputs": []
    },
    {
      "cell_type": "code",
      "metadata": {
        "id": "kuEYJKiL-ju-",
        "colab_type": "code",
        "colab": {
          "base_uri": "https://localhost:8080/",
          "height": 34
        },
        "outputId": "f29b6b1b-f4a7-4b32-954f-21b256d65779"
      },
      "source": [
        "r2_score(y_train, y_tr_pred), r2_score(y_test, y_te_pred)"
      ],
      "execution_count": 70,
      "outputs": [
        {
          "output_type": "execute_result",
          "data": {
            "text/plain": [
              "(0.7674914326052744, 0.6259877354190837)"
            ]
          },
          "metadata": {
            "tags": []
          },
          "execution_count": 70
        }
      ]
    },
    {
      "cell_type": "code",
      "metadata": {
        "id": "SzyWXgyx-ju_",
        "colab_type": "code",
        "colab": {
          "base_uri": "https://localhost:8080/",
          "height": 34
        },
        "outputId": "3c1f23eb-53e1-4392-a96c-2f1cde4b8c50"
      },
      "source": [
        "mean_absolute_error(y_train, y_tr_pred), mean_absolute_error(y_test, y_te_pred)"
      ],
      "execution_count": 71,
      "outputs": [
        {
          "output_type": "execute_result",
          "data": {
            "text/plain": [
              "(9.501495079727484, 11.20183019033205)"
            ]
          },
          "metadata": {
            "tags": []
          },
          "execution_count": 71
        }
      ]
    },
    {
      "cell_type": "markdown",
      "metadata": {
        "id": "V2s1fSj8-jvB",
        "colab_type": "text"
      },
      "source": [
        "This has made things worse! Clearly selecting a subset of features has an impact on performance. `SelectKBest` defaults to k=10. You've just seen that 10 is worse than using all features. What is the best k? You could create a new pipeline with a different value of k:"
      ]
    },
    {
      "cell_type": "markdown",
      "metadata": {
        "id": "sTe4QFbk-jvB",
        "colab_type": "text"
      },
      "source": [
        "### 4.9.4 Define a new pipeline to select a different number of features<a id='4.9.4_Define_a_new_pipeline_to_select_a_different_number_of_features'></a>"
      ]
    },
    {
      "cell_type": "code",
      "metadata": {
        "id": "ZlTOcFPg-jvB",
        "colab_type": "code",
        "colab": {}
      },
      "source": [
        "#Code task 17#\n",
        "#Modify the `SelectKBest` step to use a value of 15 for k\n",
        "pipe15 = make_pipeline(\n",
        "    SimpleImputer(strategy='median'), \n",
        "    StandardScaler(),\n",
        "    SelectKBest(f_regression, k=15),\n",
        "    LinearRegression()\n",
        ")"
      ],
      "execution_count": 72,
      "outputs": []
    },
    {
      "cell_type": "markdown",
      "metadata": {
        "id": "bpIMrrt5-jvO",
        "colab_type": "text"
      },
      "source": [
        "### 4.9.5 Fit the pipeline<a id='4.9.5_Fit_the_pipeline'></a>"
      ]
    },
    {
      "cell_type": "code",
      "metadata": {
        "id": "DXWsmdA--jvO",
        "colab_type": "code",
        "colab": {
          "base_uri": "https://localhost:8080/",
          "height": 252
        },
        "outputId": "116475de-f5f2-4dbc-8854-1054a0710be3"
      },
      "source": [
        "pipe15.fit(X_train, y_train)"
      ],
      "execution_count": 73,
      "outputs": [
        {
          "output_type": "execute_result",
          "data": {
            "text/plain": [
              "Pipeline(memory=None,\n",
              "         steps=[('simpleimputer',\n",
              "                 SimpleImputer(add_indicator=False, copy=True, fill_value=None,\n",
              "                               missing_values=nan, strategy='median',\n",
              "                               verbose=0)),\n",
              "                ('standardscaler',\n",
              "                 StandardScaler(copy=True, with_mean=True, with_std=True)),\n",
              "                ('selectkbest',\n",
              "                 SelectKBest(k=15,\n",
              "                             score_func=<function f_regression at 0x7f84455f1a60>)),\n",
              "                ('linearregression',\n",
              "                 LinearRegression(copy_X=True, fit_intercept=True, n_jobs=None,\n",
              "                                  normalize=False))],\n",
              "         verbose=False)"
            ]
          },
          "metadata": {
            "tags": []
          },
          "execution_count": 73
        }
      ]
    },
    {
      "cell_type": "markdown",
      "metadata": {
        "id": "FrqgPk5L-jvQ",
        "colab_type": "text"
      },
      "source": [
        "### 4.9.6 Assess performance on train and test data<a id='4.9.6_Assess_performance_on_train_and_test_data'></a>"
      ]
    },
    {
      "cell_type": "code",
      "metadata": {
        "id": "JnSMRYjV-jvR",
        "colab_type": "code",
        "colab": {}
      },
      "source": [
        "y_tr_pred = pipe15.predict(X_train)\n",
        "y_te_pred = pipe15.predict(X_test)"
      ],
      "execution_count": 74,
      "outputs": []
    },
    {
      "cell_type": "code",
      "metadata": {
        "id": "ANNrRnbc-jvT",
        "colab_type": "code",
        "colab": {
          "base_uri": "https://localhost:8080/",
          "height": 34
        },
        "outputId": "7baf6809-412b-459c-f678-22f8edde3468"
      },
      "source": [
        "r2_score(y_train, y_tr_pred), r2_score(y_test, y_te_pred)"
      ],
      "execution_count": 75,
      "outputs": [
        {
          "output_type": "execute_result",
          "data": {
            "text/plain": [
              "(0.7924096060483825, 0.6376199973170797)"
            ]
          },
          "metadata": {
            "tags": []
          },
          "execution_count": 75
        }
      ]
    },
    {
      "cell_type": "code",
      "metadata": {
        "id": "pUQPwn78-jvV",
        "colab_type": "code",
        "colab": {
          "base_uri": "https://localhost:8080/",
          "height": 34
        },
        "outputId": "4668e0d7-07a1-4251-ceeb-cfbbc7442a9f"
      },
      "source": [
        "mean_absolute_error(y_train, y_tr_pred), mean_absolute_error(y_test, y_te_pred)"
      ],
      "execution_count": 76,
      "outputs": [
        {
          "output_type": "execute_result",
          "data": {
            "text/plain": [
              "(9.211767769307114, 10.488246867294356)"
            ]
          },
          "metadata": {
            "tags": []
          },
          "execution_count": 76
        }
      ]
    },
    {
      "cell_type": "markdown",
      "metadata": {
        "id": "4TbBAuu2-jvW",
        "colab_type": "text"
      },
      "source": [
        "You could keep going, trying different values of k, training a model, measuring performance on the test set, and then picking the model with the best test set performance. There's a fundamental problem with this approach: _you're tuning the model to the arbitrary test set_! If you continue this way you'll end up with a model works well on the particular quirks of our test set _but fails to generalize to new data_. The whole point of keeping a test set is for it to be a set of that new data, to check how well our model might perform on data it hasn't seen.\n",
        "\n",
        "The way around this is a technique called _cross-validation_. You partition the training set into k folds, train our model on k-1 of those folds, and calculate performance on the fold not used in training. This procedure then cycles through k times with a different fold held back each time. Thus you end up building k models on k sets of data with k estimates of how the model performs on unseen data but without having to touch the test set."
      ]
    },
    {
      "cell_type": "markdown",
      "metadata": {
        "id": "zq7C6gfL-jvX",
        "colab_type": "text"
      },
      "source": [
        "### 4.9.7 Assessing performance using cross-validation<a id='4.9.7_Assessing_performance_using_cross-validation'></a>\n",
        "\n",
        "Helpful Links: [Cross Validation](https://towardsdatascience.com/why-and-how-to-cross-validate-a-model-d6424b45261f) | [Tutorials](https://machinelearningmastery.com/k-fold-cross-validation/) | [Video](https://www.youtube.com/watch?v=fSytzGwwBVw)"
      ]
    },
    {
      "cell_type": "code",
      "metadata": {
        "id": "qXbNgYmJ-jvX",
        "colab_type": "code",
        "colab": {
          "base_uri": "https://localhost:8080/",
          "height": 67
        },
        "outputId": "0ec23cc7-979c-4200-bf03-290f34a2c7c4"
      },
      "source": [
        "cv_results = cross_validate(pipe15, X_train, y_train, cv=5)\n",
        "cv_results"
      ],
      "execution_count": 77,
      "outputs": [
        {
          "output_type": "execute_result",
          "data": {
            "text/plain": [
              "{'fit_time': array([0.01334572, 0.01381373, 0.00539255, 0.00535655, 0.0053494 ]),\n",
              " 'score_time': array([0.00330138, 0.00176096, 0.00168729, 0.0017364 , 0.00169754]),\n",
              " 'test_score': array([0.63760862, 0.72831381, 0.74443537, 0.5487915 , 0.50441472])}"
            ]
          },
          "metadata": {
            "tags": []
          },
          "execution_count": 77
        }
      ]
    },
    {
      "cell_type": "code",
      "metadata": {
        "id": "F4pnAfTq-jvY",
        "colab_type": "code",
        "colab": {
          "base_uri": "https://localhost:8080/",
          "height": 34
        },
        "outputId": "ff09d296-cb3a-47ed-c519-b4e0e998662d"
      },
      "source": [
        "'''\n",
        "`test_score` is a method? of cv_results. In the docs, if no test_score is specified it defaults to the \"estimator\" (model). Because it's linear regression, and we didn't\n",
        "specify otherwise, the default scoring metric is r_squared.\n",
        "'''\n",
        "cv_scores = cv_results['test_score']\n",
        "cv_scores"
      ],
      "execution_count": 78,
      "outputs": [
        {
          "output_type": "execute_result",
          "data": {
            "text/plain": [
              "array([0.63760862, 0.72831381, 0.74443537, 0.5487915 , 0.50441472])"
            ]
          },
          "metadata": {
            "tags": []
          },
          "execution_count": 78
        }
      ]
    },
    {
      "cell_type": "markdown",
      "metadata": {
        "id": "C-nAwvcU-jvZ",
        "colab_type": "text"
      },
      "source": [
        "Without using the same random state for initializing the CV folds, your actual numbers will be different."
      ]
    },
    {
      "cell_type": "code",
      "metadata": {
        "id": "pOiHvmZj-jvZ",
        "colab_type": "code",
        "colab": {
          "base_uri": "https://localhost:8080/",
          "height": 34
        },
        "outputId": "6bf06a10-67c1-4a85-d287-4efb39ca48ea"
      },
      "source": [
        "np.mean(cv_scores), np.std(cv_scores)"
      ],
      "execution_count": 79,
      "outputs": [
        {
          "output_type": "execute_result",
          "data": {
            "text/plain": [
              "(0.6327128053007864, 0.09502487849877707)"
            ]
          },
          "metadata": {
            "tags": []
          },
          "execution_count": 79
        }
      ]
    },
    {
      "cell_type": "markdown",
      "metadata": {
        "id": "l98cDwTx-jvc",
        "colab_type": "text"
      },
      "source": [
        "These results highlight that assessing model performance in inherently open to variability. You'll get different results depending on the quirks of which points are in which fold. An advantage of this is that you can also obtain an estimate of the variability, or uncertainty, in your performance estimate."
      ]
    },
    {
      "cell_type": "code",
      "metadata": {
        "id": "eEgG88S8-jvc",
        "colab_type": "code",
        "colab": {
          "base_uri": "https://localhost:8080/",
          "height": 34
        },
        "outputId": "cc006955-6836-474b-9ff7-cea5998b9e2b"
      },
      "source": [
        "np.round((np.mean(cv_scores) - 2 * np.std(cv_scores), np.mean(cv_scores) + 2 * np.std(cv_scores)), 2)"
      ],
      "execution_count": 80,
      "outputs": [
        {
          "output_type": "execute_result",
          "data": {
            "text/plain": [
              "array([0.44, 0.82])"
            ]
          },
          "metadata": {
            "tags": []
          },
          "execution_count": 80
        }
      ]
    },
    {
      "cell_type": "markdown",
      "metadata": {
        "id": "ouDWteF4-jvf",
        "colab_type": "text"
      },
      "source": [
        "### 4.9.8 Hyperparameter search using GridSearchCV<a id='4.9.8_Hyperparameter_search_using_GridSearchCV'></a>"
      ]
    },
    {
      "cell_type": "markdown",
      "metadata": {
        "id": "nWw6hIiV-jvg",
        "colab_type": "text"
      },
      "source": [
        "Pulling the above together, we have:\n",
        "* a pipeline that\n",
        "    * imputes missing values\n",
        "    * scales the data\n",
        "    * selects the k best features\n",
        "    * trains a linear regression model\n",
        "* a technique (cross-validation) for estimating model performance\n",
        "\n",
        "Now you want to use cross-validation for multiple values of k and use cross-validation to pick the value of k that gives the best performance. `make_pipeline` automatically names each step as the lowercase name of the step and the parameters of the step are then accessed by appending a double underscore followed by the parameter name. You know the name of the step will be 'selectkbest' and you know the parameter is 'k'.\n",
        "\n",
        "You can also list the names of all the parameters in a pipeline like this:"
      ]
    },
    {
      "cell_type": "code",
      "metadata": {
        "id": "6MdF7_PR-jvg",
        "colab_type": "code",
        "colab": {
          "base_uri": "https://localhost:8080/",
          "height": 54
        },
        "outputId": "bbe16a22-e0ef-4805-b362-24c4335c5cd9"
      },
      "source": [
        "#Code task 18#\n",
        "#Call `pipe`'s `get_params()` method to get a dict of available parameters and print their names\n",
        "#using dict's `keys()` method\n",
        "pipe.get_params().keys()"
      ],
      "execution_count": 81,
      "outputs": [
        {
          "output_type": "execute_result",
          "data": {
            "text/plain": [
              "dict_keys(['memory', 'steps', 'verbose', 'simpleimputer', 'standardscaler', 'selectkbest', 'linearregression', 'simpleimputer__add_indicator', 'simpleimputer__copy', 'simpleimputer__fill_value', 'simpleimputer__missing_values', 'simpleimputer__strategy', 'simpleimputer__verbose', 'standardscaler__copy', 'standardscaler__with_mean', 'standardscaler__with_std', 'selectkbest__k', 'selectkbest__score_func', 'linearregression__copy_X', 'linearregression__fit_intercept', 'linearregression__n_jobs', 'linearregression__normalize'])"
            ]
          },
          "metadata": {
            "tags": []
          },
          "execution_count": 81
        }
      ]
    },
    {
      "cell_type": "markdown",
      "metadata": {
        "id": "-4iaKLzS-jvj",
        "colab_type": "text"
      },
      "source": [
        "The above can be particularly useful as your pipelines becomes more complex (you can even nest pipelines within pipelines)."
      ]
    },
    {
      "cell_type": "code",
      "metadata": {
        "id": "3ifGxE4r-jvk",
        "colab_type": "code",
        "colab": {}
      },
      "source": [
        "'''\n",
        "Essentially, k = columns 1 through 32. It's telling selectkbest to go over through each column for the best features.\n",
        "'''\n",
        "k = [k+1 for k in range(len(X_train.columns))]\n",
        "grid_params = {'selectkbest__k': k}"
      ],
      "execution_count": 82,
      "outputs": []
    },
    {
      "cell_type": "code",
      "metadata": {
        "id": "FHoQ1arPZ-Uu",
        "colab_type": "code",
        "colab": {
          "base_uri": "https://localhost:8080/",
          "height": 34
        },
        "outputId": "19c87f23-6384-4d2d-e139-3c4cc8a4f5da"
      },
      "source": [
        "range(len(X_train.columns))"
      ],
      "execution_count": 83,
      "outputs": [
        {
          "output_type": "execute_result",
          "data": {
            "text/plain": [
              "range(0, 32)"
            ]
          },
          "metadata": {
            "tags": []
          },
          "execution_count": 83
        }
      ]
    },
    {
      "cell_type": "markdown",
      "metadata": {
        "id": "6wxTsDuP-jvl",
        "colab_type": "text"
      },
      "source": [
        "Now you have a range of `k` to investigate. Is 1 feature best? 2? 3? 4? All of them? You could write a for loop and iterate over each possible value, doing all the housekeeping ourselves to track the best value of k. But this is  a common task so there's a built in function in `sklearn`. This is [`GridSearchCV`](https://scikit-learn.org/stable/modules/generated/sklearn.model_selection.GridSearchCV.html).\n",
        "This takes the pipeline object, in fact it takes anything with a `.fit()` and `.predict()` method. In simple cases with no feature selection or imputation or feature scaling etc. you may see the classifier or regressor object itself directly passed into `GridSearchCV`. The other key input is the parameters and values to search over. Optional parameters include the cross-validation strategy and number of CPUs to use.\n",
        "\n",
        "Helpful Links: [Interesting Article](https://towardsdatascience.com/grid-search-for-model-tuning-3319b259367e)"
      ]
    },
    {
      "cell_type": "code",
      "metadata": {
        "id": "x3cE02f5-jvl",
        "colab_type": "code",
        "colab": {}
      },
      "source": [
        "lr_grid_cv = GridSearchCV(pipe, param_grid=grid_params, cv=5, n_jobs=-1)"
      ],
      "execution_count": 84,
      "outputs": []
    },
    {
      "cell_type": "code",
      "metadata": {
        "id": "IxjG61NM-jvn",
        "colab_type": "code",
        "colab": {
          "base_uri": "https://localhost:8080/",
          "height": 504
        },
        "outputId": "868028dc-155c-4fa7-ba0b-210a4ce2c94f"
      },
      "source": [
        "lr_grid_cv.fit(X_train, y_train)"
      ],
      "execution_count": 85,
      "outputs": [
        {
          "output_type": "execute_result",
          "data": {
            "text/plain": [
              "GridSearchCV(cv=5, error_score=nan,\n",
              "             estimator=Pipeline(memory=None,\n",
              "                                steps=[('simpleimputer',\n",
              "                                        SimpleImputer(add_indicator=False,\n",
              "                                                      copy=True,\n",
              "                                                      fill_value=None,\n",
              "                                                      missing_values=nan,\n",
              "                                                      strategy='median',\n",
              "                                                      verbose=0)),\n",
              "                                       ('standardscaler',\n",
              "                                        StandardScaler(copy=True,\n",
              "                                                       with_mean=True,\n",
              "                                                       with_std=True)),\n",
              "                                       ('selectkbest',\n",
              "                                        SelectKBest(k=10,\n",
              "                                                    score_func=<function f_regression at 0x7f84455f1a60>)),\n",
              "                                       ('linearregression',\n",
              "                                        LinearRegression(copy_X=True,\n",
              "                                                         fit_intercept=True,\n",
              "                                                         n_jobs=None,\n",
              "                                                         normalize=False))],\n",
              "                                verbose=False),\n",
              "             iid='deprecated', n_jobs=-1,\n",
              "             param_grid={'selectkbest__k': [1, 2, 3, 4, 5, 6, 7, 8, 9, 10, 11,\n",
              "                                            12, 13, 14, 15, 16, 17, 18, 19, 20,\n",
              "                                            21, 22, 23, 24, 25, 26, 27, 28, 29,\n",
              "                                            30, ...]},\n",
              "             pre_dispatch='2*n_jobs', refit=True, return_train_score=False,\n",
              "             scoring=None, verbose=0)"
            ]
          },
          "metadata": {
            "tags": []
          },
          "execution_count": 85
        }
      ]
    },
    {
      "cell_type": "code",
      "metadata": {
        "id": "CKCwwU_bsP8j",
        "colab_type": "code",
        "colab": {
          "base_uri": "https://localhost:8080/",
          "height": 1000
        },
        "outputId": "4db282c6-990c-44f6-89c6-e60c117800b6"
      },
      "source": [
        "lr_grid_cv.cv_results_"
      ],
      "execution_count": 86,
      "outputs": [
        {
          "output_type": "execute_result",
          "data": {
            "text/plain": [
              "{'mean_fit_time': array([0.008887  , 0.00886221, 0.00882807, 0.01135178, 0.00988107,\n",
              "        0.00853024, 0.0084971 , 0.01050825, 0.01007953, 0.00885582,\n",
              "        0.01269727, 0.01024742, 0.01108956, 0.01506991, 0.01115966,\n",
              "        0.00937634, 0.00822148, 0.00896077, 0.01044645, 0.0094542 ,\n",
              "        0.00914693, 0.02010131, 0.00890303, 0.00884972, 0.01238294,\n",
              "        0.00884027, 0.00897183, 0.00884533, 0.00941987, 0.01176496,\n",
              "        0.00964766, 0.01022296]),\n",
              " 'mean_score_time': array([0.00257659, 0.00257764, 0.00267105, 0.00267229, 0.00395803,\n",
              "        0.00285373, 0.002632  , 0.00288348, 0.00668674, 0.002701  ,\n",
              "        0.00308714, 0.00325451, 0.00264678, 0.00272865, 0.00407939,\n",
              "        0.002812  , 0.00257988, 0.00257983, 0.00301714, 0.00257401,\n",
              "        0.00271449, 0.00562706, 0.00260463, 0.00258603, 0.00393023,\n",
              "        0.00263557, 0.00273695, 0.00269914, 0.00269346, 0.00277658,\n",
              "        0.0028748 , 0.00252357]),\n",
              " 'mean_test_score': array([0.56841747, 0.5515394 , 0.59714764, 0.64611763, 0.64829156,\n",
              "        0.67691507, 0.67937019, 0.68154741, 0.66048162, 0.66063145,\n",
              "        0.66036384, 0.65699476, 0.63818135, 0.63902423, 0.63271281,\n",
              "        0.64005194, 0.63498255, 0.64633703, 0.64419058, 0.64464097,\n",
              "        0.61951673, 0.62209802, 0.62581061, 0.62423515, 0.61593213,\n",
              "        0.61842651, 0.62859517, 0.63100962, 0.62456177, 0.61951727,\n",
              "        0.61740027, 0.59734885]),\n",
              " 'param_selectkbest__k': masked_array(data=[1, 2, 3, 4, 5, 6, 7, 8, 9, 10, 11, 12, 13, 14, 15, 16,\n",
              "                    17, 18, 19, 20, 21, 22, 23, 24, 25, 26, 27, 28, 29, 30,\n",
              "                    31, 32],\n",
              "              mask=[False, False, False, False, False, False, False, False,\n",
              "                    False, False, False, False, False, False, False, False,\n",
              "                    False, False, False, False, False, False, False, False,\n",
              "                    False, False, False, False, False, False, False, False],\n",
              "        fill_value='?',\n",
              "             dtype=object),\n",
              " 'params': [{'selectkbest__k': 1},\n",
              "  {'selectkbest__k': 2},\n",
              "  {'selectkbest__k': 3},\n",
              "  {'selectkbest__k': 4},\n",
              "  {'selectkbest__k': 5},\n",
              "  {'selectkbest__k': 6},\n",
              "  {'selectkbest__k': 7},\n",
              "  {'selectkbest__k': 8},\n",
              "  {'selectkbest__k': 9},\n",
              "  {'selectkbest__k': 10},\n",
              "  {'selectkbest__k': 11},\n",
              "  {'selectkbest__k': 12},\n",
              "  {'selectkbest__k': 13},\n",
              "  {'selectkbest__k': 14},\n",
              "  {'selectkbest__k': 15},\n",
              "  {'selectkbest__k': 16},\n",
              "  {'selectkbest__k': 17},\n",
              "  {'selectkbest__k': 18},\n",
              "  {'selectkbest__k': 19},\n",
              "  {'selectkbest__k': 20},\n",
              "  {'selectkbest__k': 21},\n",
              "  {'selectkbest__k': 22},\n",
              "  {'selectkbest__k': 23},\n",
              "  {'selectkbest__k': 24},\n",
              "  {'selectkbest__k': 25},\n",
              "  {'selectkbest__k': 26},\n",
              "  {'selectkbest__k': 27},\n",
              "  {'selectkbest__k': 28},\n",
              "  {'selectkbest__k': 29},\n",
              "  {'selectkbest__k': 30},\n",
              "  {'selectkbest__k': 31},\n",
              "  {'selectkbest__k': 32}],\n",
              " 'rank_test_score': array([31, 32, 30, 10,  8,  3,  2,  1,  5,  4,  6,  7, 15, 14, 17, 13, 16,\n",
              "         9, 12, 11, 25, 23, 20, 22, 28, 26, 19, 18, 21, 24, 27, 29],\n",
              "       dtype=int32),\n",
              " 'split0_test_score': array([0.56986135, 0.39676176, 0.50182174, 0.57125896, 0.57796098,\n",
              "        0.60779419, 0.64074389, 0.63644313, 0.65636298, 0.65265032,\n",
              "        0.64452492, 0.63566207, 0.62204331, 0.62250179, 0.63760862,\n",
              "        0.64166876, 0.63601579, 0.699716  , 0.69156631, 0.68720697,\n",
              "        0.69400565, 0.68238508, 0.68315366, 0.65728038, 0.65919017,\n",
              "        0.64117453, 0.64951495, 0.64951495, 0.62907688, 0.62437717,\n",
              "        0.63118115, 0.61634069]),\n",
              " 'split1_test_score': array([0.6788365 , 0.69916399, 0.73552964, 0.75099954, 0.78347476,\n",
              "        0.79187305, 0.74256064, 0.74074053, 0.75310307, 0.75254175,\n",
              "        0.74054437, 0.73527772, 0.73229175, 0.73127912, 0.72831381,\n",
              "        0.76729346, 0.76648671, 0.77042807, 0.77340135, 0.77254306,\n",
              "        0.77163384, 0.77200745, 0.78307906, 0.77863944, 0.7772805 ,\n",
              "        0.77500014, 0.79127546, 0.79225221, 0.78933187, 0.78988185,\n",
              "        0.78988185, 0.78855209]),\n",
              " 'split2_test_score': array([0.454189  , 0.50065415, 0.61275839, 0.74236209, 0.70206574,\n",
              "        0.70535892, 0.71969372, 0.71853565, 0.70846995, 0.710904  ,\n",
              "        0.7433222 , 0.73748801, 0.74107033, 0.74112343, 0.74443537,\n",
              "        0.74663822, 0.7425987 , 0.74179814, 0.75497482, 0.74600281,\n",
              "        0.7518455 , 0.76402858, 0.76362667, 0.77098595, 0.77524396,\n",
              "        0.77524396, 0.76800195, 0.77909741, 0.77659125, 0.77522413,\n",
              "        0.77323891, 0.76970156]),\n",
              " 'split3_test_score': array([0.50351581, 0.62724277, 0.61195924, 0.62625547, 0.60574485,\n",
              "        0.66007135, 0.67180046, 0.69017837, 0.60861761, 0.62132255,\n",
              "        0.6103115 , 0.6098391 , 0.54791633, 0.54738945, 0.5487915 ,\n",
              "        0.54466047, 0.53031351, 0.5224919 , 0.52771129, 0.5319455 ,\n",
              "        0.53325582, 0.54076928, 0.54311576, 0.54203129, 0.5424115 ,\n",
              "        0.55096111, 0.56232503, 0.56232503, 0.55840305, 0.56770945,\n",
              "        0.55077905, 0.54907082]),\n",
              " 'split4_test_score': array([0.63568467, 0.53387433, 0.52366919, 0.5397121 , 0.57221146,\n",
              "        0.61947786, 0.62205224, 0.62183938, 0.57585452, 0.56573863,\n",
              "        0.56311619, 0.5667069 , 0.54758501, 0.55282736, 0.50441472,\n",
              "        0.4999988 , 0.49949804, 0.49725105, 0.47329913, 0.48550653,\n",
              "        0.34684282, 0.35129972, 0.35607788, 0.37223871, 0.32553452,\n",
              "        0.3497528 , 0.37185848, 0.37185848, 0.36940578, 0.34039376,\n",
              "        0.34192039, 0.26307908]),\n",
              " 'std_fit_time': array([8.57625975e-04, 1.02665398e-03, 2.03068851e-04, 3.81307768e-03,\n",
              "        1.99228314e-03, 2.91062612e-04, 2.28310936e-04, 4.01606040e-03,\n",
              "        1.74485513e-03, 8.23870819e-04, 4.65370002e-03, 2.61820059e-03,\n",
              "        3.19301620e-03, 5.54647647e-03, 5.22604707e-03, 1.22841048e-03,\n",
              "        8.85348831e-05, 3.67125175e-04, 2.88238736e-03, 2.00040197e-03,\n",
              "        3.24324185e-04, 9.37289087e-03, 1.46669638e-04, 5.57329833e-05,\n",
              "        5.66245568e-03, 9.99564199e-05, 2.04660741e-04, 3.97949106e-04,\n",
              "        8.76568076e-05, 1.97686275e-03, 3.30827180e-04, 1.87054822e-03]),\n",
              " 'std_score_time': array([1.69745724e-04, 3.71267873e-05, 5.83151375e-05, 1.45054349e-04,\n",
              "        2.44141531e-03, 3.88469215e-04, 4.25478245e-05, 1.73151608e-04,\n",
              "        7.82581406e-03, 1.28762403e-04, 7.02175779e-04, 1.22777489e-03,\n",
              "        1.34198327e-04, 7.49160193e-05, 2.88566859e-03, 2.35954261e-04,\n",
              "        4.93839413e-05, 4.14967794e-05, 3.13527861e-04, 8.48439774e-05,\n",
              "        1.38269999e-04, 5.28655400e-03, 4.93784620e-05, 1.37521027e-05,\n",
              "        2.56173072e-03, 4.80886432e-05, 4.24140152e-05, 8.83540782e-05,\n",
              "        2.47222478e-05, 1.12835673e-04, 1.16685414e-04, 3.98809410e-04]),\n",
              " 'std_test_score': array([0.08243748, 0.1042895 , 0.0825818 , 0.08669911, 0.08211085,\n",
              "        0.06691013, 0.04572452, 0.0459258 , 0.0644208 , 0.06570901,\n",
              "        0.07144819, 0.06846608, 0.0849221 , 0.08370787, 0.09502488,\n",
              "        0.10608305, 0.10787707, 0.11395172, 0.12164238, 0.1152988 ,\n",
              "        0.15999445, 0.15886959, 0.15912828, 0.15279277, 0.16912768,\n",
              "        0.15897272, 0.15273652, 0.15501516, 0.15476698, 0.1636376 ,\n",
              "        0.16404453, 0.19010096])}"
            ]
          },
          "metadata": {
            "tags": []
          },
          "execution_count": 86
        }
      ]
    },
    {
      "cell_type": "code",
      "metadata": {
        "id": "YQdQtai_-jvo",
        "colab_type": "code",
        "colab": {
          "base_uri": "https://localhost:8080/",
          "height": 756
        },
        "outputId": "be06d5f5-2ed9-47ff-d593-08f45685abee"
      },
      "source": [
        "'''\n",
        "These variables will be used for the plot below.\n",
        "'''\n",
        "score_mean = lr_grid_cv.cv_results_['mean_test_score']\n",
        "score_std = lr_grid_cv.cv_results_['std_test_score']\n",
        "cv_k = [k for k in lr_grid_cv.cv_results_['param_selectkbest__k']]\n",
        "print(score_mean)\n",
        "print(score_std)\n",
        "cv_k"
      ],
      "execution_count": 87,
      "outputs": [
        {
          "output_type": "stream",
          "text": [
            "[0.56841747 0.5515394  0.59714764 0.64611763 0.64829156 0.67691507\n",
            " 0.67937019 0.68154741 0.66048162 0.66063145 0.66036384 0.65699476\n",
            " 0.63818135 0.63902423 0.63271281 0.64005194 0.63498255 0.64633703\n",
            " 0.64419058 0.64464097 0.61951673 0.62209802 0.62581061 0.62423515\n",
            " 0.61593213 0.61842651 0.62859517 0.63100962 0.62456177 0.61951727\n",
            " 0.61740027 0.59734885]\n",
            "[0.08243748 0.1042895  0.0825818  0.08669911 0.08211085 0.06691013\n",
            " 0.04572452 0.0459258  0.0644208  0.06570901 0.07144819 0.06846608\n",
            " 0.0849221  0.08370787 0.09502488 0.10608305 0.10787707 0.11395172\n",
            " 0.12164238 0.1152988  0.15999445 0.15886959 0.15912828 0.15279277\n",
            " 0.16912768 0.15897272 0.15273652 0.15501516 0.15476698 0.1636376\n",
            " 0.16404453 0.19010096]\n"
          ],
          "name": "stdout"
        },
        {
          "output_type": "execute_result",
          "data": {
            "text/plain": [
              "[1,\n",
              " 2,\n",
              " 3,\n",
              " 4,\n",
              " 5,\n",
              " 6,\n",
              " 7,\n",
              " 8,\n",
              " 9,\n",
              " 10,\n",
              " 11,\n",
              " 12,\n",
              " 13,\n",
              " 14,\n",
              " 15,\n",
              " 16,\n",
              " 17,\n",
              " 18,\n",
              " 19,\n",
              " 20,\n",
              " 21,\n",
              " 22,\n",
              " 23,\n",
              " 24,\n",
              " 25,\n",
              " 26,\n",
              " 27,\n",
              " 28,\n",
              " 29,\n",
              " 30,\n",
              " 31,\n",
              " 32]"
            ]
          },
          "metadata": {
            "tags": []
          },
          "execution_count": 87
        }
      ]
    },
    {
      "cell_type": "code",
      "metadata": {
        "id": "rLvHMA0_-jvp",
        "colab_type": "code",
        "colab": {
          "base_uri": "https://localhost:8080/",
          "height": 34
        },
        "outputId": "7ea9ba5d-8995-485b-9f92-e06e71e8fb15"
      },
      "source": [
        "#Code task 19#\n",
        "#Print the `best_params_` attribute of `lr_grid_cv`\n",
        "lr_grid_cv.best_params_"
      ],
      "execution_count": 88,
      "outputs": [
        {
          "output_type": "execute_result",
          "data": {
            "text/plain": [
              "{'selectkbest__k': 8}"
            ]
          },
          "metadata": {
            "tags": []
          },
          "execution_count": 88
        }
      ]
    },
    {
      "cell_type": "markdown",
      "metadata": {
        "id": "SSXvrAG_wAV_",
        "colab_type": "text"
      },
      "source": [
        "The 'mean_test_score' is the average of all 5 cross-validation tests for the number of features. It goes from 1 variable up to all the variables (32). The mean_std_score is the same principal."
      ]
    },
    {
      "cell_type": "code",
      "metadata": {
        "id": "2pn85DN9-jvr",
        "colab_type": "code",
        "colab": {
          "base_uri": "https://localhost:8080/",
          "height": 870
        },
        "outputId": "fbd42bd1-b3c7-4625-c389-78dce4999f05"
      },
      "source": [
        "#Code task 20#\n",
        "#Assign the value of k from the above dict of `best_params_` and assign it to `best_k`\n",
        "best_k = lr_grid_cv.best_params_['selectkbest__k'] # Number 8\n",
        "plt.subplots(figsize=(25, 15))\n",
        "plt.errorbar(cv_k, score_mean, yerr=score_std) # Variables are defined above\n",
        "plt.axvline(x=best_k, c='r', ls='--', alpha=.5) # defined in line 3 of this cell\n",
        "plt.xlabel('k')\n",
        "plt.ylabel('CV score (r-squared)')\n",
        "plt.title('Pipeline mean CV score (error bars +/- 1sd)');"
      ],
      "execution_count": 89,
      "outputs": [
        {
          "output_type": "display_data",
          "data": {
            "image/png": "[encoded data removed]",
            "text/plain": [
              "<Figure size 1800x1080 with 1 Axes>"
            ]
          },
          "metadata": {
            "tags": []
          }
        }
      ]
    },
    {
      "cell_type": "markdown",
      "metadata": {
        "id": "QGENEuNZ-jvu",
        "colab_type": "text"
      },
      "source": [
        "The above suggests a good value for k is 8. There was an initial rapid increase with k, followed by a slow decline. Also noticeable is the variance of the results greatly increase above k=8. As you increasingly overfit, expect greater swings in performance as different points move in and out of the train/test folds."
      ]
    },
    {
      "cell_type": "markdown",
      "metadata": {
        "id": "gU_PG_Wi-jvv",
        "colab_type": "text"
      },
      "source": [
        "Which features were most useful? Step into your best model, shown below. Starting with the fitted grid search object, you get the best estimator, then the named step 'selectkbest', for which you can its `get_support()` method for a logical mask of the features selected."
      ]
    },
    {
      "cell_type": "code",
      "metadata": {
        "id": "OM4CQEv0-jvv",
        "colab_type": "code",
        "colab": {
          "base_uri": "https://localhost:8080/",
          "height": 84
        },
        "outputId": "6baf176b-a5c9-4b7f-f539-4253f3e16e93"
      },
      "source": [
        "selected = lr_grid_cv.best_estimator_.named_steps.selectkbest.get_support()\n",
        "selected"
      ],
      "execution_count": 90,
      "outputs": [
        {
          "output_type": "execute_result",
          "data": {
            "text/plain": [
              "array([False,  True, False,  True, False,  True, False, False, False,\n",
              "       False,  True,  True, False,  True,  True,  True, False, False,\n",
              "       False, False, False, False, False, False, False, False, False,\n",
              "       False, False, False, False, False])"
            ]
          },
          "metadata": {
            "tags": []
          },
          "execution_count": 90
        }
      ]
    },
    {
      "cell_type": "markdown",
      "metadata": {
        "id": "YY9lM0t6-jvx",
        "colab_type": "text"
      },
      "source": [
        "Similarly, instead of using the 'selectkbest' named step, you can access the named step for the linear regression model and, from that, grab the model coefficients via its `coef_` attribute:"
      ]
    },
    {
      "cell_type": "code",
      "metadata": {
        "id": "M4vNd4mw-jvx",
        "colab_type": "code",
        "colab": {
          "base_uri": "https://localhost:8080/",
          "height": 168
        },
        "outputId": "419ac705-5ff5-4b9f-94d6-3502b716698e"
      },
      "source": [
        "#Code task 21#\n",
        "#Get the linear model coefficients from the `coef_` attribute and store in `coefs`,\n",
        "#get the matching feature names from the column names of the dataframe,\n",
        "#and display the results as a pandas Series with `coefs` as the values and `features` as the index,\n",
        "#sorting the values in descending order\n",
        "coefs = lr_grid_cv.best_estimator_.named_steps.linearregression.coef_\n",
        "features = X_train.columns[selected]\n",
        "pd.Series(coefs, index=features).sort_values(ascending=False)"
      ],
      "execution_count": 91,
      "outputs": [
        {
          "output_type": "execute_result",
          "data": {
            "text/plain": [
              "vertical_drop        10.767857\n",
              "Snow Making_ac        6.290074\n",
              "total_chairs          5.794156\n",
              "fastQuads             5.745626\n",
              "Runs                  5.370555\n",
              "LongestRun_mi         0.181814\n",
              "trams                -4.142024\n",
              "SkiableTerrain_ac    -5.249780\n",
              "dtype: float64"
            ]
          },
          "metadata": {
            "tags": []
          },
          "execution_count": 91
        }
      ]
    },
    {
      "cell_type": "code",
      "metadata": {
        "id": "aIRBd1BFydZd",
        "colab_type": "code",
        "colab": {
          "base_uri": "https://localhost:8080/",
          "height": 101
        },
        "outputId": "186362d0-aec2-4e53-91d9-710d47b3bdaa"
      },
      "source": [
        "print(coefs)\n",
        "features"
      ],
      "execution_count": 92,
      "outputs": [
        {
          "output_type": "stream",
          "text": [
            "[10.76785683 -4.14202436  5.74562617  5.79415581  5.37055529  0.18181396\n",
            " -5.24977989  6.29007443]\n"
          ],
          "name": "stdout"
        },
        {
          "output_type": "execute_result",
          "data": {
            "text/plain": [
              "Index(['vertical_drop', 'trams', 'fastQuads', 'total_chairs', 'Runs',\n",
              "       'LongestRun_mi', 'SkiableTerrain_ac', 'Snow Making_ac'],\n",
              "      dtype='object')"
            ]
          },
          "metadata": {
            "tags": []
          },
          "execution_count": 92
        }
      ]
    },
    {
      "cell_type": "markdown",
      "metadata": {
        "id": "5kK8lTcy-jvz",
        "colab_type": "text"
      },
      "source": [
        "These results suggest that vertical drop is your biggest positive feature. This makes intuitive sense and is consistent with what you saw during the EDA work. Also, you see the area covered by snow making equipment is a strong positive as well. People like guaranteed skiing! The skiable terrain area is negatively associated with ticket price! This seems odd. People will pay less for larger resorts? There could be all manner of reasons for this. It could be  an effect whereby larger resorts can host more visitors at any one time and so can charge less per ticket. As has been mentioned previously, the data are missing information about visitor numbers. Bear in mind,  the coefficient for skiable terrain is negative _for this model_. For example, if you kept the total number of chairs and fastQuads constant, but increased the skiable terrain extent, you might imagine the resort is worse off because the chairlift capacity is stretched thinner."
      ]
    },
    {
      "cell_type": "markdown",
      "metadata": {
        "id": "TlIgETOB-jv0",
        "colab_type": "text"
      },
      "source": [
        "## 4.10 Random Forest Model<a id='4.10_Random_Forest_Model'></a>"
      ]
    },
    {
      "cell_type": "markdown",
      "metadata": {
        "id": "QNtVnwM0-jv0",
        "colab_type": "text"
      },
      "source": [
        "A model that can work very well in a lot of cases is the random forest. For regression, this is provided by `sklearn`'s `RandomForestRegressor` class.\n",
        "\n",
        "Time to stop the bad practice of repeatedly checking performance on the test split. Instead, go straight from defining the pipeline to assessing performance using cross-validation. `cross_validate` will perform the fitting as part of the process. This uses the default settings for the random forest so you'll then proceed to investigate some different hyperparameters.\n",
        "\n",
        "Helpful Links: [20 Min Video](https://www.youtube.com/watch?v=g9c66TUylZ4&t=1s) | [Not too bad Intro](https://towardsdatascience.com/random-forest-and-its-implementation-71824ced454f)"
      ]
    },
    {
      "cell_type": "markdown",
      "metadata": {
        "id": "eL_fd_cM-jv0",
        "colab_type": "text"
      },
      "source": [
        "### 4.10.1 Define the pipeline<a id='4.10.1_Define_the_pipeline'></a>"
      ]
    },
    {
      "cell_type": "code",
      "metadata": {
        "id": "s-B7UMZa-jv0",
        "colab_type": "code",
        "colab": {}
      },
      "source": [
        "#Code task 22#\n",
        "#Define a pipeline comprising the steps:\n",
        "#SimpleImputer() with a strategy of 'median'\n",
        "#StandardScaler(),\n",
        "#and then RandomForestRegressor() with a random state of 47\n",
        "RF_pipe = make_pipeline(\n",
        "    SimpleImputer(strategy='median'),\n",
        "    StandardScaler(),\n",
        "    RandomForestRegressor(random_state=47)\n",
        ")"
      ],
      "execution_count": 93,
      "outputs": []
    },
    {
      "cell_type": "markdown",
      "metadata": {
        "id": "_GCiXVK_-jv1",
        "colab_type": "text"
      },
      "source": [
        "### 4.10.2 Fit and assess performance using cross-validation<a id='4.10.2_Fit_and_assess_performance_using_cross-validation'></a>"
      ]
    },
    {
      "cell_type": "code",
      "metadata": {
        "id": "pRoouiO3-jv2",
        "colab_type": "code",
        "colab": {}
      },
      "source": [
        "#Code task 23#\n",
        "#Call `cross_validate` to estimate the pipeline's performance.\n",
        "#Pass it the random forest pipe object, `X_train` and `y_train`,\n",
        "#and get it to use 5-fold cross-validation\n",
        "rf_default_cv_results = cross_validate(RF_pipe, X_train, y_train, cv=5)"
      ],
      "execution_count": 94,
      "outputs": []
    },
    {
      "cell_type": "code",
      "metadata": {
        "id": "4yKhzbGc-jv2",
        "colab_type": "code",
        "colab": {
          "base_uri": "https://localhost:8080/",
          "height": 34
        },
        "outputId": "74854038-4a8d-4ab5-d31d-2267f8f4f0ee"
      },
      "source": [
        "rf_cv_scores = rf_default_cv_results['test_score']\n",
        "rf_cv_scores"
      ],
      "execution_count": 95,
      "outputs": [
        {
          "output_type": "execute_result",
          "data": {
            "text/plain": [
              "array([0.6877383 , 0.77987845, 0.77753583, 0.62190924, 0.61794573])"
            ]
          },
          "metadata": {
            "tags": []
          },
          "execution_count": 95
        }
      ]
    },
    {
      "cell_type": "code",
      "metadata": {
        "id": "ZfXmV2IQ-jv4",
        "colab_type": "code",
        "colab": {
          "base_uri": "https://localhost:8080/",
          "height": 34
        },
        "outputId": "ade3dc76-ba25-4230-abb0-a611720e3ed5"
      },
      "source": [
        "np.mean(rf_cv_scores), np.std(rf_cv_scores)"
      ],
      "execution_count": 96,
      "outputs": [
        {
          "output_type": "execute_result",
          "data": {
            "text/plain": [
              "(0.6970015087370294, 0.07117420491358241)"
            ]
          },
          "metadata": {
            "tags": []
          },
          "execution_count": 96
        }
      ]
    },
    {
      "cell_type": "markdown",
      "metadata": {
        "id": "sm3ON8wc-jv5",
        "colab_type": "text"
      },
      "source": [
        "### 4.10.3 Hyperparameter search using GridSearchCV<a id='4.10.3_Hyperparameter_search_using_GridSearchCV'></a>"
      ]
    },
    {
      "cell_type": "markdown",
      "metadata": {
        "id": "8cAkToHe-jv6",
        "colab_type": "text"
      },
      "source": [
        "Random forest has a number of hyperparameters that can be explored, however here you'll limit yourselves to exploring some different values for the number of trees. You'll try it with and without feature scaling, and try both the mean and median as strategies for imputing missing values.\n",
        "\n",
        "Helpful link: [Decent tutorial logspace](https://www.tutorialexample.com/understand-numpy-logspace-function-for-beginners-numpy-tutorial/)"
      ]
    },
    {
      "cell_type": "code",
      "metadata": {
        "id": "7fkn_KTp-jv6",
        "colab_type": "code",
        "colab": {
          "base_uri": "https://localhost:8080/",
          "height": 403
        },
        "outputId": "ade5d10d-491b-4a04-fad6-14192ee9572b"
      },
      "source": [
        "'''\n",
        "n_est loops over each of the `forests` (number of trees). logspace has 10^1 and to^3 with 20 total numbers (18 inbetween) out on a log scale. Standard scaler has the OPTION of \n",
        "scaling or not scaling, and simple imputer has the option to either use the mean or median.\n",
        "'''\n",
        "n_est = [int(n) for n in np.logspace(start=1, stop=3, num=20)] # read logspace NOT linspace\n",
        "grid_params = {\n",
        "        'randomforestregressor__n_estimators': n_est, \n",
        "        'standardscaler': [StandardScaler(), None],\n",
        "        'simpleimputer__strategy': ['mean', 'median']\n",
        "}\n",
        "grid_params"
      ],
      "execution_count": 97,
      "outputs": [
        {
          "output_type": "execute_result",
          "data": {
            "text/plain": [
              "{'randomforestregressor__n_estimators': [10,\n",
              "  12,\n",
              "  16,\n",
              "  20,\n",
              "  26,\n",
              "  33,\n",
              "  42,\n",
              "  54,\n",
              "  69,\n",
              "  88,\n",
              "  112,\n",
              "  143,\n",
              "  183,\n",
              "  233,\n",
              "  297,\n",
              "  379,\n",
              "  483,\n",
              "  615,\n",
              "  784,\n",
              "  1000],\n",
              " 'simpleimputer__strategy': ['mean', 'median'],\n",
              " 'standardscaler': [StandardScaler(copy=True, with_mean=True, with_std=True),\n",
              "  None]}"
            ]
          },
          "metadata": {
            "tags": []
          },
          "execution_count": 97
        }
      ]
    },
    {
      "cell_type": "code",
      "metadata": {
        "id": "d-9sRpN7-jv8",
        "colab_type": "code",
        "colab": {}
      },
      "source": [
        "#Code task 24#\n",
        "#Call `GridSearchCV` with the random forest pipeline, passing in the above `grid_params`\n",
        "#dict for parameters to evaluate, 5-fold cross-validation, and all available CPU cores (if desired)\n",
        "rf_grid_cv = GridSearchCV(RF_pipe, param_grid=grid_params, cv=5, n_jobs=-1)"
      ],
      "execution_count": 98,
      "outputs": []
    },
    {
      "cell_type": "code",
      "metadata": {
        "id": "KHS-TBUx-jwA",
        "colab_type": "code",
        "colab": {
          "base_uri": "https://localhost:8080/",
          "height": 554
        },
        "outputId": "8ef1b997-da59-47b4-bb65-e4339ea52538"
      },
      "source": [
        "#Code task 25#\n",
        "#Now call the `GridSearchCV`'s `fit()` method with `X_train` and `y_train` as arguments\n",
        "#to actually start the grid search. This may take a minute or two.\n",
        "rf_grid_cv.fit(X_train, y_train)"
      ],
      "execution_count": 99,
      "outputs": [
        {
          "output_type": "execute_result",
          "data": {
            "text/plain": [
              "GridSearchCV(cv=5, error_score=nan,\n",
              "             estimator=Pipeline(memory=None,\n",
              "                                steps=[('simpleimputer',\n",
              "                                        SimpleImputer(add_indicator=False,\n",
              "                                                      copy=True,\n",
              "                                                      fill_value=None,\n",
              "                                                      missing_values=nan,\n",
              "                                                      strategy='median',\n",
              "                                                      verbose=0)),\n",
              "                                       ('standardscaler',\n",
              "                                        StandardScaler(copy=True,\n",
              "                                                       with_mean=True,\n",
              "                                                       with_std=True)),\n",
              "                                       ('randomforestregressor',\n",
              "                                        RandomForestRegressor(bootstrap=True,\n",
              "                                                              ccp_alpha=0.0,\n",
              "                                                              cr...\n",
              "             iid='deprecated', n_jobs=-1,\n",
              "             param_grid={'randomforestregressor__n_estimators': [10, 12, 16, 20,\n",
              "                                                                 26, 33, 42, 54,\n",
              "                                                                 69, 88, 112,\n",
              "                                                                 143, 183, 233,\n",
              "                                                                 297, 379, 483,\n",
              "                                                                 615, 784,\n",
              "                                                                 1000],\n",
              "                         'simpleimputer__strategy': ['mean', 'median'],\n",
              "                         'standardscaler': [StandardScaler(copy=True,\n",
              "                                                           with_mean=True,\n",
              "                                                           with_std=True),\n",
              "                                            None]},\n",
              "             pre_dispatch='2*n_jobs', refit=True, return_train_score=False,\n",
              "             scoring=None, verbose=0)"
            ]
          },
          "metadata": {
            "tags": []
          },
          "execution_count": 99
        }
      ]
    },
    {
      "cell_type": "code",
      "metadata": {
        "id": "BWri4U-d-jwB",
        "colab_type": "code",
        "colab": {
          "base_uri": "https://localhost:8080/",
          "height": 67
        },
        "outputId": "546d085f-fb7b-43d5-fbfe-78e658ab13ea"
      },
      "source": [
        "#Code task 26#\n",
        "#Print the best params (`best_params_` attribute) from the grid search\n",
        "rf_grid_cv.best_params_"
      ],
      "execution_count": 100,
      "outputs": [
        {
          "output_type": "execute_result",
          "data": {
            "text/plain": [
              "{'randomforestregressor__n_estimators': 69,\n",
              " 'simpleimputer__strategy': 'median',\n",
              " 'standardscaler': None}"
            ]
          },
          "metadata": {
            "tags": []
          },
          "execution_count": 100
        }
      ]
    },
    {
      "cell_type": "markdown",
      "metadata": {
        "id": "dOSUq88D-jwC",
        "colab_type": "text"
      },
      "source": [
        "It looks like imputing with the median helps, but scaling the features doesn't."
      ]
    },
    {
      "cell_type": "code",
      "metadata": {
        "id": "l_UfBzYD-jwC",
        "colab_type": "code",
        "colab": {
          "base_uri": "https://localhost:8080/",
          "height": 34
        },
        "outputId": "fdfa4152-f1b4-4b52-8fc1-29df7f0eebde"
      },
      "source": [
        "'''\n",
        "best_estimator_ is an attribute which runs the model on the best parameters. It is equivalent to what the best_params_ code showed above \n",
        "'''\n",
        "rf_best_cv_results = cross_validate(rf_grid_cv.best_estimator_, X_train, y_train, cv=5)\n",
        "rf_best_scores = rf_best_cv_results['test_score']\n",
        "rf_best_scores"
      ],
      "execution_count": 101,
      "outputs": [
        {
          "output_type": "execute_result",
          "data": {
            "text/plain": [
              "array([0.68961442, 0.79593861, 0.77128447, 0.62254707, 0.66142192])"
            ]
          },
          "metadata": {
            "tags": []
          },
          "execution_count": 101
        }
      ]
    },
    {
      "cell_type": "code",
      "metadata": {
        "id": "vveTRI9a-jwD",
        "colab_type": "code",
        "colab": {
          "base_uri": "https://localhost:8080/",
          "height": 34
        },
        "outputId": "77869f7e-4323-4b9f-fe41-8d762a15fcd9"
      },
      "source": [
        "np.mean(rf_best_scores), np.std(rf_best_scores)"
      ],
      "execution_count": 102,
      "outputs": [
        {
          "output_type": "execute_result",
          "data": {
            "text/plain": [
              "(0.7081612973109424, 0.06564715369819316)"
            ]
          },
          "metadata": {
            "tags": []
          },
          "execution_count": 102
        }
      ]
    },
    {
      "cell_type": "markdown",
      "metadata": {
        "id": "PPH8Mgy--jwF",
        "colab_type": "text"
      },
      "source": [
        "You've marginally improved upon the default CV results. Random forest has many more hyperparameters you could tune, but we won't dive into that here."
      ]
    },
    {
      "cell_type": "code",
      "metadata": {
        "id": "KeLsJHAy-jwF",
        "colab_type": "code",
        "colab": {
          "base_uri": "https://localhost:8080/",
          "height": 1000
        },
        "outputId": "4a284d19-25b2-49cb-b28f-0b2304751ede"
      },
      "source": [
        "#Code task 27#\n",
        "#Plot a barplot of the random forest's feature importances,\n",
        "#assigning the `feature_importances_` attribute of \n",
        "#`rf_grid_cv.best_estimator_.named_steps.randomforestregressor` to the name `imps` to then\n",
        "#create a pandas Series object of the feature importances, with the index given by the\n",
        "#training data column names, sorting the values in descending order\n",
        "plt.subplots(figsize=(25, 15))\n",
        "imps = rf_grid_cv.best_estimator_.named_steps.randomforestregressor.feature_importances_\n",
        "rf_feat_imps = pd.Series(imps, index=X_train.columns).sort_values(ascending=False)\n",
        "rf_feat_imps.plot(kind='bar')\n",
        "plt.xlabel('features')\n",
        "plt.ylabel('importance')\n",
        "plt.title('Best random forest regressor feature importances');"
      ],
      "execution_count": 113,
      "outputs": [
        {
          "output_type": "display_data",
          "data": {
            "image/png": "[encoded data removed]",
            "text/plain": [
              "<Figure size 1800x1080 with 1 Axes>"
            ]
          },
          "metadata": {
            "tags": []
          }
        }
      ]
    },
    {
      "cell_type": "markdown",
      "metadata": {
        "id": "A_KjvLwp-jwG",
        "colab_type": "text"
      },
      "source": [
        "Encouragingly, the dominant top four features are in common with your linear model:\n",
        "* fastQuads\n",
        "* Runs\n",
        "* Snow Making_ac\n",
        "* vertical_drop"
      ]
    },
    {
      "cell_type": "markdown",
      "metadata": {
        "id": "lOOeZF4y-jwG",
        "colab_type": "text"
      },
      "source": [
        "## 4.11 Final Model Selection<a id='4.11_Final_Model_Selection'></a>"
      ]
    },
    {
      "cell_type": "markdown",
      "metadata": {
        "id": "DFcS7jgo-jwG",
        "colab_type": "text"
      },
      "source": [
        "Time to select your final model to use for further business modeling! It would be good to revisit the above model selection; there is undoubtedly more that could be done to explore possible hyperparameters.\n",
        "It would also be worthwhile to investigate removing the least useful features. Gathering or calculating, and storing, features adds business cost and dependencies, so if features genuinely are not needed they should be removed.\n",
        "Building a simpler model with fewer features can also have the advantage of being easier to sell (and/or explain) to stakeholders.\n",
        "Certainly there seem to be four strong features here and so a model using only those would probably work well.\n",
        "However, you want to explore some different scenarios where other features vary so keep the fuller \n",
        "model for now. \n",
        "The business is waiting for this model and you have something that you have confidence in to be much better than guessing with the average price.\n",
        "\n",
        "Or, rather, you have two \"somethings\". You built a best linear model and a best random forest model. You need to finally choose between them. You can calculate the mean absolute error using cross-validation. Although `cross-validate` defaults to the $R^2$ [metric for scoring](https://scikit-learn.org/stable/modules/model_evaluation.html#scoring) regression, you can specify the mean absolute error as an alternative via\n",
        "the `scoring` parameter.\n",
        "\n",
        "Helpful Link: [Why MAE is negative](https://stackoverflow.com/questions/55786121/what-is-the-negative-mean-absolute-error-in-scikit-learn-svm-library#:~:text=Loading%20when%20this%20answer%20was,than%20a%20value%20of%20%2D3.0%20.). For the above link, read the second comment. MAE is negative because Gridsearch will score the model in reverse if MAE is positive."
      ]
    },
    {
      "cell_type": "markdown",
      "metadata": {
        "id": "gK2F_6MF-jwG",
        "colab_type": "text"
      },
      "source": [
        "### 4.11.1 Linear regression model performance<a id='4.11.1_Linear_regression_model_performance'></a>"
      ]
    },
    {
      "cell_type": "code",
      "metadata": {
        "id": "-gZ8E418-jwG",
        "colab_type": "code",
        "colab": {}
      },
      "source": [
        "# 'neg_mean_absolute_error' uses the (negative of) the mean absolute error\n",
        "lr_neg_mae = cross_validate(lr_grid_cv.best_estimator_, X_train, y_train, \n",
        "                            scoring='neg_mean_absolute_error', cv=5, n_jobs=-1)"
      ],
      "execution_count": 104,
      "outputs": []
    },
    {
      "cell_type": "code",
      "metadata": {
        "id": "LFWpgD3T-jwH",
        "colab_type": "code",
        "colab": {
          "base_uri": "https://localhost:8080/",
          "height": 34
        },
        "outputId": "533920bd-589f-4f3f-e1b9-da8f35b6c262"
      },
      "source": [
        "'''\n",
        "Multiply by -1 to get MAE. \n",
        "'''\n",
        "lr_mae_mean = np.mean(-1 * lr_neg_mae['test_score'])\n",
        "lr_mae_std = np.std(-1 * lr_neg_mae['test_score'])\n",
        "lr_mae_mean, lr_mae_std"
      ],
      "execution_count": 105,
      "outputs": [
        {
          "output_type": "execute_result",
          "data": {
            "text/plain": [
              "(10.499032338015294, 1.6220608976799658)"
            ]
          },
          "metadata": {
            "tags": []
          },
          "execution_count": 105
        }
      ]
    },
    {
      "cell_type": "code",
      "metadata": {
        "id": "BBYHDN9i-jwI",
        "colab_type": "code",
        "colab": {
          "base_uri": "https://localhost:8080/",
          "height": 34
        },
        "outputId": "12d73578-d307-403b-b3b3-c9473a19df36"
      },
      "source": [
        "'''\n",
        "Now I test my trained data on my test set.\n",
        "'''\n",
        "mean_absolute_error(y_test, lr_grid_cv.best_estimator_.predict(X_test))"
      ],
      "execution_count": 106,
      "outputs": [
        {
          "output_type": "execute_result",
          "data": {
            "text/plain": [
              "11.793465668669327"
            ]
          },
          "metadata": {
            "tags": []
          },
          "execution_count": 106
        }
      ]
    },
    {
      "cell_type": "markdown",
      "metadata": {
        "id": "RsmffxrI-jwJ",
        "colab_type": "text"
      },
      "source": [
        "### 4.11.2 Random forest regression model performance<a id='4.11.2_Random_forest_regression_model_performance'></a>"
      ]
    },
    {
      "cell_type": "code",
      "metadata": {
        "id": "loDidPX_-jwJ",
        "colab_type": "code",
        "colab": {}
      },
      "source": [
        "rf_neg_mae = cross_validate(rf_grid_cv.best_estimator_, X_train, y_train, \n",
        "                            scoring='neg_mean_absolute_error', cv=5, n_jobs=-1)"
      ],
      "execution_count": 107,
      "outputs": []
    },
    {
      "cell_type": "code",
      "metadata": {
        "id": "t8NYK9mM-jwK",
        "colab_type": "code",
        "colab": {
          "base_uri": "https://localhost:8080/",
          "height": 34
        },
        "outputId": "a73bbfdb-2476-4f03-addf-8dc32bd571b8"
      },
      "source": [
        "rf_mae_mean = np.mean(-1 * rf_neg_mae['test_score'])\n",
        "rf_mae_std = np.std(-1 * rf_neg_mae['test_score'])\n",
        "rf_mae_mean, rf_mae_std"
      ],
      "execution_count": 108,
      "outputs": [
        {
          "output_type": "execute_result",
          "data": {
            "text/plain": [
              "(9.659539811066127, 1.3496029127071227)"
            ]
          },
          "metadata": {
            "tags": []
          },
          "execution_count": 108
        }
      ]
    },
    {
      "cell_type": "code",
      "metadata": {
        "id": "JWdzWpbH-jwL",
        "colab_type": "code",
        "colab": {
          "base_uri": "https://localhost:8080/",
          "height": 34
        },
        "outputId": "6887bdfe-ab3d-4b74-90a1-a509a9128411"
      },
      "source": [
        "mean_absolute_error(y_test, rf_grid_cv.best_estimator_.predict(X_test))"
      ],
      "execution_count": 109,
      "outputs": [
        {
          "output_type": "execute_result",
          "data": {
            "text/plain": [
              "9.495505500261919"
            ]
          },
          "metadata": {
            "tags": []
          },
          "execution_count": 109
        }
      ]
    },
    {
      "cell_type": "markdown",
      "metadata": {
        "id": "bTmbKTu8-jwN",
        "colab_type": "text"
      },
      "source": [
        "### 4.11.3 Conclusion<a id='4.11.3_Conclusion'></a>"
      ]
    },
    {
      "cell_type": "markdown",
      "metadata": {
        "id": "SdVR0N_H-jwN",
        "colab_type": "text"
      },
      "source": [
        "The random forest model has a lower cross-validation mean absolute error by almost \\\\$1. It also exhibits less variability. Verifying performance on the test set produces performance consistent with the cross-validation results."
      ]
    },
    {
      "cell_type": "markdown",
      "metadata": {
        "id": "WX87m2W4-jwN",
        "colab_type": "text"
      },
      "source": [
        "## 4.12 Data quantity assessment<a id='4.12_Data_quantity_assessment'></a>"
      ]
    },
    {
      "cell_type": "markdown",
      "metadata": {
        "id": "WaQHfz_y-jwN",
        "colab_type": "text"
      },
      "source": [
        "Finally, you need to advise the business whether it needs to undertake further data collection. Would more data be useful? We're often led to believe more data is always good, but gathering data invariably has a cost associated with it. Assess this trade off by seeing how performance varies with differing data set sizes. The `learning_curve` function does this conveniently.\n",
        "\n",
        "Helpful Link: [Learning Curve Tutorial](https://www.dataquest.io/blog/learning-curves-machine-learning/)"
      ]
    },
    {
      "cell_type": "code",
      "metadata": {
        "id": "nVUW8xu11x7y",
        "colab_type": "code",
        "colab": {
          "base_uri": "https://localhost:8080/",
          "height": 252
        },
        "outputId": "94cf8f0c-0c21-425c-d11a-336599a0a38e"
      },
      "source": [
        "pipe"
      ],
      "execution_count": 114,
      "outputs": [
        {
          "output_type": "execute_result",
          "data": {
            "text/plain": [
              "Pipeline(memory=None,\n",
              "         steps=[('simpleimputer',\n",
              "                 SimpleImputer(add_indicator=False, copy=True, fill_value=None,\n",
              "                               missing_values=nan, strategy='median',\n",
              "                               verbose=0)),\n",
              "                ('standardscaler',\n",
              "                 StandardScaler(copy=True, with_mean=True, with_std=True)),\n",
              "                ('selectkbest',\n",
              "                 SelectKBest(k=10,\n",
              "                             score_func=<function f_regression at 0x7f84455f1a60>)),\n",
              "                ('linearregression',\n",
              "                 LinearRegression(copy_X=True, fit_intercept=True, n_jobs=None,\n",
              "                                  normalize=False))],\n",
              "         verbose=False)"
            ]
          },
          "metadata": {
            "tags": []
          },
          "execution_count": 114
        }
      ]
    },
    {
      "cell_type": "code",
      "metadata": {
        "id": "2ieFXI5Z562b",
        "colab_type": "code",
        "colab": {}
      },
      "source": [
        "'''\n",
        "Place inbetween two print lines. This creates a line of spaces that helps segregate the output.\n",
        "'''\n",
        "# print('\\n', '-' * 20) # separator"
      ],
      "execution_count": null,
      "outputs": []
    },
    {
      "cell_type": "code",
      "metadata": {
        "id": "xFdKUkGN-jwO",
        "colab_type": "code",
        "colab": {}
      },
      "source": [
        "fractions = [.2, .25, .3, .35, .4, .45, .5, .6, .75, .8, 1.0]\n",
        "train_size, train_scores, test_scores = learning_curve(pipe, X_train, y_train, train_sizes=fractions)\n",
        "train_scores_mean = np.mean(train_scores, axis=1)\n",
        "train_scores_std = np.std(train_scores, axis=1)\n",
        "test_scores_mean = np.mean(test_scores, axis=1)\n",
        "test_scores_std = np.std(test_scores, axis=1)"
      ],
      "execution_count": 110,
      "outputs": []
    },
    {
      "cell_type": "code",
      "metadata": {
        "id": "FlD3RjRL-jwP",
        "colab_type": "code",
        "colab": {
          "base_uri": "https://localhost:8080/",
          "height": 685
        },
        "outputId": "a2ef6bff-9a1c-414e-de7d-ec763aa26a5f"
      },
      "source": [
        "plt.subplots(figsize=(25, 15))\n",
        "plt.errorbar(train_size, test_scores_mean, yerr=test_scores_std)\n",
        "plt.xlabel('Training set size')\n",
        "plt.ylabel('CV scores')\n",
        "plt.title('Cross-validation score as training set size increases');"
      ],
      "execution_count": 115,
      "outputs": [
        {
          "output_type": "display_data",
          "data": {
            "image/png": "[encoded data removed]",
            "text/plain": [
              "<Figure size 1800x1080 with 1 Axes>"
            ]
          },
          "metadata": {
            "tags": []
          }
        }
      ]
    },
    {
      "cell_type": "markdown",
      "metadata": {
        "id": "WGagWjDi-jwQ",
        "colab_type": "text"
      },
      "source": [
        "This shows that you seem to have plenty of data. There's an initial rapid improvement in model scores as one would expect, but it's essentially levelled off by around a sample size of 40-50."
      ]
    },
    {
      "cell_type": "markdown",
      "metadata": {
        "id": "YiFNlUvS-jwQ",
        "colab_type": "text"
      },
      "source": [
        "## 4.13 Save best model object from pipeline<a id='4.13_Save_best_model_object_from_pipeline'></a>"
      ]
    },
    {
      "cell_type": "code",
      "metadata": {
        "id": "xiDSuoZS8yoG",
        "colab_type": "code",
        "colab": {}
      },
      "source": [
        "os.chdir('sample_data')"
      ],
      "execution_count": 116,
      "outputs": []
    },
    {
      "cell_type": "code",
      "metadata": {
        "id": "ankUUxLi-jwQ",
        "colab_type": "code",
        "colab": {}
      },
      "source": [
        "#Code task 28#\n",
        "#This may not be \"production grade ML deployment\" practice, but adding some basic\n",
        "#information to your saved models can save your bacon in development.\n",
        "#Just what version model have you just loaded to reuse? What version of `sklearn`\n",
        "#created it? When did you make it?\n",
        "#Assign the pandas version number (`pd.__version__`) to the `pandas_version` attribute,\n",
        "#the numpy version (`np.__version__`) to the `numpy_version` attribute,\n",
        "#the sklearn version (`sklearn_version`) to the `sklearn_version` attribute,\n",
        "#and the current datetime (`datetime.datetime.now()`) to the `build_datetime` attribute\n",
        "#Let's call this model version '1.0'\n",
        "best_model = rf_grid_cv.best_estimator_\n",
        "best_model.version = 1.0\n",
        "best_model.pandas_version = pd.__version__\n",
        "best_model.numpy_version = np.__version__\n",
        "best_model.sklearn_version = sklearn_version\n",
        "best_model.X_columns = [col for col in X_train.columns]\n",
        "best_model.build_datetime = datetime.datetime.now()\n",
        "    \n",
        "modelpath = 'models'\n",
        "if not os.path.exists(modelpath):\n",
        "    os.mkdir(modelpath)\n",
        "skimodel_path = os.path.join(modelpath, 'ski_resort_pricing_model.pkl')\n",
        "if not os.path.exists(skimodel_path):\n",
        "    with open(skimodel_path, 'wb') as f:\n",
        "        pickle.dump(best_model, f)"
      ],
      "execution_count": 117,
      "outputs": []
    },
    {
      "cell_type": "markdown",
      "metadata": {
        "id": "OFdY1LYT-jwR",
        "colab_type": "text"
      },
      "source": [
        "## 4.14 Summary<a id='4.14_Summary'></a>"
      ]
    },
    {
      "cell_type": "markdown",
      "metadata": {
        "id": "FtfeOTqd-jwS",
        "colab_type": "text"
      },
      "source": [
        "**Q: 1** Write a summary of the work in this notebook. Capture the fact that you gained a baseline idea of performance by simply taking the average price and how well that did. Then highlight that you built a linear model and the features that found. Comment on the estimate of its performance from cross-validation and whether its performance on the test split was consistent with this estimate. Also highlight that a random forest regressor was tried, what preprocessing steps were found to be best, and again what its estimated performance via cross-validation was and whether its performance on the test set was consistent with that. State which model you have decided to use going forwards and why. This summary should provide a quick overview for someone wanting to know quickly why the given model was chosen for the next part of the business problem to help guide important business decisions."
      ]
    },
    {
      "cell_type": "markdown",
      "metadata": {
        "id": "-l8SeYe5-jwS",
        "colab_type": "text"
      },
      "source": [
        "**A: 1** Your answer here\n",
        "\n",
        "I import my modules and preferred settings. I separate BMR from the rest of my data.\n",
        "\n",
        "In the prior steps, I've done manipulation and EDA on the entire data set. This is not possible in machine learning, as when I train my model on all of my data, I end up with no data set aside to evaluate model performance. I could keep making more and more complex models that fit the data better and better and not realise I was overfitting to that one set of samples. By partitioning the data into training and testing splits, without letting a model (or missing-value imputation) learn anything about the test split, I have a somewhat independent assessment of how my model might perform in the future. \n",
        "\n",
        "An often overlooked subtlety here is that people all too frequently use the test set to assess model performance _***and then compare multiple models to pick the best***_. This means their overall model selection process is fitting to one specific data set, not the test split. I could keep going, trying to get better and better performance on that one data set, but that's where cross-validation becomes especially useful. While training models, a test split is very useful as a final check on expected future performance.\n",
        "\n",
        "I perform a 70/30 split where 70% is my training data and 30% my test. I save the categorical features (name, state, region) of both X-train and X-test sets, and set it aside. I remove those features so that only the numerical features remain.\n",
        "\n",
        "Then, I try to establish a baseline as to where my models are at. I simply use the mean and it gives me an estimated ticket price of \\\\$63.81. I then use check the Mean Absolute Error which tells me my model is mispredicting by an average of \\\\$19.14. The mean squared error (used more for machine modeling) tells me I'm off by about $24.11\n",
        "\n",
        "After, I move on to my first actual model. I am going to impute the NaN values using the median. I am going to scale the data where it has a zero mean and 1 standard deviation. I use a linear regression model and get an r2 score of 0.81 on the y-training set and 0.72 for the test set. I'm thinking that my model is overfitting the data as it's performing much worse compared to the training set. The MAE for this model is \\\\$8.54 for the training data and \\\\$9.40 for the test data which is much better than \\$19 using the simple average. The square root of the MSE is \\$10.57 and $12.72 respectfully. \n",
        "\n",
        "Using the mean to impute NaN values, instead of the median, doesn't give me significantly better results. Maybe, it's because my model is too overtrained. Maybe, I could use a log transformation or just a subset of features. \n",
        "\n",
        "Next, I realized that there is a much more efficient way to perform modeling. I use a pipeline where I specify all the steps I did above. When I use the fit method on my pipe, it goes through the steps automatically with one call. In this instance, it imputes missing values, scales the data, and then trains the values. After, I call predict and score my model. It is the exact same as above.\n",
        "\n",
        "Now that I know how to create and use a pipeline, I'm going to refine my linear model. This is because my model was overfitting my data. I'm going to use Sklearn's SelectKBest function as it selects the k best features. I am going to score this using sklearn's f_regression. I place it inbetween StandardScaler and LinearRegression. I fit the pipe, predict the model, and score it. Unfortunately, it made it worse and it's because SelectKBest defaults to the 10 best features.\n",
        "\n",
        "I created another pipeline selecting 15 of the best features and executed my model. I could keep doing this, selecting a different k, refinding my model etc. the problem is that I'm tuning my model to an arbitrary test set. If I keep doing this, I'll end up with a model that works well on our test sets but will fail to generalize to new data. This is the point of having a test set as it represents new data in the future (if the model is put into production).\n",
        "\n",
        "One way to combat this is via cross-validation. I partition the training set into k folds, train our model on k-1 of those folds, and calculate performance on the fold that is not used in training. This procedure then cycles through k times with a different fold held back each time. Thus, I end up building k models on k sets of data with k estimates of how the model performs on unseen data but without having to touch the test set at all.\n",
        "\n",
        "I perform cross_validate on my last pipeline, training sets, and set 5 folds. I get the r-squared scores, which correspond to each fold, and get the mean of them. I also get the standard deviation. I also estimate the confidence interval of my variability. It is pretty large (from .44 up to .82).\n",
        "\n",
        "Now I want to tune my model via its parameters. I tune 'selectkbest' to test each of my x-variables, and use 'gridsearchcv' to run combinations of each variables to find the ones that best predict my ticket price. I plot the average of the r-squared scores from all 5 of my cross-validation tests. Furthermore, each score corresponds to the number of variables, from 1 all the way up to 32. The errorbars represent the variance of 1 standard deviation above and below the mean. I selected k=8 for 8 variables because it has the highest mean and the lowest variance between the standard deviations. \n",
        "\n",
        "These results suggest that vertical drop is my biggest positive feature. This makes intuitive sense and is consistent with what I saw during the EDA work. Also, I see the area covered by snow making equipment is a strong positive as well. People like guaranteed skiing! \n",
        "\n",
        "The skiable terrain area is negatively associated with ticket price! This seems odd. People will pay less for larger resorts? There could be all manner of reasons for this. It could be an effect whereby larger resorts can host more visitors at any one time and so can charge less per ticket. As has been mentioned previously, the data is missing information about visitor numbers. Bear in mind, the coefficient for skiable terrain is negative _for this model_. For example, if I kept the total number of chairs and fastQuads constant, but increased the skiable terrain extent, you might imagine the resort is worse off because the chairlift capacity is stretched thinner.\n",
        "\n",
        "The second model I'm going to try is RandomForestRegressor. My pipe consists of imputing using the median, scaling, and the randomforestregressor. I fit the model and perform cross validation on it. My score was alright but I'll use gridsearch to find the best hyperparameter. \n",
        "\n",
        "Hyperparameter, in this sense, means the number of trees. For my parameters, I use 20 equal spacings (on a log scale) from 10 up to 1000, the option to scale my data or not scale it, and to either impute missing values using the median or mean. I run cross validation and train my data. Gridsearch found the best paramter to have 69 trees, impute using the median, and to not scale my data. I run the model again and got a little better results. My graph shows that my top 4 features of fastquads, runs, snow making ac, and vertical drop are common to my linear regression model.\n",
        "\n",
        "It is time to select my final model to use for further business modeling! It would be good to revisit the above model selection; there is undoubtedly more that could be done to explore possible hyperparameters.\n",
        "It would also be worthwhile to investigate removing the least useful features. Gathering or calculating, and storing, features adds business cost and dependencies, so if features genuinely are not needed they should be removed.\n",
        "Building a simpler model with fewer features can also have the advantage of being easier to sell (and/or explain) to stakeholders.\n",
        "Certainly there seem to be four strong features here and so a model using only those would probably work well.\n",
        "However, for now, I want to explore some different scenarios where other features vary so I will keep the fuller model for now. \n",
        "The business is waiting for this model and I have something that I have confidence in to be much better than guessing with the average price.\n",
        "\n",
        "Or, rather, I have two \"somethings\". You built a best linear model and a best random forest model. I need to finally choose between them. You can calculate the mean absolute error using cross-validation. Although `cross-validate` defaults to the $R^2$ [metric for scoring](https://scikit-learn.org/stable/modules/model_evaluation.html#scoring) regression, I can specify the mean absolute error as an alternative via\n",
        "the `scoring` parameter.\n",
        "\n",
        "I score my linear regression model using mean absolute error. The average of the 5 cross-validated tests is 10.49 with a standard deviation of 1.62. When testing our data, the mean absolute error came out to /$11.79. In contrast, my random forest model had an average MAE of 9.66 with a STD of 1.35. My test set had a similar result of 9.50. In conclusion, I would pick my random forest regression model as it performed over a dollar better, had less variance, and the test-set produced similar results to the cross-validation tests (maybe it's overfit?).\n",
        "\n",
        "Last, I will check to see if the business needs to undertake further data collection. I'm going to use the learning curve function to see if increasing the test set sizes would be a benefit. I used fractions of my data between 20% up to 100%. The subsequent graph showed that an increase is test size does not increase the r squared score, and in fact, it levels out about 35% test size, and thus I do not need more data."
      ]
    }
  ]
}